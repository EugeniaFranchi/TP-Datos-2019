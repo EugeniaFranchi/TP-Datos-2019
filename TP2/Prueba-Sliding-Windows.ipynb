{
 "cells": [
  {
   "cell_type": "code",
   "execution_count": 78,
   "metadata": {},
   "outputs": [],
   "source": [
    "import pandas as pd\n",
    "import numpy as np\n",
    "from sklearn import linear_model\n",
    "from sklearn.model_selection import train_test_split\n",
    "from sklearn.metrics import mean_squared_error\n",
    "from sklearn.preprocessing import LabelEncoder\n",
    "from sklearn.preprocessing import OneHotEncoder"
   ]
  },
  {
   "cell_type": "code",
   "execution_count": 79,
   "metadata": {},
   "outputs": [],
   "source": [
    "installs = pd.read_csv('data/installs.csv.gzip', low_memory=False, compression='gzip', parse_dates = ['created'], index_col=['created'])\n",
    "installs = installs.sort_index()"
   ]
  },
  {
   "cell_type": "code",
   "execution_count": 80,
   "metadata": {},
   "outputs": [],
   "source": [
    "ventana_1 = installs['2019-04-18':'2019-04-20'].reset_index()"
   ]
  },
  {
   "cell_type": "code",
   "execution_count": 81,
   "metadata": {},
   "outputs": [],
   "source": [
    "train_ventana_2 = installs['2019-04-21':'2019-04-23'].reset_index().groupby('ref_hash').agg({'created' : 'min'}).reset_index()"
   ]
  },
  {
   "cell_type": "code",
   "execution_count": 82,
   "metadata": {},
   "outputs": [],
   "source": [
    "train_ventana_2['created'] = train_ventana_2['created'] - pd.Timestamp('2019-04-21 00:00:00')\n",
    "train_ventana_2['created'] = train_ventana_2['created'].transform(lambda x: x.total_seconds())"
   ]
  },
  {
   "cell_type": "code",
   "execution_count": 83,
   "metadata": {},
   "outputs": [],
   "source": [
    "train_ventana_2 = train_ventana_2.merge(ventana_1[\"ref_hash\"].drop_duplicates(), how=\"right\")"
   ]
  },
  {
   "cell_type": "code",
   "execution_count": 84,
   "metadata": {},
   "outputs": [],
   "source": [
    "ventana_1['created'] = ventana_1['created'] - pd.Timestamp('2019-04-18 00:00:00')\n",
    "ventana_1['created'] = ventana_1['created'].transform(lambda x: x.total_seconds())\n"
   ]
  },
  {
   "cell_type": "code",
   "execution_count": 85,
   "metadata": {},
   "outputs": [
    {
     "name": "stdout",
     "output_type": "stream",
     "text": [
      "<class 'pandas.core.frame.DataFrame'>\n",
      "RangeIndex: 160861 entries, 0 to 160860\n",
      "Data columns (total 18 columns):\n",
      "created               160861 non-null float64\n",
      "application_id        160861 non-null int64\n",
      "ref_type              160861 non-null int64\n",
      "ref_hash              160861 non-null int64\n",
      "click_hash            307 non-null object\n",
      "attributed            160861 non-null bool\n",
      "implicit              160861 non-null bool\n",
      "device_countrycode    160861 non-null int64\n",
      "device_brand          95803 non-null float64\n",
      "device_model          152978 non-null float64\n",
      "session_user_agent    156740 non-null object\n",
      "user_agent            111880 non-null object\n",
      "event_uuid            35226 non-null object\n",
      "kind                  35226 non-null object\n",
      "wifi                  100903 non-null object\n",
      "trans_id              2867 non-null object\n",
      "ip_address            160861 non-null int64\n",
      "device_language       153042 non-null float64\n",
      "dtypes: bool(2), float64(4), int64(5), object(7)\n",
      "memory usage: 19.9+ MB\n"
     ]
    }
   ],
   "source": [
    "ventana_1.info()"
   ]
  },
  {
   "cell_type": "code",
   "execution_count": 86,
   "metadata": {},
   "outputs": [],
   "source": [
    "ventana_1.drop([\"click_hash\", \"event_uuid\", \"kind\", \"trans_id\", \"user_agent\", \"session_user_agent\"],axis =1, inplace = True )"
   ]
  },
  {
   "cell_type": "code",
   "execution_count": 87,
   "metadata": {},
   "outputs": [],
   "source": [
    "ventana_1 = ventana_1.fillna(ventana_1.mode().iloc[0])"
   ]
  },
  {
   "cell_type": "code",
   "execution_count": 88,
   "metadata": {},
   "outputs": [
    {
     "name": "stdout",
     "output_type": "stream",
     "text": [
      "<class 'pandas.core.frame.DataFrame'>\n",
      "RangeIndex: 160861 entries, 0 to 160860\n",
      "Data columns (total 12 columns):\n",
      "created               160861 non-null float64\n",
      "application_id        160861 non-null int64\n",
      "ref_type              160861 non-null int64\n",
      "ref_hash              160861 non-null int64\n",
      "attributed            160861 non-null bool\n",
      "implicit              160861 non-null bool\n",
      "device_countrycode    160861 non-null int64\n",
      "device_brand          160861 non-null float64\n",
      "device_model          160861 non-null float64\n",
      "wifi                  160861 non-null bool\n",
      "ip_address            160861 non-null int64\n",
      "device_language       160861 non-null float64\n",
      "dtypes: bool(3), float64(4), int64(5)\n",
      "memory usage: 11.5 MB\n"
     ]
    }
   ],
   "source": [
    "ventana_1.info()"
   ]
  },
  {
   "cell_type": "code",
   "execution_count": 89,
   "metadata": {
    "scrolled": true
   },
   "outputs": [],
   "source": [
    "ventana_1 = ventana_1.sort_values([\"ref_hash\", \"created\"])"
   ]
  },
  {
   "cell_type": "code",
   "execution_count": 90,
   "metadata": {},
   "outputs": [
    {
     "data": {
      "text/html": [
       "<div>\n",
       "<style scoped>\n",
       "    .dataframe tbody tr th:only-of-type {\n",
       "        vertical-align: middle;\n",
       "    }\n",
       "\n",
       "    .dataframe tbody tr th {\n",
       "        vertical-align: top;\n",
       "    }\n",
       "\n",
       "    .dataframe thead th {\n",
       "        text-align: right;\n",
       "    }\n",
       "</style>\n",
       "<table border=\"1\" class=\"dataframe\">\n",
       "  <thead>\n",
       "    <tr style=\"text-align: right;\">\n",
       "      <th></th>\n",
       "      <th>created</th>\n",
       "      <th>creac_sig</th>\n",
       "    </tr>\n",
       "  </thead>\n",
       "  <tbody>\n",
       "    <tr>\n",
       "      <th>47620</th>\n",
       "      <td>76310.326</td>\n",
       "      <td>76311.966</td>\n",
       "    </tr>\n",
       "    <tr>\n",
       "      <th>47622</th>\n",
       "      <td>76311.966</td>\n",
       "      <td>76631.946</td>\n",
       "    </tr>\n",
       "    <tr>\n",
       "      <th>47930</th>\n",
       "      <td>76631.946</td>\n",
       "      <td>76636.531</td>\n",
       "    </tr>\n",
       "    <tr>\n",
       "      <th>47936</th>\n",
       "      <td>76636.531</td>\n",
       "      <td>192980.258</td>\n",
       "    </tr>\n",
       "    <tr>\n",
       "      <th>126935</th>\n",
       "      <td>192980.258</td>\n",
       "      <td>60042.839</td>\n",
       "    </tr>\n",
       "    <tr>\n",
       "      <th>33036</th>\n",
       "      <td>60042.839</td>\n",
       "      <td>96156.508</td>\n",
       "    </tr>\n",
       "    <tr>\n",
       "      <th>65670</th>\n",
       "      <td>96156.508</td>\n",
       "      <td>92860.475</td>\n",
       "    </tr>\n",
       "    <tr>\n",
       "      <th>62665</th>\n",
       "      <td>92860.475</td>\n",
       "      <td>75062.237</td>\n",
       "    </tr>\n",
       "    <tr>\n",
       "      <th>46443</th>\n",
       "      <td>75062.237</td>\n",
       "      <td>65400.392</td>\n",
       "    </tr>\n",
       "    <tr>\n",
       "      <th>37366</th>\n",
       "      <td>65400.392</td>\n",
       "      <td>73897.181</td>\n",
       "    </tr>\n",
       "    <tr>\n",
       "      <th>45341</th>\n",
       "      <td>73897.181</td>\n",
       "      <td>109837.123</td>\n",
       "    </tr>\n",
       "    <tr>\n",
       "      <th>75734</th>\n",
       "      <td>109837.123</td>\n",
       "      <td>220447.027</td>\n",
       "    </tr>\n",
       "    <tr>\n",
       "      <th>132307</th>\n",
       "      <td>220447.027</td>\n",
       "      <td>148990.929</td>\n",
       "    </tr>\n",
       "    <tr>\n",
       "      <th>88492</th>\n",
       "      <td>148990.929</td>\n",
       "      <td>148993.017</td>\n",
       "    </tr>\n",
       "    <tr>\n",
       "      <th>88496</th>\n",
       "      <td>148993.017</td>\n",
       "      <td>94369.354</td>\n",
       "    </tr>\n",
       "    <tr>\n",
       "      <th>64044</th>\n",
       "      <td>94369.354</td>\n",
       "      <td>68163.118</td>\n",
       "    </tr>\n",
       "    <tr>\n",
       "      <th>39968</th>\n",
       "      <td>68163.118</td>\n",
       "      <td>68167.900</td>\n",
       "    </tr>\n",
       "    <tr>\n",
       "      <th>39974</th>\n",
       "      <td>68167.900</td>\n",
       "      <td>80153.809</td>\n",
       "    </tr>\n",
       "    <tr>\n",
       "      <th>51128</th>\n",
       "      <td>80153.809</td>\n",
       "      <td>163898.222</td>\n",
       "    </tr>\n",
       "    <tr>\n",
       "      <th>101423</th>\n",
       "      <td>163898.222</td>\n",
       "      <td>187767.243</td>\n",
       "    </tr>\n",
       "    <tr>\n",
       "      <th>123284</th>\n",
       "      <td>187767.243</td>\n",
       "      <td>86484.071</td>\n",
       "    </tr>\n",
       "    <tr>\n",
       "      <th>56821</th>\n",
       "      <td>86484.071</td>\n",
       "      <td>60421.784</td>\n",
       "    </tr>\n",
       "    <tr>\n",
       "      <th>33320</th>\n",
       "      <td>60421.784</td>\n",
       "      <td>140935.641</td>\n",
       "    </tr>\n",
       "    <tr>\n",
       "      <th>82970</th>\n",
       "      <td>140935.641</td>\n",
       "      <td>75436.252</td>\n",
       "    </tr>\n",
       "    <tr>\n",
       "      <th>46811</th>\n",
       "      <td>75436.252</td>\n",
       "      <td>75436.363</td>\n",
       "    </tr>\n",
       "    <tr>\n",
       "      <th>46812</th>\n",
       "      <td>75436.363</td>\n",
       "      <td>80749.388</td>\n",
       "    </tr>\n",
       "    <tr>\n",
       "      <th>51696</th>\n",
       "      <td>80749.388</td>\n",
       "      <td>168390.023</td>\n",
       "    </tr>\n",
       "    <tr>\n",
       "      <th>105202</th>\n",
       "      <td>168390.023</td>\n",
       "      <td>84319.848</td>\n",
       "    </tr>\n",
       "    <tr>\n",
       "      <th>54859</th>\n",
       "      <td>84319.848</td>\n",
       "      <td>84326.739</td>\n",
       "    </tr>\n",
       "    <tr>\n",
       "      <th>54868</th>\n",
       "      <td>84326.739</td>\n",
       "      <td>91664.228</td>\n",
       "    </tr>\n",
       "    <tr>\n",
       "      <th>...</th>\n",
       "      <td>...</td>\n",
       "      <td>...</td>\n",
       "    </tr>\n",
       "    <tr>\n",
       "      <th>75907</th>\n",
       "      <td>110283.680</td>\n",
       "      <td>59516.663</td>\n",
       "    </tr>\n",
       "    <tr>\n",
       "      <th>32663</th>\n",
       "      <td>59516.663</td>\n",
       "      <td>162872.710</td>\n",
       "    </tr>\n",
       "    <tr>\n",
       "      <th>100596</th>\n",
       "      <td>162872.710</td>\n",
       "      <td>162469.256</td>\n",
       "    </tr>\n",
       "    <tr>\n",
       "      <th>100208</th>\n",
       "      <td>162469.256</td>\n",
       "      <td>107691.997</td>\n",
       "    </tr>\n",
       "    <tr>\n",
       "      <th>74777</th>\n",
       "      <td>107691.997</td>\n",
       "      <td>197710.088</td>\n",
       "    </tr>\n",
       "    <tr>\n",
       "      <th>128914</th>\n",
       "      <td>197710.088</td>\n",
       "      <td>142461.771</td>\n",
       "    </tr>\n",
       "    <tr>\n",
       "      <th>83823</th>\n",
       "      <td>142461.771</td>\n",
       "      <td>230764.495</td>\n",
       "    </tr>\n",
       "    <tr>\n",
       "      <th>136953</th>\n",
       "      <td>230764.495</td>\n",
       "      <td>159372.300</td>\n",
       "    </tr>\n",
       "    <tr>\n",
       "      <th>97486</th>\n",
       "      <td>159372.300</td>\n",
       "      <td>14179.437</td>\n",
       "    </tr>\n",
       "    <tr>\n",
       "      <th>14515</th>\n",
       "      <td>14179.437</td>\n",
       "      <td>70347.974</td>\n",
       "    </tr>\n",
       "    <tr>\n",
       "      <th>41926</th>\n",
       "      <td>70347.974</td>\n",
       "      <td>149170.932</td>\n",
       "    </tr>\n",
       "    <tr>\n",
       "      <th>88635</th>\n",
       "      <td>149170.932</td>\n",
       "      <td>253478.883</td>\n",
       "    </tr>\n",
       "    <tr>\n",
       "      <th>155833</th>\n",
       "      <td>253478.883</td>\n",
       "      <td>257692.770</td>\n",
       "    </tr>\n",
       "    <tr>\n",
       "      <th>159470</th>\n",
       "      <td>257692.770</td>\n",
       "      <td>230836.649</td>\n",
       "    </tr>\n",
       "    <tr>\n",
       "      <th>136998</th>\n",
       "      <td>230836.649</td>\n",
       "      <td>62918.662</td>\n",
       "    </tr>\n",
       "    <tr>\n",
       "      <th>35278</th>\n",
       "      <td>62918.662</td>\n",
       "      <td>106186.198</td>\n",
       "    </tr>\n",
       "    <tr>\n",
       "      <th>73906</th>\n",
       "      <td>106186.198</td>\n",
       "      <td>106189.840</td>\n",
       "    </tr>\n",
       "    <tr>\n",
       "      <th>73909</th>\n",
       "      <td>106189.840</td>\n",
       "      <td>233893.822</td>\n",
       "    </tr>\n",
       "    <tr>\n",
       "      <th>139005</th>\n",
       "      <td>233893.822</td>\n",
       "      <td>233922.795</td>\n",
       "    </tr>\n",
       "    <tr>\n",
       "      <th>139024</th>\n",
       "      <td>233922.795</td>\n",
       "      <td>157611.077</td>\n",
       "    </tr>\n",
       "    <tr>\n",
       "      <th>95933</th>\n",
       "      <td>157611.077</td>\n",
       "      <td>56675.275</td>\n",
       "    </tr>\n",
       "    <tr>\n",
       "      <th>30747</th>\n",
       "      <td>56675.275</td>\n",
       "      <td>56675.743</td>\n",
       "    </tr>\n",
       "    <tr>\n",
       "      <th>30748</th>\n",
       "      <td>56675.743</td>\n",
       "      <td>57152.835</td>\n",
       "    </tr>\n",
       "    <tr>\n",
       "      <th>31028</th>\n",
       "      <td>57152.835</td>\n",
       "      <td>60572.717</td>\n",
       "    </tr>\n",
       "    <tr>\n",
       "      <th>33443</th>\n",
       "      <td>60572.717</td>\n",
       "      <td>3739.149</td>\n",
       "    </tr>\n",
       "    <tr>\n",
       "      <th>3731</th>\n",
       "      <td>3739.149</td>\n",
       "      <td>68538.331</td>\n",
       "    </tr>\n",
       "    <tr>\n",
       "      <th>40287</th>\n",
       "      <td>68538.331</td>\n",
       "      <td>68563.916</td>\n",
       "    </tr>\n",
       "    <tr>\n",
       "      <th>40312</th>\n",
       "      <td>68563.916</td>\n",
       "      <td>191039.110</td>\n",
       "    </tr>\n",
       "    <tr>\n",
       "      <th>125691</th>\n",
       "      <td>191039.110</td>\n",
       "      <td>159076.649</td>\n",
       "    </tr>\n",
       "    <tr>\n",
       "      <th>97215</th>\n",
       "      <td>159076.649</td>\n",
       "      <td>NaN</td>\n",
       "    </tr>\n",
       "  </tbody>\n",
       "</table>\n",
       "<p>160861 rows × 2 columns</p>\n",
       "</div>"
      ],
      "text/plain": [
       "           created   creac_sig\n",
       "47620    76310.326   76311.966\n",
       "47622    76311.966   76631.946\n",
       "47930    76631.946   76636.531\n",
       "47936    76636.531  192980.258\n",
       "126935  192980.258   60042.839\n",
       "33036    60042.839   96156.508\n",
       "65670    96156.508   92860.475\n",
       "62665    92860.475   75062.237\n",
       "46443    75062.237   65400.392\n",
       "37366    65400.392   73897.181\n",
       "45341    73897.181  109837.123\n",
       "75734   109837.123  220447.027\n",
       "132307  220447.027  148990.929\n",
       "88492   148990.929  148993.017\n",
       "88496   148993.017   94369.354\n",
       "64044    94369.354   68163.118\n",
       "39968    68163.118   68167.900\n",
       "39974    68167.900   80153.809\n",
       "51128    80153.809  163898.222\n",
       "101423  163898.222  187767.243\n",
       "123284  187767.243   86484.071\n",
       "56821    86484.071   60421.784\n",
       "33320    60421.784  140935.641\n",
       "82970   140935.641   75436.252\n",
       "46811    75436.252   75436.363\n",
       "46812    75436.363   80749.388\n",
       "51696    80749.388  168390.023\n",
       "105202  168390.023   84319.848\n",
       "54859    84319.848   84326.739\n",
       "54868    84326.739   91664.228\n",
       "...            ...         ...\n",
       "75907   110283.680   59516.663\n",
       "32663    59516.663  162872.710\n",
       "100596  162872.710  162469.256\n",
       "100208  162469.256  107691.997\n",
       "74777   107691.997  197710.088\n",
       "128914  197710.088  142461.771\n",
       "83823   142461.771  230764.495\n",
       "136953  230764.495  159372.300\n",
       "97486   159372.300   14179.437\n",
       "14515    14179.437   70347.974\n",
       "41926    70347.974  149170.932\n",
       "88635   149170.932  253478.883\n",
       "155833  253478.883  257692.770\n",
       "159470  257692.770  230836.649\n",
       "136998  230836.649   62918.662\n",
       "35278    62918.662  106186.198\n",
       "73906   106186.198  106189.840\n",
       "73909   106189.840  233893.822\n",
       "139005  233893.822  233922.795\n",
       "139024  233922.795  157611.077\n",
       "95933   157611.077   56675.275\n",
       "30747    56675.275   56675.743\n",
       "30748    56675.743   57152.835\n",
       "31028    57152.835   60572.717\n",
       "33443    60572.717    3739.149\n",
       "3731      3739.149   68538.331\n",
       "40287    68538.331   68563.916\n",
       "40312    68563.916  191039.110\n",
       "125691  191039.110  159076.649\n",
       "97215   159076.649         NaN\n",
       "\n",
       "[160861 rows x 2 columns]"
      ]
     },
     "execution_count": 90,
     "metadata": {},
     "output_type": "execute_result"
    }
   ],
   "source": [
    "slideing[\"created\"] = ventana_1[\"created\"]\n",
    "slideing['creac_sig'] = slideing[\"created\"].shift(-1)\n",
    "slideing"
   ]
  },
  {
   "cell_type": "code",
   "execution_count": 91,
   "metadata": {},
   "outputs": [],
   "source": [
    "stop_points = ventana_1.groupby(\"ref_hash\").last().reset_index()[\"created\"]"
   ]
  },
  {
   "cell_type": "code",
   "execution_count": 92,
   "metadata": {},
   "outputs": [
    {
     "data": {
      "text/plain": [
       "76636.531"
      ]
     },
     "execution_count": 92,
     "metadata": {},
     "output_type": "execute_result"
    }
   ],
   "source": [
    "stop_points[0]"
   ]
  },
  {
   "cell_type": "code",
   "execution_count": 133,
   "metadata": {},
   "outputs": [],
   "source": [
    "j = 0\n",
    "for i,row in slideing.iterrows():\n",
    "    if stop_points[j] == row[0]:\n",
    "        slideing.at[i, \"creac_sig\"] = 60*60*24*3 - row[0]\n",
    "        j += 1"
   ]
  },
  {
   "cell_type": "code",
   "execution_count": 134,
   "metadata": {},
   "outputs": [],
   "source": [
    "ventana_1[\"censored\"] = 0"
   ]
  },
  {
   "cell_type": "code",
   "execution_count": 135,
   "metadata": {},
   "outputs": [],
   "source": [
    "j = 0\n",
    "for i,row in ventana_1.iterrows():\n",
    "    if stop_points[j] == row[0]:\n",
    "        ventana_1.at[i, \"censored\"] = 1\n",
    "        j += 1"
   ]
  },
  {
   "cell_type": "markdown",
   "metadata": {},
   "source": [
    "**Encodeo las variables categoricas y strings**"
   ]
  },
  {
   "cell_type": "code",
   "execution_count": 136,
   "metadata": {},
   "outputs": [
    {
     "data": {
      "text/plain": [
       "\"le_usr_ag = LabelEncoder()\\nle_ss_usr_ag = LabelEncoder()\\nventana_1['user_agent'] = le_usr_ag.fit_transform(ventana_1.user_agent)\\nventana_1['session_user_agent'] = le_ss_usr_ag.fit_transform(ventana_1.session_user_agent)\""
      ]
     },
     "execution_count": 136,
     "metadata": {},
     "output_type": "execute_result"
    }
   ],
   "source": [
    "\"\"\"le_usr_ag = LabelEncoder()\n",
    "le_ss_usr_ag = LabelEncoder()\n",
    "ventana_1['user_agent'] = le_usr_ag.fit_transform(ventana_1.user_agent)\n",
    "ventana_1['session_user_agent'] = le_ss_usr_ag.fit_transform(ventana_1.session_user_agent)\"\"\""
   ]
  },
  {
   "cell_type": "code",
   "execution_count": 137,
   "metadata": {},
   "outputs": [
    {
     "data": {
      "text/plain": [
       "'usr_ag_ohe = OneHotEncoder()\\nss_usr_ag_ohe = OneHotEncoder()\\nX = usr_ag_ohe.fit_transform(ventana_1.user_agent.values.reshape(-1,1)).toarray()\\nXm = ss_usr_ag_ohe.fit_transform(ventana_1.session_user_agent.values.reshape(-1,1)).toarray()'"
      ]
     },
     "execution_count": 137,
     "metadata": {},
     "output_type": "execute_result"
    }
   ],
   "source": [
    "\"\"\"usr_ag_ohe = OneHotEncoder()\n",
    "ss_usr_ag_ohe = OneHotEncoder()\n",
    "X = usr_ag_ohe.fit_transform(ventana_1.user_agent.values.reshape(-1,1)).toarray()\n",
    "Xm = ss_usr_ag_ohe.fit_transform(ventana_1.session_user_agent.values.reshape(-1,1)).toarray()\"\"\""
   ]
  },
  {
   "cell_type": "code",
   "execution_count": null,
   "metadata": {},
   "outputs": [],
   "source": []
  },
  {
   "cell_type": "code",
   "execution_count": 138,
   "metadata": {},
   "outputs": [],
   "source": [
    "X_train, X_test, y_train, y_test = \\\n",
    "    train_test_split(ventana_1, slideing[\"creac_sig\"], test_size=0.2, random_state=769)"
   ]
  },
  {
   "cell_type": "code",
   "execution_count": 139,
   "metadata": {},
   "outputs": [],
   "source": [
    "reg=linear_model.LinearRegression()"
   ]
  },
  {
   "cell_type": "code",
   "execution_count": 140,
   "metadata": {},
   "outputs": [
    {
     "data": {
      "text/plain": [
       "LinearRegression(copy_X=True, fit_intercept=True, n_jobs=None,\n",
       "         normalize=False)"
      ]
     },
     "execution_count": 140,
     "metadata": {},
     "output_type": "execute_result"
    }
   ],
   "source": [
    "reg.fit(X_train,y_train)"
   ]
  },
  {
   "cell_type": "code",
   "execution_count": 141,
   "metadata": {},
   "outputs": [],
   "source": [
    "pred=reg.predict(X_test)"
   ]
  },
  {
   "cell_type": "code",
   "execution_count": 142,
   "metadata": {},
   "outputs": [
    {
     "data": {
      "text/plain": [
       "57843.665962169805"
      ]
     },
     "execution_count": 142,
     "metadata": {},
     "output_type": "execute_result"
    }
   ],
   "source": [
    "mean_squared_error(y_test,pred)**0.5\n"
   ]
  }
 ],
 "metadata": {
  "kernelspec": {
   "display_name": "Python 3",
   "language": "python",
   "name": "python3"
  },
  "language_info": {
   "codemirror_mode": {
    "name": "ipython",
    "version": 3
   },
   "file_extension": ".py",
   "mimetype": "text/x-python",
   "name": "python",
   "nbconvert_exporter": "python",
   "pygments_lexer": "ipython3",
   "version": "3.7.3"
  }
 },
 "nbformat": 4,
 "nbformat_minor": 2
}
