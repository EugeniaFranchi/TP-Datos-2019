{
 "cells": [
  {
   "cell_type": "code",
   "execution_count": 53,
   "metadata": {},
   "outputs": [],
   "source": [
    "import pandas as pd\n",
    "import numpy as np\n",
    "from sklearn.neural_network import MLPRegressor\n",
    "from sklearn.metrics import mean_squared_error"
   ]
  },
  {
   "cell_type": "code",
   "execution_count": 54,
   "metadata": {},
   "outputs": [],
   "source": [
    "installs = pd.read_csv('datos/installs.csv.gzip', low_memory=False, compression='gzip', parse_dates = ['created'], index_col=['created'])\n",
    "installs = installs.sort_index()\n",
    "tiempo_max = 60*60*24*3"
   ]
  },
  {
   "cell_type": "code",
   "execution_count": 55,
   "metadata": {},
   "outputs": [],
   "source": [
    "test_y_temp = installs['2019-04-20':'2019-04-22']\n",
    "test_y_temp = test_y_temp.reset_index()\n",
    "test_y_temp['created'] = test_y_temp['created'] - pd.Timestamp(f'2019-04-20 00:00:00')\n",
    "test_y_temp['created'] = test_y_temp['created'].transform(lambda x: x.total_seconds())\n",
    "test_y_temp = test_y_temp.groupby('ref_hash').agg({'created' : 'min'}).reset_index()\n",
    "test_y_temp = test_y_temp[[\"ref_hash\", \"created\"]]"
   ]
  },
  {
   "cell_type": "code",
   "execution_count": 56,
   "metadata": {},
   "outputs": [],
   "source": [
    "test_y = pd.read_csv(\"final.csv\", names=[\"ref_hash\"])"
   ]
  },
  {
   "cell_type": "code",
   "execution_count": 57,
   "metadata": {},
   "outputs": [],
   "source": [
    "hashes = test_y_temp[\"ref_hash\"]\n",
    "hashes_norm = (hashes-hashes.mean())/hashes.std()\n",
    "train_x_scaled = hashes_norm\n",
    "train_y = test_y_temp[\"created\"]"
   ]
  },
  {
   "cell_type": "code",
   "execution_count": 58,
   "metadata": {},
   "outputs": [],
   "source": [
    "reg = MLPRegressor(verbose=True, random_state=123,\n",
    "                                          activation=\"relu\",\n",
    "                                          solver=\"adam\",\n",
    "                                          alpha=0.01,\n",
    "                                        max_iter=70)"
   ]
  },
  {
   "cell_type": "code",
   "execution_count": 59,
   "metadata": {},
   "outputs": [],
   "source": [
    "train_reshaped = np.array(train_x_scaled).reshape(-1,1)"
   ]
  },
  {
   "cell_type": "code",
   "execution_count": 60,
   "metadata": {
    "scrolled": true
   },
   "outputs": [
    {
     "name": "stdout",
     "output_type": "stream",
     "text": [
      "Iteration 1, loss = 11576366108.18711472\n",
      "Iteration 2, loss = 11559936411.48910904\n",
      "Iteration 3, loss = 11529122923.94842529\n",
      "Iteration 4, loss = 11486830366.32990074\n",
      "Iteration 5, loss = 11434767506.96130753\n",
      "Iteration 6, loss = 11374017605.53965759\n",
      "Iteration 7, loss = 11305275017.08534050\n",
      "Iteration 8, loss = 11229016381.96932793\n",
      "Iteration 9, loss = 11145670591.30950546\n",
      "Iteration 10, loss = 11055516753.05479431\n",
      "Iteration 11, loss = 10958773361.83776283\n",
      "Iteration 12, loss = 10855641891.75649643\n",
      "Iteration 13, loss = 10746372616.28464317\n",
      "Iteration 14, loss = 10631120850.41031265\n",
      "Iteration 15, loss = 10510121062.03639793\n",
      "Iteration 16, loss = 10383547384.22431755\n",
      "Iteration 17, loss = 10251697205.54758453\n",
      "Iteration 18, loss = 10114702519.68172836\n",
      "Iteration 19, loss = 9972807993.08614922\n",
      "Iteration 20, loss = 9826253038.25864983\n",
      "Iteration 21, loss = 9675176862.92447281\n",
      "Iteration 22, loss = 9519945363.31062317\n",
      "Iteration 23, loss = 9360740436.27254677\n",
      "Iteration 24, loss = 9197786112.58825684\n",
      "Iteration 25, loss = 9031362905.56692505\n",
      "Iteration 26, loss = 8861690830.28008461\n",
      "Iteration 27, loss = 8689082652.58104324\n",
      "Iteration 28, loss = 8513808233.75931358\n",
      "Iteration 29, loss = 8336186414.32683182\n",
      "Iteration 30, loss = 8156419067.58905220\n",
      "Iteration 31, loss = 7974783967.11692524\n",
      "Iteration 32, loss = 7791677355.05823517\n",
      "Iteration 33, loss = 7607296876.43548584\n",
      "Iteration 34, loss = 7421981928.91873360\n",
      "Iteration 35, loss = 7236200065.43603230\n",
      "Iteration 36, loss = 7050208561.58341789\n",
      "Iteration 37, loss = 6864248476.30778027\n",
      "Iteration 38, loss = 6678587976.70300007\n",
      "Iteration 39, loss = 6493695778.67094040\n",
      "Iteration 40, loss = 6309797592.45792580\n",
      "Iteration 41, loss = 6127301135.64804554\n",
      "Iteration 42, loss = 5946643272.55485439\n",
      "Iteration 43, loss = 5768086749.43512821\n",
      "Iteration 44, loss = 5592011989.84187412\n",
      "Iteration 45, loss = 5418723031.31871223\n",
      "Iteration 46, loss = 5248621303.13574028\n",
      "Iteration 47, loss = 5082073829.68950081\n",
      "Iteration 48, loss = 4919471405.41713619\n",
      "Iteration 49, loss = 4761176828.54356098\n",
      "Iteration 50, loss = 4607560011.35223770\n",
      "Iteration 51, loss = 4459071358.04120255\n",
      "Iteration 52, loss = 4316013322.44193268\n",
      "Iteration 53, loss = 4178713929.25496387\n",
      "Iteration 54, loss = 4047497944.84450722\n",
      "Iteration 55, loss = 3922808356.50599575\n",
      "Iteration 56, loss = 3804896380.20339584\n",
      "Iteration 57, loss = 3694080713.13606071\n",
      "Iteration 58, loss = 3590775027.01633883\n",
      "Iteration 59, loss = 3495166678.68637371\n",
      "Iteration 60, loss = 3407438836.61405611\n",
      "Iteration 61, loss = 3327952772.46561241\n",
      "Iteration 62, loss = 3256722259.46570969\n",
      "Iteration 63, loss = 3193669570.77693176\n",
      "Iteration 64, loss = 3138978580.03684664\n",
      "Iteration 65, loss = 3092710565.70672846\n",
      "Iteration 66, loss = 3054404848.79099846\n",
      "Iteration 67, loss = 3023597720.82095480\n",
      "Iteration 68, loss = 2999710197.58333063\n",
      "Iteration 69, loss = 2981952344.46960449\n",
      "Iteration 70, loss = 2969406951.98246145\n"
     ]
    },
    {
     "name": "stderr",
     "output_type": "stream",
     "text": [
      "/home/julian/.local/lib/python3.7/site-packages/sklearn/neural_network/multilayer_perceptron.py:562: ConvergenceWarning: Stochastic Optimizer: Maximum iterations (70) reached and the optimization hasn't converged yet.\n",
      "  % self.max_iter, ConvergenceWarning)\n"
     ]
    },
    {
     "data": {
      "text/plain": [
       "MLPRegressor(activation='relu', alpha=0.01, batch_size='auto', beta_1=0.9,\n",
       "       beta_2=0.999, early_stopping=False, epsilon=1e-08,\n",
       "       hidden_layer_sizes=(100,), learning_rate='constant',\n",
       "       learning_rate_init=0.001, max_iter=70, momentum=0.9,\n",
       "       n_iter_no_change=10, nesterovs_momentum=True, power_t=0.5,\n",
       "       random_state=123, shuffle=True, solver='adam', tol=0.0001,\n",
       "       validation_fraction=0.1, verbose=True, warm_start=False)"
      ]
     },
     "execution_count": 60,
     "metadata": {},
     "output_type": "execute_result"
    }
   ],
   "source": [
    "reg.fit(train_reshaped, train_y)"
   ]
  },
  {
   "cell_type": "code",
   "execution_count": 68,
   "metadata": {},
   "outputs": [],
   "source": [
    "target_norm = (test_y-test_y.mean())/test_y.std()\n",
    "target_norm = np.array(target_norm).reshape(-1,1)"
   ]
  },
  {
   "cell_type": "code",
   "execution_count": 69,
   "metadata": {},
   "outputs": [],
   "source": [
    "predicciones = reg.predict(target_norm)"
   ]
  },
  {
   "cell_type": "code",
   "execution_count": 71,
   "metadata": {},
   "outputs": [
    {
     "data": {
      "text/plain": [
       "146283.52378673185"
      ]
     },
     "execution_count": 71,
     "metadata": {},
     "output_type": "execute_result"
    }
   ],
   "source": [
    "max(predicciones)"
   ]
  },
  {
   "cell_type": "code",
   "execution_count": 72,
   "metadata": {},
   "outputs": [],
   "source": [
    "auxiliar = test_y.copy()\n",
    "auxiliar[\"prediccion\"] = predicciones"
   ]
  },
  {
   "cell_type": "code",
   "execution_count": 73,
   "metadata": {},
   "outputs": [],
   "source": [
    "resultados = auxiliar.merge(test_y, how=\"right\").fillna(60*60*24*3)"
   ]
  },
  {
   "cell_type": "code",
   "execution_count": 74,
   "metadata": {},
   "outputs": [],
   "source": [
    "resultados.columns = [\"ref_hash\", \"obj\"]"
   ]
  },
  {
   "cell_type": "code",
   "execution_count": 75,
   "metadata": {},
   "outputs": [],
   "source": [
    "resultados.to_csv(\"prediccion_mlp_simple_otra_vent.csv\", index=False)"
   ]
  },
  {
   "cell_type": "code",
   "execution_count": null,
   "metadata": {},
   "outputs": [],
   "source": []
  }
 ],
 "metadata": {
  "kernelspec": {
   "display_name": "Python 3",
   "language": "python",
   "name": "python3"
  },
  "language_info": {
   "codemirror_mode": {
    "name": "ipython",
    "version": 3
   },
   "file_extension": ".py",
   "mimetype": "text/x-python",
   "name": "python",
   "nbconvert_exporter": "python",
   "pygments_lexer": "ipython3",
   "version": "3.7.3"
  }
 },
 "nbformat": 4,
 "nbformat_minor": 2
}
