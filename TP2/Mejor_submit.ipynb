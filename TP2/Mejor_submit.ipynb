{
 "cells": [
  {
   "cell_type": "code",
   "execution_count": 1,
   "metadata": {},
   "outputs": [],
   "source": [
    "import pandas as pd\n",
    "import numpy as np\n",
    "from sklearn.neural_network import MLPRegressor\n",
    "from sklearn.metrics import mean_squared_error"
   ]
  },
  {
   "cell_type": "code",
   "execution_count": 2,
   "metadata": {},
   "outputs": [],
   "source": [
    "installs = pd.read_csv('datos/installs.csv.gzip', low_memory=False, compression='gzip', parse_dates = ['created'], index_col=['created'])\n",
    "installs = installs.sort_index()\n",
    "tiempo_max = 60*60*24*3"
   ]
  },
  {
   "cell_type": "code",
   "execution_count": 3,
   "metadata": {},
   "outputs": [],
   "source": [
    "test_y_temp = installs['2019-04-21':'2019-04-23']\n",
    "test_y_temp = test_y_temp.reset_index()\n",
    "test_y_temp['created'] = test_y_temp['created'] - pd.Timestamp(f'2019-04-21 00:00:00')\n",
    "test_y_temp['created'] = test_y_temp['created'].transform(lambda x: x.total_seconds())\n",
    "test_y_temp = test_y_temp.groupby('ref_hash').agg({'created' : 'min'}).reset_index()\n",
    "test_y_temp = test_y_temp[[\"ref_hash\", \"created\"]]"
   ]
  },
  {
   "cell_type": "code",
   "execution_count": 4,
   "metadata": {},
   "outputs": [],
   "source": [
    "test_y = pd.read_csv(\"final.csv\", names=[\"ref_hash\"])"
   ]
  },
  {
   "cell_type": "code",
   "execution_count": 5,
   "metadata": {},
   "outputs": [],
   "source": [
    "hashes = test_y_temp[\"ref_hash\"]\n",
    "hashes_norm = (hashes-hashes.mean())/hashes.std()\n",
    "train_x_scaled = hashes_norm\n",
    "train_y = test_y_temp[\"created\"]"
   ]
  },
  {
   "cell_type": "code",
   "execution_count": 6,
   "metadata": {},
   "outputs": [],
   "source": [
    "reg = MLPRegressor(verbose=True, random_state=123,\n",
    "                                          activation=\"relu\",\n",
    "                                          solver=\"adam\",\n",
    "                                          alpha=0.01,\n",
    "                                        max_iter=70)"
   ]
  },
  {
   "cell_type": "code",
   "execution_count": 7,
   "metadata": {},
   "outputs": [],
   "source": [
    "train_reshaped = np.array(train_x_scaled).reshape(-1,1)"
   ]
  },
  {
   "cell_type": "code",
   "execution_count": 8,
   "metadata": {
    "scrolled": true
   },
   "outputs": [
    {
     "name": "stdout",
     "output_type": "stream",
     "text": [
      "Iteration 1, loss = 11471919694.85833168\n",
      "Iteration 2, loss = 11455022237.13585281\n",
      "Iteration 3, loss = 11423427849.14821434\n",
      "Iteration 4, loss = 11380091983.65438271\n",
      "Iteration 5, loss = 11326767241.04800606\n",
      "Iteration 6, loss = 11264545143.74076653\n",
      "Iteration 7, loss = 11194172464.41510582\n",
      "Iteration 8, loss = 11116139698.32357979\n",
      "Iteration 9, loss = 11030837734.05351257\n",
      "Iteration 10, loss = 10938570506.51630592\n",
      "Iteration 11, loss = 10839571976.75502777\n",
      "Iteration 12, loss = 10734028061.07415962\n",
      "Iteration 13, loss = 10622200645.64143372\n",
      "Iteration 14, loss = 10504310266.58315468\n",
      "Iteration 15, loss = 10380543538.42240143\n",
      "Iteration 16, loss = 10251127971.60030365\n",
      "Iteration 17, loss = 10116274718.48656654\n",
      "Iteration 18, loss = 9976240746.04617691\n",
      "Iteration 19, loss = 9831256447.15257645\n",
      "Iteration 20, loss = 9681488777.88869667\n",
      "Iteration 21, loss = 9527246986.50987053\n",
      "Iteration 22, loss = 9368760674.47177505\n",
      "Iteration 23, loss = 9206364064.41841888\n",
      "Iteration 24, loss = 9040185162.85167313\n",
      "Iteration 25, loss = 8870443539.97980690\n",
      "Iteration 26, loss = 8697643180.26903725\n",
      "Iteration 27, loss = 8522003535.80245972\n",
      "Iteration 28, loss = 8343710323.20842171\n",
      "Iteration 29, loss = 8163093407.69991589\n",
      "Iteration 30, loss = 7980433292.91697407\n",
      "Iteration 31, loss = 7796068464.99830437\n",
      "Iteration 32, loss = 7610201570.92218113\n",
      "Iteration 33, loss = 7423376756.80526161\n",
      "Iteration 34, loss = 7235869947.59277344\n",
      "Iteration 35, loss = 7048017125.24423409\n",
      "Iteration 36, loss = 6860003600.44781208\n",
      "Iteration 37, loss = 6672275489.45800781\n",
      "Iteration 38, loss = 6485192631.30502796\n",
      "Iteration 39, loss = 6299228794.44239521\n",
      "Iteration 40, loss = 6114551412.14004421\n",
      "Iteration 41, loss = 5931611211.87287235\n",
      "Iteration 42, loss = 5750857098.26619911\n",
      "Iteration 43, loss = 5572593717.47896194\n",
      "Iteration 44, loss = 5397083556.47340298\n",
      "Iteration 45, loss = 5224784165.88414383\n",
      "Iteration 46, loss = 5056117340.48775291\n",
      "Iteration 47, loss = 4891467306.70555687\n",
      "Iteration 48, loss = 4731026265.55259895\n",
      "Iteration 49, loss = 4575497051.53337002\n",
      "Iteration 50, loss = 4425188808.34775639\n",
      "Iteration 51, loss = 4280499012.51590490\n",
      "Iteration 52, loss = 4141759689.14387178\n",
      "Iteration 53, loss = 4009217988.78696251\n",
      "Iteration 54, loss = 3883222451.60129499\n",
      "Iteration 55, loss = 3764241545.12473917\n",
      "Iteration 56, loss = 3652724915.13157129\n",
      "Iteration 57, loss = 3548874908.57184982\n",
      "Iteration 58, loss = 3452900603.96556902\n",
      "Iteration 59, loss = 3365118228.31304741\n",
      "Iteration 60, loss = 3285746746.48781347\n",
      "Iteration 61, loss = 3214900205.49703407\n",
      "Iteration 62, loss = 3152745896.56105137\n",
      "Iteration 63, loss = 3099218010.34402275\n",
      "Iteration 64, loss = 3054146316.82296848\n",
      "Iteration 65, loss = 3017158586.23122597\n",
      "Iteration 66, loss = 2987782238.40902758\n",
      "Iteration 67, loss = 2965433185.66266775\n",
      "Iteration 68, loss = 2949129982.89661121\n",
      "Iteration 69, loss = 2937830231.53531551\n",
      "Iteration 70, loss = 2930442143.63780260\n"
     ]
    },
    {
     "name": "stderr",
     "output_type": "stream",
     "text": [
      "/home/julian/.local/lib/python3.7/site-packages/sklearn/neural_network/multilayer_perceptron.py:562: ConvergenceWarning: Stochastic Optimizer: Maximum iterations (70) reached and the optimization hasn't converged yet.\n",
      "  % self.max_iter, ConvergenceWarning)\n"
     ]
    },
    {
     "data": {
      "text/plain": [
       "MLPRegressor(activation='relu', alpha=0.01, batch_size='auto', beta_1=0.9,\n",
       "       beta_2=0.999, early_stopping=False, epsilon=1e-08,\n",
       "       hidden_layer_sizes=(100,), learning_rate='constant',\n",
       "       learning_rate_init=0.001, max_iter=70, momentum=0.9,\n",
       "       n_iter_no_change=10, nesterovs_momentum=True, power_t=0.5,\n",
       "       random_state=123, shuffle=True, solver='adam', tol=0.0001,\n",
       "       validation_fraction=0.1, verbose=True, warm_start=False)"
      ]
     },
     "execution_count": 8,
     "metadata": {},
     "output_type": "execute_result"
    }
   ],
   "source": [
    "reg.fit(train_reshaped, train_y)"
   ]
  },
  {
   "cell_type": "code",
   "execution_count": 9,
   "metadata": {},
   "outputs": [],
   "source": [
    "target_norm = (test_y-test_y.mean())/test_y.std()\n",
    "target_norm = np.array(target_norm).reshape(-1,1)"
   ]
  },
  {
   "cell_type": "code",
   "execution_count": 10,
   "metadata": {},
   "outputs": [],
   "source": [
    "predicciones = reg.predict(target_norm)"
   ]
  },
  {
   "cell_type": "code",
   "execution_count": 11,
   "metadata": {},
   "outputs": [],
   "source": [
    "auxiliar = test_y.copy()\n",
    "auxiliar[\"prediccion\"] = predicciones"
   ]
  },
  {
   "cell_type": "code",
   "execution_count": 12,
   "metadata": {},
   "outputs": [],
   "source": [
    "resultados = auxiliar.merge(test_y, how=\"right\").fillna(60*60*24*3)"
   ]
  },
  {
   "cell_type": "code",
   "execution_count": 15,
   "metadata": {},
   "outputs": [],
   "source": [
    "resultados.columns = [\"ref_hash\", \"obj\"]"
   ]
  },
  {
   "cell_type": "code",
   "execution_count": 13,
   "metadata": {},
   "outputs": [],
   "source": [
    "resultados.to_csv(\"prediccion_mlp_simple_replica.csv\", index=False)"
   ]
  }
 ],
 "metadata": {
  "kernelspec": {
   "display_name": "Python 3",
   "language": "python",
   "name": "python3"
  },
  "language_info": {
   "codemirror_mode": {
    "name": "ipython",
    "version": 3
   },
   "file_extension": ".py",
   "mimetype": "text/x-python",
   "name": "python",
   "nbconvert_exporter": "python",
   "pygments_lexer": "ipython3",
   "version": "3.7.3"
  }
 },
 "nbformat": 4,
 "nbformat_minor": 2
}
