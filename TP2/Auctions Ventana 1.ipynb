{
 "cells": [
  {
   "cell_type": "code",
   "execution_count": 25,
   "metadata": {},
   "outputs": [],
   "source": [
    "import pandas as pd\n",
    "import numpy as np\n",
    "import matplotlib.pyplot as plt\n",
    "from sklearn.model_selection import train_test_split\n",
    "from sklearn.metrics import mean_squared_error\n",
    "from sklearn.linear_model import LinearRegression\n",
    "from sklearn import metrics\n",
    "%matplotlib inline\n",
    "\n",
    "pd.set_option('max_columns', 8, 'max_rows', 10)"
   ]
  },
  {
   "cell_type": "markdown",
   "metadata": {},
   "source": [
    "# Auctions Ventana 1"
   ]
  },
  {
   "cell_type": "code",
   "execution_count": 26,
   "metadata": {},
   "outputs": [
    {
     "data": {
      "text/html": [
       "<div>\n",
       "<style scoped>\n",
       "    .dataframe tbody tr th:only-of-type {\n",
       "        vertical-align: middle;\n",
       "    }\n",
       "\n",
       "    .dataframe tbody tr th {\n",
       "        vertical-align: top;\n",
       "    }\n",
       "\n",
       "    .dataframe thead th {\n",
       "        text-align: right;\n",
       "    }\n",
       "</style>\n",
       "<table border=\"1\" class=\"dataframe\">\n",
       "  <thead>\n",
       "    <tr style=\"text-align: right;\">\n",
       "      <th></th>\n",
       "      <th>device_id</th>\n",
       "      <th>ref_type_id</th>\n",
       "      <th>source_id</th>\n",
       "    </tr>\n",
       "    <tr>\n",
       "      <th>date</th>\n",
       "      <th></th>\n",
       "      <th></th>\n",
       "      <th></th>\n",
       "    </tr>\n",
       "  </thead>\n",
       "  <tbody>\n",
       "    <tr>\n",
       "      <th>2019-04-18 00:00:00.015050</th>\n",
       "      <td>1826643666390887030</td>\n",
       "      <td>7</td>\n",
       "      <td>0</td>\n",
       "    </tr>\n",
       "    <tr>\n",
       "      <th>2019-04-18 00:00:00.029014</th>\n",
       "      <td>7037174172278258682</td>\n",
       "      <td>1</td>\n",
       "      <td>0</td>\n",
       "    </tr>\n",
       "    <tr>\n",
       "      <th>2019-04-18 00:00:00.057540</th>\n",
       "      <td>3392065368947589877</td>\n",
       "      <td>1</td>\n",
       "      <td>1</td>\n",
       "    </tr>\n",
       "    <tr>\n",
       "      <th>2019-04-18 00:00:00.126828</th>\n",
       "      <td>1228982273563226229</td>\n",
       "      <td>1</td>\n",
       "      <td>1</td>\n",
       "    </tr>\n",
       "    <tr>\n",
       "      <th>2019-04-18 00:00:00.132510</th>\n",
       "      <td>4123059034628125459</td>\n",
       "      <td>1</td>\n",
       "      <td>8</td>\n",
       "    </tr>\n",
       "  </tbody>\n",
       "</table>\n",
       "</div>"
      ],
      "text/plain": [
       "                                      device_id  ref_type_id  source_id\n",
       "date                                                                   \n",
       "2019-04-18 00:00:00.015050  1826643666390887030            7          0\n",
       "2019-04-18 00:00:00.029014  7037174172278258682            1          0\n",
       "2019-04-18 00:00:00.057540  3392065368947589877            1          1\n",
       "2019-04-18 00:00:00.126828  1228982273563226229            1          1\n",
       "2019-04-18 00:00:00.132510  4123059034628125459            1          8"
      ]
     },
     "execution_count": 26,
     "metadata": {},
     "output_type": "execute_result"
    }
   ],
   "source": [
    "# Leo el .csv, ordeno por fecha\n",
    "auctions = pd.read_csv('data/auctions_ventanas/auctions_2019-04-18-2019-04-20.csv', low_memory=False, parse_dates = ['date'], index_col=['date'])\n",
    "auctions = auctions.sort_index()\n",
    "auctions.head()"
   ]
  },
  {
   "cell_type": "code",
   "execution_count": 27,
   "metadata": {},
   "outputs": [
    {
     "data": {
      "text/html": [
       "<div>\n",
       "<style scoped>\n",
       "    .dataframe tbody tr th:only-of-type {\n",
       "        vertical-align: middle;\n",
       "    }\n",
       "\n",
       "    .dataframe tbody tr th {\n",
       "        vertical-align: top;\n",
       "    }\n",
       "\n",
       "    .dataframe thead th {\n",
       "        text-align: right;\n",
       "    }\n",
       "</style>\n",
       "<table border=\"1\" class=\"dataframe\">\n",
       "  <thead>\n",
       "    <tr style=\"text-align: right;\">\n",
       "      <th></th>\n",
       "      <th>date</th>\n",
       "      <th>ref_hash</th>\n",
       "      <th>ref_type_id</th>\n",
       "      <th>source_id</th>\n",
       "    </tr>\n",
       "  </thead>\n",
       "  <tbody>\n",
       "    <tr>\n",
       "      <th>0</th>\n",
       "      <td>2019-04-18 00:00:00.015050</td>\n",
       "      <td>1826643666390887030</td>\n",
       "      <td>7</td>\n",
       "      <td>0</td>\n",
       "    </tr>\n",
       "    <tr>\n",
       "      <th>1</th>\n",
       "      <td>2019-04-18 00:00:00.029014</td>\n",
       "      <td>7037174172278258682</td>\n",
       "      <td>1</td>\n",
       "      <td>0</td>\n",
       "    </tr>\n",
       "    <tr>\n",
       "      <th>2</th>\n",
       "      <td>2019-04-18 00:00:00.057540</td>\n",
       "      <td>3392065368947589877</td>\n",
       "      <td>1</td>\n",
       "      <td>1</td>\n",
       "    </tr>\n",
       "    <tr>\n",
       "      <th>3</th>\n",
       "      <td>2019-04-18 00:00:00.126828</td>\n",
       "      <td>1228982273563226229</td>\n",
       "      <td>1</td>\n",
       "      <td>1</td>\n",
       "    </tr>\n",
       "    <tr>\n",
       "      <th>4</th>\n",
       "      <td>2019-04-18 00:00:00.132510</td>\n",
       "      <td>4123059034628125459</td>\n",
       "      <td>1</td>\n",
       "      <td>8</td>\n",
       "    </tr>\n",
       "  </tbody>\n",
       "</table>\n",
       "</div>"
      ],
      "text/plain": [
       "                        date             ref_hash  ref_type_id  source_id\n",
       "0 2019-04-18 00:00:00.015050  1826643666390887030            7          0\n",
       "1 2019-04-18 00:00:00.029014  7037174172278258682            1          0\n",
       "2 2019-04-18 00:00:00.057540  3392065368947589877            1          1\n",
       "3 2019-04-18 00:00:00.126828  1228982273563226229            1          1\n",
       "4 2019-04-18 00:00:00.132510  4123059034628125459            1          8"
      ]
     },
     "execution_count": 27,
     "metadata": {},
     "output_type": "execute_result"
    }
   ],
   "source": [
    "# device_id es ref_hash, me quedo con el primer registro (primera fecha) donde aparezca cada hash\n",
    "auctions = auctions.reset_index()\n",
    "auctions = auctions.rename(index=str, columns={'device_id' : 'ref_hash'})\n",
    "auctions = auctions.drop_duplicates(subset='ref_hash')\n",
    "auctions.head()"
   ]
  },
  {
   "cell_type": "markdown",
   "metadata": {},
   "source": [
    "## Cálculo de labels"
   ]
  },
  {
   "cell_type": "code",
   "execution_count": 28,
   "metadata": {},
   "outputs": [
    {
     "data": {
      "text/html": [
       "<div>\n",
       "<style scoped>\n",
       "    .dataframe tbody tr th:only-of-type {\n",
       "        vertical-align: middle;\n",
       "    }\n",
       "\n",
       "    .dataframe tbody tr th {\n",
       "        vertical-align: top;\n",
       "    }\n",
       "\n",
       "    .dataframe thead th {\n",
       "        text-align: right;\n",
       "    }\n",
       "</style>\n",
       "<table border=\"1\" class=\"dataframe\">\n",
       "  <thead>\n",
       "    <tr style=\"text-align: right;\">\n",
       "      <th></th>\n",
       "      <th>date</th>\n",
       "      <th>ref_hash</th>\n",
       "      <th>ref_type_id</th>\n",
       "      <th>source_id</th>\n",
       "    </tr>\n",
       "  </thead>\n",
       "  <tbody>\n",
       "    <tr>\n",
       "      <th>0</th>\n",
       "      <td>0.015050</td>\n",
       "      <td>1826643666390887030</td>\n",
       "      <td>7</td>\n",
       "      <td>0</td>\n",
       "    </tr>\n",
       "    <tr>\n",
       "      <th>1</th>\n",
       "      <td>0.029014</td>\n",
       "      <td>7037174172278258682</td>\n",
       "      <td>1</td>\n",
       "      <td>0</td>\n",
       "    </tr>\n",
       "    <tr>\n",
       "      <th>2</th>\n",
       "      <td>0.057540</td>\n",
       "      <td>3392065368947589877</td>\n",
       "      <td>1</td>\n",
       "      <td>1</td>\n",
       "    </tr>\n",
       "    <tr>\n",
       "      <th>3</th>\n",
       "      <td>0.126828</td>\n",
       "      <td>1228982273563226229</td>\n",
       "      <td>1</td>\n",
       "      <td>1</td>\n",
       "    </tr>\n",
       "    <tr>\n",
       "      <th>4</th>\n",
       "      <td>0.132510</td>\n",
       "      <td>4123059034628125459</td>\n",
       "      <td>1</td>\n",
       "      <td>8</td>\n",
       "    </tr>\n",
       "    <tr>\n",
       "      <th>...</th>\n",
       "      <td>...</td>\n",
       "      <td>...</td>\n",
       "      <td>...</td>\n",
       "      <td>...</td>\n",
       "    </tr>\n",
       "    <tr>\n",
       "      <th>15644489</th>\n",
       "      <td>259196.265259</td>\n",
       "      <td>3249485961899571550</td>\n",
       "      <td>7</td>\n",
       "      <td>1</td>\n",
       "    </tr>\n",
       "    <tr>\n",
       "      <th>15644543</th>\n",
       "      <td>259196.949571</td>\n",
       "      <td>6935058777451259898</td>\n",
       "      <td>1</td>\n",
       "      <td>1</td>\n",
       "    </tr>\n",
       "    <tr>\n",
       "      <th>15644607</th>\n",
       "      <td>259197.827543</td>\n",
       "      <td>4775315369292092311</td>\n",
       "      <td>1</td>\n",
       "      <td>0</td>\n",
       "    </tr>\n",
       "    <tr>\n",
       "      <th>15644683</th>\n",
       "      <td>259198.834158</td>\n",
       "      <td>587301283475662820</td>\n",
       "      <td>7</td>\n",
       "      <td>1</td>\n",
       "    </tr>\n",
       "    <tr>\n",
       "      <th>15644705</th>\n",
       "      <td>259199.071858</td>\n",
       "      <td>4192056965287526246</td>\n",
       "      <td>7</td>\n",
       "      <td>1</td>\n",
       "    </tr>\n",
       "  </tbody>\n",
       "</table>\n",
       "<p>318325 rows × 4 columns</p>\n",
       "</div>"
      ],
      "text/plain": [
       "                   date             ref_hash  ref_type_id  source_id\n",
       "0              0.015050  1826643666390887030            7          0\n",
       "1              0.029014  7037174172278258682            1          0\n",
       "2              0.057540  3392065368947589877            1          1\n",
       "3              0.126828  1228982273563226229            1          1\n",
       "4              0.132510  4123059034628125459            1          8\n",
       "...                 ...                  ...          ...        ...\n",
       "15644489  259196.265259  3249485961899571550            7          1\n",
       "15644543  259196.949571  6935058777451259898            1          1\n",
       "15644607  259197.827543  4775315369292092311            1          0\n",
       "15644683  259198.834158   587301283475662820            7          1\n",
       "15644705  259199.071858  4192056965287526246            7          1\n",
       "\n",
       "[318325 rows x 4 columns]"
      ]
     },
     "execution_count": 28,
     "metadata": {},
     "output_type": "execute_result"
    }
   ],
   "source": [
    "# Ya tengo la fecha mínima para cada ref_hash, resto el momento inicial y convierto a segundos\n",
    "auctions['date'] = auctions['date'] - pd.Timestamp('2019-04-18 00:00:00')\n",
    "auctions['date'] = auctions['date'].transform(lambda x: x.total_seconds())\n",
    "auctions"
   ]
  },
  {
   "cell_type": "markdown",
   "metadata": {},
   "source": [
    "## Entrenamiento y predicción del modelo"
   ]
  },
  {
   "cell_type": "code",
   "execution_count": 29,
   "metadata": {},
   "outputs": [],
   "source": [
    "features = auctions[['ref_hash', 'ref_type_id', 'source_id']]\n",
    "labels = auctions['date']\n",
    "X_train, X_test, y_train, y_test = \\\n",
    "    train_test_split(features, labels, test_size=0.2, random_state=123)"
   ]
  },
  {
   "cell_type": "code",
   "execution_count": 30,
   "metadata": {},
   "outputs": [
    {
     "data": {
      "text/plain": [
       "LinearRegression(copy_X=True, fit_intercept=True, n_jobs=None, normalize=False)"
      ]
     },
     "execution_count": 30,
     "metadata": {},
     "output_type": "execute_result"
    }
   ],
   "source": [
    "regressor = LinearRegression()\n",
    "regressor.fit(X_train, y_train)"
   ]
  },
  {
   "cell_type": "code",
   "execution_count": 31,
   "metadata": {},
   "outputs": [],
   "source": [
    "y_pred = regressor.predict(X_test)"
   ]
  },
  {
   "cell_type": "markdown",
   "metadata": {},
   "source": [
    "## Chequeo de resultados"
   ]
  },
  {
   "cell_type": "code",
   "execution_count": 32,
   "metadata": {},
   "outputs": [
    {
     "data": {
      "text/html": [
       "<div>\n",
       "<style scoped>\n",
       "    .dataframe tbody tr th:only-of-type {\n",
       "        vertical-align: middle;\n",
       "    }\n",
       "\n",
       "    .dataframe tbody tr th {\n",
       "        vertical-align: top;\n",
       "    }\n",
       "\n",
       "    .dataframe thead th {\n",
       "        text-align: right;\n",
       "    }\n",
       "</style>\n",
       "<table border=\"1\" class=\"dataframe\">\n",
       "  <thead>\n",
       "    <tr style=\"text-align: right;\">\n",
       "      <th></th>\n",
       "      <th>Actual</th>\n",
       "      <th>Predicted</th>\n",
       "    </tr>\n",
       "  </thead>\n",
       "  <tbody>\n",
       "    <tr>\n",
       "      <th>1030418</th>\n",
       "      <td>12356.824843</td>\n",
       "      <td>78624.120194</td>\n",
       "    </tr>\n",
       "    <tr>\n",
       "      <th>6400403</th>\n",
       "      <td>99314.889025</td>\n",
       "      <td>78670.630726</td>\n",
       "    </tr>\n",
       "    <tr>\n",
       "      <th>141791</th>\n",
       "      <td>1729.861089</td>\n",
       "      <td>78795.914522</td>\n",
       "    </tr>\n",
       "    <tr>\n",
       "      <th>8383836</th>\n",
       "      <td>144340.935987</td>\n",
       "      <td>78705.154887</td>\n",
       "    </tr>\n",
       "    <tr>\n",
       "      <th>5836</th>\n",
       "      <td>70.860476</td>\n",
       "      <td>78435.545465</td>\n",
       "    </tr>\n",
       "    <tr>\n",
       "      <th>...</th>\n",
       "      <td>...</td>\n",
       "      <td>...</td>\n",
       "    </tr>\n",
       "    <tr>\n",
       "      <th>67983</th>\n",
       "      <td>802.751630</td>\n",
       "      <td>78667.582088</td>\n",
       "    </tr>\n",
       "    <tr>\n",
       "      <th>2541214</th>\n",
       "      <td>46893.104391</td>\n",
       "      <td>78598.700586</td>\n",
       "    </tr>\n",
       "    <tr>\n",
       "      <th>269882</th>\n",
       "      <td>3374.718127</td>\n",
       "      <td>78432.273775</td>\n",
       "    </tr>\n",
       "    <tr>\n",
       "      <th>2184766</th>\n",
       "      <td>28972.045184</td>\n",
       "      <td>78829.681626</td>\n",
       "    </tr>\n",
       "    <tr>\n",
       "      <th>141957</th>\n",
       "      <td>1732.255747</td>\n",
       "      <td>78941.255383</td>\n",
       "    </tr>\n",
       "  </tbody>\n",
       "</table>\n",
       "<p>63665 rows × 2 columns</p>\n",
       "</div>"
      ],
      "text/plain": [
       "                Actual     Predicted\n",
       "1030418   12356.824843  78624.120194\n",
       "6400403   99314.889025  78670.630726\n",
       "141791     1729.861089  78795.914522\n",
       "8383836  144340.935987  78705.154887\n",
       "5836         70.860476  78435.545465\n",
       "...                ...           ...\n",
       "67983       802.751630  78667.582088\n",
       "2541214   46893.104391  78598.700586\n",
       "269882     3374.718127  78432.273775\n",
       "2184766   28972.045184  78829.681626\n",
       "141957     1732.255747  78941.255383\n",
       "\n",
       "[63665 rows x 2 columns]"
      ]
     },
     "execution_count": 32,
     "metadata": {},
     "output_type": "execute_result"
    }
   ],
   "source": [
    "df = pd.DataFrame({'Actual': y_test, 'Predicted': y_pred.flatten()})\n",
    "df"
   ]
  },
  {
   "cell_type": "code",
   "execution_count": 33,
   "metadata": {},
   "outputs": [
    {
     "data": {
      "image/png": "[encoded data removed]",
      "text/plain": [
       "<Figure size 1152x720 with 1 Axes>"
      ]
     },
     "metadata": {
      "needs_background": "light"
     },
     "output_type": "display_data"
    }
   ],
   "source": [
    "df1 = df.head(25)\n",
    "df1.plot(kind='bar',figsize=(16,10))\n",
    "plt.grid(which='major', linestyle='-', linewidth='0.5', color='green')\n",
    "plt.grid(which='minor', linestyle=':', linewidth='0.5', color='black')\n",
    "plt.show()"
   ]
  },
  {
   "cell_type": "code",
   "execution_count": 34,
   "metadata": {},
   "outputs": [
    {
     "name": "stdout",
     "output_type": "stream",
     "text": [
      "Mean Absolute Error: 61223.057302381545\n",
      "Mean Squared Error: 5439744091.578473\n",
      "Root Mean Squared Error: 73754.62081509519\n"
     ]
    }
   ],
   "source": [
    "print('Mean Absolute Error:', metrics.mean_absolute_error(y_test, y_pred))\n",
    "print('Mean Squared Error:', metrics.mean_squared_error(y_test, y_pred))\n",
    "print('Root Mean Squared Error:', np.sqrt(metrics.mean_squared_error(y_test, y_pred)))"
   ]
  }
 ],
 "metadata": {
  "kernelspec": {
   "display_name": "Python 3",
   "language": "python",
   "name": "python3"
  },
  "language_info": {
   "codemirror_mode": {
    "name": "ipython",
    "version": 3
   },
   "file_extension": ".py",
   "mimetype": "text/x-python",
   "name": "python",
   "nbconvert_exporter": "python",
   "pygments_lexer": "ipython3",
   "version": "3.5.3"
  }
 },
 "nbformat": 4,
 "nbformat_minor": 2
}
