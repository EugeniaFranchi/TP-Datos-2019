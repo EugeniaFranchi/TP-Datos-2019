{
 "cells": [
  {
   "cell_type": "code",
   "execution_count": 62,
   "metadata": {},
   "outputs": [],
   "source": [
    "import xgboost as xgb\n",
    "import pandas as pd\n",
    "import numpy as np\n",
    "from sklearn.metrics import mean_squared_error\n"
   ]
  },
  {
   "cell_type": "markdown",
   "metadata": {},
   "source": [
    "#### CARGAMOS EL ARCHIVO INSTALLS CON FEATURES SACADOS DEL ARCHIVO INSTALLS"
   ]
  },
  {
   "cell_type": "code",
   "execution_count": 63,
   "metadata": {},
   "outputs": [
    {
     "data": {
      "text/html": [
       "<div>\n",
       "<style scoped>\n",
       "    .dataframe tbody tr th:only-of-type {\n",
       "        vertical-align: middle;\n",
       "    }\n",
       "\n",
       "    .dataframe tbody tr th {\n",
       "        vertical-align: top;\n",
       "    }\n",
       "\n",
       "    .dataframe thead th {\n",
       "        text-align: right;\n",
       "    }\n",
       "</style>\n",
       "<table border=\"1\" class=\"dataframe\">\n",
       "  <thead>\n",
       "    <tr style=\"text-align: right;\">\n",
       "      <th></th>\n",
       "      <th>Unnamed: 0</th>\n",
       "      <th>application_id</th>\n",
       "      <th>ref_type</th>\n",
       "      <th>ref_hash</th>\n",
       "      <th>attributed</th>\n",
       "      <th>implicit</th>\n",
       "      <th>device_countrycode</th>\n",
       "      <th>device_brand</th>\n",
       "      <th>device_model</th>\n",
       "      <th>session_user_agent</th>\n",
       "      <th>...</th>\n",
       "      <th>top10apps</th>\n",
       "      <th>top50marcas</th>\n",
       "      <th>top10marcas</th>\n",
       "      <th>top10marcasSinNan</th>\n",
       "      <th>agentes</th>\n",
       "      <th>top50agentes</th>\n",
       "      <th>top10agentes</th>\n",
       "      <th>kindReducido</th>\n",
       "      <th>top10tipo</th>\n",
       "      <th>top10leng</th>\n",
       "    </tr>\n",
       "    <tr>\n",
       "      <th>created</th>\n",
       "      <th></th>\n",
       "      <th></th>\n",
       "      <th></th>\n",
       "      <th></th>\n",
       "      <th></th>\n",
       "      <th></th>\n",
       "      <th></th>\n",
       "      <th></th>\n",
       "      <th></th>\n",
       "      <th></th>\n",
       "      <th></th>\n",
       "      <th></th>\n",
       "      <th></th>\n",
       "      <th></th>\n",
       "      <th></th>\n",
       "      <th></th>\n",
       "      <th></th>\n",
       "      <th></th>\n",
       "      <th></th>\n",
       "      <th></th>\n",
       "      <th></th>\n",
       "    </tr>\n",
       "  </thead>\n",
       "  <tbody>\n",
       "    <tr>\n",
       "      <th>2019-04-18 00:00:01.560</th>\n",
       "      <td>94738</td>\n",
       "      <td>70</td>\n",
       "      <td>1</td>\n",
       "      <td>4432995619177048534</td>\n",
       "      <td>False</td>\n",
       "      <td>False</td>\n",
       "      <td>6287817205707153877</td>\n",
       "      <td>0</td>\n",
       "      <td>208</td>\n",
       "      <td>1095</td>\n",
       "      <td>...</td>\n",
       "      <td>0</td>\n",
       "      <td>0</td>\n",
       "      <td>0</td>\n",
       "      <td>0</td>\n",
       "      <td>0</td>\n",
       "      <td>0</td>\n",
       "      <td>0</td>\n",
       "      <td>1</td>\n",
       "      <td>1</td>\n",
       "      <td>9</td>\n",
       "    </tr>\n",
       "    <tr>\n",
       "      <th>2019-04-18 00:00:01.851</th>\n",
       "      <td>94737</td>\n",
       "      <td>70</td>\n",
       "      <td>1</td>\n",
       "      <td>5904733559638204455</td>\n",
       "      <td>False</td>\n",
       "      <td>False</td>\n",
       "      <td>6287817205707153877</td>\n",
       "      <td>0</td>\n",
       "      <td>208</td>\n",
       "      <td>1095</td>\n",
       "      <td>...</td>\n",
       "      <td>0</td>\n",
       "      <td>0</td>\n",
       "      <td>0</td>\n",
       "      <td>0</td>\n",
       "      <td>0</td>\n",
       "      <td>0</td>\n",
       "      <td>0</td>\n",
       "      <td>1</td>\n",
       "      <td>1</td>\n",
       "      <td>9</td>\n",
       "    </tr>\n",
       "    <tr>\n",
       "      <th>2019-04-18 00:00:05.152</th>\n",
       "      <td>111877</td>\n",
       "      <td>65</td>\n",
       "      <td>1</td>\n",
       "      <td>896373747754111825</td>\n",
       "      <td>False</td>\n",
       "      <td>True</td>\n",
       "      <td>6287817205707153877</td>\n",
       "      <td>6</td>\n",
       "      <td>102</td>\n",
       "      <td>2</td>\n",
       "      <td>...</td>\n",
       "      <td>3</td>\n",
       "      <td>6</td>\n",
       "      <td>6</td>\n",
       "      <td>6</td>\n",
       "      <td>2</td>\n",
       "      <td>2</td>\n",
       "      <td>1</td>\n",
       "      <td>0</td>\n",
       "      <td>0</td>\n",
       "      <td>8</td>\n",
       "    </tr>\n",
       "    <tr>\n",
       "      <th>2019-04-18 00:00:05.589</th>\n",
       "      <td>76146</td>\n",
       "      <td>27</td>\n",
       "      <td>0</td>\n",
       "      <td>3399210824535017892</td>\n",
       "      <td>False</td>\n",
       "      <td>False</td>\n",
       "      <td>6287817205707153877</td>\n",
       "      <td>0</td>\n",
       "      <td>190</td>\n",
       "      <td>2</td>\n",
       "      <td>...</td>\n",
       "      <td>0</td>\n",
       "      <td>0</td>\n",
       "      <td>0</td>\n",
       "      <td>0</td>\n",
       "      <td>21</td>\n",
       "      <td>14</td>\n",
       "      <td>6</td>\n",
       "      <td>1</td>\n",
       "      <td>1</td>\n",
       "      <td>2</td>\n",
       "    </tr>\n",
       "    <tr>\n",
       "      <th>2019-04-18 00:00:06.795</th>\n",
       "      <td>435184</td>\n",
       "      <td>339</td>\n",
       "      <td>0</td>\n",
       "      <td>1541425881979513687</td>\n",
       "      <td>False</td>\n",
       "      <td>False</td>\n",
       "      <td>6287817205707153877</td>\n",
       "      <td>0</td>\n",
       "      <td>190</td>\n",
       "      <td>2</td>\n",
       "      <td>...</td>\n",
       "      <td>0</td>\n",
       "      <td>0</td>\n",
       "      <td>0</td>\n",
       "      <td>0</td>\n",
       "      <td>68</td>\n",
       "      <td>46</td>\n",
       "      <td>10</td>\n",
       "      <td>1</td>\n",
       "      <td>1</td>\n",
       "      <td>6</td>\n",
       "    </tr>\n",
       "  </tbody>\n",
       "</table>\n",
       "<p>5 rows × 30 columns</p>\n",
       "</div>"
      ],
      "text/plain": [
       "                         Unnamed: 0  application_id  ref_type  \\\n",
       "created                                                         \n",
       "2019-04-18 00:00:01.560       94738              70         1   \n",
       "2019-04-18 00:00:01.851       94737              70         1   \n",
       "2019-04-18 00:00:05.152      111877              65         1   \n",
       "2019-04-18 00:00:05.589       76146              27         0   \n",
       "2019-04-18 00:00:06.795      435184             339         0   \n",
       "\n",
       "                                    ref_hash  attributed  implicit  \\\n",
       "created                                                              \n",
       "2019-04-18 00:00:01.560  4432995619177048534       False     False   \n",
       "2019-04-18 00:00:01.851  5904733559638204455       False     False   \n",
       "2019-04-18 00:00:05.152   896373747754111825       False      True   \n",
       "2019-04-18 00:00:05.589  3399210824535017892       False     False   \n",
       "2019-04-18 00:00:06.795  1541425881979513687       False     False   \n",
       "\n",
       "                          device_countrycode  device_brand  device_model  \\\n",
       "created                                                                    \n",
       "2019-04-18 00:00:01.560  6287817205707153877             0           208   \n",
       "2019-04-18 00:00:01.851  6287817205707153877             0           208   \n",
       "2019-04-18 00:00:05.152  6287817205707153877             6           102   \n",
       "2019-04-18 00:00:05.589  6287817205707153877             0           190   \n",
       "2019-04-18 00:00:06.795  6287817205707153877             0           190   \n",
       "\n",
       "                         session_user_agent    ...      top10apps  \\\n",
       "created                                        ...                  \n",
       "2019-04-18 00:00:01.560                1095    ...              0   \n",
       "2019-04-18 00:00:01.851                1095    ...              0   \n",
       "2019-04-18 00:00:05.152                   2    ...              3   \n",
       "2019-04-18 00:00:05.589                   2    ...              0   \n",
       "2019-04-18 00:00:06.795                   2    ...              0   \n",
       "\n",
       "                         top50marcas  top10marcas  top10marcasSinNan  agentes  \\\n",
       "created                                                                         \n",
       "2019-04-18 00:00:01.560            0            0                  0        0   \n",
       "2019-04-18 00:00:01.851            0            0                  0        0   \n",
       "2019-04-18 00:00:05.152            6            6                  6        2   \n",
       "2019-04-18 00:00:05.589            0            0                  0       21   \n",
       "2019-04-18 00:00:06.795            0            0                  0       68   \n",
       "\n",
       "                         top50agentes  top10agentes  kindReducido  top10tipo  \\\n",
       "created                                                                        \n",
       "2019-04-18 00:00:01.560             0             0             1          1   \n",
       "2019-04-18 00:00:01.851             0             0             1          1   \n",
       "2019-04-18 00:00:05.152             2             1             0          0   \n",
       "2019-04-18 00:00:05.589            14             6             1          1   \n",
       "2019-04-18 00:00:06.795            46            10             1          1   \n",
       "\n",
       "                         top10leng  \n",
       "created                             \n",
       "2019-04-18 00:00:01.560          9  \n",
       "2019-04-18 00:00:01.851          9  \n",
       "2019-04-18 00:00:05.152          8  \n",
       "2019-04-18 00:00:05.589          2  \n",
       "2019-04-18 00:00:06.795          6  \n",
       "\n",
       "[5 rows x 30 columns]"
      ]
     },
     "execution_count": 63,
     "metadata": {},
     "output_type": "execute_result"
    }
   ],
   "source": [
    "installs = pd.read_csv('data/installsConFeatures.csv', low_memory=False, parse_dates = ['created'], index_col=['created'])\n",
    "installs = installs.sort_index()\n",
    "installs.head()"
   ]
  },
  {
   "cell_type": "markdown",
   "metadata": {},
   "source": [
    "### Dropeamos columnas que quedaron mal"
   ]
  },
  {
   "cell_type": "code",
   "execution_count": 64,
   "metadata": {},
   "outputs": [],
   "source": [
    "installs.drop(['Unnamed: 0'],axis = 1,inplace=True)"
   ]
  },
  {
   "cell_type": "markdown",
   "metadata": {},
   "source": [
    "#### Luego cargamos la primer ventana y sus lebels correspondientes a la segunda (Asi con todas las demas)"
   ]
  },
  {
   "cell_type": "code",
   "execution_count": 65,
   "metadata": {},
   "outputs": [],
   "source": [
    "info1 = installs['2019-04-21':'2019-04-23'].reset_index().groupby('ref_hash').agg({'created' : 'min'})\n",
    "info1['created'] = info1['created'] - pd.Timestamp('2019-04-21 00:00:00')\n",
    "info1['created'] = info1['created'].transform(lambda x: x.total_seconds())\n",
    "info1 = info1.reset_index()\n",
    "info1 = info1.merge(installs['2019-04-18':'2019-04-20'].reset_index(),on=\"ref_hash\", how=\"right\")\n",
    "info1 = info1.rename(columns={'created_x':'label','created_y':'created'})\n",
    "\n",
    "label1 = info1['label'].to_frame()\n",
    "train1 = info1.drop('label', axis=1)"
   ]
  },
  {
   "cell_type": "code",
   "execution_count": 66,
   "metadata": {},
   "outputs": [],
   "source": [
    "info2 = installs['2019-04-22':'2019-04-24'].reset_index().groupby('ref_hash').agg({'created' : 'min'})\n",
    "info2['created'] = info2['created'] - pd.Timestamp('2019-04-22 00:00:00')\n",
    "info2['created'] = info2['created'].transform(lambda x: x.total_seconds())\n",
    "info2 = info2.reset_index()\n",
    "info2 = info2.merge(installs['2019-04-19':'2019-04-21'].reset_index(),on=\"ref_hash\", how=\"right\")\n",
    "info2 = info2.rename(columns={'created_x':'label','created_y':'created'})\n",
    "\n",
    "label2 = info2['label'].to_frame()\n",
    "train2 = info2.drop('label', axis=1)"
   ]
  },
  {
   "cell_type": "code",
   "execution_count": 67,
   "metadata": {},
   "outputs": [],
   "source": [
    "info3 = installs['2019-04-23':'2019-04-25'].reset_index().groupby('ref_hash').agg({'created' : 'min'})\n",
    "info3['created'] = info3['created'] - pd.Timestamp('2019-04-23 00:00:00')\n",
    "info3['created'] = info3['created'].transform(lambda x: x.total_seconds())\n",
    "info3 = info3.reset_index()\n",
    "info3 = info3.merge(installs['2019-04-20':'2019-04-22'].reset_index(),on=\"ref_hash\", how=\"right\")\n",
    "info3 = info3.rename(columns={'created_x':'label','created_y':'created'})\n",
    "\n",
    "label3 = info3['label'].to_frame()\n",
    "train3 = info3.drop('label', axis=1)"
   ]
  },
  {
   "cell_type": "code",
   "execution_count": 68,
   "metadata": {},
   "outputs": [],
   "source": [
    "info4 = installs['2019-04-24':'2019-04-26'].reset_index().groupby('ref_hash').agg({'created' : 'min'})\n",
    "info4['created'] = info4['created'] - pd.Timestamp('2019-04-24 00:00:00')\n",
    "info4['created'] = info4['created'].transform(lambda x: x.total_seconds())\n",
    "info4 = info4.reset_index()\n",
    "info4 = info4.merge(installs['2019-04-21':'2019-04-23'].reset_index(),on=\"ref_hash\", how=\"right\")\n",
    "info4 = info4.rename(columns={'created_x':'label','created_y':'created'})\n",
    "\n",
    "label4 = info4['label'].to_frame()\n",
    "train4 = info4.drop('label', axis=1)"
   ]
  },
  {
   "cell_type": "code",
   "execution_count": 69,
   "metadata": {},
   "outputs": [],
   "source": [
    "ventana_ultima = installs['2019-04-24':'2019-04-26'].reset_index().groupby('ref_hash').agg({'created' : 'min'})"
   ]
  },
  {
   "cell_type": "markdown",
   "metadata": {},
   "source": [
    "#### Como al algoritmo que aplicaremos despues no le gustan los NAN, a esos nan le ponemos 3 dias ( en segundos )"
   ]
  },
  {
   "cell_type": "code",
   "execution_count": 70,
   "metadata": {},
   "outputs": [],
   "source": [
    "train1 = train1.dropna()\n",
    "train2 = train2.dropna()\n",
    "train3 = train3.dropna()\n",
    "train4 = train4.dropna()\n",
    "label1 = label1.fillna(3*24*60*60)\n",
    "label2 = label2.fillna(3*24*60*60)\n",
    "label3 = label3.fillna(3*24*60*60)\n",
    "label4 = label4.fillna(3*24*60*60)\n"
   ]
  },
  {
   "cell_type": "markdown",
   "metadata": {},
   "source": [
    "#### Ahora sacaremos mas labels para cada ventana en particular..."
   ]
  },
  {
   "cell_type": "code",
   "execution_count": 71,
   "metadata": {},
   "outputs": [],
   "source": [
    "train1['tiempoDesdeComienzoDeVentana'] = (installs.reset_index()['created'] - pd.Timestamp('2019-04-18 00:00:00')).transform(lambda x: x.total_seconds())\n",
    "train2['tiempoDesdeComienzoDeVentana'] = (installs.reset_index()['created'] - pd.Timestamp('2019-04-19 00:00:00')).transform(lambda x: x.total_seconds())\n",
    "train3['tiempoDesdeComienzoDeVentana'] = (installs.reset_index()['created'] - pd.Timestamp('2019-04-20 00:00:00')).transform(lambda x: x.total_seconds())\n",
    "train4['tiempoDesdeComienzoDeVentana'] = (installs.reset_index()['created'] - pd.Timestamp('2019-04-21 00:00:00')).transform(lambda x: x.total_seconds())\n",
    "ventana_ultima['tiempoDesdeComienzoDeVentana'] = (installs.reset_index()['created'] - pd.Timestamp('2019-04-24 00:00:00')).transform(lambda x: x.total_seconds())\n"
   ]
  },
  {
   "cell_type": "code",
   "execution_count": 72,
   "metadata": {},
   "outputs": [],
   "source": [
    "train1['accionesDesdeQueComenzoLaVentana'] = np.arange(len(train1))\n",
    "train2['accionesDesdeQueComenzoLaVentana'] = np.arange(len(train2))\n",
    "train3['accionesDesdeQueComenzoLaVentana'] = np.arange(len(train3))\n",
    "train4['accionesDesdeQueComenzoLaVentana'] = np.arange(len(train4))\n",
    "ventana_ultima['accionesDesdeQueComenzoLaVentana'] = np.arange(len(ventana_ultima))"
   ]
  },
  {
   "cell_type": "code",
   "execution_count": 73,
   "metadata": {},
   "outputs": [],
   "source": [
    "train1.drop(['created'],axis =1, inplace = True )\n",
    "train2.drop(['created'],axis =1, inplace = True )\n",
    "train3.drop(['created'],axis =1, inplace = True )\n",
    "train4.drop(['created'],axis =1, inplace = True )\n",
    "ventana_ultima.drop(['created'],axis =1, inplace = True )\n"
   ]
  },
  {
   "cell_type": "code",
   "execution_count": 74,
   "metadata": {},
   "outputs": [
    {
     "name": "stdout",
     "output_type": "stream",
     "text": [
      "<class 'pandas.core.frame.DataFrame'>\n",
      "Int64Index: 160861 entries, 0 to 160860\n",
      "Data columns (total 31 columns):\n",
      "ref_hash                            160861 non-null int64\n",
      "application_id                      160861 non-null int64\n",
      "ref_type                            160861 non-null int64\n",
      "attributed                          160861 non-null bool\n",
      "implicit                            160861 non-null bool\n",
      "device_countrycode                  160861 non-null int64\n",
      "device_brand                        160861 non-null int64\n",
      "device_model                        160861 non-null int64\n",
      "session_user_agent                  160861 non-null int64\n",
      "user_agent                          160861 non-null int64\n",
      "kind                                160861 non-null int64\n",
      "wifi                                160861 non-null bool\n",
      "ip_address                          160861 non-null int64\n",
      "device_language                     160861 non-null int64\n",
      "TopApp/Otro                         160861 non-null int64\n",
      "dia                                 160861 non-null int64\n",
      "hora                                160861 non-null int64\n",
      "minuto                              160861 non-null int64\n",
      "diaDeLaSemana                       160861 non-null int64\n",
      "top10apps                           160861 non-null int64\n",
      "top50marcas                         160861 non-null int64\n",
      "top10marcas                         160861 non-null int64\n",
      "top10marcasSinNan                   160861 non-null int64\n",
      "agentes                             160861 non-null int64\n",
      "top50agentes                        160861 non-null int64\n",
      "top10agentes                        160861 non-null int64\n",
      "kindReducido                        160861 non-null int64\n",
      "top10tipo                           160861 non-null int64\n",
      "top10leng                           160861 non-null int64\n",
      "tiempoDesdeComienzoDeVentana        160861 non-null float64\n",
      "accionesDesdeQueComenzoLaVentana    160861 non-null int64\n",
      "dtypes: bool(3), float64(1), int64(27)\n",
      "memory usage: 36.1 MB\n"
     ]
    }
   ],
   "source": [
    "train1.info()"
   ]
  },
  {
   "cell_type": "markdown",
   "metadata": {},
   "source": [
    "#### Ahora comenzaremos a entrenar con XGBOOST"
   ]
  },
  {
   "cell_type": "code",
   "execution_count": 75,
   "metadata": {},
   "outputs": [
    {
     "data": {
      "text/plain": [
       "((160861, 31), (160861, 1))"
      ]
     },
     "execution_count": 75,
     "metadata": {},
     "output_type": "execute_result"
    }
   ],
   "source": [
    "train1.shape,label1.shape"
   ]
  },
  {
   "cell_type": "code",
   "execution_count": 76,
   "metadata": {},
   "outputs": [],
   "source": [
    "data_dmatrix = xgb.DMatrix(data=train1,label=label1)\n"
   ]
  },
  {
   "cell_type": "code",
   "execution_count": 77,
   "metadata": {},
   "outputs": [],
   "source": [
    "from sklearn.model_selection import train_test_split\n",
    "X_train, X_test, y_train, y_test = \\\n",
    "    train_test_split(train1, label1, test_size=0.2, random_state=123)"
   ]
  },
  {
   "cell_type": "code",
   "execution_count": 78,
   "metadata": {},
   "outputs": [],
   "source": [
    "xg_reg = xgb.XGBRegressor(objective ='reg:linear', \n",
    "                colsample_bytree = 0.3, learning_rate = 0.1,\n",
    "                max_depth = 5, alpha = 10, n_estimators = 10)"
   ]
  },
  {
   "cell_type": "code",
   "execution_count": 79,
   "metadata": {},
   "outputs": [
    {
     "name": "stdout",
     "output_type": "stream",
     "text": [
      "[15:22:13] WARNING: /workspace/src/objective/regression_obj.cu:152: reg:linear is now deprecated in favor of reg:squarederror.\n"
     ]
    },
    {
     "data": {
      "text/plain": [
       "XGBRegressor(alpha=10, base_score=0.5, booster='gbtree', colsample_bylevel=1,\n",
       "             colsample_bynode=1, colsample_bytree=0.3, gamma=0,\n",
       "             importance_type='gain', learning_rate=0.1, max_delta_step=0,\n",
       "             max_depth=5, min_child_weight=1, missing=None, n_estimators=10,\n",
       "             n_jobs=1, nthread=None, objective='reg:linear', random_state=0,\n",
       "             reg_alpha=0, reg_lambda=1, scale_pos_weight=1, seed=None,\n",
       "             silent=None, subsample=1, verbosity=1)"
      ]
     },
     "execution_count": 79,
     "metadata": {},
     "output_type": "execute_result"
    }
   ],
   "source": [
    "xg_reg.fit(X_train,y_train)\n"
   ]
  },
  {
   "cell_type": "code",
   "execution_count": 80,
   "metadata": {},
   "outputs": [],
   "source": [
    "preds = xg_reg.predict(X_test)\n"
   ]
  },
  {
   "cell_type": "code",
   "execution_count": 81,
   "metadata": {},
   "outputs": [
    {
     "name": "stdout",
     "output_type": "stream",
     "text": [
      "RMSE: 91630.153102\n"
     ]
    }
   ],
   "source": [
    "rmse = np.sqrt(mean_squared_error(y_test, preds))\n",
    "print(\"RMSE: %f\" % (rmse))"
   ]
  },
  {
   "cell_type": "code",
   "execution_count": 82,
   "metadata": {},
   "outputs": [
    {
     "name": "stdout",
     "output_type": "stream",
     "text": [
      "[15:22:25] WARNING: /workspace/src/objective/regression_obj.cu:152: reg:linear is now deprecated in favor of reg:squarederror.\n",
      "[15:22:25] WARNING: /workspace/src/objective/regression_obj.cu:152: reg:linear is now deprecated in favor of reg:squarederror.\n",
      "[15:22:25] WARNING: /workspace/src/objective/regression_obj.cu:152: reg:linear is now deprecated in favor of reg:squarederror.\n"
     ]
    }
   ],
   "source": [
    "params = {\"objective\":\"reg:linear\",'colsample_bytree': 0.3,\n",
    "          'learning_rate': 0.1, 'max_depth': 5, 'alpha': 10}\n",
    "\n",
    "cv_results = xgb.cv(dtrain=data_dmatrix, params=params, nfold=3,\n",
    "                    num_boost_round=50, early_stopping_rounds=10,\n",
    "                    metrics=\"rmse\", as_pandas=True, seed=123)"
   ]
  },
  {
   "cell_type": "code",
   "execution_count": 83,
   "metadata": {},
   "outputs": [
    {
     "data": {
      "text/html": [
       "<div>\n",
       "<style scoped>\n",
       "    .dataframe tbody tr th:only-of-type {\n",
       "        vertical-align: middle;\n",
       "    }\n",
       "\n",
       "    .dataframe tbody tr th {\n",
       "        vertical-align: top;\n",
       "    }\n",
       "\n",
       "    .dataframe thead th {\n",
       "        text-align: right;\n",
       "    }\n",
       "</style>\n",
       "<table border=\"1\" class=\"dataframe\">\n",
       "  <thead>\n",
       "    <tr style=\"text-align: right;\">\n",
       "      <th></th>\n",
       "      <th>test-rmse-mean</th>\n",
       "      <th>test-rmse-std</th>\n",
       "      <th>train-rmse-mean</th>\n",
       "      <th>train-rmse-std</th>\n",
       "    </tr>\n",
       "  </thead>\n",
       "  <tbody>\n",
       "    <tr>\n",
       "      <th>0</th>\n",
       "      <td>230783.828125</td>\n",
       "      <td>31.646742</td>\n",
       "      <td>230746.484375</td>\n",
       "      <td>16.341903</td>\n",
       "    </tr>\n",
       "    <tr>\n",
       "      <th>1</th>\n",
       "      <td>207941.760417</td>\n",
       "      <td>159.380333</td>\n",
       "      <td>207935.291667</td>\n",
       "      <td>160.948524</td>\n",
       "    </tr>\n",
       "    <tr>\n",
       "      <th>2</th>\n",
       "      <td>187375.572917</td>\n",
       "      <td>88.439841</td>\n",
       "      <td>187440.369792</td>\n",
       "      <td>65.174052</td>\n",
       "    </tr>\n",
       "    <tr>\n",
       "      <th>3</th>\n",
       "      <td>168978.958333</td>\n",
       "      <td>95.380471</td>\n",
       "      <td>168999.760417</td>\n",
       "      <td>87.610804</td>\n",
       "    </tr>\n",
       "    <tr>\n",
       "      <th>4</th>\n",
       "      <td>152367.692708</td>\n",
       "      <td>20.185381</td>\n",
       "      <td>152368.385417</td>\n",
       "      <td>9.316365</td>\n",
       "    </tr>\n",
       "  </tbody>\n",
       "</table>\n",
       "</div>"
      ],
      "text/plain": [
       "   test-rmse-mean  test-rmse-std  train-rmse-mean  train-rmse-std\n",
       "0   230783.828125      31.646742    230746.484375       16.341903\n",
       "1   207941.760417     159.380333    207935.291667      160.948524\n",
       "2   187375.572917      88.439841    187440.369792       65.174052\n",
       "3   168978.958333      95.380471    168999.760417       87.610804\n",
       "4   152367.692708      20.185381    152368.385417        9.316365"
      ]
     },
     "execution_count": 83,
     "metadata": {},
     "output_type": "execute_result"
    }
   ],
   "source": [
    "cv_results.head()\n"
   ]
  },
  {
   "cell_type": "code",
   "execution_count": 84,
   "metadata": {},
   "outputs": [
    {
     "name": "stdout",
     "output_type": "stream",
     "text": [
      "49    13515.974284\n",
      "Name: test-rmse-mean, dtype: float64\n"
     ]
    }
   ],
   "source": [
    "print((cv_results[\"test-rmse-mean\"]).tail(1))\n"
   ]
  },
  {
   "cell_type": "code",
   "execution_count": 85,
   "metadata": {},
   "outputs": [
    {
     "name": "stdout",
     "output_type": "stream",
     "text": [
      "[15:23:00] WARNING: /workspace/src/objective/regression_obj.cu:152: reg:linear is now deprecated in favor of reg:squarederror.\n"
     ]
    }
   ],
   "source": [
    "xg_reg_ = xgb.train(params=params, dtrain=data_dmatrix, num_boost_round=10)\n"
   ]
  },
  {
   "cell_type": "code",
   "execution_count": 86,
   "metadata": {},
   "outputs": [
    {
     "data": {
      "image/png": "[encoded data removed]",
      "text/plain": [
       "<matplotlib.figure.Figure at 0x7f3a1ea3aa20>"
      ]
     },
     "metadata": {},
     "output_type": "display_data"
    }
   ],
   "source": [
    "import matplotlib.pyplot as plt\n",
    "\n",
    "xgb.plot_tree(xg_reg,num_trees=0)\n",
    "plt.rcParams['figure.figsize'] = [10000, 10000]\n",
    "plt.show()"
   ]
  },
  {
   "cell_type": "markdown",
   "metadata": {},
   "source": [
    "#### Ahora con el modelo que entrenamos vamos a entrenar las ultima ventana. Y los datos que nos faltan los sacamos de la anteultima ventana."
   ]
  },
  {
   "cell_type": "code",
   "execution_count": 87,
   "metadata": {},
   "outputs": [
    {
     "data": {
      "text/html": [
       "<div>\n",
       "<style scoped>\n",
       "    .dataframe tbody tr th:only-of-type {\n",
       "        vertical-align: middle;\n",
       "    }\n",
       "\n",
       "    .dataframe tbody tr th {\n",
       "        vertical-align: top;\n",
       "    }\n",
       "\n",
       "    .dataframe thead th {\n",
       "        text-align: right;\n",
       "    }\n",
       "</style>\n",
       "<table border=\"1\" class=\"dataframe\">\n",
       "  <thead>\n",
       "    <tr style=\"text-align: right;\">\n",
       "      <th></th>\n",
       "      <th>application_id</th>\n",
       "      <th>ref_type</th>\n",
       "      <th>ref_hash</th>\n",
       "      <th>attributed</th>\n",
       "      <th>implicit</th>\n",
       "      <th>device_countrycode</th>\n",
       "      <th>device_brand</th>\n",
       "      <th>device_model</th>\n",
       "      <th>session_user_agent</th>\n",
       "      <th>user_agent</th>\n",
       "      <th>...</th>\n",
       "      <th>top10marcas</th>\n",
       "      <th>top10marcasSinNan</th>\n",
       "      <th>agentes</th>\n",
       "      <th>top50agentes</th>\n",
       "      <th>top10agentes</th>\n",
       "      <th>kindReducido</th>\n",
       "      <th>top10tipo</th>\n",
       "      <th>top10leng</th>\n",
       "      <th>tiempoDesdeComienzoDeVentana</th>\n",
       "      <th>accionesDesdeQueComenzoLaVentana</th>\n",
       "    </tr>\n",
       "  </thead>\n",
       "  <tbody>\n",
       "    <tr>\n",
       "      <th>0</th>\n",
       "      <td>21</td>\n",
       "      <td>1</td>\n",
       "      <td>2105892908739159676</td>\n",
       "      <td>False</td>\n",
       "      <td>False</td>\n",
       "      <td>6287817205707153877</td>\n",
       "      <td>0</td>\n",
       "      <td>74</td>\n",
       "      <td>0</td>\n",
       "      <td>0</td>\n",
       "      <td>...</td>\n",
       "      <td>0</td>\n",
       "      <td>0</td>\n",
       "      <td>0</td>\n",
       "      <td>0</td>\n",
       "      <td>0</td>\n",
       "      <td>1</td>\n",
       "      <td>1</td>\n",
       "      <td>0</td>\n",
       "      <td>-518398.440</td>\n",
       "      <td>0</td>\n",
       "    </tr>\n",
       "    <tr>\n",
       "      <th>1</th>\n",
       "      <td>226</td>\n",
       "      <td>1</td>\n",
       "      <td>208059911196607757</td>\n",
       "      <td>False</td>\n",
       "      <td>True</td>\n",
       "      <td>6287817205707153877</td>\n",
       "      <td>6</td>\n",
       "      <td>163</td>\n",
       "      <td>2</td>\n",
       "      <td>737</td>\n",
       "      <td>...</td>\n",
       "      <td>6</td>\n",
       "      <td>6</td>\n",
       "      <td>2</td>\n",
       "      <td>2</td>\n",
       "      <td>1</td>\n",
       "      <td>84</td>\n",
       "      <td>10</td>\n",
       "      <td>8</td>\n",
       "      <td>-518398.149</td>\n",
       "      <td>1</td>\n",
       "    </tr>\n",
       "    <tr>\n",
       "      <th>2</th>\n",
       "      <td>70</td>\n",
       "      <td>1</td>\n",
       "      <td>9071467689792743380</td>\n",
       "      <td>False</td>\n",
       "      <td>False</td>\n",
       "      <td>6287817205707153877</td>\n",
       "      <td>0</td>\n",
       "      <td>208</td>\n",
       "      <td>1095</td>\n",
       "      <td>0</td>\n",
       "      <td>...</td>\n",
       "      <td>0</td>\n",
       "      <td>0</td>\n",
       "      <td>0</td>\n",
       "      <td>0</td>\n",
       "      <td>0</td>\n",
       "      <td>1</td>\n",
       "      <td>1</td>\n",
       "      <td>9</td>\n",
       "      <td>-518394.848</td>\n",
       "      <td>2</td>\n",
       "    </tr>\n",
       "    <tr>\n",
       "      <th>3</th>\n",
       "      <td>70</td>\n",
       "      <td>1</td>\n",
       "      <td>9071467689792743380</td>\n",
       "      <td>False</td>\n",
       "      <td>True</td>\n",
       "      <td>6287817205707153877</td>\n",
       "      <td>0</td>\n",
       "      <td>208</td>\n",
       "      <td>1095</td>\n",
       "      <td>0</td>\n",
       "      <td>...</td>\n",
       "      <td>0</td>\n",
       "      <td>0</td>\n",
       "      <td>0</td>\n",
       "      <td>0</td>\n",
       "      <td>0</td>\n",
       "      <td>28</td>\n",
       "      <td>6</td>\n",
       "      <td>9</td>\n",
       "      <td>-518394.411</td>\n",
       "      <td>3</td>\n",
       "    </tr>\n",
       "    <tr>\n",
       "      <th>4</th>\n",
       "      <td>70</td>\n",
       "      <td>1</td>\n",
       "      <td>7588153492836870321</td>\n",
       "      <td>False</td>\n",
       "      <td>False</td>\n",
       "      <td>6287817205707153877</td>\n",
       "      <td>0</td>\n",
       "      <td>208</td>\n",
       "      <td>1095</td>\n",
       "      <td>0</td>\n",
       "      <td>...</td>\n",
       "      <td>0</td>\n",
       "      <td>0</td>\n",
       "      <td>0</td>\n",
       "      <td>0</td>\n",
       "      <td>0</td>\n",
       "      <td>1</td>\n",
       "      <td>1</td>\n",
       "      <td>9</td>\n",
       "      <td>-518393.205</td>\n",
       "      <td>4</td>\n",
       "    </tr>\n",
       "  </tbody>\n",
       "</table>\n",
       "<p>5 rows × 31 columns</p>\n",
       "</div>"
      ],
      "text/plain": [
       "   application_id  ref_type             ref_hash  attributed  implicit  \\\n",
       "0              21         1  2105892908739159676       False     False   \n",
       "1             226         1   208059911196607757       False      True   \n",
       "2              70         1  9071467689792743380       False     False   \n",
       "3              70         1  9071467689792743380       False      True   \n",
       "4              70         1  7588153492836870321       False     False   \n",
       "\n",
       "    device_countrycode  device_brand  device_model  session_user_agent  \\\n",
       "0  6287817205707153877             0            74                   0   \n",
       "1  6287817205707153877             6           163                   2   \n",
       "2  6287817205707153877             0           208                1095   \n",
       "3  6287817205707153877             0           208                1095   \n",
       "4  6287817205707153877             0           208                1095   \n",
       "\n",
       "   user_agent                ...                 top10marcas  \\\n",
       "0           0                ...                           0   \n",
       "1         737                ...                           6   \n",
       "2           0                ...                           0   \n",
       "3           0                ...                           0   \n",
       "4           0                ...                           0   \n",
       "\n",
       "   top10marcasSinNan  agentes  top50agentes  top10agentes  kindReducido  \\\n",
       "0                  0        0             0             0             1   \n",
       "1                  6        2             2             1            84   \n",
       "2                  0        0             0             0             1   \n",
       "3                  0        0             0             0            28   \n",
       "4                  0        0             0             0             1   \n",
       "\n",
       "   top10tipo  top10leng  tiempoDesdeComienzoDeVentana  \\\n",
       "0          1          0                   -518398.440   \n",
       "1         10          8                   -518398.149   \n",
       "2          1          9                   -518394.848   \n",
       "3          6          9                   -518394.411   \n",
       "4          1          9                   -518393.205   \n",
       "\n",
       "   accionesDesdeQueComenzoLaVentana  \n",
       "0                                 0  \n",
       "1                                 1  \n",
       "2                                 2  \n",
       "3                                 3  \n",
       "4                                 4  \n",
       "\n",
       "[5 rows x 31 columns]"
      ]
     },
     "execution_count": 87,
     "metadata": {},
     "output_type": "execute_result"
    }
   ],
   "source": [
    "ventana_ultima.head()"
   ]
  },
  {
   "cell_type": "code",
   "execution_count": 88,
   "metadata": {},
   "outputs": [
    {
     "data": {
      "text/plain": [
       "((128688, 31), (160033, 31))"
      ]
     },
     "execution_count": 88,
     "metadata": {},
     "output_type": "execute_result"
    }
   ],
   "source": [
    "X_train.shape,ventana_ultima.shape"
   ]
  },
  {
   "cell_type": "code",
   "execution_count": 93,
   "metadata": {},
   "outputs": [
    {
     "ename": "ValueError",
     "evalue": "feature_names mismatch: ['ref_hash', 'application_id', 'ref_type', 'attributed', 'implicit', 'device_countrycode', 'device_brand', 'device_model', 'session_user_agent', 'user_agent', 'kind', 'wifi', 'ip_address', 'device_language', 'TopApp/Otro', 'dia', 'hora', 'minuto', 'diaDeLaSemana', 'top10apps', 'top50marcas', 'top10marcas', 'top10marcasSinNan', 'agentes', 'top50agentes', 'top10agentes', 'kindReducido', 'top10tipo', 'top10leng', 'tiempoDesdeComienzoDeVentana', 'accionesDesdeQueComenzoLaVentana'] ['application_id', 'ref_type', 'ref_hash', 'attributed', 'implicit', 'device_countrycode', 'device_brand', 'device_model', 'session_user_agent', 'user_agent', 'kind', 'wifi', 'ip_address', 'device_language', 'TopApp/Otro', 'dia', 'hora', 'minuto', 'diaDeLaSemana', 'top10apps', 'top50marcas', 'top10marcas', 'top10marcasSinNan', 'agentes', 'top50agentes', 'top10agentes', 'kindReducido', 'top10tipo', 'top10leng', 'tiempoDesdeComienzoDeVentana', 'accionesDesdeQueComenzoLaVentana']",
     "output_type": "error",
     "traceback": [
      "\u001b[0;31m---------------------------------------------------------------------------\u001b[0m",
      "\u001b[0;31mValueError\u001b[0m                                Traceback (most recent call last)",
      "\u001b[0;32m<ipython-input-93-ed841309f295>\u001b[0m in \u001b[0;36m<module>\u001b[0;34m()\u001b[0m\n\u001b[0;32m----> 1\u001b[0;31m \u001b[0mpreds\u001b[0m \u001b[0;34m=\u001b[0m \u001b[0mxg_reg\u001b[0m\u001b[0;34m.\u001b[0m\u001b[0mpredict\u001b[0m\u001b[0;34m(\u001b[0m\u001b[0mventana_ultima\u001b[0m\u001b[0;34m)\u001b[0m\u001b[0;34m\u001b[0m\u001b[0;34m\u001b[0m\u001b[0m\n\u001b[0m",
      "\u001b[0;32m/home/barbara/.local/lib/python3.6/site-packages/xgboost/sklearn.py\u001b[0m in \u001b[0;36mpredict\u001b[0;34m(self, data, output_margin, ntree_limit, validate_features)\u001b[0m\n\u001b[1;32m    454\u001b[0m                                           \u001b[0moutput_margin\u001b[0m\u001b[0;34m=\u001b[0m\u001b[0moutput_margin\u001b[0m\u001b[0;34m,\u001b[0m\u001b[0;34m\u001b[0m\u001b[0;34m\u001b[0m\u001b[0m\n\u001b[1;32m    455\u001b[0m                                           \u001b[0mntree_limit\u001b[0m\u001b[0;34m=\u001b[0m\u001b[0mntree_limit\u001b[0m\u001b[0;34m,\u001b[0m\u001b[0;34m\u001b[0m\u001b[0;34m\u001b[0m\u001b[0m\n\u001b[0;32m--> 456\u001b[0;31m                                           validate_features=validate_features)\n\u001b[0m\u001b[1;32m    457\u001b[0m \u001b[0;34m\u001b[0m\u001b[0m\n\u001b[1;32m    458\u001b[0m     \u001b[0;32mdef\u001b[0m \u001b[0mapply\u001b[0m\u001b[0;34m(\u001b[0m\u001b[0mself\u001b[0m\u001b[0;34m,\u001b[0m \u001b[0mX\u001b[0m\u001b[0;34m,\u001b[0m \u001b[0mntree_limit\u001b[0m\u001b[0;34m=\u001b[0m\u001b[0;36m0\u001b[0m\u001b[0;34m)\u001b[0m\u001b[0;34m:\u001b[0m\u001b[0;34m\u001b[0m\u001b[0;34m\u001b[0m\u001b[0m\n",
      "\u001b[0;32m/home/barbara/.local/lib/python3.6/site-packages/xgboost/core.py\u001b[0m in \u001b[0;36mpredict\u001b[0;34m(self, data, output_margin, ntree_limit, pred_leaf, pred_contribs, approx_contribs, pred_interactions, validate_features)\u001b[0m\n\u001b[1;32m   1282\u001b[0m \u001b[0;34m\u001b[0m\u001b[0m\n\u001b[1;32m   1283\u001b[0m         \u001b[0;32mif\u001b[0m \u001b[0mvalidate_features\u001b[0m\u001b[0;34m:\u001b[0m\u001b[0;34m\u001b[0m\u001b[0;34m\u001b[0m\u001b[0m\n\u001b[0;32m-> 1284\u001b[0;31m             \u001b[0mself\u001b[0m\u001b[0;34m.\u001b[0m\u001b[0m_validate_features\u001b[0m\u001b[0;34m(\u001b[0m\u001b[0mdata\u001b[0m\u001b[0;34m)\u001b[0m\u001b[0;34m\u001b[0m\u001b[0;34m\u001b[0m\u001b[0m\n\u001b[0m\u001b[1;32m   1285\u001b[0m \u001b[0;34m\u001b[0m\u001b[0m\n\u001b[1;32m   1286\u001b[0m         \u001b[0mlength\u001b[0m \u001b[0;34m=\u001b[0m \u001b[0mc_bst_ulong\u001b[0m\u001b[0;34m(\u001b[0m\u001b[0;34m)\u001b[0m\u001b[0;34m\u001b[0m\u001b[0;34m\u001b[0m\u001b[0m\n",
      "\u001b[0;32m/home/barbara/.local/lib/python3.6/site-packages/xgboost/core.py\u001b[0m in \u001b[0;36m_validate_features\u001b[0;34m(self, data)\u001b[0m\n\u001b[1;32m   1688\u001b[0m \u001b[0;34m\u001b[0m\u001b[0m\n\u001b[1;32m   1689\u001b[0m                 raise ValueError(msg.format(self.feature_names,\n\u001b[0;32m-> 1690\u001b[0;31m                                             data.feature_names))\n\u001b[0m\u001b[1;32m   1691\u001b[0m \u001b[0;34m\u001b[0m\u001b[0m\n\u001b[1;32m   1692\u001b[0m     \u001b[0;32mdef\u001b[0m \u001b[0mget_split_value_histogram\u001b[0m\u001b[0;34m(\u001b[0m\u001b[0mself\u001b[0m\u001b[0;34m,\u001b[0m \u001b[0mfeature\u001b[0m\u001b[0;34m,\u001b[0m \u001b[0mfmap\u001b[0m\u001b[0;34m=\u001b[0m\u001b[0;34m''\u001b[0m\u001b[0;34m,\u001b[0m \u001b[0mbins\u001b[0m\u001b[0;34m=\u001b[0m\u001b[0;32mNone\u001b[0m\u001b[0;34m,\u001b[0m \u001b[0mas_pandas\u001b[0m\u001b[0;34m=\u001b[0m\u001b[0;32mTrue\u001b[0m\u001b[0;34m)\u001b[0m\u001b[0;34m:\u001b[0m\u001b[0;34m\u001b[0m\u001b[0;34m\u001b[0m\u001b[0m\n",
      "\u001b[0;31mValueError\u001b[0m: feature_names mismatch: ['ref_hash', 'application_id', 'ref_type', 'attributed', 'implicit', 'device_countrycode', 'device_brand', 'device_model', 'session_user_agent', 'user_agent', 'kind', 'wifi', 'ip_address', 'device_language', 'TopApp/Otro', 'dia', 'hora', 'minuto', 'diaDeLaSemana', 'top10apps', 'top50marcas', 'top10marcas', 'top10marcasSinNan', 'agentes', 'top50agentes', 'top10agentes', 'kindReducido', 'top10tipo', 'top10leng', 'tiempoDesdeComienzoDeVentana', 'accionesDesdeQueComenzoLaVentana'] ['application_id', 'ref_type', 'ref_hash', 'attributed', 'implicit', 'device_countrycode', 'device_brand', 'device_model', 'session_user_agent', 'user_agent', 'kind', 'wifi', 'ip_address', 'device_language', 'TopApp/Otro', 'dia', 'hora', 'minuto', 'diaDeLaSemana', 'top10apps', 'top50marcas', 'top10marcas', 'top10marcasSinNan', 'agentes', 'top50agentes', 'top10agentes', 'kindReducido', 'top10tipo', 'top10leng', 'tiempoDesdeComienzoDeVentana', 'accionesDesdeQueComenzoLaVentana']"
     ]
    }
   ],
   "source": [
    "preds = xg_reg.predict(ventana_ultima)\n"
   ]
  },
  {
   "cell_type": "code",
   "execution_count": null,
   "metadata": {},
   "outputs": [],
   "source": [
    "ventana_ultima['predicciones']=preds"
   ]
  },
  {
   "cell_type": "code",
   "execution_count": null,
   "metadata": {},
   "outputs": [],
   "source": [
    "preds = xg_reg.predict(train4)\n"
   ]
  },
  {
   "cell_type": "code",
   "execution_count": null,
   "metadata": {},
   "outputs": [],
   "source": [
    "train4['predicciones']=preds"
   ]
  },
  {
   "cell_type": "markdown",
   "metadata": {},
   "source": [
    "#### Ahora que tenemos las predicciones para la ventana 4. Lo que vamos hacer es fijarnos para cuantos refhash del targen coinciden... deberian ser aprox 1500"
   ]
  },
  {
   "cell_type": "code",
   "execution_count": null,
   "metadata": {},
   "outputs": [],
   "source": [
    "target = pd.read_csv('data/final.csv', low_memory=False, names=['ref_hash'])\n"
   ]
  },
  {
   "cell_type": "code",
   "execution_count": null,
   "metadata": {},
   "outputs": [],
   "source": [
    "target.head()"
   ]
  },
  {
   "cell_type": "code",
   "execution_count": null,
   "metadata": {},
   "outputs": [],
   "source": [
    "mergeados = ventana_ultima.merge(target, left_on = 'ref_hash',right_on='ref_hash', how='inner')"
   ]
  },
  {
   "cell_type": "code",
   "execution_count": null,
   "metadata": {},
   "outputs": [],
   "source": [
    "len(mergeados) #Es un buen numero."
   ]
  },
  {
   "cell_type": "code",
   "execution_count": null,
   "metadata": {},
   "outputs": [],
   "source": [
    "### Ahora vamos a quedarnos con todos los que estan en target. Ya que eso es lo que nos interesa\n",
    "mergeados = ventana_ultima.merge(target, left_on = 'ref_hash',right_on='ref_hash', how='right')"
   ]
  },
  {
   "cell_type": "code",
   "execution_count": null,
   "metadata": {},
   "outputs": [],
   "source": [
    "len(mergeados)"
   ]
  },
  {
   "cell_type": "code",
   "execution_count": null,
   "metadata": {},
   "outputs": [],
   "source": [
    "mergeados.head()"
   ]
  },
  {
   "cell_type": "code",
   "execution_count": null,
   "metadata": {},
   "outputs": [],
   "source": [
    "mergeados=mergeados.fillna(60*60*24*3)"
   ]
  },
  {
   "cell_type": "code",
   "execution_count": null,
   "metadata": {},
   "outputs": [],
   "source": [
    "mergeados=mergeados.groupby('ref_hash').agg({'predicciones':'mean'})"
   ]
  },
  {
   "cell_type": "code",
   "execution_count": null,
   "metadata": {},
   "outputs": [],
   "source": [
    "mergeados.reset_index().to_csv('data/preds_gxboost_installs_4ventana.csv')"
   ]
  },
  {
   "cell_type": "code",
   "execution_count": null,
   "metadata": {},
   "outputs": [],
   "source": [
    "### Ahora para la tercer ventana.\n",
    "mergeados2 = train4.merge(target, left_on = 'ref_hash',right_on='ref_hash', how='inner')"
   ]
  },
  {
   "cell_type": "code",
   "execution_count": null,
   "metadata": {},
   "outputs": [],
   "source": [
    "len(mergeados2)"
   ]
  },
  {
   "cell_type": "code",
   "execution_count": null,
   "metadata": {},
   "outputs": [],
   "source": [
    "mergeados2 = train4.merge(target, left_on = 'ref_hash',right_on='ref_hash', how='right')"
   ]
  },
  {
   "cell_type": "code",
   "execution_count": null,
   "metadata": {},
   "outputs": [],
   "source": [
    "mergeados2=mergeados2.fillna(60*60*24*3)"
   ]
  },
  {
   "cell_type": "code",
   "execution_count": null,
   "metadata": {},
   "outputs": [],
   "source": [
    "mergeados2=mergeados2.groupby('ref_hash').agg({'predicciones':'mean'})"
   ]
  },
  {
   "cell_type": "code",
   "execution_count": null,
   "metadata": {},
   "outputs": [],
   "source": [
    "mergeados2.reset_index().to_csv('data/preds_gxboost_installs_3ventana.csv')"
   ]
  }
 ],
 "metadata": {
  "kernelspec": {
   "display_name": "Python 3",
   "language": "python",
   "name": "python3"
  },
  "language_info": {
   "codemirror_mode": {
    "name": "ipython",
    "version": 3
   },
   "file_extension": ".py",
   "mimetype": "text/x-python",
   "name": "python",
   "nbconvert_exporter": "python",
   "pygments_lexer": "ipython3",
   "version": "3.6.7"
  }
 },
 "nbformat": 4,
 "nbformat_minor": 2
}
