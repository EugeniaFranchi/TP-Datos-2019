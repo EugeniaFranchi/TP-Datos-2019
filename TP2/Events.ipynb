{
 "cells": [
  {
   "cell_type": "markdown",
   "metadata": {},
   "source": [
    "# Análisis de events.csv"
   ]
  },
  {
   "cell_type": "code",
   "execution_count": 1,
   "metadata": {},
   "outputs": [],
   "source": [
    "import numpy as np \n",
    "import pandas as pd\n",
    "import matplotlib.pyplot as plt\n",
    "import seaborn as sns\n",
    "%matplotlib inline\n",
    "\n",
    "pd.set_option('max_columns', 8, 'max_rows', 21)"
   ]
  },
  {
   "cell_type": "markdown",
   "metadata": {},
   "source": [
    "## Limpieza del data frame"
   ]
  },
  {
   "cell_type": "code",
   "execution_count": 2,
   "metadata": {},
   "outputs": [],
   "source": [
    "# Columnas a eliminar:\n",
    "# 'index', 'ref_hash', 'device_countrycode', 'session_user_agent', 'trans_id', 'event_uuid'\n",
    "# Columnas a utilizar:\n",
    "cols = [ 'date', 'event_id', 'ref_type', 'application_id', 'attributed',\n",
    "            'device_countrycode', 'device_os_version', 'device_brand',\n",
    "            'device_model', 'device_city', 'user_agent', 'carrier', 'kind',\n",
    "            'device_os', 'wifi' ,'connection_type', 'ip_address', 'device_language' ]"
   ]
  },
  {
   "cell_type": "code",
   "execution_count": 3,
   "metadata": {},
   "outputs": [
    {
     "data": {
      "text/html": [
       "<div>\n",
       "<style scoped>\n",
       "    .dataframe tbody tr th:only-of-type {\n",
       "        vertical-align: middle;\n",
       "    }\n",
       "\n",
       "    .dataframe tbody tr th {\n",
       "        vertical-align: top;\n",
       "    }\n",
       "\n",
       "    .dataframe thead th {\n",
       "        text-align: right;\n",
       "    }\n",
       "</style>\n",
       "<table border=\"1\" class=\"dataframe\">\n",
       "  <thead>\n",
       "    <tr style=\"text-align: right;\">\n",
       "      <th></th>\n",
       "      <th>event_id</th>\n",
       "      <th>ref_type</th>\n",
       "      <th>application_id</th>\n",
       "      <th>attributed</th>\n",
       "      <th>...</th>\n",
       "      <th>wifi</th>\n",
       "      <th>connection_type</th>\n",
       "      <th>ip_address</th>\n",
       "      <th>device_language</th>\n",
       "    </tr>\n",
       "    <tr>\n",
       "      <th>date</th>\n",
       "      <th></th>\n",
       "      <th></th>\n",
       "      <th></th>\n",
       "      <th></th>\n",
       "      <th></th>\n",
       "      <th></th>\n",
       "      <th></th>\n",
       "      <th></th>\n",
       "      <th></th>\n",
       "    </tr>\n",
       "  </thead>\n",
       "  <tbody>\n",
       "    <tr>\n",
       "      <th>2019-04-20 01:42:49.120</th>\n",
       "      <td>0</td>\n",
       "      <td>1891515180541284343</td>\n",
       "      <td>210</td>\n",
       "      <td>False</td>\n",
       "      <td>...</td>\n",
       "      <td>False</td>\n",
       "      <td>NaN</td>\n",
       "      <td>7544543351571901618</td>\n",
       "      <td>3.301378e+18</td>\n",
       "    </tr>\n",
       "    <tr>\n",
       "      <th>2019-04-20 01:42:49.340</th>\n",
       "      <td>1</td>\n",
       "      <td>1891515180541284343</td>\n",
       "      <td>210</td>\n",
       "      <td>False</td>\n",
       "      <td>...</td>\n",
       "      <td>False</td>\n",
       "      <td>NaN</td>\n",
       "      <td>6949523255335024165</td>\n",
       "      <td>NaN</td>\n",
       "    </tr>\n",
       "    <tr>\n",
       "      <th>2019-04-20 01:42:49.365</th>\n",
       "      <td>1</td>\n",
       "      <td>1891515180541284343</td>\n",
       "      <td>210</td>\n",
       "      <td>False</td>\n",
       "      <td>...</td>\n",
       "      <td>False</td>\n",
       "      <td>NaN</td>\n",
       "      <td>6428537280982666957</td>\n",
       "      <td>NaN</td>\n",
       "    </tr>\n",
       "    <tr>\n",
       "      <th>2019-04-20 01:42:51.438</th>\n",
       "      <td>2</td>\n",
       "      <td>1891515180541284343</td>\n",
       "      <td>210</td>\n",
       "      <td>False</td>\n",
       "      <td>...</td>\n",
       "      <td>False</td>\n",
       "      <td>NaN</td>\n",
       "      <td>7607371352198017145</td>\n",
       "      <td>NaN</td>\n",
       "    </tr>\n",
       "    <tr>\n",
       "      <th>2019-04-20 01:42:51.838</th>\n",
       "      <td>1</td>\n",
       "      <td>1891515180541284343</td>\n",
       "      <td>210</td>\n",
       "      <td>False</td>\n",
       "      <td>...</td>\n",
       "      <td>False</td>\n",
       "      <td>NaN</td>\n",
       "      <td>2901772839007473756</td>\n",
       "      <td>NaN</td>\n",
       "    </tr>\n",
       "  </tbody>\n",
       "</table>\n",
       "<p>5 rows × 17 columns</p>\n",
       "</div>"
      ],
      "text/plain": [
       "                         event_id             ref_type  application_id  \\\n",
       "date                                                                     \n",
       "2019-04-20 01:42:49.120         0  1891515180541284343             210   \n",
       "2019-04-20 01:42:49.340         1  1891515180541284343             210   \n",
       "2019-04-20 01:42:49.365         1  1891515180541284343             210   \n",
       "2019-04-20 01:42:51.438         2  1891515180541284343             210   \n",
       "2019-04-20 01:42:51.838         1  1891515180541284343             210   \n",
       "\n",
       "                         attributed  ...   wifi  connection_type  \\\n",
       "date                                 ...                           \n",
       "2019-04-20 01:42:49.120       False  ...  False              NaN   \n",
       "2019-04-20 01:42:49.340       False  ...  False              NaN   \n",
       "2019-04-20 01:42:49.365       False  ...  False              NaN   \n",
       "2019-04-20 01:42:51.438       False  ...  False              NaN   \n",
       "2019-04-20 01:42:51.838       False  ...  False              NaN   \n",
       "\n",
       "                                  ip_address  device_language  \n",
       "date                                                           \n",
       "2019-04-20 01:42:49.120  7544543351571901618     3.301378e+18  \n",
       "2019-04-20 01:42:49.340  6949523255335024165              NaN  \n",
       "2019-04-20 01:42:49.365  6428537280982666957              NaN  \n",
       "2019-04-20 01:42:51.438  7607371352198017145              NaN  \n",
       "2019-04-20 01:42:51.838  2901772839007473756              NaN  \n",
       "\n",
       "[5 rows x 17 columns]"
      ]
     },
     "execution_count": 3,
     "metadata": {},
     "output_type": "execute_result"
    }
   ],
   "source": [
    "events = pd.read_csv('data/events.csv.gzip', compression='gzip', low_memory=False, parse_dates=['date'], index_col=['date'], usecols=cols)\n",
    "events.head()"
   ]
  },
  {
   "cell_type": "code",
   "execution_count": 4,
   "metadata": {},
   "outputs": [
    {
     "name": "stdout",
     "output_type": "stream",
     "text": [
      "<class 'pandas.core.frame.DataFrame'>\n",
      "DatetimeIndex: 7744581 entries, 2019-04-20 01:42:49.120000 to 2019-04-23 00:01:13.518000\n",
      "Data columns (total 17 columns):\n",
      "event_id              int64\n",
      "ref_type              int64\n",
      "application_id        int64\n",
      "attributed            bool\n",
      "device_countrycode    int64\n",
      "device_os_version     float64\n",
      "device_brand          float64\n",
      "device_model          float64\n",
      "device_city           float64\n",
      "user_agent            float64\n",
      "carrier               float64\n",
      "kind                  float64\n",
      "device_os             float64\n",
      "wifi                  bool\n",
      "connection_type       object\n",
      "ip_address            int64\n",
      "device_language       float64\n",
      "dtypes: bool(2), float64(9), int64(5), object(1)\n",
      "memory usage: 960.2+ MB\n"
     ]
    }
   ],
   "source": [
    "events.info()"
   ]
  },
  {
   "cell_type": "code",
   "execution_count": 5,
   "metadata": {},
   "outputs": [
    {
     "data": {
      "text/plain": [
       "False"
      ]
     },
     "execution_count": 5,
     "metadata": {},
     "output_type": "execute_result"
    }
   ],
   "source": [
    "events.isnull().all().any()"
   ]
  },
  {
   "cell_type": "code",
   "execution_count": 6,
   "metadata": {},
   "outputs": [
    {
     "data": {
      "text/plain": [
       "(516, 576, 0)"
      ]
     },
     "execution_count": 6,
     "metadata": {},
     "output_type": "execute_result"
    }
   ],
   "source": [
    "events['event_id'].nunique(), events['event_id'].max(), events['event_id'].min()"
   ]
  },
  {
   "cell_type": "code",
   "execution_count": 7,
   "metadata": {},
   "outputs": [],
   "source": [
    "events['event_id'] = events['event_id'].astype(np.uint16)"
   ]
  },
  {
   "cell_type": "code",
   "execution_count": 8,
   "metadata": {},
   "outputs": [
    {
     "data": {
      "text/plain": [
       "1891515180541284343    6421584\n",
       "1494519392962156891    1322997\n",
       "Name: ref_type, dtype: int64"
      ]
     },
     "execution_count": 8,
     "metadata": {},
     "output_type": "execute_result"
    }
   ],
   "source": [
    "events['ref_type'].value_counts()"
   ]
  },
  {
   "cell_type": "code",
   "execution_count": 9,
   "metadata": {},
   "outputs": [],
   "source": [
    "events['ref_type'], x = events['ref_type'].factorize()\n",
    "events['ref_type'] = events['ref_type'].astype(np.uint8)"
   ]
  },
  {
   "cell_type": "code",
   "execution_count": 10,
   "metadata": {},
   "outputs": [
    {
     "data": {
      "text/plain": [
       "(250, 370, 1)"
      ]
     },
     "execution_count": 10,
     "metadata": {},
     "output_type": "execute_result"
    }
   ],
   "source": [
    "events['application_id'].nunique(), events['application_id'].max(), events['application_id'].min()"
   ]
  },
  {
   "cell_type": "code",
   "execution_count": 11,
   "metadata": {},
   "outputs": [],
   "source": [
    "events['application_id'], x = events['application_id'].factorize()\n",
    "events['application_id'] = events['application_id'].astype(np.uint8)"
   ]
  },
  {
   "cell_type": "code",
   "execution_count": 12,
   "metadata": {},
   "outputs": [
    {
     "data": {
      "text/plain": [
       "(96, 9.135481865204238e+18, 1.0040843832529456e+16)"
      ]
     },
     "execution_count": 12,
     "metadata": {},
     "output_type": "execute_result"
    }
   ],
   "source": [
    "events['device_os_version'].nunique(), events['device_os_version'].max(), events['device_os_version'].min()"
   ]
  },
  {
   "cell_type": "code",
   "execution_count": 13,
   "metadata": {},
   "outputs": [],
   "source": [
    "events['device_os_version'], x = events['device_os_version'].factorize()\n",
    "events['device_os_version'] = events['device_os_version'].astype(np.uint8)"
   ]
  },
  {
   "cell_type": "code",
   "execution_count": 14,
   "metadata": {},
   "outputs": [
    {
     "data": {
      "text/plain": [
       "(506, 9.221510769222537e+18, 4359145860523661.0)"
      ]
     },
     "execution_count": 14,
     "metadata": {},
     "output_type": "execute_result"
    }
   ],
   "source": [
    "events['device_brand'].nunique(), events['device_brand'].max(), events['device_brand'].min()"
   ]
  },
  {
   "cell_type": "code",
   "execution_count": 15,
   "metadata": {},
   "outputs": [],
   "source": [
    "events['device_brand'], x = events['device_brand'].factorize()\n",
    "events['device_brand'] = events['device_brand'].astype(np.uint16)"
   ]
  },
  {
   "cell_type": "code",
   "execution_count": 16,
   "metadata": {},
   "outputs": [
    {
     "data": {
      "text/plain": [
       "(4720, 9.223357288405795e+18, 796734562250222.0)"
      ]
     },
     "execution_count": 16,
     "metadata": {},
     "output_type": "execute_result"
    }
   ],
   "source": [
    "events['device_model'].nunique(), events['device_model'].max(), events['device_model'].min()"
   ]
  },
  {
   "cell_type": "code",
   "execution_count": 17,
   "metadata": {},
   "outputs": [],
   "source": [
    "events['device_model'], x = events['device_model'].factorize()\n",
    "events['device_model'] = events['device_model'].astype(np.uint16)"
   ]
  },
  {
   "cell_type": "code",
   "execution_count": 18,
   "metadata": {},
   "outputs": [
    {
     "data": {
      "text/plain": [
       "(753, 9.221371124193763e+18, 6480067067412837.0)"
      ]
     },
     "execution_count": 18,
     "metadata": {},
     "output_type": "execute_result"
    }
   ],
   "source": [
    "events['device_city'].nunique(), events['device_city'].max(), events['device_city'].min()"
   ]
  },
  {
   "cell_type": "code",
   "execution_count": 19,
   "metadata": {},
   "outputs": [],
   "source": [
    "events['device_city'], x = events['device_city'].factorize()\n",
    "events['device_city'] = events['device_city'].astype(np.uint16)"
   ]
  },
  {
   "cell_type": "code",
   "execution_count": 20,
   "metadata": {},
   "outputs": [
    {
     "data": {
      "text/plain": [
       "NaN             4403098\n",
       "7.683619e+18      91393\n",
       "9.329817e+17      80125\n",
       "9.172915e+18      74717\n",
       "2.146196e+18      70985\n",
       "1.883833e+17      56682\n",
       "8.402407e+18      52560\n",
       "8.986422e+18      42673\n",
       "4.477329e+18      40154\n",
       "3.143542e+18      39673\n",
       "                 ...   \n",
       "1.341526e+17          1\n",
       "4.504366e+18          1\n",
       "3.555248e+18          1\n",
       "5.692165e+18          1\n",
       "2.942781e+17          1\n",
       "5.175955e+18          1\n",
       "4.570518e+17          1\n",
       "7.746894e+18          1\n",
       "2.314199e+18          1\n",
       "1.897129e+18          1\n",
       "Name: user_agent, Length: 14646, dtype: int64"
      ]
     },
     "execution_count": 20,
     "metadata": {},
     "output_type": "execute_result"
    }
   ],
   "source": [
    "events['user_agent'].value_counts(dropna=False)"
   ]
  },
  {
   "cell_type": "code",
   "execution_count": 21,
   "metadata": {},
   "outputs": [
    {
     "data": {
      "text/plain": [
       "(14645, 9.222756238767758e+18, 504638159916931.0)"
      ]
     },
     "execution_count": 21,
     "metadata": {},
     "output_type": "execute_result"
    }
   ],
   "source": [
    "events['user_agent'].nunique(), events['user_agent'].max(), events['user_agent'].min()"
   ]
  },
  {
   "cell_type": "code",
   "execution_count": 22,
   "metadata": {},
   "outputs": [],
   "source": [
    "events['user_agent'], x = events['user_agent'].factorize()\n",
    "events['user_agent'] = events['user_agent'].astype(np.uint16)"
   ]
  },
  {
   "cell_type": "code",
   "execution_count": 23,
   "metadata": {},
   "outputs": [
    {
     "data": {
      "text/plain": [
       "(259, 9.220464057766128e+18, 2.359612869853312e+16)"
      ]
     },
     "execution_count": 23,
     "metadata": {},
     "output_type": "execute_result"
    }
   ],
   "source": [
    "events['carrier'].nunique(), events['carrier'].max(), events['carrier'].min()"
   ]
  },
  {
   "cell_type": "code",
   "execution_count": 24,
   "metadata": {},
   "outputs": [],
   "source": [
    "events['carrier'], x = events['carrier'].factorize()\n",
    "events['carrier'] = events['carrier'].astype(np.uint16)"
   ]
  },
  {
   "cell_type": "code",
   "execution_count": 25,
   "metadata": {},
   "outputs": [
    {
     "data": {
      "text/plain": [
       "(513, 9.2200236982374e+18, 1.6215264622799048e+16)"
      ]
     },
     "execution_count": 25,
     "metadata": {},
     "output_type": "execute_result"
    }
   ],
   "source": [
    "events['kind'].nunique(), events['kind'].max(), events['kind'].min()"
   ]
  },
  {
   "cell_type": "code",
   "execution_count": 26,
   "metadata": {},
   "outputs": [],
   "source": [
    "events['kind'], x = events['kind'].factorize()\n",
    "events['kind'] = events['kind'].astype(np.uint16)"
   ]
  },
  {
   "cell_type": "code",
   "execution_count": 27,
   "metadata": {},
   "outputs": [
    {
     "data": {
      "text/plain": [
       "(754, 65535, 0)"
      ]
     },
     "execution_count": 27,
     "metadata": {},
     "output_type": "execute_result"
    }
   ],
   "source": [
    "events['device_city'].nunique(), events['device_city'].max(), events['device_city'].min()"
   ]
  },
  {
   "cell_type": "code",
   "execution_count": 28,
   "metadata": {},
   "outputs": [],
   "source": [
    "events['device_os'], x = events['device_os'].factorize()\n",
    "events['device_os'] = events['device_os'].astype(np.uint8)"
   ]
  },
  {
   "cell_type": "code",
   "execution_count": 29,
   "metadata": {},
   "outputs": [
    {
     "data": {
      "text/plain": [
       "NaN          5935285\n",
       "Cable/DSL    1291512\n",
       "Cellular      517204\n",
       "Corporate        527\n",
       "Dialup            53\n",
       "Name: connection_type, dtype: int64"
      ]
     },
     "execution_count": 29,
     "metadata": {},
     "output_type": "execute_result"
    }
   ],
   "source": [
    "events['connection_type'].value_counts(dropna=False)"
   ]
  },
  {
   "cell_type": "code",
   "execution_count": 30,
   "metadata": {},
   "outputs": [],
   "source": [
    "events['connection_type'] = events['connection_type'].astype('category')"
   ]
  },
  {
   "cell_type": "code",
   "execution_count": 31,
   "metadata": {},
   "outputs": [
    {
     "data": {
      "text/plain": [
       "381784"
      ]
     },
     "execution_count": 31,
     "metadata": {},
     "output_type": "execute_result"
    }
   ],
   "source": [
    "events['ip_address'].nunique()"
   ]
  },
  {
   "cell_type": "code",
   "execution_count": 32,
   "metadata": {},
   "outputs": [],
   "source": [
    "events['ip_address'], x = events['ip_address'].factorize()\n",
    "events['ip_address'] = events['ip_address'].astype(np.uint16)"
   ]
  },
  {
   "cell_type": "code",
   "execution_count": 33,
   "metadata": {},
   "outputs": [
    {
     "data": {
      "text/plain": [
       "(209, 65535, 0)"
      ]
     },
     "execution_count": 33,
     "metadata": {},
     "output_type": "execute_result"
    }
   ],
   "source": [
    "events['device_language'].nunique(), events['carrier'].max(), events['carrier'].min()"
   ]
  },
  {
   "cell_type": "code",
   "execution_count": 34,
   "metadata": {},
   "outputs": [],
   "source": [
    "events['device_language'], x = events['device_language'].factorize()\n",
    "events['device_language'] = events['device_language'].astype(np.uint16)"
   ]
  },
  {
   "cell_type": "code",
   "execution_count": 35,
   "metadata": {},
   "outputs": [
    {
     "name": "stdout",
     "output_type": "stream",
     "text": [
      "<class 'pandas.core.frame.DataFrame'>\n",
      "DatetimeIndex: 7744581 entries, 2019-04-20 01:42:49.120000 to 2019-04-23 00:01:13.518000\n",
      "Data columns (total 17 columns):\n",
      "event_id              uint16\n",
      "ref_type              uint8\n",
      "application_id        uint8\n",
      "attributed            bool\n",
      "device_countrycode    int64\n",
      "device_os_version     uint8\n",
      "device_brand          uint16\n",
      "device_model          uint16\n",
      "device_city           uint16\n",
      "user_agent            uint16\n",
      "carrier               uint16\n",
      "kind                  uint16\n",
      "device_os             uint8\n",
      "wifi                  bool\n",
      "connection_type       category\n",
      "ip_address            uint16\n",
      "device_language       uint16\n",
      "dtypes: bool(2), category(1), int64(1), uint16(9), uint8(4)\n",
      "memory usage: 302.8 MB\n"
     ]
    }
   ],
   "source": [
    "events.info()"
   ]
  }
 ],
 "metadata": {
  "kernelspec": {
   "display_name": "Python 3",
   "language": "python",
   "name": "python3"
  },
  "language_info": {
   "codemirror_mode": {
    "name": "ipython",
    "version": 3
   },
   "file_extension": ".py",
   "mimetype": "text/x-python",
   "name": "python",
   "nbconvert_exporter": "python",
   "pygments_lexer": "ipython3",
   "version": "3.5.3"
  }
 },
 "nbformat": 4,
 "nbformat_minor": 2
}
