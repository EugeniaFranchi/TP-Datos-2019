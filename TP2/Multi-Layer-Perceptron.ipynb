{
 "cells": [
  {
   "cell_type": "code",
   "execution_count": 1,
   "metadata": {},
   "outputs": [],
   "source": [
    "import pandas as pd\n",
    "import numpy as np\n",
    "from sklearn.neural_network import MLPRegressor\n",
    "from sklearn.metrics import mean_squared_error\n",
    "from sklearn.preprocessing import StandardScaler"
   ]
  },
  {
   "cell_type": "markdown",
   "metadata": {},
   "source": [
    "**Definicion de variables**"
   ]
  },
  {
   "cell_type": "code",
   "execution_count": 2,
   "metadata": {},
   "outputs": [],
   "source": [
    "cant_particiones = 5\n",
    "ventana = \"auctions_2019-04-18-2019-04-20\"\n",
    "ventana2 = \"auctions_2019-04-21-2019-04-23\"\n",
    "carpeta_data = \"data/\"\n",
    "ruta = carpeta_data + ventana\n",
    "ruta2 = carpeta_data + ventana2\n",
    "extension = \".csv\"\n",
    "dia_inicio = 18\n",
    "dia_inicio_v2 = 21\n",
    "tiempo_max = 60*60*24*3"
   ]
  },
  {
   "cell_type": "code",
   "execution_count": 3,
   "metadata": {},
   "outputs": [],
   "source": [
    "reg = MLPRegressor()\n",
    "ult_por_user = pd.DataFrame(columns=[\"date\", \"device_id\", \"ref_type_id\", \"source_id\"])\n",
    "test_y = pd.read_csv(\"data/test_t.csv\")"
   ]
  },
  {
   "cell_type": "markdown",
   "metadata": {},
   "source": [
    "**Se crea el Dataframe de test**"
   ]
  },
  {
   "cell_type": "code",
   "execution_count": 4,
   "metadata": {},
   "outputs": [
    {
     "data": {
      "text/plain": [
       "'for i in range(cant_particiones):\\n    test_y_temp = pd.read_csv(f\"{ruta2}-users{i}{extension}\", low_memory=False, parse_dates = [\\'date\\'], index_col=[\\'date\\'])\\n    test_y_temp = test_y_temp.reset_index()\\n    test_y_temp[\\'date\\'] = test_y_temp[\\'date\\'] - pd.Timestamp(f\\'2019-04-{dia_inicio_v2} 00:00:00\\')\\n    test_y_temp[\\'date\\'] = test_y_temp[\\'date\\'].transform(lambda x: x.total_seconds())\\n    test_y_temp = test_y_temp.groupby(\\'device_id\\').agg({\\'date\\' : \\'min\\'}).reset_index()\\n    test_y_temp = test_y_temp[[\"device_id\", \"date\"]]\\n    test_y = pd.concat([test_y, test_y_temp])\\n'"
      ]
     },
     "execution_count": 4,
     "metadata": {},
     "output_type": "execute_result"
    }
   ],
   "source": [
    "\"\"\"for i in range(cant_particiones):\n",
    "    test_y_temp = pd.read_csv(f\"{ruta2}-users{i}{extension}\", low_memory=False, parse_dates = ['date'], index_col=['date'])\n",
    "    test_y_temp = test_y_temp.reset_index()\n",
    "    test_y_temp['date'] = test_y_temp['date'] - pd.Timestamp(f'2019-04-{dia_inicio_v2} 00:00:00')\n",
    "    test_y_temp['date'] = test_y_temp['date'].transform(lambda x: x.total_seconds())\n",
    "    test_y_temp = test_y_temp.groupby('device_id').agg({'date' : 'min'}).reset_index()\n",
    "    test_y_temp = test_y_temp[[\"device_id\", \"date\"]]\n",
    "    test_y = pd.concat([test_y, test_y_temp])\n",
    "\"\"\""
   ]
  },
  {
   "cell_type": "code",
   "execution_count": 5,
   "metadata": {},
   "outputs": [],
   "source": [
    "# test_y.to_csv(\"test_t.csv\", index=False)"
   ]
  },
  {
   "cell_type": "markdown",
   "metadata": {},
   "source": [
    "**Se entrena el algoritmo incrementalmente con cada uno de los 5 archivos**"
   ]
  },
  {
   "cell_type": "code",
   "execution_count": 6,
   "metadata": {},
   "outputs": [
    {
     "name": "stderr",
     "output_type": "stream",
     "text": [
      "/home/julian/.local/lib/python3.7/site-packages/sklearn/preprocessing/data.py:645: DataConversionWarning: Data with input dtype int64, float64 were all converted to float64 by StandardScaler.\n",
      "  return self.partial_fit(X, y)\n",
      "/home/julian/.local/lib/python3.7/site-packages/sklearn/base.py:464: DataConversionWarning: Data with input dtype int64, float64 were all converted to float64 by StandardScaler.\n",
      "  return self.fit(X, **fit_params).transform(X)\n",
      "/home/julian/.local/lib/python3.7/site-packages/sklearn/preprocessing/data.py:645: DataConversionWarning: Data with input dtype int64, float64 were all converted to float64 by StandardScaler.\n",
      "  return self.partial_fit(X, y)\n",
      "/home/julian/.local/lib/python3.7/site-packages/sklearn/base.py:464: DataConversionWarning: Data with input dtype int64, float64 were all converted to float64 by StandardScaler.\n",
      "  return self.fit(X, **fit_params).transform(X)\n",
      "/home/julian/.local/lib/python3.7/site-packages/sklearn/preprocessing/data.py:645: DataConversionWarning: Data with input dtype int64, float64 were all converted to float64 by StandardScaler.\n",
      "  return self.partial_fit(X, y)\n",
      "/home/julian/.local/lib/python3.7/site-packages/sklearn/base.py:464: DataConversionWarning: Data with input dtype int64, float64 were all converted to float64 by StandardScaler.\n",
      "  return self.fit(X, **fit_params).transform(X)\n",
      "/home/julian/.local/lib/python3.7/site-packages/sklearn/preprocessing/data.py:645: DataConversionWarning: Data with input dtype int64, float64 were all converted to float64 by StandardScaler.\n",
      "  return self.partial_fit(X, y)\n",
      "/home/julian/.local/lib/python3.7/site-packages/sklearn/base.py:464: DataConversionWarning: Data with input dtype int64, float64 were all converted to float64 by StandardScaler.\n",
      "  return self.fit(X, **fit_params).transform(X)\n",
      "/home/julian/.local/lib/python3.7/site-packages/sklearn/preprocessing/data.py:645: DataConversionWarning: Data with input dtype int64, float64 were all converted to float64 by StandardScaler.\n",
      "  return self.partial_fit(X, y)\n",
      "/home/julian/.local/lib/python3.7/site-packages/sklearn/base.py:464: DataConversionWarning: Data with input dtype int64, float64 were all converted to float64 by StandardScaler.\n",
      "  return self.fit(X, **fit_params).transform(X)\n"
     ]
    }
   ],
   "source": [
    "for i in range(cant_particiones):\n",
    "    train_x = pd.read_csv(f\"{ruta}-users{i}{extension}\", low_memory=False, parse_dates = ['date'], index_col=['date'])\n",
    "    train_x = train_x.sort_index().reset_index()\n",
    "    train_x['date'] = train_x['date'] - pd.Timestamp(f'2019-04-{dia_inicio} 00:00:00')\n",
    "    train_x['date'] = train_x['date'].transform(lambda x: x.total_seconds())\n",
    "    train_x = train_x.fillna(train_x.mode().iloc[0])\n",
    "    train_x = train_x.sort_values([\"device_id\", \"date\"]).reset_index(drop=True)\n",
    "    train_x[\"prox_ap\"] = train_x.groupby(\"device_id\")[\"date\"].shift(-1)\n",
    "    train_x[\"prox_ap\"] = train_x[\"prox_ap\"].fillna(tiempo_max)\n",
    "    train_x[\"censored\"] = (train_x[\"prox_ap\"] == tiempo_max).transform(int)\n",
    "    \n",
    "    train_y = pd.Series(name=\"prox_ap\")\n",
    "    train_y = train_x[\"prox_ap\"]\n",
    "    train_x.drop([\"prox_ap\"], axis=1, inplace=True)\n",
    "\n",
    "    ultimos = train_x.groupby(\"device_id\").last().reset_index()\n",
    "    ultimos = ultimos.merge(test_y[\"device_id\"],how=\"inner\")\n",
    "    ult_por_user = pd.concat([ult_por_user, ultimos], ignore_index=True, sort=False)\n",
    "    \n",
    "    train_x_scaled = StandardScaler().fit_transform(train_x)\n",
    "    reg.partial_fit(train_x_scaled, train_y)"
   ]
  },
  {
   "cell_type": "code",
   "execution_count": 7,
   "metadata": {},
   "outputs": [],
   "source": [
    "ult_por_user = ult_por_user[[\"date\", \"device_id\", \"ref_type_id\", \"source_id\", \"censored\"]]"
   ]
  },
  {
   "cell_type": "code",
   "execution_count": 8,
   "metadata": {},
   "outputs": [],
   "source": [
    "ult_por_user = ult_por_user.merge(test_y[\"device_id\"], how=\"left\")"
   ]
  },
  {
   "cell_type": "code",
   "execution_count": 9,
   "metadata": {},
   "outputs": [],
   "source": [
    "ult_por_user = ult_por_user.sort_values(\"device_id\").reset_index(drop=True)"
   ]
  },
  {
   "cell_type": "code",
   "execution_count": 10,
   "metadata": {},
   "outputs": [],
   "source": [
    "test_y = test_y.merge(ult_por_user[\"device_id\"], how=\"inner\")"
   ]
  },
  {
   "cell_type": "code",
   "execution_count": 11,
   "metadata": {},
   "outputs": [],
   "source": [
    "test_y = test_y.sort_values(\"device_id\").reset_index(drop=True)[\"date\"]"
   ]
  },
  {
   "cell_type": "code",
   "execution_count": 12,
   "metadata": {},
   "outputs": [
    {
     "name": "stderr",
     "output_type": "stream",
     "text": [
      "/home/julian/.local/lib/python3.7/site-packages/sklearn/preprocessing/data.py:645: DataConversionWarning: Data with input dtype float64, object were all converted to float64 by StandardScaler.\n",
      "  return self.partial_fit(X, y)\n",
      "/home/julian/.local/lib/python3.7/site-packages/sklearn/base.py:464: DataConversionWarning: Data with input dtype float64, object were all converted to float64 by StandardScaler.\n",
      "  return self.fit(X, **fit_params).transform(X)\n"
     ]
    }
   ],
   "source": [
    "ult_scaled = StandardScaler().fit_transform(ult_por_user)"
   ]
  },
  {
   "cell_type": "code",
   "execution_count": 13,
   "metadata": {},
   "outputs": [],
   "source": [
    "preds = reg.predict(ult_scaled)"
   ]
  },
  {
   "cell_type": "code",
   "execution_count": 14,
   "metadata": {},
   "outputs": [
    {
     "data": {
      "text/plain": [
       "123774.18906907873"
      ]
     },
     "execution_count": 14,
     "metadata": {},
     "output_type": "execute_result"
    }
   ],
   "source": [
    "mean_squared_error(test_y, preds)**0.5"
   ]
  },
  {
   "cell_type": "code",
   "execution_count": 16,
   "metadata": {},
   "outputs": [],
   "source": [
    "def cap(x):\n",
    "    if x < 0:\n",
    "        return 0\n",
    "    elif x > 259200:\n",
    "        return 259200\n",
    "    else:\n",
    "        return x"
   ]
  },
  {
   "cell_type": "code",
   "execution_count": 17,
   "metadata": {},
   "outputs": [],
   "source": [
    "preds_c = list(map(cap, preds))"
   ]
  },
  {
   "cell_type": "code",
   "execution_count": 18,
   "metadata": {},
   "outputs": [
    {
     "data": {
      "text/plain": [
       "123774.18906907873"
      ]
     },
     "execution_count": 18,
     "metadata": {},
     "output_type": "execute_result"
    }
   ],
   "source": [
    "mean_squared_error(test_y, preds_c)**0.5"
   ]
  },
  {
   "cell_type": "code",
   "execution_count": 19,
   "metadata": {},
   "outputs": [],
   "source": [
    "ult_comienzo = ult_por_user.copy()"
   ]
  },
  {
   "cell_type": "code",
   "execution_count": 20,
   "metadata": {},
   "outputs": [],
   "source": [
    "ult_comienzo[\"date\"] = 60*60*24*3"
   ]
  },
  {
   "cell_type": "code",
   "execution_count": 21,
   "metadata": {},
   "outputs": [
    {
     "name": "stderr",
     "output_type": "stream",
     "text": [
      "/home/julian/.local/lib/python3.7/site-packages/sklearn/preprocessing/data.py:645: DataConversionWarning: Data with input dtype int64, float64, object were all converted to float64 by StandardScaler.\n",
      "  return self.partial_fit(X, y)\n",
      "/home/julian/.local/lib/python3.7/site-packages/sklearn/base.py:464: DataConversionWarning: Data with input dtype int64, float64, object were all converted to float64 by StandardScaler.\n",
      "  return self.fit(X, **fit_params).transform(X)\n"
     ]
    }
   ],
   "source": [
    "com_scaled = StandardScaler().fit_transform(ult_comienzo)"
   ]
  },
  {
   "cell_type": "code",
   "execution_count": 22,
   "metadata": {},
   "outputs": [],
   "source": [
    "mi_pred = reg.predict(com_scaled)"
   ]
  },
  {
   "cell_type": "code",
   "execution_count": 23,
   "metadata": {},
   "outputs": [
    {
     "data": {
      "text/plain": [
       "87677.03091746492"
      ]
     },
     "execution_count": 23,
     "metadata": {},
     "output_type": "execute_result"
    }
   ],
   "source": [
    "mean_squared_error(test_y, mi_pred)**0.5"
   ]
  },
  {
   "cell_type": "markdown",
   "metadata": {},
   "source": [
    "**El error es para 230000 usuarios**"
   ]
  },
  {
   "cell_type": "markdown",
   "metadata": {},
   "source": [
    "**Hay que probar variar los parametros del regressor y ver que onda**"
   ]
  }
 ],
 "metadata": {
  "kernelspec": {
   "display_name": "Python 3",
   "language": "python",
   "name": "python3"
  },
  "language_info": {
   "codemirror_mode": {
    "name": "ipython",
    "version": 3
   },
   "file_extension": ".py",
   "mimetype": "text/x-python",
   "name": "python",
   "nbconvert_exporter": "python",
   "pygments_lexer": "ipython3",
   "version": "3.7.3"
  }
 },
 "nbformat": 4,
 "nbformat_minor": 2
}
