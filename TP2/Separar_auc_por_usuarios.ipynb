{
 "cells": [
  {
   "cell_type": "code",
   "execution_count": 52,
   "metadata": {},
   "outputs": [],
   "source": [
    "import pandas as pd\n",
    "import numpy as np\n",
    "import matplotlib.pyplot as plt\n",
    "import csv\n",
    "import random\n",
    "%matplotlib inline"
   ]
  },
  {
   "cell_type": "markdown",
   "metadata": {},
   "source": [
    "**Variables varias**"
   ]
  },
  {
   "cell_type": "code",
   "execution_count": 59,
   "metadata": {},
   "outputs": [],
   "source": [
    "cant_particiones = 5\n",
    "ventana = \"auctions_2019-04-18-2019-04-20\"\n",
    "carpeta_data = \"data/\"\n",
    "ruta = carpeta_data + ventana\n",
    "extension = \".csv\""
   ]
  },
  {
   "cell_type": "code",
   "execution_count": 60,
   "metadata": {},
   "outputs": [],
   "source": [
    "usuarios = {}"
   ]
  },
  {
   "cell_type": "markdown",
   "metadata": {},
   "source": [
    "**Se procesa el archivo por chunks(pedazos) de 500000 lineas cada uno, y nos quedamos con todos los usuarios unicos del archivo**"
   ]
  },
  {
   "cell_type": "code",
   "execution_count": 61,
   "metadata": {},
   "outputs": [],
   "source": [
    "for pedazo in pd.read_csv(ruta + extension, parse_dates = ['date'], chunksize=500000, dtype={\"device_id\":\"uint64\", \"ref_type_id\":\"uint8\", \"source_id\": \"uint8\"}):\n",
    "    for user in pedazo[\"device_id\"].unique():\n",
    "        usuarios[user] = usuarios.get(user, None)        "
   ]
  },
  {
   "cell_type": "code",
   "execution_count": 62,
   "metadata": {},
   "outputs": [],
   "source": [
    "usr_1, usr_2, usr_3, usr_4, usr_5 = {}, {}, {}, {}, {}\n",
    "lis_usuario = [usr_1,usr_2,usr_3,usr_4,usr_5]\n",
    "cant_usuarios = len(usuarios)"
   ]
  },
  {
   "cell_type": "markdown",
   "metadata": {},
   "source": [
    "**Se separa a los usuarios en 5 diccionarios**"
   ]
  },
  {
   "cell_type": "code",
   "execution_count": 63,
   "metadata": {},
   "outputs": [],
   "source": [
    "usr_random = list(usuarios.keys())\n",
    "random.shuffle(usr_random)  # Randomizo para obtener una distribucion uniforme de usuarios \\\n",
    "# y que no queden archivos mucho mas grande que otros\n",
    "i = 1\n",
    "for elem in usr_random:\n",
    "    lis_usuario[int((i-1)/(cant_usuarios/5))][elem] = lis_usuario[int((i-1)/(cant_usuarios/5))].get(elem, None)\n",
    "    i += 1"
   ]
  },
  {
   "cell_type": "markdown",
   "metadata": {},
   "source": [
    "**Se separa al archivo en 5 archivos distintos**"
   ]
  },
  {
   "cell_type": "code",
   "execution_count": 64,
   "metadata": {},
   "outputs": [],
   "source": [
    "for i in range(cant_particiones):\n",
    "    dic_actual = lis_usuario[i]\n",
    "    with open(ruta + extension) as f, open(f\"{ruta}-users{i}{extension}\",\"w\") as s:\n",
    "        lector = csv.reader(f)\n",
    "        escritor = csv.writer(s)\n",
    "        escritor.writerow(next(lector))\n",
    "        for linea in lector:\n",
    "            usuario = int(linea[1])\n",
    "            if usuario in dic_actual:\n",
    "                escritor.writerow(linea)"
   ]
  }
 ],
 "metadata": {
  "kernelspec": {
   "display_name": "Python 3",
   "language": "python",
   "name": "python3"
  },
  "language_info": {
   "codemirror_mode": {
    "name": "ipython",
    "version": 3
   },
   "file_extension": ".py",
   "mimetype": "text/x-python",
   "name": "python",
   "nbconvert_exporter": "python",
   "pygments_lexer": "ipython3",
   "version": "3.7.3"
  }
 },
 "nbformat": 4,
 "nbformat_minor": 2
}
