{
 "cells": [
  {
   "cell_type": "code",
   "execution_count": 4,
   "metadata": {},
   "outputs": [
    {
     "data": {
      "text/html": [
       "<div>\n",
       "<style>\n",
       "    .dataframe thead tr:only-child th {\n",
       "        text-align: right;\n",
       "    }\n",
       "\n",
       "    .dataframe thead th {\n",
       "        text-align: left;\n",
       "    }\n",
       "\n",
       "    .dataframe tbody tr th {\n",
       "        vertical-align: top;\n",
       "    }\n",
       "</style>\n",
       "<table border=\"1\" class=\"dataframe\">\n",
       "  <thead>\n",
       "    <tr style=\"text-align: right;\">\n",
       "      <th></th>\n",
       "      <th>index</th>\n",
       "      <th>ref_hash</th>\n",
       "      <th>obj</th>\n",
       "    </tr>\n",
       "  </thead>\n",
       "  <tbody>\n",
       "    <tr>\n",
       "      <th>0</th>\n",
       "      <td>0</td>\n",
       "      <td>1037575899869926</td>\n",
       "      <td>259200.00</td>\n",
       "    </tr>\n",
       "    <tr>\n",
       "      <th>1</th>\n",
       "      <td>1</td>\n",
       "      <td>4700892528469466</td>\n",
       "      <td>259200.00</td>\n",
       "    </tr>\n",
       "    <tr>\n",
       "      <th>2</th>\n",
       "      <td>2</td>\n",
       "      <td>4920567832392301</td>\n",
       "      <td>168778.08</td>\n",
       "    </tr>\n",
       "    <tr>\n",
       "      <th>3</th>\n",
       "      <td>3</td>\n",
       "      <td>8624897563799496</td>\n",
       "      <td>259200.00</td>\n",
       "    </tr>\n",
       "    <tr>\n",
       "      <th>4</th>\n",
       "      <td>4</td>\n",
       "      <td>11222455493472018</td>\n",
       "      <td>168778.08</td>\n",
       "    </tr>\n",
       "  </tbody>\n",
       "</table>\n",
       "</div>"
      ],
      "text/plain": [
       "   index           ref_hash        obj\n",
       "0      0   1037575899869926  259200.00\n",
       "1      1   4700892528469466  259200.00\n",
       "2      2   4920567832392301  168778.08\n",
       "3      3   8624897563799496  259200.00\n",
       "4      4  11222455493472018  168778.08"
      ]
     },
     "execution_count": 4,
     "metadata": {},
     "output_type": "execute_result"
    }
   ],
   "source": [
    "\n",
    "'''import pandas as pd\n",
    "a = pd.read_csv('preds_gxboost_installs_3ventana.csv', low_memory=False)\n",
    "a.head()'''"
   ]
  },
  {
   "cell_type": "code",
   "execution_count": 7,
   "metadata": {},
   "outputs": [],
   "source": [
    "'''a.drop(['index'],axis = 1,inplace=True)'''"
   ]
  },
  {
   "cell_type": "code",
   "execution_count": 11,
   "metadata": {},
   "outputs": [
    {
     "data": {
      "text/html": [
       "<div>\n",
       "<style>\n",
       "    .dataframe thead tr:only-child th {\n",
       "        text-align: right;\n",
       "    }\n",
       "\n",
       "    .dataframe thead th {\n",
       "        text-align: left;\n",
       "    }\n",
       "\n",
       "    .dataframe tbody tr th {\n",
       "        vertical-align: top;\n",
       "    }\n",
       "</style>\n",
       "<table border=\"1\" class=\"dataframe\">\n",
       "  <thead>\n",
       "    <tr style=\"text-align: right;\">\n",
       "      <th></th>\n",
       "      <th>ref_hash</th>\n",
       "      <th>obj</th>\n",
       "    </tr>\n",
       "  </thead>\n",
       "  <tbody>\n",
       "    <tr>\n",
       "      <th>0</th>\n",
       "      <td>1037575899869926</td>\n",
       "      <td>259200.00</td>\n",
       "    </tr>\n",
       "    <tr>\n",
       "      <th>1</th>\n",
       "      <td>4700892528469466</td>\n",
       "      <td>259200.00</td>\n",
       "    </tr>\n",
       "    <tr>\n",
       "      <th>2</th>\n",
       "      <td>4920567832392301</td>\n",
       "      <td>168778.08</td>\n",
       "    </tr>\n",
       "    <tr>\n",
       "      <th>3</th>\n",
       "      <td>8624897563799496</td>\n",
       "      <td>259200.00</td>\n",
       "    </tr>\n",
       "    <tr>\n",
       "      <th>4</th>\n",
       "      <td>11222455493472018</td>\n",
       "      <td>168778.08</td>\n",
       "    </tr>\n",
       "  </tbody>\n",
       "</table>\n",
       "</div>"
      ],
      "text/plain": [
       "            ref_hash        obj\n",
       "0   1037575899869926  259200.00\n",
       "1   4700892528469466  259200.00\n",
       "2   4920567832392301  168778.08\n",
       "3   8624897563799496  259200.00\n",
       "4  11222455493472018  168778.08"
      ]
     },
     "execution_count": 11,
     "metadata": {},
     "output_type": "execute_result"
    }
   ],
   "source": [
    "'''a.head()'''"
   ]
  },
  {
   "cell_type": "code",
   "execution_count": 13,
   "metadata": {},
   "outputs": [],
   "source": [
    "'''a.to_csv('preds_gxboost_installs_3ventana.csv',index=False)'''"
   ]
  },
  {
   "cell_type": "code",
   "execution_count": 54,
   "metadata": {},
   "outputs": [],
   "source": [
    "import csv\n",
    "\n",
    "\n",
    "def mezclar(archivo, archivo2):\n",
    "    with open(archivo) as f, open(archivo2) as f2, open(\"mergeCatBoost.csv\",\"w\") as s:\n",
    "                lector1 = csv.reader(f)\n",
    "                lector2 = csv.reader(f2)\n",
    "                escritor = csv.writer(s)\n",
    "\n",
    "                escritor.writerow(next(lector1))\n",
    "                next(lector2)\n",
    "\n",
    "                for linea in lector1:\n",
    "                    linea2 = next(lector2)\n",
    "\n",
    "                    escritor.writerow([linea[0], min(linea[1], linea2[1])])\n",
    "\n",
    "\n",
    "\n",
    "mezclar(\"preds_catboost_installsCFeatures_v3.csv\", \"preds_catboost_installsCFeatures_v4.csv\")"
   ]
  },
  {
   "cell_type": "code",
   "execution_count": 23,
   "metadata": {},
   "outputs": [],
   "source": [
    "'''import csv\n",
    "\n",
    "\n",
    "def intercalar(entrada, string, salida):\n",
    "\n",
    "    with open(entrada) as f, open(salida,\"w\") as s:\n",
    "        lector = csv.reader(f)\n",
    "        escritor = csv.writer(s)\n",
    "\n",
    "        escritor.writerow(next(lector))\n",
    "\n",
    "        for linea in lector:\n",
    "            usuario = linea[0]\n",
    "            valor = linea[1]\n",
    "\n",
    "            escritor.writerow([usuario + string, valor])\n",
    "\n",
    "\n",
    "intercalar(\"mergeXGBoost.csv\",\"_sc\",\"SubTargetXGBoost.csv\")'''"
   ]
  },
  {
   "cell_type": "code",
   "execution_count": 24,
   "metadata": {},
   "outputs": [],
   "source": [
    "'''intercalar(\"auctions_linear2.csv\",\"_st\",\"SubTargetLinear.csv\")'''"
   ]
  },
  {
   "cell_type": "code",
   "execution_count": 55,
   "metadata": {},
   "outputs": [],
   "source": [
    "import csv\n",
    "import sys\n",
    "\n",
    "def intercalar(entrada_1, entrada_2, salida):\n",
    "    \"\"\"\n",
    "    entrada1 es el archivo que contiene las predicciones de installs\n",
    "    entrada2 es el arch que tiene las preds de auctions\n",
    "    salida es el nombre del archivo de salida\n",
    "    \"\"\"\n",
    "    with open(entrada_1) as f, open(entrada_2) as f2, open(salida,\"w\") as s:\n",
    "        lector1 = csv.reader(f)\n",
    "        lector2 = csv.reader(f2)\n",
    "        escritor = csv.writer(s)\n",
    "\n",
    "        escritor.writerow(next(lector1))\n",
    "        next(lector2)\n",
    "\n",
    "        for linea in lector1:\n",
    "            usuario1 = linea[0]\n",
    "            valor1 = linea[1]\n",
    "\n",
    "            linea2 = next(lector2)\n",
    "            usuario2 = linea2[0]\n",
    "            valor2 = linea2[1]\n",
    "\n",
    "            escritor.writerow([usuario1 + \"_sc\", valor1])\n",
    "            escritor.writerow([usuario2 + \"_st\", valor2])\n",
    "\n",
    "\n",
    "intercalar(\"mergeCatBoost.csv\", \"auctions_linear2.csv\", \"TargetCatBoost_Linear2.csv\")"
   ]
  },
  {
   "cell_type": "code",
   "execution_count": 56,
   "metadata": {},
   "outputs": [],
   "source": [
    "import pandas as pd\n",
    "t = pd.read_csv('target_competencia_ids.csv', low_memory=False)\n",
    "a1 = pd.read_csv('TargetCatBoost_Linear2.csv', low_memory=False)"
   ]
  },
  {
   "cell_type": "code",
   "execution_count": 57,
   "metadata": {},
   "outputs": [
    {
     "data": {
      "text/html": [
       "<div>\n",
       "<style>\n",
       "    .dataframe thead tr:only-child th {\n",
       "        text-align: right;\n",
       "    }\n",
       "\n",
       "    .dataframe thead th {\n",
       "        text-align: left;\n",
       "    }\n",
       "\n",
       "    .dataframe tbody tr th {\n",
       "        vertical-align: top;\n",
       "    }\n",
       "</style>\n",
       "<table border=\"1\" class=\"dataframe\">\n",
       "  <thead>\n",
       "    <tr style=\"text-align: right;\">\n",
       "      <th></th>\n",
       "      <th>ref_hash</th>\n",
       "      <th>obj</th>\n",
       "    </tr>\n",
       "  </thead>\n",
       "  <tbody>\n",
       "    <tr>\n",
       "      <th>0</th>\n",
       "      <td>1000169251625791246_sc</td>\n",
       "      <td>0</td>\n",
       "    </tr>\n",
       "    <tr>\n",
       "      <th>1</th>\n",
       "      <td>1000169251625791246_st</td>\n",
       "      <td>0</td>\n",
       "    </tr>\n",
       "    <tr>\n",
       "      <th>2</th>\n",
       "      <td>1000395625957344683_sc</td>\n",
       "      <td>0</td>\n",
       "    </tr>\n",
       "    <tr>\n",
       "      <th>3</th>\n",
       "      <td>1000395625957344683_st</td>\n",
       "      <td>0</td>\n",
       "    </tr>\n",
       "    <tr>\n",
       "      <th>4</th>\n",
       "      <td>1003027494996471685_sc</td>\n",
       "      <td>0</td>\n",
       "    </tr>\n",
       "  </tbody>\n",
       "</table>\n",
       "</div>"
      ],
      "text/plain": [
       "                 ref_hash  obj\n",
       "0  1000169251625791246_sc    0\n",
       "1  1000169251625791246_st    0\n",
       "2  1000395625957344683_sc    0\n",
       "3  1000395625957344683_st    0\n",
       "4  1003027494996471685_sc    0"
      ]
     },
     "execution_count": 57,
     "metadata": {},
     "output_type": "execute_result"
    }
   ],
   "source": [
    "t.head()"
   ]
  },
  {
   "cell_type": "code",
   "execution_count": 58,
   "metadata": {},
   "outputs": [
    {
     "data": {
      "text/html": [
       "<div>\n",
       "<style>\n",
       "    .dataframe thead tr:only-child th {\n",
       "        text-align: right;\n",
       "    }\n",
       "\n",
       "    .dataframe thead th {\n",
       "        text-align: left;\n",
       "    }\n",
       "\n",
       "    .dataframe tbody tr th {\n",
       "        vertical-align: top;\n",
       "    }\n",
       "</style>\n",
       "<table border=\"1\" class=\"dataframe\">\n",
       "  <thead>\n",
       "    <tr style=\"text-align: right;\">\n",
       "      <th></th>\n",
       "      <th>ref_hash</th>\n",
       "    </tr>\n",
       "  </thead>\n",
       "  <tbody>\n",
       "    <tr>\n",
       "      <th>0</th>\n",
       "      <td>1000169251625791246_sc</td>\n",
       "    </tr>\n",
       "    <tr>\n",
       "      <th>1</th>\n",
       "      <td>1000169251625791246_st</td>\n",
       "    </tr>\n",
       "    <tr>\n",
       "      <th>2</th>\n",
       "      <td>1000395625957344683_sc</td>\n",
       "    </tr>\n",
       "    <tr>\n",
       "      <th>3</th>\n",
       "      <td>1000395625957344683_st</td>\n",
       "    </tr>\n",
       "    <tr>\n",
       "      <th>4</th>\n",
       "      <td>1003027494996471685_sc</td>\n",
       "    </tr>\n",
       "  </tbody>\n",
       "</table>\n",
       "</div>"
      ],
      "text/plain": [
       "                 ref_hash\n",
       "0  1000169251625791246_sc\n",
       "1  1000169251625791246_st\n",
       "2  1000395625957344683_sc\n",
       "3  1000395625957344683_st\n",
       "4  1003027494996471685_sc"
      ]
     },
     "execution_count": 58,
     "metadata": {},
     "output_type": "execute_result"
    }
   ],
   "source": [
    "t = t[['ref_hash']]\n",
    "t.head()"
   ]
  },
  {
   "cell_type": "code",
   "execution_count": 59,
   "metadata": {
    "scrolled": true
   },
   "outputs": [
    {
     "data": {
      "text/html": [
       "<div>\n",
       "<style>\n",
       "    .dataframe thead tr:only-child th {\n",
       "        text-align: right;\n",
       "    }\n",
       "\n",
       "    .dataframe thead th {\n",
       "        text-align: left;\n",
       "    }\n",
       "\n",
       "    .dataframe tbody tr th {\n",
       "        vertical-align: top;\n",
       "    }\n",
       "</style>\n",
       "<table border=\"1\" class=\"dataframe\">\n",
       "  <thead>\n",
       "    <tr style=\"text-align: right;\">\n",
       "      <th></th>\n",
       "      <th>ref_hash</th>\n",
       "      <th>obj</th>\n",
       "    </tr>\n",
       "  </thead>\n",
       "  <tbody>\n",
       "    <tr>\n",
       "      <th>0</th>\n",
       "      <td>1000169251625791246_sc</td>\n",
       "      <td>234684.146548</td>\n",
       "    </tr>\n",
       "    <tr>\n",
       "      <th>1</th>\n",
       "      <td>1000169251625791246_st</td>\n",
       "      <td>117202.317301</td>\n",
       "    </tr>\n",
       "    <tr>\n",
       "      <th>2</th>\n",
       "      <td>1000395625957344683_sc</td>\n",
       "      <td>259200.000000</td>\n",
       "    </tr>\n",
       "    <tr>\n",
       "      <th>3</th>\n",
       "      <td>1000395625957344683_st</td>\n",
       "      <td>130927.255058</td>\n",
       "    </tr>\n",
       "    <tr>\n",
       "      <th>4</th>\n",
       "      <td>1003027494996471685_sc</td>\n",
       "      <td>234884.159900</td>\n",
       "    </tr>\n",
       "  </tbody>\n",
       "</table>\n",
       "</div>"
      ],
      "text/plain": [
       "                 ref_hash            obj\n",
       "0  1000169251625791246_sc  234684.146548\n",
       "1  1000169251625791246_st  117202.317301\n",
       "2  1000395625957344683_sc  259200.000000\n",
       "3  1000395625957344683_st  130927.255058\n",
       "4  1003027494996471685_sc  234884.159900"
      ]
     },
     "execution_count": 59,
     "metadata": {},
     "output_type": "execute_result"
    }
   ],
   "source": [
    "merge = t.merge(a1,on='ref_hash',how='left')\n",
    "merge.head()"
   ]
  },
  {
   "cell_type": "code",
   "execution_count": 60,
   "metadata": {},
   "outputs": [
    {
     "data": {
      "text/html": [
       "<div>\n",
       "<style>\n",
       "    .dataframe thead tr:only-child th {\n",
       "        text-align: right;\n",
       "    }\n",
       "\n",
       "    .dataframe thead th {\n",
       "        text-align: left;\n",
       "    }\n",
       "\n",
       "    .dataframe tbody tr th {\n",
       "        vertical-align: top;\n",
       "    }\n",
       "</style>\n",
       "<table border=\"1\" class=\"dataframe\">\n",
       "  <thead>\n",
       "    <tr style=\"text-align: right;\">\n",
       "      <th></th>\n",
       "      <th>ref_hash</th>\n",
       "      <th>obj</th>\n",
       "    </tr>\n",
       "  </thead>\n",
       "  <tbody>\n",
       "    <tr>\n",
       "      <th>0</th>\n",
       "      <td>1000169251625791246_sc</td>\n",
       "      <td>234684.146548</td>\n",
       "    </tr>\n",
       "    <tr>\n",
       "      <th>1</th>\n",
       "      <td>1000169251625791246_st</td>\n",
       "      <td>117202.317301</td>\n",
       "    </tr>\n",
       "    <tr>\n",
       "      <th>2</th>\n",
       "      <td>1000395625957344683_sc</td>\n",
       "      <td>259200.000000</td>\n",
       "    </tr>\n",
       "    <tr>\n",
       "      <th>3</th>\n",
       "      <td>1000395625957344683_st</td>\n",
       "      <td>130927.255058</td>\n",
       "    </tr>\n",
       "    <tr>\n",
       "      <th>4</th>\n",
       "      <td>1003027494996471685_sc</td>\n",
       "      <td>234884.159900</td>\n",
       "    </tr>\n",
       "  </tbody>\n",
       "</table>\n",
       "</div>"
      ],
      "text/plain": [
       "                 ref_hash            obj\n",
       "0  1000169251625791246_sc  234684.146548\n",
       "1  1000169251625791246_st  117202.317301\n",
       "2  1000395625957344683_sc  259200.000000\n",
       "3  1000395625957344683_st  130927.255058\n",
       "4  1003027494996471685_sc  234884.159900"
      ]
     },
     "execution_count": 60,
     "metadata": {},
     "output_type": "execute_result"
    }
   ],
   "source": [
    "merge1 = merge.sort_values(by='ref_hash',ascending=True)\n",
    "merge1.head()"
   ]
  },
  {
   "cell_type": "code",
   "execution_count": 61,
   "metadata": {},
   "outputs": [],
   "source": [
    "merge1.to_csv('TargetCatBoost_Linear2.csv',index=False)"
   ]
  }
 ],
 "metadata": {
  "kernelspec": {
   "display_name": "Python 3",
   "language": "python",
   "name": "python3"
  },
  "language_info": {
   "codemirror_mode": {
    "name": "ipython",
    "version": 3
   },
   "file_extension": ".py",
   "mimetype": "text/x-python",
   "name": "python",
   "nbconvert_exporter": "python",
   "pygments_lexer": "ipython3",
   "version": "3.6.8"
  }
 },
 "nbformat": 4,
 "nbformat_minor": 2
}
