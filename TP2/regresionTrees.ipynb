{
 "cells": [
  {
   "cell_type": "code",
   "execution_count": 1,
   "metadata": {},
   "outputs": [],
   "source": [
    "from catboost import CatBoostRegressor\n",
    "import pandas as pd\n",
    "import numpy as np\n",
    "import matplotlib.pyplot as plt\n",
    "import seaborn as sns\n",
    "from datetime import date\n",
    "from catboost.datasets import titanic\n",
    "\n",
    "%matplotlib inline\n",
    "\n",
    "plt.style.use('default')\n",
    "\n",
    "sns.set(style=\"whitegrid\")\n",
    "\n",
    "pd.options.display.float_format = '{:20,.2f}'.format"
   ]
  },
  {
   "cell_type": "code",
   "execution_count": 2,
   "metadata": {},
   "outputs": [
    {
     "data": {
      "text/html": [
       "<div>\n",
       "<style>\n",
       "    .dataframe thead tr:only-child th {\n",
       "        text-align: right;\n",
       "    }\n",
       "\n",
       "    .dataframe thead th {\n",
       "        text-align: left;\n",
       "    }\n",
       "\n",
       "    .dataframe tbody tr th {\n",
       "        vertical-align: top;\n",
       "    }\n",
       "</style>\n",
       "<table border=\"1\" class=\"dataframe\">\n",
       "  <thead>\n",
       "    <tr style=\"text-align: right;\">\n",
       "      <th></th>\n",
       "      <th>Unnamed: 0</th>\n",
       "      <th>application_id</th>\n",
       "      <th>ref_type</th>\n",
       "      <th>ref_hash</th>\n",
       "      <th>attributed</th>\n",
       "      <th>implicit</th>\n",
       "      <th>device_countrycode</th>\n",
       "      <th>device_brand</th>\n",
       "      <th>device_model</th>\n",
       "      <th>session_user_agent</th>\n",
       "      <th>...</th>\n",
       "      <th>agentes</th>\n",
       "      <th>top50agentes</th>\n",
       "      <th>top10agentes</th>\n",
       "      <th>kindReducido</th>\n",
       "      <th>top10tipo</th>\n",
       "      <th>top10leng</th>\n",
       "      <th>early_morning</th>\n",
       "      <th>weekend</th>\n",
       "      <th>easter_holiday</th>\n",
       "      <th>nuevoDisositivo</th>\n",
       "    </tr>\n",
       "    <tr>\n",
       "      <th>created</th>\n",
       "      <th></th>\n",
       "      <th></th>\n",
       "      <th></th>\n",
       "      <th></th>\n",
       "      <th></th>\n",
       "      <th></th>\n",
       "      <th></th>\n",
       "      <th></th>\n",
       "      <th></th>\n",
       "      <th></th>\n",
       "      <th></th>\n",
       "      <th></th>\n",
       "      <th></th>\n",
       "      <th></th>\n",
       "      <th></th>\n",
       "      <th></th>\n",
       "      <th></th>\n",
       "      <th></th>\n",
       "      <th></th>\n",
       "      <th></th>\n",
       "      <th></th>\n",
       "    </tr>\n",
       "  </thead>\n",
       "  <tbody>\n",
       "    <tr>\n",
       "      <th>2019-04-18 00:00:01.560</th>\n",
       "      <td>94738</td>\n",
       "      <td>70</td>\n",
       "      <td>1</td>\n",
       "      <td>4432995619177048534</td>\n",
       "      <td>False</td>\n",
       "      <td>False</td>\n",
       "      <td>6287817205707153877</td>\n",
       "      <td>0</td>\n",
       "      <td>208</td>\n",
       "      <td>1095</td>\n",
       "      <td>...</td>\n",
       "      <td>0</td>\n",
       "      <td>0</td>\n",
       "      <td>0</td>\n",
       "      <td>1</td>\n",
       "      <td>1</td>\n",
       "      <td>9</td>\n",
       "      <td>0</td>\n",
       "      <td>False</td>\n",
       "      <td>1</td>\n",
       "      <td>1</td>\n",
       "    </tr>\n",
       "    <tr>\n",
       "      <th>2019-04-18 00:00:01.851</th>\n",
       "      <td>94737</td>\n",
       "      <td>70</td>\n",
       "      <td>1</td>\n",
       "      <td>5904733559638204455</td>\n",
       "      <td>False</td>\n",
       "      <td>False</td>\n",
       "      <td>6287817205707153877</td>\n",
       "      <td>0</td>\n",
       "      <td>208</td>\n",
       "      <td>1095</td>\n",
       "      <td>...</td>\n",
       "      <td>0</td>\n",
       "      <td>0</td>\n",
       "      <td>0</td>\n",
       "      <td>1</td>\n",
       "      <td>1</td>\n",
       "      <td>9</td>\n",
       "      <td>0</td>\n",
       "      <td>False</td>\n",
       "      <td>1</td>\n",
       "      <td>0</td>\n",
       "    </tr>\n",
       "    <tr>\n",
       "      <th>2019-04-18 00:00:05.152</th>\n",
       "      <td>111877</td>\n",
       "      <td>65</td>\n",
       "      <td>1</td>\n",
       "      <td>896373747754111825</td>\n",
       "      <td>False</td>\n",
       "      <td>True</td>\n",
       "      <td>6287817205707153877</td>\n",
       "      <td>6</td>\n",
       "      <td>102</td>\n",
       "      <td>2</td>\n",
       "      <td>...</td>\n",
       "      <td>2</td>\n",
       "      <td>2</td>\n",
       "      <td>1</td>\n",
       "      <td>0</td>\n",
       "      <td>0</td>\n",
       "      <td>8</td>\n",
       "      <td>0</td>\n",
       "      <td>False</td>\n",
       "      <td>1</td>\n",
       "      <td>0</td>\n",
       "    </tr>\n",
       "    <tr>\n",
       "      <th>2019-04-18 00:00:05.589</th>\n",
       "      <td>76146</td>\n",
       "      <td>27</td>\n",
       "      <td>0</td>\n",
       "      <td>3399210824535017892</td>\n",
       "      <td>False</td>\n",
       "      <td>False</td>\n",
       "      <td>6287817205707153877</td>\n",
       "      <td>0</td>\n",
       "      <td>190</td>\n",
       "      <td>2</td>\n",
       "      <td>...</td>\n",
       "      <td>21</td>\n",
       "      <td>14</td>\n",
       "      <td>6</td>\n",
       "      <td>1</td>\n",
       "      <td>1</td>\n",
       "      <td>2</td>\n",
       "      <td>0</td>\n",
       "      <td>False</td>\n",
       "      <td>1</td>\n",
       "      <td>1</td>\n",
       "    </tr>\n",
       "    <tr>\n",
       "      <th>2019-04-18 00:00:06.795</th>\n",
       "      <td>435184</td>\n",
       "      <td>339</td>\n",
       "      <td>0</td>\n",
       "      <td>1541425881979513687</td>\n",
       "      <td>False</td>\n",
       "      <td>False</td>\n",
       "      <td>6287817205707153877</td>\n",
       "      <td>0</td>\n",
       "      <td>190</td>\n",
       "      <td>2</td>\n",
       "      <td>...</td>\n",
       "      <td>68</td>\n",
       "      <td>46</td>\n",
       "      <td>10</td>\n",
       "      <td>1</td>\n",
       "      <td>1</td>\n",
       "      <td>6</td>\n",
       "      <td>0</td>\n",
       "      <td>False</td>\n",
       "      <td>1</td>\n",
       "      <td>1</td>\n",
       "    </tr>\n",
       "  </tbody>\n",
       "</table>\n",
       "<p>5 rows × 34 columns</p>\n",
       "</div>"
      ],
      "text/plain": [
       "                         Unnamed: 0  application_id  ref_type  \\\n",
       "created                                                         \n",
       "2019-04-18 00:00:01.560       94738              70         1   \n",
       "2019-04-18 00:00:01.851       94737              70         1   \n",
       "2019-04-18 00:00:05.152      111877              65         1   \n",
       "2019-04-18 00:00:05.589       76146              27         0   \n",
       "2019-04-18 00:00:06.795      435184             339         0   \n",
       "\n",
       "                                    ref_hash  attributed  implicit  \\\n",
       "created                                                              \n",
       "2019-04-18 00:00:01.560  4432995619177048534       False     False   \n",
       "2019-04-18 00:00:01.851  5904733559638204455       False     False   \n",
       "2019-04-18 00:00:05.152   896373747754111825       False      True   \n",
       "2019-04-18 00:00:05.589  3399210824535017892       False     False   \n",
       "2019-04-18 00:00:06.795  1541425881979513687       False     False   \n",
       "\n",
       "                          device_countrycode  device_brand  device_model  \\\n",
       "created                                                                    \n",
       "2019-04-18 00:00:01.560  6287817205707153877             0           208   \n",
       "2019-04-18 00:00:01.851  6287817205707153877             0           208   \n",
       "2019-04-18 00:00:05.152  6287817205707153877             6           102   \n",
       "2019-04-18 00:00:05.589  6287817205707153877             0           190   \n",
       "2019-04-18 00:00:06.795  6287817205707153877             0           190   \n",
       "\n",
       "                         session_user_agent       ...         agentes  \\\n",
       "created                                           ...                   \n",
       "2019-04-18 00:00:01.560                1095       ...               0   \n",
       "2019-04-18 00:00:01.851                1095       ...               0   \n",
       "2019-04-18 00:00:05.152                   2       ...               2   \n",
       "2019-04-18 00:00:05.589                   2       ...              21   \n",
       "2019-04-18 00:00:06.795                   2       ...              68   \n",
       "\n",
       "                         top50agentes  top10agentes  kindReducido  top10tipo  \\\n",
       "created                                                                        \n",
       "2019-04-18 00:00:01.560             0             0             1          1   \n",
       "2019-04-18 00:00:01.851             0             0             1          1   \n",
       "2019-04-18 00:00:05.152             2             1             0          0   \n",
       "2019-04-18 00:00:05.589            14             6             1          1   \n",
       "2019-04-18 00:00:06.795            46            10             1          1   \n",
       "\n",
       "                         top10leng  early_morning  weekend  easter_holiday  \\\n",
       "created                                                                      \n",
       "2019-04-18 00:00:01.560          9              0    False               1   \n",
       "2019-04-18 00:00:01.851          9              0    False               1   \n",
       "2019-04-18 00:00:05.152          8              0    False               1   \n",
       "2019-04-18 00:00:05.589          2              0    False               1   \n",
       "2019-04-18 00:00:06.795          6              0    False               1   \n",
       "\n",
       "                         nuevoDisositivo  \n",
       "created                                   \n",
       "2019-04-18 00:00:01.560                1  \n",
       "2019-04-18 00:00:01.851                0  \n",
       "2019-04-18 00:00:05.152                0  \n",
       "2019-04-18 00:00:05.589                1  \n",
       "2019-04-18 00:00:06.795                1  \n",
       "\n",
       "[5 rows x 34 columns]"
      ]
     },
     "execution_count": 2,
     "metadata": {},
     "output_type": "execute_result"
    }
   ],
   "source": [
    "installs = pd.read_csv('TP 1er Cuatrimestre 2019/installsConFeatures.csv', low_memory=False, parse_dates = ['created'], index_col=['created'])\n",
    "installs = installs.sort_index()\n",
    "installs.head()"
   ]
  },
  {
   "cell_type": "code",
   "execution_count": 3,
   "metadata": {},
   "outputs": [],
   "source": [
    "installs.drop(['Unnamed: 0'],axis = 1,inplace=True)"
   ]
  },
  {
   "cell_type": "code",
   "execution_count": 4,
   "metadata": {},
   "outputs": [
    {
     "data": {
      "text/html": [
       "<div>\n",
       "<style>\n",
       "    .dataframe thead tr:only-child th {\n",
       "        text-align: right;\n",
       "    }\n",
       "\n",
       "    .dataframe thead th {\n",
       "        text-align: left;\n",
       "    }\n",
       "\n",
       "    .dataframe tbody tr th {\n",
       "        vertical-align: top;\n",
       "    }\n",
       "</style>\n",
       "<table border=\"1\" class=\"dataframe\">\n",
       "  <thead>\n",
       "    <tr style=\"text-align: right;\">\n",
       "      <th></th>\n",
       "      <th>application_id</th>\n",
       "      <th>ref_type</th>\n",
       "      <th>ref_hash</th>\n",
       "      <th>attributed</th>\n",
       "      <th>implicit</th>\n",
       "      <th>device_countrycode</th>\n",
       "      <th>device_brand</th>\n",
       "      <th>device_model</th>\n",
       "      <th>session_user_agent</th>\n",
       "      <th>user_agent</th>\n",
       "      <th>...</th>\n",
       "      <th>agentes</th>\n",
       "      <th>top50agentes</th>\n",
       "      <th>top10agentes</th>\n",
       "      <th>kindReducido</th>\n",
       "      <th>top10tipo</th>\n",
       "      <th>top10leng</th>\n",
       "      <th>early_morning</th>\n",
       "      <th>weekend</th>\n",
       "      <th>easter_holiday</th>\n",
       "      <th>nuevoDisositivo</th>\n",
       "    </tr>\n",
       "    <tr>\n",
       "      <th>created</th>\n",
       "      <th></th>\n",
       "      <th></th>\n",
       "      <th></th>\n",
       "      <th></th>\n",
       "      <th></th>\n",
       "      <th></th>\n",
       "      <th></th>\n",
       "      <th></th>\n",
       "      <th></th>\n",
       "      <th></th>\n",
       "      <th></th>\n",
       "      <th></th>\n",
       "      <th></th>\n",
       "      <th></th>\n",
       "      <th></th>\n",
       "      <th></th>\n",
       "      <th></th>\n",
       "      <th></th>\n",
       "      <th></th>\n",
       "      <th></th>\n",
       "      <th></th>\n",
       "    </tr>\n",
       "  </thead>\n",
       "  <tbody>\n",
       "    <tr>\n",
       "      <th>2019-04-18 00:00:01.560</th>\n",
       "      <td>70</td>\n",
       "      <td>1</td>\n",
       "      <td>4432995619177048534</td>\n",
       "      <td>False</td>\n",
       "      <td>False</td>\n",
       "      <td>6287817205707153877</td>\n",
       "      <td>0</td>\n",
       "      <td>208</td>\n",
       "      <td>1095</td>\n",
       "      <td>0</td>\n",
       "      <td>...</td>\n",
       "      <td>0</td>\n",
       "      <td>0</td>\n",
       "      <td>0</td>\n",
       "      <td>1</td>\n",
       "      <td>1</td>\n",
       "      <td>9</td>\n",
       "      <td>0</td>\n",
       "      <td>False</td>\n",
       "      <td>1</td>\n",
       "      <td>1</td>\n",
       "    </tr>\n",
       "    <tr>\n",
       "      <th>2019-04-18 00:00:01.851</th>\n",
       "      <td>70</td>\n",
       "      <td>1</td>\n",
       "      <td>5904733559638204455</td>\n",
       "      <td>False</td>\n",
       "      <td>False</td>\n",
       "      <td>6287817205707153877</td>\n",
       "      <td>0</td>\n",
       "      <td>208</td>\n",
       "      <td>1095</td>\n",
       "      <td>0</td>\n",
       "      <td>...</td>\n",
       "      <td>0</td>\n",
       "      <td>0</td>\n",
       "      <td>0</td>\n",
       "      <td>1</td>\n",
       "      <td>1</td>\n",
       "      <td>9</td>\n",
       "      <td>0</td>\n",
       "      <td>False</td>\n",
       "      <td>1</td>\n",
       "      <td>0</td>\n",
       "    </tr>\n",
       "    <tr>\n",
       "      <th>2019-04-18 00:00:05.152</th>\n",
       "      <td>65</td>\n",
       "      <td>1</td>\n",
       "      <td>896373747754111825</td>\n",
       "      <td>False</td>\n",
       "      <td>True</td>\n",
       "      <td>6287817205707153877</td>\n",
       "      <td>6</td>\n",
       "      <td>102</td>\n",
       "      <td>2</td>\n",
       "      <td>540</td>\n",
       "      <td>...</td>\n",
       "      <td>2</td>\n",
       "      <td>2</td>\n",
       "      <td>1</td>\n",
       "      <td>0</td>\n",
       "      <td>0</td>\n",
       "      <td>8</td>\n",
       "      <td>0</td>\n",
       "      <td>False</td>\n",
       "      <td>1</td>\n",
       "      <td>0</td>\n",
       "    </tr>\n",
       "    <tr>\n",
       "      <th>2019-04-18 00:00:05.589</th>\n",
       "      <td>27</td>\n",
       "      <td>0</td>\n",
       "      <td>3399210824535017892</td>\n",
       "      <td>False</td>\n",
       "      <td>False</td>\n",
       "      <td>6287817205707153877</td>\n",
       "      <td>0</td>\n",
       "      <td>190</td>\n",
       "      <td>2</td>\n",
       "      <td>3278</td>\n",
       "      <td>...</td>\n",
       "      <td>21</td>\n",
       "      <td>14</td>\n",
       "      <td>6</td>\n",
       "      <td>1</td>\n",
       "      <td>1</td>\n",
       "      <td>2</td>\n",
       "      <td>0</td>\n",
       "      <td>False</td>\n",
       "      <td>1</td>\n",
       "      <td>1</td>\n",
       "    </tr>\n",
       "    <tr>\n",
       "      <th>2019-04-18 00:00:06.795</th>\n",
       "      <td>339</td>\n",
       "      <td>0</td>\n",
       "      <td>1541425881979513687</td>\n",
       "      <td>False</td>\n",
       "      <td>False</td>\n",
       "      <td>6287817205707153877</td>\n",
       "      <td>0</td>\n",
       "      <td>190</td>\n",
       "      <td>2</td>\n",
       "      <td>13419</td>\n",
       "      <td>...</td>\n",
       "      <td>68</td>\n",
       "      <td>46</td>\n",
       "      <td>10</td>\n",
       "      <td>1</td>\n",
       "      <td>1</td>\n",
       "      <td>6</td>\n",
       "      <td>0</td>\n",
       "      <td>False</td>\n",
       "      <td>1</td>\n",
       "      <td>1</td>\n",
       "    </tr>\n",
       "  </tbody>\n",
       "</table>\n",
       "<p>5 rows × 33 columns</p>\n",
       "</div>"
      ],
      "text/plain": [
       "                         application_id  ref_type             ref_hash  \\\n",
       "created                                                                  \n",
       "2019-04-18 00:00:01.560              70         1  4432995619177048534   \n",
       "2019-04-18 00:00:01.851              70         1  5904733559638204455   \n",
       "2019-04-18 00:00:05.152              65         1   896373747754111825   \n",
       "2019-04-18 00:00:05.589              27         0  3399210824535017892   \n",
       "2019-04-18 00:00:06.795             339         0  1541425881979513687   \n",
       "\n",
       "                         attributed  implicit   device_countrycode  \\\n",
       "created                                                              \n",
       "2019-04-18 00:00:01.560       False     False  6287817205707153877   \n",
       "2019-04-18 00:00:01.851       False     False  6287817205707153877   \n",
       "2019-04-18 00:00:05.152       False      True  6287817205707153877   \n",
       "2019-04-18 00:00:05.589       False     False  6287817205707153877   \n",
       "2019-04-18 00:00:06.795       False     False  6287817205707153877   \n",
       "\n",
       "                         device_brand  device_model  session_user_agent  \\\n",
       "created                                                                   \n",
       "2019-04-18 00:00:01.560             0           208                1095   \n",
       "2019-04-18 00:00:01.851             0           208                1095   \n",
       "2019-04-18 00:00:05.152             6           102                   2   \n",
       "2019-04-18 00:00:05.589             0           190                   2   \n",
       "2019-04-18 00:00:06.795             0           190                   2   \n",
       "\n",
       "                         user_agent       ...         agentes  top50agentes  \\\n",
       "created                                   ...                                 \n",
       "2019-04-18 00:00:01.560           0       ...               0             0   \n",
       "2019-04-18 00:00:01.851           0       ...               0             0   \n",
       "2019-04-18 00:00:05.152         540       ...               2             2   \n",
       "2019-04-18 00:00:05.589        3278       ...              21            14   \n",
       "2019-04-18 00:00:06.795       13419       ...              68            46   \n",
       "\n",
       "                         top10agentes  kindReducido  top10tipo  top10leng  \\\n",
       "created                                                                     \n",
       "2019-04-18 00:00:01.560             0             1          1          9   \n",
       "2019-04-18 00:00:01.851             0             1          1          9   \n",
       "2019-04-18 00:00:05.152             1             0          0          8   \n",
       "2019-04-18 00:00:05.589             6             1          1          2   \n",
       "2019-04-18 00:00:06.795            10             1          1          6   \n",
       "\n",
       "                         early_morning  weekend  easter_holiday  \\\n",
       "created                                                           \n",
       "2019-04-18 00:00:01.560              0    False               1   \n",
       "2019-04-18 00:00:01.851              0    False               1   \n",
       "2019-04-18 00:00:05.152              0    False               1   \n",
       "2019-04-18 00:00:05.589              0    False               1   \n",
       "2019-04-18 00:00:06.795              0    False               1   \n",
       "\n",
       "                         nuevoDisositivo  \n",
       "created                                   \n",
       "2019-04-18 00:00:01.560                1  \n",
       "2019-04-18 00:00:01.851                0  \n",
       "2019-04-18 00:00:05.152                0  \n",
       "2019-04-18 00:00:05.589                1  \n",
       "2019-04-18 00:00:06.795                1  \n",
       "\n",
       "[5 rows x 33 columns]"
      ]
     },
     "execution_count": 4,
     "metadata": {},
     "output_type": "execute_result"
    }
   ],
   "source": [
    "installs.head()"
   ]
  },
  {
   "cell_type": "code",
   "execution_count": 5,
   "metadata": {},
   "outputs": [
    {
     "data": {
      "text/plain": [
       "\"marcas = list(installs['device_brand'].drop_duplicates())\\n\\ndef categorizarDeviceBrand(x):\\n    return marcas.index(x) if (x != -1) else x\\n\\ninstalls['device_brand'] = installs['device_brand'].fillna(-1).apply(categorizarDeviceBrand)\""
      ]
     },
     "execution_count": 5,
     "metadata": {},
     "output_type": "execute_result"
    }
   ],
   "source": [
    "\"\"\"marcas = list(installs['device_brand'].drop_duplicates())\n",
    "\n",
    "def categorizarDeviceBrand(x):\n",
    "    return marcas.index(x) if (x != -1) else x\n",
    "\n",
    "installs['device_brand'] = installs['device_brand'].fillna(-1).apply(categorizarDeviceBrand)\"\"\""
   ]
  },
  {
   "cell_type": "code",
   "execution_count": 6,
   "metadata": {},
   "outputs": [
    {
     "data": {
      "text/plain": [
       "\"device_model = list(installs['device_model'].drop_duplicates())\\n\\ndef categorizarDeviceModel(x):\\n    return device_model.index(x) if (x != -1) else x\\n\\ninstalls['device_model'] = installs['device_model'].fillna(-1).apply(categorizarDeviceModel)\""
      ]
     },
     "execution_count": 6,
     "metadata": {},
     "output_type": "execute_result"
    }
   ],
   "source": [
    "\"\"\"device_model = list(installs['device_model'].drop_duplicates())\n",
    "\n",
    "def categorizarDeviceModel(x):\n",
    "    return device_model.index(x) if (x != -1) else x\n",
    "\n",
    "installs['device_model'] = installs['device_model'].fillna(-1).apply(categorizarDeviceModel)\"\"\""
   ]
  },
  {
   "cell_type": "code",
   "execution_count": 7,
   "metadata": {},
   "outputs": [
    {
     "data": {
      "text/plain": [
       "\"device_language = list(installs['device_language'].drop_duplicates())\\n\\ndef categorizarDeviceLanguage(x):\\n    return device_language.index(x) if (x != -1) else x\\n\\ninstalls['device_language'] = installs['device_language'].fillna(-1).apply(categorizarDeviceLanguage)\\ninstalls.describe()\""
      ]
     },
     "execution_count": 7,
     "metadata": {},
     "output_type": "execute_result"
    }
   ],
   "source": [
    "\"\"\"device_language = list(installs['device_language'].drop_duplicates())\n",
    "\n",
    "def categorizarDeviceLanguage(x):\n",
    "    return device_language.index(x) if (x != -1) else x\n",
    "\n",
    "installs['device_language'] = installs['device_language'].fillna(-1).apply(categorizarDeviceLanguage)\n",
    "installs.describe()\"\"\""
   ]
  },
  {
   "cell_type": "code",
   "execution_count": 8,
   "metadata": {},
   "outputs": [],
   "source": [
    "info1 = installs['2019-04-21':'2019-04-23'].reset_index().groupby('ref_hash').agg({'created' : 'min'})\n",
    "info1['created'] = info1['created'] - pd.Timestamp('2019-04-21 00:00:00')\n",
    "info1['created'] = info1['created'].transform(lambda x: x.total_seconds())\n",
    "info1 = info1.reset_index()\n",
    "info1 = info1.merge(installs['2019-04-18':'2019-04-20'].reset_index(),on=\"ref_hash\", how=\"right\")\n",
    "info1 = info1.rename(columns={'created_x':'label','created_y':'created'})\n",
    "\n",
    "label1 = info1['label'].to_frame()\n",
    "train1 = info1.drop('label', axis=1)"
   ]
  },
  {
   "cell_type": "code",
   "execution_count": 9,
   "metadata": {},
   "outputs": [],
   "source": [
    "info2 = installs['2019-04-22':'2019-04-24'].reset_index().groupby('ref_hash').agg({'created' : 'min'})\n",
    "info2['created'] = info2['created'] - pd.Timestamp('2019-04-22 00:00:00')\n",
    "info2['created'] = info2['created'].transform(lambda x: x.total_seconds())\n",
    "info2 = info2.reset_index()\n",
    "info2 = info2.merge(installs['2019-04-19':'2019-04-21'].reset_index(),on=\"ref_hash\", how=\"right\")\n",
    "info2 = info2.rename(columns={'created_x':'label','created_y':'created'})\n",
    "\n",
    "label2 = info2['label'].to_frame()\n",
    "train2 = info2.drop('label', axis=1)"
   ]
  },
  {
   "cell_type": "code",
   "execution_count": 10,
   "metadata": {},
   "outputs": [],
   "source": [
    "info3 = installs['2019-04-23':'2019-04-25'].reset_index().groupby('ref_hash').agg({'created' : 'min'})\n",
    "info3['created'] = info3['created'] - pd.Timestamp('2019-04-23 00:00:00')\n",
    "info3['created'] = info3['created'].transform(lambda x: x.total_seconds())\n",
    "info3 = info3.reset_index()\n",
    "info3 = info3.merge(installs['2019-04-20':'2019-04-22'].reset_index(),on=\"ref_hash\", how=\"right\")\n",
    "info3 = info3.rename(columns={'created_x':'label','created_y':'created'})\n",
    "\n",
    "label3 = info3['label'].to_frame()\n",
    "train3 = info3.drop('label', axis=1)"
   ]
  },
  {
   "cell_type": "code",
   "execution_count": 11,
   "metadata": {},
   "outputs": [],
   "source": [
    "info4 = installs['2019-04-24':'2019-04-26'].reset_index().groupby('ref_hash').agg({'created' : 'min'})\n",
    "info4['created'] = info4['created'] - pd.Timestamp('2019-04-24 00:00:00')\n",
    "info4['created'] = info4['created'].transform(lambda x: x.total_seconds())\n",
    "info4 = info4.reset_index()\n",
    "info4 = info4.merge(installs['2019-04-21':'2019-04-23'].reset_index(),on=\"ref_hash\", how=\"right\")\n",
    "info4 = info4.rename(columns={'created_x':'label','created_y':'created'})\n",
    "\n",
    "label4 = info4['label'].to_frame()\n",
    "train4 = info4.drop('label', axis=1)\n"
   ]
  },
  {
   "cell_type": "code",
   "execution_count": 12,
   "metadata": {},
   "outputs": [],
   "source": [
    "train1 = train1.dropna()\n",
    "train2 = train2.dropna()\n",
    "train3 = train3.dropna()\n",
    "train4 = train4.dropna()\n",
    "label1 = label1.fillna(3*24*60*60)\n",
    "label2 = label2.fillna(3*24*60*60)\n",
    "label3 = label3.fillna(3*24*60*60)\n",
    "label4 = label4.fillna(3*24*60*60)"
   ]
  },
  {
   "cell_type": "markdown",
   "metadata": {},
   "source": [
    "# Agrego unos features mas"
   ]
  },
  {
   "cell_type": "code",
   "execution_count": 13,
   "metadata": {},
   "outputs": [],
   "source": [
    "train1['tiempoDesdeComienzoDeVentana'] = (installs.reset_index()['created'] - pd.Timestamp('2019-04-18 00:00:00')).transform(lambda x: x.total_seconds())\n",
    "train2['tiempoDesdeComienzoDeVentana'] = (installs.reset_index()['created'] - pd.Timestamp('2019-04-19 00:00:00')).transform(lambda x: x.total_seconds())\n",
    "train3['tiempoDesdeComienzoDeVentana'] = (installs.reset_index()['created'] - pd.Timestamp('2019-04-20 00:00:00')).transform(lambda x: x.total_seconds())\n",
    "train4['tiempoDesdeComienzoDeVentana'] = (installs.reset_index()['created'] - pd.Timestamp('2019-04-21 00:00:00')).transform(lambda x: x.total_seconds())"
   ]
  },
  {
   "cell_type": "code",
   "execution_count": 14,
   "metadata": {},
   "outputs": [],
   "source": [
    "train1['accionesDesdeQueComenzoLaVentana'] = np.arange(len(train1))\n",
    "train2['accionesDesdeQueComenzoLaVentana'] = np.arange(len(train2))\n",
    "train3['accionesDesdeQueComenzoLaVentana'] = np.arange(len(train3))\n",
    "train4['accionesDesdeQueComenzoLaVentana'] = np.arange(len(train4))"
   ]
  },
  {
   "cell_type": "code",
   "execution_count": 15,
   "metadata": {},
   "outputs": [],
   "source": [
    "train1.drop(['created'],axis =1, inplace = True )\n",
    "train2.drop(['created'],axis =1, inplace = True )\n",
    "train3.drop(['created'],axis =1, inplace = True )\n",
    "train4.drop(['created'],axis =1, inplace = True )"
   ]
  },
  {
   "cell_type": "code",
   "execution_count": 16,
   "metadata": {},
   "outputs": [
    {
     "name": "stdout",
     "output_type": "stream",
     "text": [
      "<class 'pandas.core.frame.DataFrame'>\n",
      "Int64Index: 160861 entries, 0 to 160860\n",
      "Data columns (total 35 columns):\n",
      "ref_hash                            160861 non-null int64\n",
      "application_id                      160861 non-null int64\n",
      "ref_type                            160861 non-null int64\n",
      "attributed                          160861 non-null bool\n",
      "implicit                            160861 non-null bool\n",
      "device_countrycode                  160861 non-null int64\n",
      "device_brand                        160861 non-null int64\n",
      "device_model                        160861 non-null int64\n",
      "session_user_agent                  160861 non-null int64\n",
      "user_agent                          160861 non-null int64\n",
      "kind                                160861 non-null int64\n",
      "wifi                                160861 non-null bool\n",
      "ip_address                          160861 non-null int64\n",
      "device_language                     160861 non-null int64\n",
      "TopApp/Otro                         160861 non-null int64\n",
      "dia                                 160861 non-null int64\n",
      "hora                                160861 non-null int64\n",
      "minuto                              160861 non-null int64\n",
      "diaDeLaSemana                       160861 non-null int64\n",
      "top10apps                           160861 non-null int64\n",
      "top50marcas                         160861 non-null int64\n",
      "top10marcas                         160861 non-null int64\n",
      "top10marcasSinNan                   160861 non-null int64\n",
      "agentes                             160861 non-null int64\n",
      "top50agentes                        160861 non-null int64\n",
      "top10agentes                        160861 non-null int64\n",
      "kindReducido                        160861 non-null int64\n",
      "top10tipo                           160861 non-null int64\n",
      "top10leng                           160861 non-null int64\n",
      "early_morning                       160861 non-null int64\n",
      "weekend                             160861 non-null bool\n",
      "easter_holiday                      160861 non-null int64\n",
      "nuevoDisositivo                     160861 non-null int64\n",
      "tiempoDesdeComienzoDeVentana        160861 non-null float64\n",
      "accionesDesdeQueComenzoLaVentana    160861 non-null int64\n",
      "dtypes: bool(4), float64(1), int64(30)\n",
      "memory usage: 39.9 MB\n"
     ]
    }
   ],
   "source": [
    "train1.info()"
   ]
  },
  {
   "cell_type": "code",
   "execution_count": 17,
   "metadata": {},
   "outputs": [
    {
     "data": {
      "text/plain": [
       "Index(['ref_hash', 'application_id', 'ref_type', 'attributed', 'implicit',\n",
       "       'device_countrycode', 'device_brand', 'device_model',\n",
       "       'session_user_agent', 'user_agent', 'kind', 'wifi', 'ip_address',\n",
       "       'device_language', 'TopApp/Otro', 'dia', 'hora', 'minuto',\n",
       "       'diaDeLaSemana', 'top10apps', 'top50marcas', 'top10marcas',\n",
       "       'top10marcasSinNan', 'agentes', 'top50agentes', 'top10agentes',\n",
       "       'kindReducido', 'top10tipo', 'top10leng', 'early_morning', 'weekend',\n",
       "       'easter_holiday', 'nuevoDisositivo', 'tiempoDesdeComienzoDeVentana',\n",
       "       'accionesDesdeQueComenzoLaVentana'],\n",
       "      dtype='object')"
      ]
     },
     "execution_count": 17,
     "metadata": {},
     "output_type": "execute_result"
    }
   ],
   "source": [
    "train1.columns"
   ]
  },
  {
   "cell_type": "code",
   "execution_count": 18,
   "metadata": {},
   "outputs": [],
   "source": [
    "features = ['ref_hash']#, 'application_id', 'ref_type', 'attributed', 'implicit',\n",
    "       #'device_countrycode', 'device_brand', 'device_model',\n",
    "       #'session_user_agent', 'user_agent', 'kind', 'wifi', 'ip_address',\n",
    "       #'device_language', 'TopApp/Otro', 'dia', 'hora', 'minuto',\n",
    "       #'diaDeLaSemana', 'top10apps', 'top50marcas', 'top10marcas',\n",
    "       #'top10marcasSinNan', 'agentes', 'top50agentes', 'top10agentes',\n",
    "       #'kindReducido', 'top10tipo', 'top10leng', 'early_morning', 'weekend',\n",
    "       #'easter_holiday', 'nuevoDisositivo', 'tiempoDesdeComienzoDeVentana',\n",
    "       #'accionesDesdeQueComenzoLaVentana']"
   ]
  },
  {
   "cell_type": "code",
   "execution_count": 21,
   "metadata": {},
   "outputs": [
    {
     "data": {
      "text/plain": [
       "\"    le = preprocessing.LabelEncoder()\\n    le_labels = le.fit_transform(df[col_name])\\n    df[col_name+'_label'] = le_labels\\n    # one hot encoding\\n    ohe = preprocessing.OneHotEncoder()\\n    feature_arr = ohe.fit_transform(df[[col_name+'_label']]).toarray()\\n    feature_labels = [col_name+'_'+str(cls_label) for cls_label in le.classes_]\\n    features_df = pd.DataFrame(feature_arr, columns=feature_labels)\\n    return le,ohe,features_df\\n\\ninstalls = fit_transform_one(installs,)\""
      ]
     },
     "execution_count": 21,
     "metadata": {},
     "output_type": "execute_result"
    }
   ],
   "source": [
    "#def fit_transform_ohe(df,col_name):\n",
    "\"\"\"This function performs one hot encoding for the specified\n",
    "column.\n",
    "    Args:\n",
    "        df(pandas.DataFrame): the data frame containing the mentioned column name\n",
    "        col_name: the column to be one hot encoded\n",
    "    Returns:\n",
    "        tuple: label_encoder, one_hot_encoder, transformed column as pandas Series\n",
    "    \"\"\"\n",
    "    # label encode the column\n",
    "'''    le = preprocessing.LabelEncoder()\n",
    "    le_labels = le.fit_transform(df[col_name])\n",
    "    df[col_name+'_label'] = le_labels\n",
    "    # one hot encoding\n",
    "    ohe = preprocessing.OneHotEncoder()\n",
    "    feature_arr = ohe.fit_transform(df[[col_name+'_label']]).toarray()\n",
    "    feature_labels = [col_name+'_'+str(cls_label) for cls_label in le.classes_]\n",
    "    features_df = pd.DataFrame(feature_arr, columns=feature_labels)\n",
    "    return le,ohe,features_df\n",
    "\n",
    "installs = fit_transform_one(installs,)'''"
   ]
  },
  {
   "cell_type": "markdown",
   "metadata": {},
   "source": [
    "# Analisis"
   ]
  },
  {
   "cell_type": "markdown",
   "metadata": {},
   "source": [
    "## Entreno"
   ]
  },
  {
   "cell_type": "code",
   "execution_count": 22,
   "metadata": {},
   "outputs": [],
   "source": [
    "from sklearn.tree import DecisionTreeRegressor"
   ]
  },
  {
   "cell_type": "code",
   "execution_count": 23,
   "metadata": {},
   "outputs": [
    {
     "data": {
      "text/plain": [
       "8371.285337675163"
      ]
     },
     "execution_count": 23,
     "metadata": {},
     "output_type": "execute_result"
    }
   ],
   "source": [
    "regression_model = DecisionTreeRegressor(criterion=\"mse\",min_samples_leaf=5) \n",
    "regression_model.fit(train1,label1)\n",
    "predicted = regression_model.predict(train1)\n",
    "predicted = pd.DataFrame(predicted)\n",
    "RMSE = np.sqrt(np.sum(((label1['label']-predicted[0])**2)/len(label1)))\n",
    "RMSE"
   ]
  },
  {
   "cell_type": "markdown",
   "metadata": {},
   "source": [
    "### Veo con que min_sample_leaf conviene"
   ]
  },
  {
   "cell_type": "code",
   "execution_count": 24,
   "metadata": {},
   "outputs": [
    {
     "data": {
      "image/png": "[encoded data removed]",
      "text/plain": [
       "<matplotlib.figure.Figure at 0x7fc12184d2b0>"
      ]
     },
     "metadata": {
      "needs_background": "light"
     },
     "output_type": "display_data"
    }
   ],
   "source": [
    "\"\"\"\n",
    "Plot the RMSE with respect to the minimum number of instances\n",
    "\"\"\" \n",
    "fig = plt.figure()\n",
    "ax0 = fig.add_subplot(111) \n",
    "RMSE_train = []\n",
    "RMSE_test2 = []\n",
    "RMSE_test3 = []\n",
    "RMSE_test4 = []\n",
    "for i in range(1,25):\n",
    "    #Paramterize the model and let i be the number of minimum instances per leaf node\n",
    "    regression_model = DecisionTreeRegressor(criterion=\"mse\",min_samples_leaf=i)   \n",
    "    #Train the model\n",
    "    regression_model.fit(train1,label1)\n",
    "    #Predict query instances\n",
    "    predicted_train = regression_model.predict(train1)\n",
    "    predicted_test2 = regression_model.predict(train2)\n",
    "    predicted_test3 = regression_model.predict(train3)\n",
    "    predicted_test4 = regression_model.predict(train4)\n",
    "    #Calculate and append the RMSEs\n",
    "    RMSE_train.append(np.sqrt(np.sum(((label1['label']-predicted_train[0])**2)/len(label1['label']))))\n",
    "    RMSE_test2.append(np.sqrt(np.sum(((label2['label']-predicted_test2[0])**2)/len(label2['label']))))\n",
    "    RMSE_test3.append(np.sqrt(np.sum(((label3['label']-predicted_test3[0])**2)/len(label3['label']))))\n",
    "    RMSE_test4.append(np.sqrt(np.sum(((label4['label']-predicted_test4[0])**2)/len(label4['label']))))\n",
    "   \n",
    "ax0.plot(range(1,25),RMSE_test2,label='Test_Data2')\n",
    "ax0.plot(range(1,25),RMSE_test3,label='Test_Data3')\n",
    "ax0.plot(range(1,25),RMSE_test4,label='Test_Data4')\n",
    "ax0.plot(range(1,25),RMSE_train,label='Train_Data2')\n",
    "ax0.legend()\n",
    "ax0.set_title('RMSE with respect to the minumim number of instances per node')\n",
    "ax0.set_xlabel('#Instances')\n",
    "ax0.set_ylabel('RMSE')\n",
    "plt.show()"
   ]
  },
  {
   "cell_type": "markdown",
   "metadata": {},
   "source": [
    "## Otra forma de ver parametros"
   ]
  },
  {
   "cell_type": "code",
   "execution_count": null,
   "metadata": {},
   "outputs": [],
   "source": [
    "\"\"\"\n",
    "Plot the RMSE with respect to the minimum number of instances\n",
    "\"\"\" \n",
    "'''fig = plt.figure()\n",
    "ax0 = fig.add_subplot(111) \n",
    "RMSE_train = []\n",
    "RMSE_test = []\n",
    "for i in range(1,50):\n",
    "    #Paramterize the model and let i be the number of minimum instances per leaf node\n",
    "    regression_model = DecisionTreeRegressor(criterion=\"mse\",min_samples_leaf=i)   \n",
    "    #Train the model\n",
    "    regression_model.fit(train1,label1)\n",
    "    #Predict query instances\n",
    "    predicted_train = regression_model.predict(train1)\n",
    "    predicted_test = regression_model.predict(train4)\n",
    "    #Calculate and append the RMSEs\n",
    "    RMSE_train.append(np.sqrt(np.sum(((label1['label']-predicted_train[0])**2)/len(label1['label']))))\n",
    "    RMSE_test.append(np.sqrt(np.sum(((label4['label']-predicted_test[0])**2)/len(label4['label']))))'''"
   ]
  },
  {
   "cell_type": "code",
   "execution_count": null,
   "metadata": {},
   "outputs": [],
   "source": [
    "'''ax0.plot(range(1,50),RMSE_test,label='Test_Data')\n",
    "ax0.plot(range(1,50),RMSE_train,label='Train_Data')\n",
    "ax0.legend()\n",
    "ax0.set_title('RMSE with respect to the minumim number of instances per node')\n",
    "ax0.set_xlabel('#Instances')\n",
    "ax0.set_ylabel('RMSE')\n",
    "plt.show()'''"
   ]
  },
  {
   "cell_type": "markdown",
   "metadata": {},
   "source": [
    "### Elijo min_sample_leaf de 14, parece que en todos da un resultado relativamente bueno."
   ]
  },
  {
   "cell_type": "code",
   "execution_count": 25,
   "metadata": {},
   "outputs": [
    {
     "data": {
      "text/plain": [
       "11345.60874303161"
      ]
     },
     "execution_count": 25,
     "metadata": {},
     "output_type": "execute_result"
    }
   ],
   "source": [
    "regression_model = DecisionTreeRegressor(criterion=\"mse\",min_samples_leaf=14) \n",
    "regression_model.fit(train1,label1)\n",
    "predicted = regression_model.predict(train1)\n",
    "predicted = pd.DataFrame(predicted)\n",
    "RMSE = np.sqrt(np.sum(((label1['label']-predicted[0])**2)/len(label1)))\n",
    "RMSE"
   ]
  },
  {
   "cell_type": "markdown",
   "metadata": {},
   "source": [
    "### Hago otras pruebas"
   ]
  },
  {
   "cell_type": "code",
   "execution_count": null,
   "metadata": {},
   "outputs": [],
   "source": [
    "predicted = regression_model.predict(train2)\n",
    "predicted = pd.DataFrame(predicted)\n",
    "RMSE = np.sqrt(np.sum(((label2['label']-predicted[0])**2)/len(label2)))\n",
    "RMSE"
   ]
  },
  {
   "cell_type": "code",
   "execution_count": null,
   "metadata": {},
   "outputs": [],
   "source": [
    "predicted = regression_model.predict(train3)\n",
    "predicted = pd.DataFrame(predicted)\n",
    "RMSE = np.sqrt(np.sum(((label3['label']-predicted[0])**2)/len(label3)))\n",
    "RMSE"
   ]
  },
  {
   "cell_type": "code",
   "execution_count": null,
   "metadata": {},
   "outputs": [],
   "source": [
    "predicted = regression_model.predict(train4)\n",
    "predicted = pd.DataFrame(predicted)\n",
    "RMSE = np.sqrt(np.sum(((label4['label']-predicted[0])**2)/len(label4)))\n",
    "RMSE"
   ]
  },
  {
   "cell_type": "markdown",
   "metadata": {},
   "source": [
    "## Predigo"
   ]
  },
  {
   "cell_type": "code",
   "execution_count": null,
   "metadata": {},
   "outputs": [],
   "source": [
    "ultimo = installs['2019-04-24':'2019-04-26'].reset_index()"
   ]
  },
  {
   "cell_type": "code",
   "execution_count": null,
   "metadata": {},
   "outputs": [],
   "source": [
    "ultimo = ultimo.dropna()\n",
    "ultimo.drop(['created'],axis =1, inplace = True )\n",
    "ultimo['tiempoDesdeComienzoDeVentana'] = (installs.reset_index()['created'] - pd.Timestamp('2019-04-24 00:00:00')).transform(lambda x: x.total_seconds())\n",
    "ultimo['accionesDesdeQueComenzoLaVentana'] = np.arange(len(ultimo))\n"
   ]
  },
  {
   "cell_type": "code",
   "execution_count": null,
   "metadata": {},
   "outputs": [],
   "source": [
    "predicted = regression_model.predict(ultimo)"
   ]
  },
  {
   "cell_type": "code",
   "execution_count": null,
   "metadata": {},
   "outputs": [],
   "source": [
    "preds = pd.DataFrame(predicted)\n",
    "preds"
   ]
  },
  {
   "cell_type": "code",
   "execution_count": null,
   "metadata": {},
   "outputs": [],
   "source": [
    "preds.max()"
   ]
  },
  {
   "cell_type": "markdown",
   "metadata": {},
   "source": [
    "### Verifico que el maximo sea 3 * 24 * 60 * 60"
   ]
  },
  {
   "cell_type": "code",
   "execution_count": null,
   "metadata": {},
   "outputs": [],
   "source": [
    "preds[0] = preds[0].transform(lambda x: min(x, 3*24*60*60))"
   ]
  },
  {
   "cell_type": "code",
   "execution_count": null,
   "metadata": {},
   "outputs": [],
   "source": [
    "preds.max()"
   ]
  },
  {
   "cell_type": "markdown",
   "metadata": {},
   "source": [
    "# Que pasa si usamos todos los datos a la vez?"
   ]
  },
  {
   "cell_type": "code",
   "execution_count": 45,
   "metadata": {},
   "outputs": [
    {
     "data": {
      "text/html": [
       "<div>\n",
       "<style>\n",
       "    .dataframe thead tr:only-child th {\n",
       "        text-align: right;\n",
       "    }\n",
       "\n",
       "    .dataframe thead th {\n",
       "        text-align: left;\n",
       "    }\n",
       "\n",
       "    .dataframe tbody tr th {\n",
       "        vertical-align: top;\n",
       "    }\n",
       "</style>\n",
       "<table border=\"1\" class=\"dataframe\">\n",
       "  <thead>\n",
       "    <tr style=\"text-align: right;\">\n",
       "      <th></th>\n",
       "      <th>ref_hash</th>\n",
       "      <th>application_id</th>\n",
       "      <th>ref_type</th>\n",
       "      <th>implicit</th>\n",
       "      <th>device_model</th>\n",
       "      <th>user_agent</th>\n",
       "      <th>ip_address</th>\n",
       "      <th>TopApp/Otro</th>\n",
       "      <th>dia</th>\n",
       "      <th>hora</th>\n",
       "      <th>minuto</th>\n",
       "      <th>diaDeLaSemana</th>\n",
       "      <th>top10apps</th>\n",
       "      <th>top50marcas</th>\n",
       "      <th>top50agentes</th>\n",
       "      <th>nuevoDisositivo</th>\n",
       "      <th>tiempoDesdeComienzoDeVentana</th>\n",
       "      <th>accionesDesdeQueComenzoLaVentana</th>\n",
       "    </tr>\n",
       "  </thead>\n",
       "  <tbody>\n",
       "    <tr>\n",
       "      <th>0</th>\n",
       "      <td>2493454867357963</td>\n",
       "      <td>158</td>\n",
       "      <td>1</td>\n",
       "      <td>False</td>\n",
       "      <td>120</td>\n",
       "      <td>0</td>\n",
       "      <td>8426419977387901158</td>\n",
       "      <td>0</td>\n",
       "      <td>20</td>\n",
       "      <td>22</td>\n",
       "      <td>22</td>\n",
       "      <td>5</td>\n",
       "      <td>0</td>\n",
       "      <td>0</td>\n",
       "      <td>0</td>\n",
       "      <td>0</td>\n",
       "      <td>1.56</td>\n",
       "      <td>0</td>\n",
       "    </tr>\n",
       "    <tr>\n",
       "      <th>1</th>\n",
       "      <td>3589607969461633</td>\n",
       "      <td>77</td>\n",
       "      <td>1</td>\n",
       "      <td>False</td>\n",
       "      <td>70</td>\n",
       "      <td>0</td>\n",
       "      <td>1036806782641860771</td>\n",
       "      <td>0</td>\n",
       "      <td>18</td>\n",
       "      <td>14</td>\n",
       "      <td>57</td>\n",
       "      <td>3</td>\n",
       "      <td>0</td>\n",
       "      <td>0</td>\n",
       "      <td>0</td>\n",
       "      <td>1</td>\n",
       "      <td>1.85</td>\n",
       "      <td>1</td>\n",
       "    </tr>\n",
       "    <tr>\n",
       "      <th>2</th>\n",
       "      <td>3589607969461633</td>\n",
       "      <td>302</td>\n",
       "      <td>1</td>\n",
       "      <td>False</td>\n",
       "      <td>70</td>\n",
       "      <td>68</td>\n",
       "      <td>1036806782641860771</td>\n",
       "      <td>0</td>\n",
       "      <td>18</td>\n",
       "      <td>16</td>\n",
       "      <td>16</td>\n",
       "      <td>3</td>\n",
       "      <td>0</td>\n",
       "      <td>6</td>\n",
       "      <td>2</td>\n",
       "      <td>0</td>\n",
       "      <td>5.15</td>\n",
       "      <td>2</td>\n",
       "    </tr>\n",
       "    <tr>\n",
       "      <th>3</th>\n",
       "      <td>3861795021724487</td>\n",
       "      <td>339</td>\n",
       "      <td>0</td>\n",
       "      <td>False</td>\n",
       "      <td>190</td>\n",
       "      <td>13403</td>\n",
       "      <td>8499290145871692375</td>\n",
       "      <td>0</td>\n",
       "      <td>20</td>\n",
       "      <td>18</td>\n",
       "      <td>13</td>\n",
       "      <td>5</td>\n",
       "      <td>0</td>\n",
       "      <td>0</td>\n",
       "      <td>46</td>\n",
       "      <td>1</td>\n",
       "      <td>5.59</td>\n",
       "      <td>3</td>\n",
       "    </tr>\n",
       "    <tr>\n",
       "      <th>4</th>\n",
       "      <td>6455321535851721</td>\n",
       "      <td>94</td>\n",
       "      <td>1</td>\n",
       "      <td>False</td>\n",
       "      <td>74</td>\n",
       "      <td>0</td>\n",
       "      <td>4458082048655699359</td>\n",
       "      <td>0</td>\n",
       "      <td>19</td>\n",
       "      <td>3</td>\n",
       "      <td>30</td>\n",
       "      <td>4</td>\n",
       "      <td>0</td>\n",
       "      <td>0</td>\n",
       "      <td>0</td>\n",
       "      <td>0</td>\n",
       "      <td>6.80</td>\n",
       "      <td>4</td>\n",
       "    </tr>\n",
       "  </tbody>\n",
       "</table>\n",
       "</div>"
      ],
      "text/plain": [
       "           ref_hash  application_id  ref_type  implicit  device_model  \\\n",
       "0  2493454867357963             158         1     False           120   \n",
       "1  3589607969461633              77         1     False            70   \n",
       "2  3589607969461633             302         1     False            70   \n",
       "3  3861795021724487             339         0     False           190   \n",
       "4  6455321535851721              94         1     False            74   \n",
       "\n",
       "   user_agent           ip_address  TopApp/Otro  dia  hora  minuto  \\\n",
       "0           0  8426419977387901158            0   20    22      22   \n",
       "1           0  1036806782641860771            0   18    14      57   \n",
       "2          68  1036806782641860771            0   18    16      16   \n",
       "3       13403  8499290145871692375            0   20    18      13   \n",
       "4           0  4458082048655699359            0   19     3      30   \n",
       "\n",
       "   diaDeLaSemana  top10apps  top50marcas  top50agentes  nuevoDisositivo  \\\n",
       "0              5          0            0             0                0   \n",
       "1              3          0            0             0                1   \n",
       "2              3          0            6             2                0   \n",
       "3              5          0            0            46                1   \n",
       "4              4          0            0             0                0   \n",
       "\n",
       "   tiempoDesdeComienzoDeVentana  accionesDesdeQueComenzoLaVentana  \n",
       "0                          1.56                                 0  \n",
       "1                          1.85                                 1  \n",
       "2                          5.15                                 2  \n",
       "3                          5.59                                 3  \n",
       "4                          6.80                                 4  "
      ]
     },
     "execution_count": 45,
     "metadata": {},
     "output_type": "execute_result"
    }
   ],
   "source": [
    "train = train1.append(train2)\n",
    "train = train.append(train3)\n",
    "#train = train.append(train4)\n",
    "train.head()"
   ]
  },
  {
   "cell_type": "code",
   "execution_count": 46,
   "metadata": {},
   "outputs": [
    {
     "data": {
      "text/html": [
       "<div>\n",
       "<style>\n",
       "    .dataframe thead tr:only-child th {\n",
       "        text-align: right;\n",
       "    }\n",
       "\n",
       "    .dataframe thead th {\n",
       "        text-align: left;\n",
       "    }\n",
       "\n",
       "    .dataframe tbody tr th {\n",
       "        vertical-align: top;\n",
       "    }\n",
       "</style>\n",
       "<table border=\"1\" class=\"dataframe\">\n",
       "  <thead>\n",
       "    <tr style=\"text-align: right;\">\n",
       "      <th></th>\n",
       "      <th>label</th>\n",
       "    </tr>\n",
       "  </thead>\n",
       "  <tbody>\n",
       "    <tr>\n",
       "      <th>0</th>\n",
       "      <td>19,452.72</td>\n",
       "    </tr>\n",
       "    <tr>\n",
       "      <th>1</th>\n",
       "      <td>108,671.33</td>\n",
       "    </tr>\n",
       "    <tr>\n",
       "      <th>2</th>\n",
       "      <td>108,671.33</td>\n",
       "    </tr>\n",
       "    <tr>\n",
       "      <th>3</th>\n",
       "      <td>252,890.11</td>\n",
       "    </tr>\n",
       "    <tr>\n",
       "      <th>4</th>\n",
       "      <td>217,290.61</td>\n",
       "    </tr>\n",
       "  </tbody>\n",
       "</table>\n",
       "</div>"
      ],
      "text/plain": [
       "                 label\n",
       "0            19,452.72\n",
       "1           108,671.33\n",
       "2           108,671.33\n",
       "3           252,890.11\n",
       "4           217,290.61"
      ]
     },
     "execution_count": 46,
     "metadata": {},
     "output_type": "execute_result"
    }
   ],
   "source": [
    "label = label1.append(label2)\n",
    "label = label.append(label3)\n",
    "#label = label.append(label4)\n",
    "label.head()"
   ]
  },
  {
   "cell_type": "code",
   "execution_count": 47,
   "metadata": {},
   "outputs": [
    {
     "data": {
      "image/png": "[encoded data removed]",
      "text/plain": [
       "<matplotlib.figure.Figure at 0x7fc118bd6588>"
      ]
     },
     "metadata": {
      "needs_background": "light"
     },
     "output_type": "display_data"
    }
   ],
   "source": [
    "\"\"\"\n",
    "Plot the RMSE with respect to the minimum number of instances\n",
    "\"\"\" \n",
    "fig = plt.figure()\n",
    "ax0 = fig.add_subplot(111) \n",
    "RMSE_train = []\n",
    "RMSE_test = []\n",
    "for i in range(1,30):\n",
    "    #Paramterize the model and let i be the number of minimum instances per leaf node\n",
    "    regression_model = DecisionTreeRegressor(criterion=\"mse\",min_samples_leaf=i)   \n",
    "    #Train the model\n",
    "    regression_model.fit(train,label)\n",
    "    #Predict query instances\n",
    "    predicted_train = regression_model.predict(train)\n",
    "    predicted_test = regression_model.predict(train4)\n",
    "    #Calculate and append the RMSEs\n",
    "    RMSE_train.append(np.sqrt(np.sum(((label['label']-predicted_train[0])**2)/len(label['label']))))\n",
    "    RMSE_test.append(np.sqrt(np.sum(((label4['label']-predicted_test[0])**2)/len(label4['label']))))\n",
    "   \n",
    "ax0.plot(range(1,30),RMSE_train,label='Train_Data')\n",
    "ax0.plot(range(1,30),RMSE_test,label='Test_Data')\n",
    "ax0.legend()\n",
    "ax0.set_title('RMSE with respect to the minumim number of instances per node')\n",
    "ax0.set_xlabel('#Instances')\n",
    "ax0.set_ylabel('RMSE')\n",
    "plt.show()"
   ]
  },
  {
   "cell_type": "code",
   "execution_count": null,
   "metadata": {},
   "outputs": [],
   "source": []
  },
  {
   "cell_type": "markdown",
   "metadata": {},
   "source": [
    "### Elijo min_sample_leaf de 25, parece que en todos da un resultado relativamente bueno."
   ]
  },
  {
   "cell_type": "code",
   "execution_count": null,
   "metadata": {},
   "outputs": [],
   "source": [
    "regression_model = DecisionTreeRegressor(criterion=\"mse\",min_samples_leaf=30) \n",
    "regression_model.fit(train,label)\n",
    "predicted = regression_model.predict(train1)\n",
    "predicted = pd.DataFrame(predicted)\n",
    "RMSE = np.sqrt(np.sum(((label1['label']-predicted[0])**2)/len(label1)))\n",
    "RMSE"
   ]
  },
  {
   "cell_type": "markdown",
   "metadata": {},
   "source": [
    "### Hago otras pruebas"
   ]
  },
  {
   "cell_type": "code",
   "execution_count": null,
   "metadata": {},
   "outputs": [],
   "source": [
    "predicted = regression_model.predict(train2)\n",
    "predicted = pd.DataFrame(predicted)\n",
    "RMSE = np.sqrt(np.sum(((label2['label']-predicted[0])**2)/len(label2)))\n",
    "RMSE"
   ]
  },
  {
   "cell_type": "code",
   "execution_count": null,
   "metadata": {},
   "outputs": [],
   "source": [
    "predicted = regression_model.predict(train3)\n",
    "predicted = pd.DataFrame(predicted)\n",
    "RMSE = np.sqrt(np.sum(((label3['label']-predicted[0])**2)/len(label3)))\n",
    "RMSE"
   ]
  },
  {
   "cell_type": "code",
   "execution_count": null,
   "metadata": {},
   "outputs": [],
   "source": [
    "predicted = regression_model.predict(train4)\n",
    "predicted = pd.DataFrame(predicted)\n",
    "RMSE = np.sqrt(np.sum(((label4['label']-predicted[0])**2)/len(label4)))\n",
    "RMSE"
   ]
  },
  {
   "cell_type": "markdown",
   "metadata": {},
   "source": [
    "## Es otra opcion"
   ]
  },
  {
   "cell_type": "markdown",
   "metadata": {},
   "source": [
    "## Predigo"
   ]
  },
  {
   "cell_type": "code",
   "execution_count": null,
   "metadata": {},
   "outputs": [],
   "source": [
    "ultimo2 = installs['2019-04-24':'2019-04-26'].reset_index()"
   ]
  },
  {
   "cell_type": "code",
   "execution_count": null,
   "metadata": {},
   "outputs": [],
   "source": [
    "ultimo2 = ultimo2.dropna()\n",
    "ultimo2.drop(['created'],axis =1, inplace = True )"
   ]
  },
  {
   "cell_type": "code",
   "execution_count": null,
   "metadata": {},
   "outputs": [],
   "source": [
    "predicted = regression_model.predict(ultimo2)"
   ]
  },
  {
   "cell_type": "code",
   "execution_count": null,
   "metadata": {},
   "outputs": [],
   "source": [
    "preds2 = pd.DataFrame(predicted)\n",
    "preds2"
   ]
  },
  {
   "cell_type": "code",
   "execution_count": null,
   "metadata": {},
   "outputs": [],
   "source": [
    "preds2.max()"
   ]
  },
  {
   "cell_type": "markdown",
   "metadata": {},
   "source": [
    "### Verifico que el maximo sea 3 * 24 * 60 * 60"
   ]
  },
  {
   "cell_type": "code",
   "execution_count": null,
   "metadata": {},
   "outputs": [],
   "source": [
    "preds2[0] = preds2[0].transform(lambda x: min(x, 3*24*60*60))"
   ]
  },
  {
   "cell_type": "code",
   "execution_count": null,
   "metadata": {},
   "outputs": [],
   "source": [
    "preds2.max()"
   ]
  },
  {
   "cell_type": "markdown",
   "metadata": {},
   "source": [
    "# Targets"
   ]
  },
  {
   "cell_type": "markdown",
   "metadata": {},
   "source": [
    "# 1er posible target"
   ]
  },
  {
   "cell_type": "code",
   "execution_count": null,
   "metadata": {},
   "outputs": [],
   "source": [
    "target = pd.read_csv('TP 1er Cuatrimestre 2019/target_competencia_ids.csv', low_memory=False)\n"
   ]
  },
  {
   "cell_type": "code",
   "execution_count": null,
   "metadata": {},
   "outputs": [],
   "source": [
    "ultimo['label']=preds\n",
    "ultimo['sc'] = ultimo['ref_hash'].transform(lambda x: str(x)+'_sc')\n",
    "mergeados = ultimo.merge(target, left_on = 'sc',right_on='ref_hash', how='inner')"
   ]
  },
  {
   "cell_type": "code",
   "execution_count": null,
   "metadata": {},
   "outputs": [],
   "source": [
    "mergeados = mergeados[['ref_hash_y','label']]\n",
    "mergeados"
   ]
  },
  {
   "cell_type": "code",
   "execution_count": null,
   "metadata": {},
   "outputs": [],
   "source": [
    "mergeados = mergeados.fillna(3*24*60*60)"
   ]
  },
  {
   "cell_type": "markdown",
   "metadata": {},
   "source": [
    "# 2do posible target"
   ]
  },
  {
   "cell_type": "code",
   "execution_count": null,
   "metadata": {},
   "outputs": [],
   "source": [
    "ultimo2['label']=preds\n",
    "ultimo2['sc'] = ultimo2['ref_hash'].transform(lambda x: str(x)+'_sc')\n",
    "mergeados2 = ultimo2.merge(target, left_on = 'sc',right_on='ref_hash', how='inner')"
   ]
  },
  {
   "cell_type": "code",
   "execution_count": null,
   "metadata": {},
   "outputs": [],
   "source": [
    "mergeados2 = mergeados2[['ref_hash_y','label']]\n",
    "mergeados2"
   ]
  },
  {
   "cell_type": "code",
   "execution_count": null,
   "metadata": {},
   "outputs": [],
   "source": [
    "mergeados2 = mergeados2.fillna(3*24*60*60)"
   ]
  }
 ],
 "metadata": {
  "kernelspec": {
   "display_name": "Python 3",
   "language": "python",
   "name": "python3"
  }
 },
 "nbformat": 4,
 "nbformat_minor": 2
}
