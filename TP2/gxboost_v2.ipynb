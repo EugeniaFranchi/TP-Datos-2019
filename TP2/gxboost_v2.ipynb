{
 "cells": [
  {
   "cell_type": "code",
   "execution_count": 1,
   "metadata": {},
   "outputs": [],
   "source": [
    "import xgboost as xgb\n",
    "import pandas as pd\n",
    "import numpy as np\n",
    "from sklearn.metrics import mean_squared_error\n",
    "from sklearn.model_selection import train_test_split"
   ]
  },
  {
   "cell_type": "markdown",
   "metadata": {},
   "source": [
    "#### CARGAMOS EL ARCHIVO INSTALLS CON FEATURES SACADOS DEL ARCHIVO INSTALLS"
   ]
  },
  {
   "cell_type": "code",
   "execution_count": 73,
   "metadata": {},
   "outputs": [
    {
     "data": {
      "text/html": [
       "<div>\n",
       "<style>\n",
       "    .dataframe thead tr:only-child th {\n",
       "        text-align: right;\n",
       "    }\n",
       "\n",
       "    .dataframe thead th {\n",
       "        text-align: left;\n",
       "    }\n",
       "\n",
       "    .dataframe tbody tr th {\n",
       "        vertical-align: top;\n",
       "    }\n",
       "</style>\n",
       "<table border=\"1\" class=\"dataframe\">\n",
       "  <thead>\n",
       "    <tr style=\"text-align: right;\">\n",
       "      <th></th>\n",
       "      <th>Unnamed: 0</th>\n",
       "      <th>application_id</th>\n",
       "      <th>ref_type</th>\n",
       "      <th>ref_hash</th>\n",
       "      <th>attributed</th>\n",
       "      <th>implicit</th>\n",
       "      <th>device_countrycode</th>\n",
       "      <th>device_brand</th>\n",
       "      <th>device_model</th>\n",
       "      <th>session_user_agent</th>\n",
       "      <th>...</th>\n",
       "      <th>agentes</th>\n",
       "      <th>top50agentes</th>\n",
       "      <th>top10agentes</th>\n",
       "      <th>kindReducido</th>\n",
       "      <th>top10tipo</th>\n",
       "      <th>top10leng</th>\n",
       "      <th>early_morning</th>\n",
       "      <th>weekend</th>\n",
       "      <th>easter_holiday</th>\n",
       "      <th>nuevoDisositivo</th>\n",
       "    </tr>\n",
       "    <tr>\n",
       "      <th>created</th>\n",
       "      <th></th>\n",
       "      <th></th>\n",
       "      <th></th>\n",
       "      <th></th>\n",
       "      <th></th>\n",
       "      <th></th>\n",
       "      <th></th>\n",
       "      <th></th>\n",
       "      <th></th>\n",
       "      <th></th>\n",
       "      <th></th>\n",
       "      <th></th>\n",
       "      <th></th>\n",
       "      <th></th>\n",
       "      <th></th>\n",
       "      <th></th>\n",
       "      <th></th>\n",
       "      <th></th>\n",
       "      <th></th>\n",
       "      <th></th>\n",
       "      <th></th>\n",
       "    </tr>\n",
       "  </thead>\n",
       "  <tbody>\n",
       "    <tr>\n",
       "      <th>2019-04-18 00:00:01.560</th>\n",
       "      <td>94738</td>\n",
       "      <td>70</td>\n",
       "      <td>1</td>\n",
       "      <td>4432995619177048534</td>\n",
       "      <td>False</td>\n",
       "      <td>False</td>\n",
       "      <td>6287817205707153877</td>\n",
       "      <td>0</td>\n",
       "      <td>208</td>\n",
       "      <td>1095</td>\n",
       "      <td>...</td>\n",
       "      <td>0</td>\n",
       "      <td>0</td>\n",
       "      <td>0</td>\n",
       "      <td>1</td>\n",
       "      <td>1</td>\n",
       "      <td>9</td>\n",
       "      <td>0</td>\n",
       "      <td>False</td>\n",
       "      <td>1</td>\n",
       "      <td>1</td>\n",
       "    </tr>\n",
       "    <tr>\n",
       "      <th>2019-04-18 00:00:01.851</th>\n",
       "      <td>94737</td>\n",
       "      <td>70</td>\n",
       "      <td>1</td>\n",
       "      <td>5904733559638204455</td>\n",
       "      <td>False</td>\n",
       "      <td>False</td>\n",
       "      <td>6287817205707153877</td>\n",
       "      <td>0</td>\n",
       "      <td>208</td>\n",
       "      <td>1095</td>\n",
       "      <td>...</td>\n",
       "      <td>0</td>\n",
       "      <td>0</td>\n",
       "      <td>0</td>\n",
       "      <td>1</td>\n",
       "      <td>1</td>\n",
       "      <td>9</td>\n",
       "      <td>0</td>\n",
       "      <td>False</td>\n",
       "      <td>1</td>\n",
       "      <td>0</td>\n",
       "    </tr>\n",
       "    <tr>\n",
       "      <th>2019-04-18 00:00:05.152</th>\n",
       "      <td>111877</td>\n",
       "      <td>65</td>\n",
       "      <td>1</td>\n",
       "      <td>896373747754111825</td>\n",
       "      <td>False</td>\n",
       "      <td>True</td>\n",
       "      <td>6287817205707153877</td>\n",
       "      <td>6</td>\n",
       "      <td>102</td>\n",
       "      <td>2</td>\n",
       "      <td>...</td>\n",
       "      <td>2</td>\n",
       "      <td>2</td>\n",
       "      <td>1</td>\n",
       "      <td>0</td>\n",
       "      <td>0</td>\n",
       "      <td>8</td>\n",
       "      <td>0</td>\n",
       "      <td>False</td>\n",
       "      <td>1</td>\n",
       "      <td>0</td>\n",
       "    </tr>\n",
       "    <tr>\n",
       "      <th>2019-04-18 00:00:05.589</th>\n",
       "      <td>76146</td>\n",
       "      <td>27</td>\n",
       "      <td>0</td>\n",
       "      <td>3399210824535017892</td>\n",
       "      <td>False</td>\n",
       "      <td>False</td>\n",
       "      <td>6287817205707153877</td>\n",
       "      <td>0</td>\n",
       "      <td>190</td>\n",
       "      <td>2</td>\n",
       "      <td>...</td>\n",
       "      <td>21</td>\n",
       "      <td>14</td>\n",
       "      <td>6</td>\n",
       "      <td>1</td>\n",
       "      <td>1</td>\n",
       "      <td>2</td>\n",
       "      <td>0</td>\n",
       "      <td>False</td>\n",
       "      <td>1</td>\n",
       "      <td>1</td>\n",
       "    </tr>\n",
       "    <tr>\n",
       "      <th>2019-04-18 00:00:06.795</th>\n",
       "      <td>435184</td>\n",
       "      <td>339</td>\n",
       "      <td>0</td>\n",
       "      <td>1541425881979513687</td>\n",
       "      <td>False</td>\n",
       "      <td>False</td>\n",
       "      <td>6287817205707153877</td>\n",
       "      <td>0</td>\n",
       "      <td>190</td>\n",
       "      <td>2</td>\n",
       "      <td>...</td>\n",
       "      <td>68</td>\n",
       "      <td>46</td>\n",
       "      <td>10</td>\n",
       "      <td>1</td>\n",
       "      <td>1</td>\n",
       "      <td>6</td>\n",
       "      <td>0</td>\n",
       "      <td>False</td>\n",
       "      <td>1</td>\n",
       "      <td>1</td>\n",
       "    </tr>\n",
       "  </tbody>\n",
       "</table>\n",
       "<p>5 rows × 34 columns</p>\n",
       "</div>"
      ],
      "text/plain": [
       "                         Unnamed: 0  application_id  ref_type  \\\n",
       "created                                                         \n",
       "2019-04-18 00:00:01.560       94738              70         1   \n",
       "2019-04-18 00:00:01.851       94737              70         1   \n",
       "2019-04-18 00:00:05.152      111877              65         1   \n",
       "2019-04-18 00:00:05.589       76146              27         0   \n",
       "2019-04-18 00:00:06.795      435184             339         0   \n",
       "\n",
       "                                    ref_hash  attributed  implicit  \\\n",
       "created                                                              \n",
       "2019-04-18 00:00:01.560  4432995619177048534       False     False   \n",
       "2019-04-18 00:00:01.851  5904733559638204455       False     False   \n",
       "2019-04-18 00:00:05.152   896373747754111825       False      True   \n",
       "2019-04-18 00:00:05.589  3399210824535017892       False     False   \n",
       "2019-04-18 00:00:06.795  1541425881979513687       False     False   \n",
       "\n",
       "                          device_countrycode  device_brand  device_model  \\\n",
       "created                                                                    \n",
       "2019-04-18 00:00:01.560  6287817205707153877             0           208   \n",
       "2019-04-18 00:00:01.851  6287817205707153877             0           208   \n",
       "2019-04-18 00:00:05.152  6287817205707153877             6           102   \n",
       "2019-04-18 00:00:05.589  6287817205707153877             0           190   \n",
       "2019-04-18 00:00:06.795  6287817205707153877             0           190   \n",
       "\n",
       "                         session_user_agent       ...         agentes  \\\n",
       "created                                           ...                   \n",
       "2019-04-18 00:00:01.560                1095       ...               0   \n",
       "2019-04-18 00:00:01.851                1095       ...               0   \n",
       "2019-04-18 00:00:05.152                   2       ...               2   \n",
       "2019-04-18 00:00:05.589                   2       ...              21   \n",
       "2019-04-18 00:00:06.795                   2       ...              68   \n",
       "\n",
       "                         top50agentes  top10agentes  kindReducido  top10tipo  \\\n",
       "created                                                                        \n",
       "2019-04-18 00:00:01.560             0             0             1          1   \n",
       "2019-04-18 00:00:01.851             0             0             1          1   \n",
       "2019-04-18 00:00:05.152             2             1             0          0   \n",
       "2019-04-18 00:00:05.589            14             6             1          1   \n",
       "2019-04-18 00:00:06.795            46            10             1          1   \n",
       "\n",
       "                         top10leng  early_morning  weekend  easter_holiday  \\\n",
       "created                                                                      \n",
       "2019-04-18 00:00:01.560          9              0    False               1   \n",
       "2019-04-18 00:00:01.851          9              0    False               1   \n",
       "2019-04-18 00:00:05.152          8              0    False               1   \n",
       "2019-04-18 00:00:05.589          2              0    False               1   \n",
       "2019-04-18 00:00:06.795          6              0    False               1   \n",
       "\n",
       "                         nuevoDisositivo  \n",
       "created                                   \n",
       "2019-04-18 00:00:01.560                1  \n",
       "2019-04-18 00:00:01.851                0  \n",
       "2019-04-18 00:00:05.152                0  \n",
       "2019-04-18 00:00:05.589                1  \n",
       "2019-04-18 00:00:06.795                1  \n",
       "\n",
       "[5 rows x 34 columns]"
      ]
     },
     "execution_count": 73,
     "metadata": {},
     "output_type": "execute_result"
    }
   ],
   "source": [
    "installs = pd.read_csv('TP 1er Cuatrimestre 2019/installsConFeatures.csv', low_memory=False, parse_dates = ['created'], index_col=['created'])\n",
    "installs = installs.sort_index()\n",
    "installs.head()"
   ]
  },
  {
   "cell_type": "markdown",
   "metadata": {},
   "source": [
    "### Dropeamos columnas que quedaron mal"
   ]
  },
  {
   "cell_type": "code",
   "execution_count": 74,
   "metadata": {},
   "outputs": [],
   "source": [
    "installs.drop(['Unnamed: 0'],axis = 1,inplace=True)"
   ]
  },
  {
   "cell_type": "code",
   "execution_count": null,
   "metadata": {},
   "outputs": [],
   "source": []
  },
  {
   "cell_type": "markdown",
   "metadata": {},
   "source": [
    "#### Luego cargamos la primer ventana y sus lebels correspondientes a la segunda (Asi con todas las demas)"
   ]
  },
  {
   "cell_type": "code",
   "execution_count": 75,
   "metadata": {},
   "outputs": [],
   "source": [
    "info1 = installs['2019-04-21':'2019-04-23'].reset_index().groupby('ref_hash').agg({'created' : 'min'})\n",
    "info1['created'] = info1['created'] - pd.Timestamp('2019-04-21 00:00:00')\n",
    "info1['created'] = info1['created'].transform(lambda x: x.total_seconds())\n",
    "info1 = info1.reset_index()\n",
    "info1 = info1.merge(installs['2019-04-18':'2019-04-20'].reset_index(),on=\"ref_hash\", how=\"right\")\n",
    "info1 = info1.rename(columns={'created_x':'label','created_y':'created'})\n",
    "\n",
    "label1 = info1['label'].to_frame()\n",
    "train1 = info1.drop('label', axis=1)"
   ]
  },
  {
   "cell_type": "code",
   "execution_count": 76,
   "metadata": {},
   "outputs": [],
   "source": [
    "info2 = installs['2019-04-22':'2019-04-24'].reset_index().groupby('ref_hash').agg({'created' : 'min'})\n",
    "info2['created'] = info2['created'] - pd.Timestamp('2019-04-22 00:00:00')\n",
    "info2['created'] = info2['created'].transform(lambda x: x.total_seconds())\n",
    "info2 = info2.reset_index()\n",
    "info2 = info2.merge(installs['2019-04-19':'2019-04-21'].reset_index(),on=\"ref_hash\", how=\"right\")\n",
    "info2 = info2.rename(columns={'created_x':'label','created_y':'created'})\n",
    "\n",
    "label2 = info2['label'].to_frame()\n",
    "train2 = info2.drop('label', axis=1)"
   ]
  },
  {
   "cell_type": "code",
   "execution_count": 77,
   "metadata": {},
   "outputs": [],
   "source": [
    "info3 = installs['2019-04-23':'2019-04-25'].reset_index().groupby('ref_hash').agg({'created' : 'min'})\n",
    "info3['created'] = info3['created'] - pd.Timestamp('2019-04-23 00:00:00')\n",
    "info3['created'] = info3['created'].transform(lambda x: x.total_seconds())\n",
    "info3 = info3.reset_index()\n",
    "info3 = info3.merge(installs['2019-04-20':'2019-04-22'].reset_index(),on=\"ref_hash\", how=\"right\")\n",
    "info3 = info3.rename(columns={'created_x':'label','created_y':'created'})\n",
    "\n",
    "label3 = info3['label'].to_frame()\n",
    "train3 = info3.drop('label', axis=1)"
   ]
  },
  {
   "cell_type": "code",
   "execution_count": 78,
   "metadata": {},
   "outputs": [],
   "source": [
    "info4 = installs['2019-04-24':'2019-04-26'].reset_index().groupby('ref_hash').agg({'created' : 'min'})\n",
    "info4['created'] = info4['created'] - pd.Timestamp('2019-04-24 00:00:00')\n",
    "info4['created'] = info4['created'].transform(lambda x: x.total_seconds())\n",
    "info4 = info4.reset_index()\n",
    "info4 = info4.merge(installs['2019-04-21':'2019-04-23'].reset_index(),on=\"ref_hash\", how=\"right\")\n",
    "info4 = info4.rename(columns={'created_x':'label','created_y':'created'})\n",
    "\n",
    "label4 = info4['label'].to_frame()\n",
    "train4 = info4.drop('label', axis=1)"
   ]
  },
  {
   "cell_type": "code",
   "execution_count": 79,
   "metadata": {},
   "outputs": [],
   "source": [
    "ventana_ultima = installs['2019-04-24':'2019-04-26'].reset_index()"
   ]
  },
  {
   "cell_type": "code",
   "execution_count": 80,
   "metadata": {},
   "outputs": [
    {
     "data": {
      "text/html": [
       "<div>\n",
       "<style>\n",
       "    .dataframe thead tr:only-child th {\n",
       "        text-align: right;\n",
       "    }\n",
       "\n",
       "    .dataframe thead th {\n",
       "        text-align: left;\n",
       "    }\n",
       "\n",
       "    .dataframe tbody tr th {\n",
       "        vertical-align: top;\n",
       "    }\n",
       "</style>\n",
       "<table border=\"1\" class=\"dataframe\">\n",
       "  <thead>\n",
       "    <tr style=\"text-align: right;\">\n",
       "      <th></th>\n",
       "      <th>created</th>\n",
       "      <th>application_id</th>\n",
       "      <th>ref_type</th>\n",
       "      <th>ref_hash</th>\n",
       "      <th>attributed</th>\n",
       "      <th>implicit</th>\n",
       "      <th>device_countrycode</th>\n",
       "      <th>device_brand</th>\n",
       "      <th>device_model</th>\n",
       "      <th>session_user_agent</th>\n",
       "      <th>...</th>\n",
       "      <th>agentes</th>\n",
       "      <th>top50agentes</th>\n",
       "      <th>top10agentes</th>\n",
       "      <th>kindReducido</th>\n",
       "      <th>top10tipo</th>\n",
       "      <th>top10leng</th>\n",
       "      <th>early_morning</th>\n",
       "      <th>weekend</th>\n",
       "      <th>easter_holiday</th>\n",
       "      <th>nuevoDisositivo</th>\n",
       "    </tr>\n",
       "  </thead>\n",
       "  <tbody>\n",
       "    <tr>\n",
       "      <th>0</th>\n",
       "      <td>2019-04-24 00:00:00.178</td>\n",
       "      <td>21</td>\n",
       "      <td>1</td>\n",
       "      <td>2105892908739159676</td>\n",
       "      <td>False</td>\n",
       "      <td>False</td>\n",
       "      <td>6287817205707153877</td>\n",
       "      <td>0</td>\n",
       "      <td>74</td>\n",
       "      <td>0</td>\n",
       "      <td>...</td>\n",
       "      <td>0</td>\n",
       "      <td>0</td>\n",
       "      <td>0</td>\n",
       "      <td>1</td>\n",
       "      <td>1</td>\n",
       "      <td>0</td>\n",
       "      <td>0</td>\n",
       "      <td>False</td>\n",
       "      <td>0</td>\n",
       "      <td>1</td>\n",
       "    </tr>\n",
       "    <tr>\n",
       "      <th>1</th>\n",
       "      <td>2019-04-24 00:00:02.223</td>\n",
       "      <td>226</td>\n",
       "      <td>1</td>\n",
       "      <td>208059911196607757</td>\n",
       "      <td>False</td>\n",
       "      <td>True</td>\n",
       "      <td>6287817205707153877</td>\n",
       "      <td>6</td>\n",
       "      <td>163</td>\n",
       "      <td>2</td>\n",
       "      <td>...</td>\n",
       "      <td>2</td>\n",
       "      <td>2</td>\n",
       "      <td>1</td>\n",
       "      <td>84</td>\n",
       "      <td>10</td>\n",
       "      <td>8</td>\n",
       "      <td>0</td>\n",
       "      <td>False</td>\n",
       "      <td>0</td>\n",
       "      <td>0</td>\n",
       "    </tr>\n",
       "    <tr>\n",
       "      <th>2</th>\n",
       "      <td>2019-04-24 00:00:02.352</td>\n",
       "      <td>70</td>\n",
       "      <td>1</td>\n",
       "      <td>9071467689792743380</td>\n",
       "      <td>False</td>\n",
       "      <td>False</td>\n",
       "      <td>6287817205707153877</td>\n",
       "      <td>0</td>\n",
       "      <td>208</td>\n",
       "      <td>1095</td>\n",
       "      <td>...</td>\n",
       "      <td>0</td>\n",
       "      <td>0</td>\n",
       "      <td>0</td>\n",
       "      <td>1</td>\n",
       "      <td>1</td>\n",
       "      <td>9</td>\n",
       "      <td>0</td>\n",
       "      <td>False</td>\n",
       "      <td>0</td>\n",
       "      <td>0</td>\n",
       "    </tr>\n",
       "    <tr>\n",
       "      <th>3</th>\n",
       "      <td>2019-04-24 00:00:02.353</td>\n",
       "      <td>70</td>\n",
       "      <td>1</td>\n",
       "      <td>9071467689792743380</td>\n",
       "      <td>False</td>\n",
       "      <td>True</td>\n",
       "      <td>6287817205707153877</td>\n",
       "      <td>0</td>\n",
       "      <td>208</td>\n",
       "      <td>1095</td>\n",
       "      <td>...</td>\n",
       "      <td>0</td>\n",
       "      <td>0</td>\n",
       "      <td>0</td>\n",
       "      <td>28</td>\n",
       "      <td>6</td>\n",
       "      <td>9</td>\n",
       "      <td>0</td>\n",
       "      <td>False</td>\n",
       "      <td>0</td>\n",
       "      <td>1</td>\n",
       "    </tr>\n",
       "    <tr>\n",
       "      <th>4</th>\n",
       "      <td>2019-04-24 00:00:02.764</td>\n",
       "      <td>70</td>\n",
       "      <td>1</td>\n",
       "      <td>7588153492836870321</td>\n",
       "      <td>False</td>\n",
       "      <td>False</td>\n",
       "      <td>6287817205707153877</td>\n",
       "      <td>0</td>\n",
       "      <td>208</td>\n",
       "      <td>1095</td>\n",
       "      <td>...</td>\n",
       "      <td>0</td>\n",
       "      <td>0</td>\n",
       "      <td>0</td>\n",
       "      <td>1</td>\n",
       "      <td>1</td>\n",
       "      <td>9</td>\n",
       "      <td>0</td>\n",
       "      <td>False</td>\n",
       "      <td>0</td>\n",
       "      <td>1</td>\n",
       "    </tr>\n",
       "  </tbody>\n",
       "</table>\n",
       "<p>5 rows × 34 columns</p>\n",
       "</div>"
      ],
      "text/plain": [
       "                  created  application_id  ref_type             ref_hash  \\\n",
       "0 2019-04-24 00:00:00.178              21         1  2105892908739159676   \n",
       "1 2019-04-24 00:00:02.223             226         1   208059911196607757   \n",
       "2 2019-04-24 00:00:02.352              70         1  9071467689792743380   \n",
       "3 2019-04-24 00:00:02.353              70         1  9071467689792743380   \n",
       "4 2019-04-24 00:00:02.764              70         1  7588153492836870321   \n",
       "\n",
       "   attributed  implicit   device_countrycode  device_brand  device_model  \\\n",
       "0       False     False  6287817205707153877             0            74   \n",
       "1       False      True  6287817205707153877             6           163   \n",
       "2       False     False  6287817205707153877             0           208   \n",
       "3       False      True  6287817205707153877             0           208   \n",
       "4       False     False  6287817205707153877             0           208   \n",
       "\n",
       "   session_user_agent       ...         agentes  top50agentes  top10agentes  \\\n",
       "0                   0       ...               0             0             0   \n",
       "1                   2       ...               2             2             1   \n",
       "2                1095       ...               0             0             0   \n",
       "3                1095       ...               0             0             0   \n",
       "4                1095       ...               0             0             0   \n",
       "\n",
       "   kindReducido  top10tipo  top10leng  early_morning  weekend  easter_holiday  \\\n",
       "0             1          1          0              0    False               0   \n",
       "1            84         10          8              0    False               0   \n",
       "2             1          1          9              0    False               0   \n",
       "3            28          6          9              0    False               0   \n",
       "4             1          1          9              0    False               0   \n",
       "\n",
       "   nuevoDisositivo  \n",
       "0                1  \n",
       "1                0  \n",
       "2                0  \n",
       "3                1  \n",
       "4                1  \n",
       "\n",
       "[5 rows x 34 columns]"
      ]
     },
     "execution_count": 80,
     "metadata": {},
     "output_type": "execute_result"
    }
   ],
   "source": [
    "ventana_ultima.head()"
   ]
  },
  {
   "cell_type": "markdown",
   "metadata": {},
   "source": [
    "#### Como al algoritmo que aplicaremos despues no le gustan los NAN, a esos nan le ponemos 3 dias ( en segundos )"
   ]
  },
  {
   "cell_type": "code",
   "execution_count": 81,
   "metadata": {},
   "outputs": [],
   "source": [
    "train1 = train1.dropna()\n",
    "train2 = train2.dropna()\n",
    "train3 = train3.dropna()\n",
    "train4 = train4.dropna()\n",
    "ventana_ultima = ventana_ultima.dropna()\n",
    "label1 = label1.fillna(3*24*60*60)\n",
    "label2 = label2.fillna(3*24*60*60)\n",
    "label3 = label3.fillna(3*24*60*60)\n",
    "label4 = label4.fillna(3*24*60*60)\n"
   ]
  },
  {
   "cell_type": "markdown",
   "metadata": {},
   "source": [
    "#### Ahora sacaremos mas labels para cada ventana en particular..."
   ]
  },
  {
   "cell_type": "code",
   "execution_count": 82,
   "metadata": {},
   "outputs": [],
   "source": [
    "train1['tiempoDesdeComienzoDeVentana'] = (installs.reset_index()['created'] - pd.Timestamp('2019-04-18 00:00:00')).transform(lambda x: x.total_seconds())\n",
    "train2['tiempoDesdeComienzoDeVentana'] = (installs.reset_index()['created'] - pd.Timestamp('2019-04-19 00:00:00')).transform(lambda x: x.total_seconds())\n",
    "train3['tiempoDesdeComienzoDeVentana'] = (installs.reset_index()['created'] - pd.Timestamp('2019-04-20 00:00:00')).transform(lambda x: x.total_seconds())\n",
    "train4['tiempoDesdeComienzoDeVentana'] = (installs.reset_index()['created'] - pd.Timestamp('2019-04-21 00:00:00')).transform(lambda x: x.total_seconds())\n",
    "ventana_ultima['tiempoDesdeComienzoDeVentana'] = (installs.reset_index()['created'] - pd.Timestamp('2019-04-24 00:00:00')).transform(lambda x: x.total_seconds())\n"
   ]
  },
  {
   "cell_type": "code",
   "execution_count": 83,
   "metadata": {},
   "outputs": [],
   "source": [
    "train1['accionesDesdeQueComenzoLaVentana'] = np.arange(len(train1))\n",
    "train2['accionesDesdeQueComenzoLaVentana'] = np.arange(len(train2))\n",
    "train3['accionesDesdeQueComenzoLaVentana'] = np.arange(len(train3))\n",
    "train4['accionesDesdeQueComenzoLaVentana'] = np.arange(len(train4))\n",
    "ventana_ultima['accionesDesdeQueComenzoLaVentana'] = np.arange(len(ventana_ultima))"
   ]
  },
  {
   "cell_type": "code",
   "execution_count": 84,
   "metadata": {},
   "outputs": [],
   "source": [
    "train1.drop(['created'],axis =1, inplace = True )\n",
    "train2.drop(['created'],axis =1, inplace = True )\n",
    "train3.drop(['created'],axis =1, inplace = True )\n",
    "train4.drop(['created'],axis =1, inplace = True )\n",
    "ventana_ultima.drop(['created'],axis =1, inplace = True )\n"
   ]
  },
  {
   "cell_type": "code",
   "execution_count": 85,
   "metadata": {},
   "outputs": [],
   "source": [
    "#### XGBOOST LE GUSTAN LAS COLUMNAS ORDENADAS... \n",
    "ventana_ultima=ventana_ultima.sort_index(axis=1, ascending=False)\n",
    "train1=train1.sort_index(axis=1, ascending=False)\n",
    "train2=train2.sort_index(axis=1, ascending=False)\n",
    "train3=train3.sort_index(axis=1, ascending=False)\n",
    "train4=train4.sort_index(axis=1, ascending=False)\n",
    "\n"
   ]
  },
  {
   "cell_type": "code",
   "execution_count": 86,
   "metadata": {},
   "outputs": [
    {
     "data": {
      "text/html": [
       "<div>\n",
       "<style>\n",
       "    .dataframe thead tr:only-child th {\n",
       "        text-align: right;\n",
       "    }\n",
       "\n",
       "    .dataframe thead th {\n",
       "        text-align: left;\n",
       "    }\n",
       "\n",
       "    .dataframe tbody tr th {\n",
       "        vertical-align: top;\n",
       "    }\n",
       "</style>\n",
       "<table border=\"1\" class=\"dataframe\">\n",
       "  <thead>\n",
       "    <tr style=\"text-align: right;\">\n",
       "      <th></th>\n",
       "      <th>wifi</th>\n",
       "      <th>weekend</th>\n",
       "      <th>user_agent</th>\n",
       "      <th>top50marcas</th>\n",
       "      <th>top50agentes</th>\n",
       "      <th>top10tipo</th>\n",
       "      <th>top10marcasSinNan</th>\n",
       "      <th>top10marcas</th>\n",
       "      <th>top10leng</th>\n",
       "      <th>top10apps</th>\n",
       "      <th>...</th>\n",
       "      <th>dia</th>\n",
       "      <th>device_model</th>\n",
       "      <th>device_language</th>\n",
       "      <th>device_countrycode</th>\n",
       "      <th>device_brand</th>\n",
       "      <th>attributed</th>\n",
       "      <th>application_id</th>\n",
       "      <th>agentes</th>\n",
       "      <th>accionesDesdeQueComenzoLaVentana</th>\n",
       "      <th>TopApp/Otro</th>\n",
       "    </tr>\n",
       "  </thead>\n",
       "  <tbody>\n",
       "    <tr>\n",
       "      <th>0</th>\n",
       "      <td>False</td>\n",
       "      <td>False</td>\n",
       "      <td>0</td>\n",
       "      <td>0</td>\n",
       "      <td>0</td>\n",
       "      <td>1</td>\n",
       "      <td>0</td>\n",
       "      <td>0</td>\n",
       "      <td>0</td>\n",
       "      <td>0</td>\n",
       "      <td>...</td>\n",
       "      <td>20</td>\n",
       "      <td>120</td>\n",
       "      <td>0</td>\n",
       "      <td>6287817205707153877</td>\n",
       "      <td>0</td>\n",
       "      <td>False</td>\n",
       "      <td>158</td>\n",
       "      <td>0</td>\n",
       "      <td>0</td>\n",
       "      <td>0</td>\n",
       "    </tr>\n",
       "    <tr>\n",
       "      <th>1</th>\n",
       "      <td>False</td>\n",
       "      <td>False</td>\n",
       "      <td>0</td>\n",
       "      <td>0</td>\n",
       "      <td>0</td>\n",
       "      <td>1</td>\n",
       "      <td>0</td>\n",
       "      <td>0</td>\n",
       "      <td>0</td>\n",
       "      <td>0</td>\n",
       "      <td>...</td>\n",
       "      <td>18</td>\n",
       "      <td>70</td>\n",
       "      <td>0</td>\n",
       "      <td>6287817205707153877</td>\n",
       "      <td>0</td>\n",
       "      <td>False</td>\n",
       "      <td>77</td>\n",
       "      <td>0</td>\n",
       "      <td>1</td>\n",
       "      <td>0</td>\n",
       "    </tr>\n",
       "    <tr>\n",
       "      <th>2</th>\n",
       "      <td>False</td>\n",
       "      <td>False</td>\n",
       "      <td>68</td>\n",
       "      <td>6</td>\n",
       "      <td>2</td>\n",
       "      <td>1</td>\n",
       "      <td>6</td>\n",
       "      <td>6</td>\n",
       "      <td>8</td>\n",
       "      <td>0</td>\n",
       "      <td>...</td>\n",
       "      <td>18</td>\n",
       "      <td>70</td>\n",
       "      <td>34</td>\n",
       "      <td>6287817205707153877</td>\n",
       "      <td>6</td>\n",
       "      <td>False</td>\n",
       "      <td>302</td>\n",
       "      <td>2</td>\n",
       "      <td>2</td>\n",
       "      <td>0</td>\n",
       "    </tr>\n",
       "    <tr>\n",
       "      <th>3</th>\n",
       "      <td>True</td>\n",
       "      <td>False</td>\n",
       "      <td>13403</td>\n",
       "      <td>0</td>\n",
       "      <td>46</td>\n",
       "      <td>1</td>\n",
       "      <td>0</td>\n",
       "      <td>0</td>\n",
       "      <td>3</td>\n",
       "      <td>0</td>\n",
       "      <td>...</td>\n",
       "      <td>20</td>\n",
       "      <td>190</td>\n",
       "      <td>3</td>\n",
       "      <td>6287817205707153877</td>\n",
       "      <td>0</td>\n",
       "      <td>False</td>\n",
       "      <td>339</td>\n",
       "      <td>68</td>\n",
       "      <td>3</td>\n",
       "      <td>0</td>\n",
       "    </tr>\n",
       "    <tr>\n",
       "      <th>4</th>\n",
       "      <td>False</td>\n",
       "      <td>False</td>\n",
       "      <td>0</td>\n",
       "      <td>0</td>\n",
       "      <td>0</td>\n",
       "      <td>1</td>\n",
       "      <td>0</td>\n",
       "      <td>0</td>\n",
       "      <td>0</td>\n",
       "      <td>0</td>\n",
       "      <td>...</td>\n",
       "      <td>19</td>\n",
       "      <td>74</td>\n",
       "      <td>0</td>\n",
       "      <td>6287817205707153877</td>\n",
       "      <td>0</td>\n",
       "      <td>False</td>\n",
       "      <td>94</td>\n",
       "      <td>0</td>\n",
       "      <td>4</td>\n",
       "      <td>0</td>\n",
       "    </tr>\n",
       "  </tbody>\n",
       "</table>\n",
       "<p>5 rows × 35 columns</p>\n",
       "</div>"
      ],
      "text/plain": [
       "    wifi  weekend  user_agent  top50marcas  top50agentes  top10tipo  \\\n",
       "0  False    False           0            0             0          1   \n",
       "1  False    False           0            0             0          1   \n",
       "2  False    False          68            6             2          1   \n",
       "3   True    False       13403            0            46          1   \n",
       "4  False    False           0            0             0          1   \n",
       "\n",
       "   top10marcasSinNan  top10marcas  top10leng  top10apps     ...       dia  \\\n",
       "0                  0            0          0          0     ...        20   \n",
       "1                  0            0          0          0     ...        18   \n",
       "2                  6            6          8          0     ...        18   \n",
       "3                  0            0          3          0     ...        20   \n",
       "4                  0            0          0          0     ...        19   \n",
       "\n",
       "   device_model  device_language   device_countrycode  device_brand  \\\n",
       "0           120                0  6287817205707153877             0   \n",
       "1            70                0  6287817205707153877             0   \n",
       "2            70               34  6287817205707153877             6   \n",
       "3           190                3  6287817205707153877             0   \n",
       "4            74                0  6287817205707153877             0   \n",
       "\n",
       "   attributed  application_id  agentes  accionesDesdeQueComenzoLaVentana  \\\n",
       "0       False             158        0                                 0   \n",
       "1       False              77        0                                 1   \n",
       "2       False             302        2                                 2   \n",
       "3       False             339       68                                 3   \n",
       "4       False              94        0                                 4   \n",
       "\n",
       "   TopApp/Otro  \n",
       "0            0  \n",
       "1            0  \n",
       "2            0  \n",
       "3            0  \n",
       "4            0  \n",
       "\n",
       "[5 rows x 35 columns]"
      ]
     },
     "execution_count": 86,
     "metadata": {},
     "output_type": "execute_result"
    }
   ],
   "source": [
    "\n",
    "train1.head()"
   ]
  },
  {
   "cell_type": "markdown",
   "metadata": {},
   "source": [
    "#### Ahora comenzaremos a entrenar con XGBOOST"
   ]
  },
  {
   "cell_type": "code",
   "execution_count": 396,
   "metadata": {},
   "outputs": [
    {
     "data": {
      "text/plain": [
       "((160861, 35), (160861, 1))"
      ]
     },
     "execution_count": 396,
     "metadata": {},
     "output_type": "execute_result"
    }
   ],
   "source": [
    "train1.shape,label1.shape"
   ]
  },
  {
   "cell_type": "code",
   "execution_count": 397,
   "metadata": {},
   "outputs": [
    {
     "data": {
      "text/plain": [
       "Index(['wifi', 'weekend', 'user_agent', 'top50marcas', 'top50agentes',\n",
       "       'top10tipo', 'top10marcasSinNan', 'top10marcas', 'top10leng',\n",
       "       'top10apps', 'top10agentes', 'tiempoDesdeComienzoDeVentana',\n",
       "       'session_user_agent', 'ref_type', 'ref_hash', 'nuevoDisositivo',\n",
       "       'minuto', 'kindReducido', 'kind', 'ip_address', 'implicit', 'hora',\n",
       "       'easter_holiday', 'early_morning', 'diaDeLaSemana', 'dia',\n",
       "       'device_model', 'device_language', 'device_countrycode', 'device_brand',\n",
       "       'attributed', 'application_id', 'agentes',\n",
       "       'accionesDesdeQueComenzoLaVentana', 'TopApp/Otro'],\n",
       "      dtype='object')"
      ]
     },
     "execution_count": 397,
     "metadata": {},
     "output_type": "execute_result"
    }
   ],
   "source": [
    "train1.columns"
   ]
  },
  {
   "cell_type": "code",
   "execution_count": 414,
   "metadata": {},
   "outputs": [],
   "source": [
    "train1 = train1.drop('wifi',axis=1,inplace=False)\n",
    "train2 = train2.drop('wifi',axis=1,inplace=False)\n",
    "train3 = train3.drop('wifi',axis=1,inplace=False)\n",
    "train4 = train4.drop('wifi',axis=1,inplace=False)\n",
    "ventana_ultima = ventana_ultima.drop('wifi',axis=1,inplace=False)"
   ]
  },
  {
   "cell_type": "code",
   "execution_count": 399,
   "metadata": {},
   "outputs": [],
   "source": [
    "data_dmatrix = xgb.DMatrix(data=train,label=label1)\n"
   ]
  },
  {
   "cell_type": "code",
   "execution_count": 444,
   "metadata": {},
   "outputs": [],
   "source": [
    "xg_reg1 = xgb.XGBRegressor(objective ='reg:squarederror', \n",
    "                colsample_bytree = 0.3, learning_rate = 0.1,\n",
    "                max_depth = 5, alpha = 10, n_estimators = 10)"
   ]
  },
  {
   "cell_type": "code",
   "execution_count": 484,
   "metadata": {},
   "outputs": [],
   "source": [
    "X_train, X_test, y_train, y_test = \\\n",
    "    train_test_split(train1, label1, test_size=0.2, random_state=123)"
   ]
  },
  {
   "cell_type": "code",
   "execution_count": 485,
   "metadata": {},
   "outputs": [
    {
     "data": {
      "text/plain": [
       "XGBRegressor(alpha=10, base_score=0.5, booster='gbtree', colsample_bylevel=1,\n",
       "       colsample_bynode=1, colsample_bytree=0.3, gamma=0,\n",
       "       importance_type='gain', learning_rate=0.1, max_delta_step=0,\n",
       "       max_depth=5, min_child_weight=1, missing=None, n_estimators=10,\n",
       "       n_jobs=1, nthread=None, objective='reg:squarederror',\n",
       "       random_state=0, reg_alpha=0, reg_lambda=1, scale_pos_weight=1,\n",
       "       seed=None, silent=None, subsample=1, verbosity=1)"
      ]
     },
     "execution_count": 485,
     "metadata": {},
     "output_type": "execute_result"
    }
   ],
   "source": [
    "xg_reg1.fit(X_train,y_train)"
   ]
  },
  {
   "cell_type": "code",
   "execution_count": 486,
   "metadata": {},
   "outputs": [
    {
     "data": {
      "text/plain": [
       "41909.14295795053"
      ]
     },
     "execution_count": 486,
     "metadata": {},
     "output_type": "execute_result"
    }
   ],
   "source": [
    "predicted1 = xg_reg1.predict(X_test)\n",
    "predicted1 = pd.DataFrame(predicted1)\n",
    "RMSE = np.sqrt(np.sum(((y_train['label']-predicted1[0])**2)/len(y_train)))\n",
    "RMSE"
   ]
  },
  {
   "cell_type": "code",
   "execution_count": 487,
   "metadata": {},
   "outputs": [],
   "source": [
    "X_train, X_test, y_train, y_test = \\\n",
    "    train_test_split(train2, label2, test_size=0.2, random_state=123)"
   ]
  },
  {
   "cell_type": "code",
   "execution_count": 488,
   "metadata": {},
   "outputs": [],
   "source": [
    "xg_reg2 = xgb.XGBRegressor(objective ='reg:squarederror', \n",
    "                colsample_bytree = 0.3, learning_rate = 0.1,\n",
    "                max_depth = 5, alpha = 10, n_estimators = 10)"
   ]
  },
  {
   "cell_type": "code",
   "execution_count": 489,
   "metadata": {},
   "outputs": [
    {
     "data": {
      "text/plain": [
       "XGBRegressor(alpha=10, base_score=0.5, booster='gbtree', colsample_bylevel=1,\n",
       "       colsample_bynode=1, colsample_bytree=0.3, gamma=0,\n",
       "       importance_type='gain', learning_rate=0.1, max_delta_step=0,\n",
       "       max_depth=5, min_child_weight=1, missing=None, n_estimators=10,\n",
       "       n_jobs=1, nthread=None, objective='reg:squarederror',\n",
       "       random_state=0, reg_alpha=0, reg_lambda=1, scale_pos_weight=1,\n",
       "       seed=None, silent=None, subsample=1, verbosity=1)"
      ]
     },
     "execution_count": 489,
     "metadata": {},
     "output_type": "execute_result"
    }
   ],
   "source": [
    "xg_reg2.fit(X_train,y_train)"
   ]
  },
  {
   "cell_type": "code",
   "execution_count": 490,
   "metadata": {},
   "outputs": [
    {
     "data": {
      "text/plain": [
       "41803.18856169543"
      ]
     },
     "execution_count": 490,
     "metadata": {},
     "output_type": "execute_result"
    }
   ],
   "source": [
    "predicted2 = xg_reg2.predict(X_test)\n",
    "predicted2 = pd.DataFrame(predicted2)\n",
    "RMSE = np.sqrt(np.sum(((y_train['label']-predicted2[0])**2)/len(y_train)))\n",
    "RMSE"
   ]
  },
  {
   "cell_type": "code",
   "execution_count": 491,
   "metadata": {},
   "outputs": [],
   "source": [
    "X_train, X_test, y_train, y_test = \\\n",
    "    train_test_split(train3, label3, test_size=0.2, random_state=123)"
   ]
  },
  {
   "cell_type": "code",
   "execution_count": 492,
   "metadata": {},
   "outputs": [],
   "source": [
    "xg_reg3 = xgb.XGBRegressor(objective ='reg:squarederror', \n",
    "                colsample_bytree = 0.3, learning_rate = 0.1,\n",
    "                max_depth = 5, alpha = 10, n_estimators = 10)"
   ]
  },
  {
   "cell_type": "code",
   "execution_count": 482,
   "metadata": {},
   "outputs": [
    {
     "data": {
      "text/plain": [
       "XGBRegressor(alpha=10, base_score=0.5, booster='gbtree', colsample_bylevel=1,\n",
       "       colsample_bynode=1, colsample_bytree=0.3, gamma=0,\n",
       "       importance_type='gain', learning_rate=0.1, max_delta_step=0,\n",
       "       max_depth=5, min_child_weight=1, missing=None, n_estimators=10,\n",
       "       n_jobs=1, nthread=None, objective='reg:squarederror',\n",
       "       random_state=0, reg_alpha=0, reg_lambda=1, scale_pos_weight=1,\n",
       "       seed=None, silent=None, subsample=1, verbosity=1)"
      ]
     },
     "execution_count": 482,
     "metadata": {},
     "output_type": "execute_result"
    }
   ],
   "source": [
    "xg_reg3.fit(X_train,y_train)"
   ]
  },
  {
   "cell_type": "code",
   "execution_count": 483,
   "metadata": {},
   "outputs": [
    {
     "data": {
      "text/plain": [
       "41892.3043270054"
      ]
     },
     "execution_count": 483,
     "metadata": {},
     "output_type": "execute_result"
    }
   ],
   "source": [
    "predicted3 = xg_reg3.predict(X_test)\n",
    "predicted3 = pd.DataFrame(predicted3)\n",
    "RMSE = np.sqrt(np.sum(((y_train['label']-predicted3[0])**2)/len(y_train)))\n",
    "RMSE"
   ]
  },
  {
   "cell_type": "code",
   "execution_count": 456,
   "metadata": {},
   "outputs": [],
   "source": [
    "X_train, X_test, y_train, y_test = \\\n",
    "    train_test_split(train4, label4, test_size=0.2, random_state=123)"
   ]
  },
  {
   "cell_type": "code",
   "execution_count": 457,
   "metadata": {},
   "outputs": [],
   "source": [
    "xg_reg4 = xgb.XGBRegressor(objective ='reg:squarederror', \n",
    "                colsample_bytree = 0.3, learning_rate = 0.1,\n",
    "                max_depth = 5, alpha = 10, n_estimators = 10)"
   ]
  },
  {
   "cell_type": "code",
   "execution_count": 458,
   "metadata": {},
   "outputs": [
    {
     "data": {
      "text/plain": [
       "XGBRegressor(alpha=10, base_score=0.5, booster='gbtree', colsample_bylevel=1,\n",
       "       colsample_bynode=1, colsample_bytree=0.3, gamma=0,\n",
       "       importance_type='gain', learning_rate=0.1, max_delta_step=0,\n",
       "       max_depth=5, min_child_weight=1, missing=None, n_estimators=10,\n",
       "       n_jobs=1, nthread=None, objective='reg:squarederror',\n",
       "       random_state=0, reg_alpha=0, reg_lambda=1, scale_pos_weight=1,\n",
       "       seed=None, silent=None, subsample=1, verbosity=1)"
      ]
     },
     "execution_count": 458,
     "metadata": {},
     "output_type": "execute_result"
    }
   ],
   "source": [
    "xg_reg4.fit(X_train,y_train)"
   ]
  },
  {
   "cell_type": "code",
   "execution_count": 459,
   "metadata": {},
   "outputs": [
    {
     "data": {
      "text/plain": [
       "41708.97379318869"
      ]
     },
     "execution_count": 459,
     "metadata": {},
     "output_type": "execute_result"
    }
   ],
   "source": [
    "predicted4 = xg_reg4.predict(X_test)\n",
    "predicted4 = pd.DataFrame(predicted4)\n",
    "RMSE = np.sqrt(np.sum(((y_train['label']-predicted4[0])**2)/len(y_train)))\n",
    "RMSE"
   ]
  },
  {
   "cell_type": "code",
   "execution_count": null,
   "metadata": {},
   "outputs": [],
   "source": []
  },
  {
   "cell_type": "code",
   "execution_count": null,
   "metadata": {},
   "outputs": [],
   "source": []
  },
  {
   "cell_type": "code",
   "execution_count": null,
   "metadata": {},
   "outputs": [],
   "source": []
  },
  {
   "cell_type": "code",
   "execution_count": null,
   "metadata": {},
   "outputs": [],
   "source": []
  },
  {
   "cell_type": "code",
   "execution_count": null,
   "metadata": {},
   "outputs": [],
   "source": []
  }
 ],
 "metadata": {
  "kernelspec": {
   "display_name": "Python 3",
   "language": "python",
   "name": "python3"
  },
  "language_info": {
   "codemirror_mode": {
    "name": "ipython",
    "version": 3
   },
   "file_extension": ".py",
   "mimetype": "text/x-python",
   "name": "python",
   "nbconvert_exporter": "python",
   "pygments_lexer": "ipython3",
   "version": "3.6.8"
  }
 },
 "nbformat": 4,
 "nbformat_minor": 2
}
