{
 "cells": [
  {
   "cell_type": "code",
   "execution_count": 4,
   "metadata": {},
   "outputs": [],
   "source": [
    "from catboost import CatBoostRegressor\n",
    "import pandas as pd\n",
    "import numpy as np\n",
    "import matplotlib.pyplot as plt\n",
    "import seaborn as sns\n",
    "from datetime import date\n",
    "from catboost.datasets import titanic\n",
    "\n",
    "%matplotlib inline\n",
    "\n",
    "plt.style.use('default')\n",
    "\n",
    "sns.set(style=\"whitegrid\")\n",
    "\n",
    "pd.options.display.float_format = '{:20,.2f}'.format"
   ]
  },
  {
   "cell_type": "code",
   "execution_count": 5,
   "metadata": {},
   "outputs": [
    {
     "data": {
      "text/html": [
       "<div>\n",
       "<style>\n",
       "    .dataframe thead tr:only-child th {\n",
       "        text-align: right;\n",
       "    }\n",
       "\n",
       "    .dataframe thead th {\n",
       "        text-align: left;\n",
       "    }\n",
       "\n",
       "    .dataframe tbody tr th {\n",
       "        vertical-align: top;\n",
       "    }\n",
       "</style>\n",
       "<table border=\"1\" class=\"dataframe\">\n",
       "  <thead>\n",
       "    <tr style=\"text-align: right;\">\n",
       "      <th></th>\n",
       "      <th>application_id</th>\n",
       "      <th>ref_type</th>\n",
       "      <th>ref_hash</th>\n",
       "      <th>click_hash</th>\n",
       "      <th>attributed</th>\n",
       "      <th>implicit</th>\n",
       "      <th>device_countrycode</th>\n",
       "      <th>device_brand</th>\n",
       "      <th>device_model</th>\n",
       "      <th>session_user_agent</th>\n",
       "      <th>user_agent</th>\n",
       "      <th>event_uuid</th>\n",
       "      <th>kind</th>\n",
       "      <th>wifi</th>\n",
       "      <th>trans_id</th>\n",
       "      <th>ip_address</th>\n",
       "      <th>device_language</th>\n",
       "    </tr>\n",
       "    <tr>\n",
       "      <th>created</th>\n",
       "      <th></th>\n",
       "      <th></th>\n",
       "      <th></th>\n",
       "      <th></th>\n",
       "      <th></th>\n",
       "      <th></th>\n",
       "      <th></th>\n",
       "      <th></th>\n",
       "      <th></th>\n",
       "      <th></th>\n",
       "      <th></th>\n",
       "      <th></th>\n",
       "      <th></th>\n",
       "      <th></th>\n",
       "      <th></th>\n",
       "      <th></th>\n",
       "      <th></th>\n",
       "    </tr>\n",
       "  </thead>\n",
       "  <tbody>\n",
       "    <tr>\n",
       "      <th>2019-04-18 00:00:01.560</th>\n",
       "      <td>70</td>\n",
       "      <td>1891515180541284343</td>\n",
       "      <td>4432995619177048534</td>\n",
       "      <td>NaN</td>\n",
       "      <td>False</td>\n",
       "      <td>False</td>\n",
       "      <td>6287817205707153877</td>\n",
       "      <td>nan</td>\n",
       "      <td>nan</td>\n",
       "      <td>Apsalar-Postback</td>\n",
       "      <td>NaN</td>\n",
       "      <td>NaN</td>\n",
       "      <td>NaN</td>\n",
       "      <td>NaN</td>\n",
       "      <td>NaN</td>\n",
       "      <td>8409380583076227678</td>\n",
       "      <td>nan</td>\n",
       "    </tr>\n",
       "    <tr>\n",
       "      <th>2019-04-18 00:00:01.851</th>\n",
       "      <td>70</td>\n",
       "      <td>1891515180541284343</td>\n",
       "      <td>5904733559638204455</td>\n",
       "      <td>NaN</td>\n",
       "      <td>False</td>\n",
       "      <td>False</td>\n",
       "      <td>6287817205707153877</td>\n",
       "      <td>nan</td>\n",
       "      <td>nan</td>\n",
       "      <td>Apsalar-Postback</td>\n",
       "      <td>NaN</td>\n",
       "      <td>NaN</td>\n",
       "      <td>NaN</td>\n",
       "      <td>NaN</td>\n",
       "      <td>NaN</td>\n",
       "      <td>806493034070542041</td>\n",
       "      <td>nan</td>\n",
       "    </tr>\n",
       "    <tr>\n",
       "      <th>2019-04-18 00:00:05.152</th>\n",
       "      <td>65</td>\n",
       "      <td>1891515180541284343</td>\n",
       "      <td>896373747754111825</td>\n",
       "      <td>NaN</td>\n",
       "      <td>False</td>\n",
       "      <td>True</td>\n",
       "      <td>6287817205707153877</td>\n",
       "      <td>308,305,860,557,778,688.00</td>\n",
       "      <td>5,274,185,305,862,703,104.00</td>\n",
       "      <td>http-kit/2.0</td>\n",
       "      <td>Dalvik/2.1.0 (Linux; U; Android 9; SM-G9650 Bu...</td>\n",
       "      <td>8c8af5e3-96e7-4a49-9f17-cafa7f300f2c</td>\n",
       "      <td>af_app_opened</td>\n",
       "      <td>False</td>\n",
       "      <td>NaN</td>\n",
       "      <td>6319394158544413414</td>\n",
       "      <td>6,977,049,253,562,486,784.00</td>\n",
       "    </tr>\n",
       "    <tr>\n",
       "      <th>2019-04-18 00:00:05.589</th>\n",
       "      <td>27</td>\n",
       "      <td>1494519392962156891</td>\n",
       "      <td>3399210824535017892</td>\n",
       "      <td>NaN</td>\n",
       "      <td>False</td>\n",
       "      <td>False</td>\n",
       "      <td>6287817205707153877</td>\n",
       "      <td>nan</td>\n",
       "      <td>6,794,880,020,077,884,416.00</td>\n",
       "      <td>http-kit/2.0</td>\n",
       "      <td>trivago/216 CFNetwork/978.0.7 Darwin/18.5.0</td>\n",
       "      <td>NaN</td>\n",
       "      <td>NaN</td>\n",
       "      <td>True</td>\n",
       "      <td>NaN</td>\n",
       "      <td>4206683315615624585</td>\n",
       "      <td>5,221,862,722,669,225,984.00</td>\n",
       "    </tr>\n",
       "    <tr>\n",
       "      <th>2019-04-18 00:00:06.795</th>\n",
       "      <td>339</td>\n",
       "      <td>1494519392962156891</td>\n",
       "      <td>1541425881979513687</td>\n",
       "      <td>NaN</td>\n",
       "      <td>False</td>\n",
       "      <td>False</td>\n",
       "      <td>6287817205707153877</td>\n",
       "      <td>nan</td>\n",
       "      <td>6,794,880,020,077,884,416.00</td>\n",
       "      <td>http-kit/2.0</td>\n",
       "      <td>TikTok/109005 CFNetwork/758.5.3 Darwin/15.6.0</td>\n",
       "      <td>NaN</td>\n",
       "      <td>NaN</td>\n",
       "      <td>True</td>\n",
       "      <td>NaN</td>\n",
       "      <td>8335834010411202437</td>\n",
       "      <td>7,528,973,756,559,112,192.00</td>\n",
       "    </tr>\n",
       "  </tbody>\n",
       "</table>\n",
       "</div>"
      ],
      "text/plain": [
       "                         application_id             ref_type  \\\n",
       "created                                                        \n",
       "2019-04-18 00:00:01.560              70  1891515180541284343   \n",
       "2019-04-18 00:00:01.851              70  1891515180541284343   \n",
       "2019-04-18 00:00:05.152              65  1891515180541284343   \n",
       "2019-04-18 00:00:05.589              27  1494519392962156891   \n",
       "2019-04-18 00:00:06.795             339  1494519392962156891   \n",
       "\n",
       "                                    ref_hash click_hash  attributed  implicit  \\\n",
       "created                                                                         \n",
       "2019-04-18 00:00:01.560  4432995619177048534        NaN       False     False   \n",
       "2019-04-18 00:00:01.851  5904733559638204455        NaN       False     False   \n",
       "2019-04-18 00:00:05.152   896373747754111825        NaN       False      True   \n",
       "2019-04-18 00:00:05.589  3399210824535017892        NaN       False     False   \n",
       "2019-04-18 00:00:06.795  1541425881979513687        NaN       False     False   \n",
       "\n",
       "                          device_countrycode               device_brand  \\\n",
       "created                                                                   \n",
       "2019-04-18 00:00:01.560  6287817205707153877                        nan   \n",
       "2019-04-18 00:00:01.851  6287817205707153877                        nan   \n",
       "2019-04-18 00:00:05.152  6287817205707153877 308,305,860,557,778,688.00   \n",
       "2019-04-18 00:00:05.589  6287817205707153877                        nan   \n",
       "2019-04-18 00:00:06.795  6287817205707153877                        nan   \n",
       "\n",
       "                                        device_model session_user_agent  \\\n",
       "created                                                                   \n",
       "2019-04-18 00:00:01.560                          nan   Apsalar-Postback   \n",
       "2019-04-18 00:00:01.851                          nan   Apsalar-Postback   \n",
       "2019-04-18 00:00:05.152 5,274,185,305,862,703,104.00       http-kit/2.0   \n",
       "2019-04-18 00:00:05.589 6,794,880,020,077,884,416.00       http-kit/2.0   \n",
       "2019-04-18 00:00:06.795 6,794,880,020,077,884,416.00       http-kit/2.0   \n",
       "\n",
       "                                                                user_agent  \\\n",
       "created                                                                      \n",
       "2019-04-18 00:00:01.560                                                NaN   \n",
       "2019-04-18 00:00:01.851                                                NaN   \n",
       "2019-04-18 00:00:05.152  Dalvik/2.1.0 (Linux; U; Android 9; SM-G9650 Bu...   \n",
       "2019-04-18 00:00:05.589        trivago/216 CFNetwork/978.0.7 Darwin/18.5.0   \n",
       "2019-04-18 00:00:06.795      TikTok/109005 CFNetwork/758.5.3 Darwin/15.6.0   \n",
       "\n",
       "                                                   event_uuid           kind  \\\n",
       "created                                                                        \n",
       "2019-04-18 00:00:01.560                                   NaN            NaN   \n",
       "2019-04-18 00:00:01.851                                   NaN            NaN   \n",
       "2019-04-18 00:00:05.152  8c8af5e3-96e7-4a49-9f17-cafa7f300f2c  af_app_opened   \n",
       "2019-04-18 00:00:05.589                                   NaN            NaN   \n",
       "2019-04-18 00:00:06.795                                   NaN            NaN   \n",
       "\n",
       "                          wifi trans_id           ip_address  \\\n",
       "created                                                        \n",
       "2019-04-18 00:00:01.560    NaN      NaN  8409380583076227678   \n",
       "2019-04-18 00:00:01.851    NaN      NaN   806493034070542041   \n",
       "2019-04-18 00:00:05.152  False      NaN  6319394158544413414   \n",
       "2019-04-18 00:00:05.589   True      NaN  4206683315615624585   \n",
       "2019-04-18 00:00:06.795   True      NaN  8335834010411202437   \n",
       "\n",
       "                                     device_language  \n",
       "created                                               \n",
       "2019-04-18 00:00:01.560                          nan  \n",
       "2019-04-18 00:00:01.851                          nan  \n",
       "2019-04-18 00:00:05.152 6,977,049,253,562,486,784.00  \n",
       "2019-04-18 00:00:05.589 5,221,862,722,669,225,984.00  \n",
       "2019-04-18 00:00:06.795 7,528,973,756,559,112,192.00  "
      ]
     },
     "execution_count": 5,
     "metadata": {},
     "output_type": "execute_result"
    }
   ],
   "source": [
    "installs = pd.read_csv('TP 1er Cuatrimestre 2019/installs.csv', low_memory=False, parse_dates = ['created'], index_col=['created'])\n",
    "installs = installs.sort_index()\n",
    "installs.head()"
   ]
  },
  {
   "cell_type": "code",
   "execution_count": 3,
   "metadata": {},
   "outputs": [
    {
     "name": "stdout",
     "output_type": "stream",
     "text": [
      "<class 'pandas.core.frame.DataFrame'>\n",
      "DatetimeIndex: 481511 entries, 2019-04-18 00:00:01.560000 to 2019-04-26 23:59:58.788000\n",
      "Data columns (total 17 columns):\n",
      "application_id        481511 non-null int64\n",
      "ref_type              481511 non-null int64\n",
      "ref_hash              481511 non-null int64\n",
      "click_hash            1142 non-null object\n",
      "attributed            481511 non-null bool\n",
      "implicit              481511 non-null bool\n",
      "device_countrycode    481511 non-null int64\n",
      "device_brand          276443 non-null float64\n",
      "device_model          454619 non-null float64\n",
      "session_user_agent    466672 non-null object\n",
      "user_agent            330768 non-null object\n",
      "event_uuid            103168 non-null object\n",
      "kind                  103168 non-null object\n",
      "wifi                  294829 non-null object\n",
      "trans_id              8933 non-null object\n",
      "ip_address            481511 non-null int64\n",
      "device_language       453934 non-null float64\n",
      "dtypes: bool(2), float64(3), int64(5), object(7)\n",
      "memory usage: 59.7+ MB\n"
     ]
    }
   ],
   "source": [
    "installs.info()"
   ]
  },
  {
   "cell_type": "markdown",
   "metadata": {},
   "source": [
    "## Categorizo"
   ]
  },
  {
   "cell_type": "code",
   "execution_count": 32,
   "metadata": {},
   "outputs": [],
   "source": [
    "device_model = list(installs['device_model'].drop_duplicates())\n",
    "\n",
    "def categorizarDeviceModel(x):\n",
    "    return device_model.index(x) if (x != -1) else x\n",
    "\n",
    "installs['device_model'] = installs['device_model'].fillna(-1).apply(categorizarDeviceModel)"
   ]
  },
  {
   "cell_type": "code",
   "execution_count": 33,
   "metadata": {},
   "outputs": [],
   "source": [
    "marcas = list(installs['device_brand'].drop_duplicates())\n",
    "\n",
    "def categorizarDeviceBrand(x):\n",
    "    return marcas.index(x) if (x != -1) else x\n",
    "\n",
    "installs['device_brand'] = installs['device_brand'].fillna(-1).apply(categorizarDeviceBrand)"
   ]
  },
  {
   "cell_type": "code",
   "execution_count": 34,
   "metadata": {},
   "outputs": [
    {
     "data": {
      "text/html": [
       "<div>\n",
       "<style>\n",
       "    .dataframe thead tr:only-child th {\n",
       "        text-align: right;\n",
       "    }\n",
       "\n",
       "    .dataframe thead th {\n",
       "        text-align: left;\n",
       "    }\n",
       "\n",
       "    .dataframe tbody tr th {\n",
       "        vertical-align: top;\n",
       "    }\n",
       "</style>\n",
       "<table border=\"1\" class=\"dataframe\">\n",
       "  <thead>\n",
       "    <tr style=\"text-align: right;\">\n",
       "      <th></th>\n",
       "      <th>application_id</th>\n",
       "      <th>ref_type</th>\n",
       "      <th>ref_hash</th>\n",
       "      <th>device_countrycode</th>\n",
       "      <th>device_brand</th>\n",
       "      <th>device_model</th>\n",
       "      <th>ip_address</th>\n",
       "      <th>device_language</th>\n",
       "    </tr>\n",
       "  </thead>\n",
       "  <tbody>\n",
       "    <tr>\n",
       "      <th>count</th>\n",
       "      <td>481,511.00</td>\n",
       "      <td>481,511.00</td>\n",
       "      <td>481,511.00</td>\n",
       "      <td>481,511.00</td>\n",
       "      <td>481,511.00</td>\n",
       "      <td>481,511.00</td>\n",
       "      <td>481,511.00</td>\n",
       "      <td>481,511.00</td>\n",
       "    </tr>\n",
       "    <tr>\n",
       "      <th>mean</th>\n",
       "      <td>114.63</td>\n",
       "      <td>1,823,409,079,062,006,528.00</td>\n",
       "      <td>4,608,269,779,645,287,936.00</td>\n",
       "      <td>6,287,817,205,671,257,088.00</td>\n",
       "      <td>6.91</td>\n",
       "      <td>346.91</td>\n",
       "      <td>4,600,401,451,358,105,088.00</td>\n",
       "      <td>2.70</td>\n",
       "    </tr>\n",
       "    <tr>\n",
       "      <th>std</th>\n",
       "      <td>79.54</td>\n",
       "      <td>149,664,427,496,563,488.00</td>\n",
       "      <td>2,664,214,826,414,426,624.00</td>\n",
       "      <td>35,896,357.27</td>\n",
       "      <td>43.23</td>\n",
       "      <td>742.45</td>\n",
       "      <td>2,668,896,755,869,683,712.00</td>\n",
       "      <td>4.83</td>\n",
       "    </tr>\n",
       "    <tr>\n",
       "      <th>min</th>\n",
       "      <td>1.00</td>\n",
       "      <td>1,494,519,392,962,156,800.00</td>\n",
       "      <td>40,621,409,780,134.00</td>\n",
       "      <td>6,287,817,205,707,153,408.00</td>\n",
       "      <td>-1.00</td>\n",
       "      <td>-1.00</td>\n",
       "      <td>33,114,277,486,038.00</td>\n",
       "      <td>-1.00</td>\n",
       "    </tr>\n",
       "    <tr>\n",
       "      <th>25%</th>\n",
       "      <td>36.00</td>\n",
       "      <td>1,891,515,180,541,284,352.00</td>\n",
       "      <td>2,302,034,075,654,886,656.00</td>\n",
       "      <td>6,287,817,205,707,153,408.00</td>\n",
       "      <td>-1.00</td>\n",
       "      <td>19.00</td>\n",
       "      <td>2,285,331,530,900,604,416.00</td>\n",
       "      <td>1.00</td>\n",
       "    </tr>\n",
       "    <tr>\n",
       "      <th>50%</th>\n",
       "      <td>121.00</td>\n",
       "      <td>1,891,515,180,541,284,352.00</td>\n",
       "      <td>4,605,906,598,492,731,392.00</td>\n",
       "      <td>6,287,817,205,707,153,408.00</td>\n",
       "      <td>1.00</td>\n",
       "      <td>108.00</td>\n",
       "      <td>4,582,320,595,070,138,880.00</td>\n",
       "      <td>1.00</td>\n",
       "    </tr>\n",
       "    <tr>\n",
       "      <th>75%</th>\n",
       "      <td>155.00</td>\n",
       "      <td>1,891,515,180,541,284,352.00</td>\n",
       "      <td>6,914,483,780,916,173,824.00</td>\n",
       "      <td>6,287,817,205,707,153,408.00</td>\n",
       "      <td>3.00</td>\n",
       "      <td>320.00</td>\n",
       "      <td>6,906,963,104,056,018,944.00</td>\n",
       "      <td>4.00</td>\n",
       "    </tr>\n",
       "    <tr>\n",
       "      <th>max</th>\n",
       "      <td>360.00</td>\n",
       "      <td>1,891,515,180,541,284,352.00</td>\n",
       "      <td>9,223,365,873,867,066,368.00</td>\n",
       "      <td>6,287,817,205,707,153,408.00</td>\n",
       "      <td>1,084.00</td>\n",
       "      <td>6,472.00</td>\n",
       "      <td>9,223,362,640,454,048,768.00</td>\n",
       "      <td>223.00</td>\n",
       "    </tr>\n",
       "  </tbody>\n",
       "</table>\n",
       "</div>"
      ],
      "text/plain": [
       "            application_id                     ref_type  \\\n",
       "count           481,511.00                   481,511.00   \n",
       "mean                114.63 1,823,409,079,062,006,528.00   \n",
       "std                  79.54   149,664,427,496,563,488.00   \n",
       "min                   1.00 1,494,519,392,962,156,800.00   \n",
       "25%                  36.00 1,891,515,180,541,284,352.00   \n",
       "50%                 121.00 1,891,515,180,541,284,352.00   \n",
       "75%                 155.00 1,891,515,180,541,284,352.00   \n",
       "max                 360.00 1,891,515,180,541,284,352.00   \n",
       "\n",
       "                          ref_hash           device_countrycode  \\\n",
       "count                   481,511.00                   481,511.00   \n",
       "mean  4,608,269,779,645,287,936.00 6,287,817,205,671,257,088.00   \n",
       "std   2,664,214,826,414,426,624.00                35,896,357.27   \n",
       "min          40,621,409,780,134.00 6,287,817,205,707,153,408.00   \n",
       "25%   2,302,034,075,654,886,656.00 6,287,817,205,707,153,408.00   \n",
       "50%   4,605,906,598,492,731,392.00 6,287,817,205,707,153,408.00   \n",
       "75%   6,914,483,780,916,173,824.00 6,287,817,205,707,153,408.00   \n",
       "max   9,223,365,873,867,066,368.00 6,287,817,205,707,153,408.00   \n",
       "\n",
       "              device_brand         device_model                   ip_address  \\\n",
       "count           481,511.00           481,511.00                   481,511.00   \n",
       "mean                  6.91               346.91 4,600,401,451,358,105,088.00   \n",
       "std                  43.23               742.45 2,668,896,755,869,683,712.00   \n",
       "min                  -1.00                -1.00        33,114,277,486,038.00   \n",
       "25%                  -1.00                19.00 2,285,331,530,900,604,416.00   \n",
       "50%                   1.00               108.00 4,582,320,595,070,138,880.00   \n",
       "75%                   3.00               320.00 6,906,963,104,056,018,944.00   \n",
       "max               1,084.00             6,472.00 9,223,362,640,454,048,768.00   \n",
       "\n",
       "           device_language  \n",
       "count           481,511.00  \n",
       "mean                  2.70  \n",
       "std                   4.83  \n",
       "min                  -1.00  \n",
       "25%                   1.00  \n",
       "50%                   1.00  \n",
       "75%                   4.00  \n",
       "max                 223.00  "
      ]
     },
     "execution_count": 34,
     "metadata": {},
     "output_type": "execute_result"
    }
   ],
   "source": [
    "device_language = list(installs['device_language'].drop_duplicates())\n",
    "\n",
    "def categorizarDeviceLanguage(x):\n",
    "    return device_language.index(x) if (x != -1) else x\n",
    "\n",
    "installs['device_language'] = installs['device_language'].fillna(-1).apply(categorizarDeviceLanguage)\n",
    "installs.describe()"
   ]
  },
  {
   "cell_type": "code",
   "execution_count": 35,
   "metadata": {},
   "outputs": [],
   "source": [
    "info1 = installs['2019-04-21':'2019-04-23'].reset_index().groupby('ref_hash').agg({'created' : 'min'})\n",
    "info1['created'] = info1['created'] - pd.Timestamp('2019-04-21 00:00:00')\n",
    "info1['created'] = info1['created'].transform(lambda x: x.total_seconds())\n",
    "info1 = info1.reset_index()\n",
    "info1 = info1.merge(installs['2019-04-18':'2019-04-20'].reset_index(),on=\"ref_hash\", how=\"right\")\n",
    "info1 = info1.rename(columns={'created_x':'label','created_y':'created'})\n",
    "\n",
    "label1 = info1['label'].to_frame()\n",
    "train1 = info1.drop('label', axis=1)"
   ]
  },
  {
   "cell_type": "code",
   "execution_count": 37,
   "metadata": {},
   "outputs": [],
   "source": [
    "info2 = installs['2019-04-22':'2019-04-24'].reset_index().groupby('ref_hash').agg({'created' : 'min'})\n",
    "info2['created'] = info2['created'] - pd.Timestamp('2019-04-22 00:00:00')\n",
    "info2['created'] = info2['created'].transform(lambda x: x.total_seconds())\n",
    "info2 = info2.reset_index()\n",
    "info2 = info2.merge(installs['2019-04-19':'2019-04-21'].reset_index(),on=\"ref_hash\", how=\"right\")\n",
    "info2 = info2.rename(columns={'created_x':'label','created_y':'created'})\n",
    "\n",
    "label2 = info2['label'].to_frame()\n",
    "train2 = info2.drop('label', axis=1)\n",
    "\n"
   ]
  },
  {
   "cell_type": "code",
   "execution_count": 6,
   "metadata": {},
   "outputs": [],
   "source": [
    "info3 = installs['2019-04-23':'2019-04-25'].reset_index().groupby('ref_hash').agg({'created' : 'min'})\n",
    "info3['created'] = info3['created'] - pd.Timestamp('2019-04-23 00:00:00')\n",
    "info3['created'] = info3['created'].transform(lambda x: x.total_seconds())\n",
    "info3 = info3.reset_index()\n",
    "info3 = info3.merge(installs['2019-04-20':'2019-04-22'].reset_index(),on=\"ref_hash\", how=\"right\")\n",
    "info3 = info3.rename(columns={'created_x':'label','created_y':'created'})\n",
    "\n",
    "label3 = info3['label'].to_frame()\n",
    "train3 = info3.drop('label', axis=1)"
   ]
  },
  {
   "cell_type": "code",
   "execution_count": 21,
   "metadata": {},
   "outputs": [],
   "source": [
    "info4 = installs['2019-04-24':'2019-04-26'].reset_index().groupby('ref_hash').agg({'created' : 'min'})\n",
    "info4['created'] = info4['created'] - pd.Timestamp('2019-04-24 00:00:00')\n",
    "info4['created'] = info4['created'].transform(lambda x: x.total_seconds())\n",
    "info4 = info4.reset_index()\n",
    "info4 = info4.merge(installs['2019-04-21':'2019-04-23'].reset_index(),on=\"ref_hash\", how=\"right\")\n",
    "info4 = info4.rename(columns={'created_x':'label','created_y':'created'})\n",
    "\n",
    "label4 = info4['label'].to_frame()\n",
    "train4 = info4.drop('label', axis=1)\n"
   ]
  },
  {
   "cell_type": "code",
   "execution_count": 40,
   "metadata": {},
   "outputs": [],
   "source": [
    "info5 = installs['2019-04-25':'2019-04-27'].reset_index().groupby('ref_hash').agg({'created' : 'min'})\n",
    "info5['created'] = info5['created'] - pd.Timestamp('2019-04-25 00:00:00')\n",
    "info5['created'] = info5['created'].transform(lambda x: x.total_seconds())\n",
    "info5 = info5.reset_index()\n",
    "info5 = info5.merge(installs['2019-04-22':'2019-04-24'].reset_index(),on=\"ref_hash\", how=\"right\")\n",
    "info5 = info5.rename(columns={'created_x':'label','created_y':'created'})\n",
    "\n",
    "label5 = info5['label'].to_frame()\n",
    "train5 = info5.drop('label', axis=1)"
   ]
  },
  {
   "cell_type": "code",
   "execution_count": null,
   "metadata": {},
   "outputs": [
    {
     "data": {
      "text/plain": [
       "'train1=train1.fillna(0)\\ntrain2=train2.fillna(0)\\ntrain3=train3.fillna(0)\\ntrain4=train4.fillna(0)\\ntrain5=train5.fillna(0)\\nlabel1=label1.fillna(60*60*24*3)\\nlabel2=label2.fillna(60*60*24*3)\\nlabel3=label3.fillna(60*60*24*3)\\nlabel4=label4.fillna(60*60*24*3)\\nlabel5=label5.fillna(60*60*24*3)'"
      ]
     },
     "execution_count": 14,
     "metadata": {},
     "output_type": "execute_result"
    }
   ],
   "source": [
    "'''train1=train1.fillna(0)\n",
    "train2=train2.fillna(0)\n",
    "train3=train3.fillna(0)\n",
    "train4=train4.fillna(0)\n",
    "train5=train5.fillna(0)\n",
    "label1=label1.fillna(60*60*24*3)\n",
    "label2=label2.fillna(60*60*24*3)\n",
    "label3=label3.fillna(60*60*24*3)\n",
    "label4=label4.fillna(60*60*24*3)\n",
    "label5=label5.fillna(60*60*24*3)'''"
   ]
  },
  {
   "cell_type": "code",
   "execution_count": 41,
   "metadata": {},
   "outputs": [],
   "source": [
    "train1.drop(['created','ref_type','click_hash','session_user_agent','user_agent','kind','wifi','trans_id','event_uuid'],axis =1, inplace = True )\n",
    "train2.drop(['created','ref_type','click_hash','session_user_agent','user_agent','kind','wifi','trans_id','event_uuid'],axis =1, inplace = True )\n",
    "train3.drop(['created','ref_type','click_hash','session_user_agent','user_agent','kind','wifi','trans_id','event_uuid'],axis =1, inplace = True )\n",
    "train4.drop(['created','ref_type','click_hash','session_user_agent','user_agent','kind','wifi','trans_id','event_uuid'],axis =1, inplace = True )\n",
    "train5.drop(['created','ref_type','click_hash','session_user_agent','user_agent','kind','wifi','trans_id','event_uuid'],axis =1, inplace = True )\n",
    "train1 = train1.dropna()\n",
    "train2 = train2.dropna()\n",
    "train3 = train3.dropna()\n",
    "train4 = train4.dropna()\n",
    "train5 = train5.dropna()"
   ]
  },
  {
   "cell_type": "markdown",
   "metadata": {},
   "source": [
    "# Analisis"
   ]
  },
  {
   "cell_type": "markdown",
   "metadata": {},
   "source": [
    "## Ventana 1"
   ]
  },
  {
   "cell_type": "code",
   "execution_count": null,
   "metadata": {},
   "outputs": [],
   "source": [
    "from sklearn.model_selection import train_test_split\n",
    "\n",
    "X_train, X_validation, y_train, y_validation = train_test_split(train1, label1, train_size=0.75, random_state=42)\n",
    "\n",
    "X_test = train4\n",
    "\n",
    "categorical_features_indices = ['ref_hash','application_id','attributed','implicit','device_countrycode','device_brand','device_model','ip_address','device_language']\n",
    "\n",
    "from catboost import CatBoostRegressor\n",
    "# Initialize data\n",
    "\n",
    "train_data = train1\n",
    "\n",
    "eval_data = train5\n",
    "\n",
    "train_labels = label1\n",
    "# Initialize CatBoostRegressor\n",
    "model = CatBoostRegressor(iterations=20,\n",
    "                             learning_rate=0.02,\n",
    "                             depth=12,\n",
    "                             eval_metric='RMSE',\n",
    "                             random_seed = 23,\n",
    "                             bagging_temperature = 0.2,\n",
    "                             od_type='Iter',\n",
    "                             metric_period = 1,\n",
    "                             od_wait=100)\n",
    "# Fit model\n",
    "model.fit(X_train, y_train,\n",
    "        cat_features=categorical_features_indices,\n",
    "          eval_set=(X_validation, y_validation),\n",
    "          plot=True)\n",
    "# Get predictions\n",
    "preds = model.predict(eval_data)"
   ]
  },
  {
   "cell_type": "code",
   "execution_count": null,
   "metadata": {},
   "outputs": [],
   "source": [
    "X = train1\n",
    "y = label1\n",
    "model.score(X,y)\n"
   ]
  },
  {
   "cell_type": "code",
   "execution_count": null,
   "metadata": {},
   "outputs": [],
   "source": [
    "preds = pd.DataFrame(preds).reset_index()\n",
    "np.sqrt(np.sum(((label5['label']-preds[0])**2)/len(label5['label'])))"
   ]
  },
  {
   "cell_type": "code",
   "execution_count": null,
   "metadata": {},
   "outputs": [],
   "source": [
    "import numpy as np\n",
    "from sklearn.linear_model import Ridge\n",
    "from sklearn.metrics import mean_squared_error\n",
    "from catboost import CatBoostRegressor, Pool\n",
    "from catboost.datasets import msrank\n",
    "from sklearn.model_selection import train_test_split\n",
    "\n",
    "##########################################\n",
    "######### SIMPLE BASELINE MODEL ##########\n",
    "##########################################\n",
    "\n",
    "# Prepare simple baselines (just mean target on first part of train pool).\n",
    "baseline_value = label1.mean()\n",
    "train_baseline = np.array([baseline_value] * y_validation.shape[0])\n",
    "test_baseline = np.array([baseline_value] * label4.shape[0])\n",
    "\n",
    "# Create pools\n",
    "train_pool = Pool(X_validation, y_validation, baseline=train_baseline)\n",
    "test_pool = Pool(train4, label4, baseline=test_baseline)\n",
    "\n",
    "# Train CatBoost model\n",
    "model.fit(train_pool, eval_set=test_pool)\n",
    "\n",
    "# Apply model on pool with baseline values\n",
    "preds1 = model.predict(test_pool)\n",
    "\n",
    "# Apply model on numpy.array and then add the baseline values\n",
    "preds2 = test_baseline + model.predict(train4)\n",
    "\n",
    "# Check that preds have small diffs\n",
    "assert (np.abs(preds1 - preds2) < 1e-6).all()\n",
    "\n",
    "print(mean_squared_error(label4, preds1))\n",
    "\n",
    "##########################################\n",
    "######### LINEAR BASELINE MODEL ##########\n",
    "##########################################\n",
    "\n",
    "# Train baseline model (linear regression) on first part of train pool\n",
    "baseline_model = Ridge(alpha=3e3, normalize=True)\n",
    "baseline_model.fit(X_train, y_train)\n",
    "\n",
    "# Prepare baselines\n",
    "train_baseline = baseline_model.predict(X_validation)\n",
    "test_baseline = baseline_model.predict(train4)\n",
    "\n",
    "# Create pools\n",
    "train_pool = Pool(X_validation, y_validation, baseline=train_baseline)\n",
    "test_pool = Pool(train4, label4, baseline=test_baseline)\n",
    "\n",
    "# Train CatBoost model\n",
    "model.fit(train_pool, eval_set=test_pool)\n",
    "\n",
    "# Apply model on pool with baseline values\n",
    "preds1 = catboost_model.predict(test_pool)\n",
    "\n",
    "# Apply model on numpy.array and then add the baseline values\n",
    "preds2 = baseline_model.predict(train4) + model.predict(train4)\n",
    "\n",
    "# Check that preds have small diffs\n",
    "assert (np.abs(preds1 - preds2) < 1e-6).all()\n",
    "\n",
    "print(mean_squared_error(label4, preds1))"
   ]
  },
  {
   "cell_type": "code",
   "execution_count": null,
   "metadata": {},
   "outputs": [],
   "source": []
  },
  {
   "cell_type": "markdown",
   "metadata": {},
   "source": [
    "## Ventana 2"
   ]
  },
  {
   "cell_type": "code",
   "execution_count": null,
   "metadata": {},
   "outputs": [],
   "source": [
    "from sklearn.model_selection import train_test_split\n",
    "\n",
    "X_train, X_validation, y_train, y_validation = train_test_split(train2, label2, train_size=0.75, random_state=42)\n",
    "\n",
    "X_test = train5\n",
    "\n",
    "categorical_features_indices = ['ref_hash','application_id','attributed','implicit','device_countrycode','device_brand','device_model','ip_address','device_language']\n",
    "\n",
    "# Fit model\n",
    "model.fit(X_train, y_train,\n",
    "        cat_features=categorical_features_indices,\n",
    "          eval_set=(X_validation, y_validation),\n",
    "          plot=True)\n",
    "# Get predictions\n",
    "preds = model.predict(eval_data)"
   ]
  },
  {
   "cell_type": "code",
   "execution_count": null,
   "metadata": {},
   "outputs": [],
   "source": [
    "X = train2\n",
    "y = label2\n",
    "model.score(X,y)\n"
   ]
  },
  {
   "cell_type": "code",
   "execution_count": null,
   "metadata": {},
   "outputs": [],
   "source": [
    "preds = pd.DataFrame(preds).reset_index()\n",
    "label = label1.reset_index()\n",
    "diferencia = label.merge(preds,on='index')\n",
    "diferencia['dif'] = diferencia[0] - diferencia['label']\n",
    "diferencia.agg({'dif':\"mean\"})\n"
   ]
  },
  {
   "cell_type": "code",
   "execution_count": null,
   "metadata": {},
   "outputs": [],
   "source": []
  },
  {
   "cell_type": "code",
   "execution_count": null,
   "metadata": {},
   "outputs": [],
   "source": []
  },
  {
   "cell_type": "markdown",
   "metadata": {},
   "source": [
    "# Prueba con todos los datos"
   ]
  },
  {
   "cell_type": "code",
   "execution_count": 7,
   "metadata": {},
   "outputs": [
    {
     "data": {
      "text/html": [
       "<div>\n",
       "<style>\n",
       "    .dataframe thead tr:only-child th {\n",
       "        text-align: right;\n",
       "    }\n",
       "\n",
       "    .dataframe thead th {\n",
       "        text-align: left;\n",
       "    }\n",
       "\n",
       "    .dataframe tbody tr th {\n",
       "        vertical-align: top;\n",
       "    }\n",
       "</style>\n",
       "<table border=\"1\" class=\"dataframe\">\n",
       "  <thead>\n",
       "    <tr style=\"text-align: right;\">\n",
       "      <th></th>\n",
       "      <th>ref_hash</th>\n",
       "      <th>obj</th>\n",
       "    </tr>\n",
       "  </thead>\n",
       "  <tbody>\n",
       "    <tr>\n",
       "      <th>0</th>\n",
       "      <td>1000169251625791246_sc</td>\n",
       "      <td>0</td>\n",
       "    </tr>\n",
       "    <tr>\n",
       "      <th>1</th>\n",
       "      <td>1000169251625791246_st</td>\n",
       "      <td>0</td>\n",
       "    </tr>\n",
       "    <tr>\n",
       "      <th>2</th>\n",
       "      <td>1000395625957344683_sc</td>\n",
       "      <td>0</td>\n",
       "    </tr>\n",
       "    <tr>\n",
       "      <th>3</th>\n",
       "      <td>1000395625957344683_st</td>\n",
       "      <td>0</td>\n",
       "    </tr>\n",
       "    <tr>\n",
       "      <th>4</th>\n",
       "      <td>1003027494996471685_sc</td>\n",
       "      <td>0</td>\n",
       "    </tr>\n",
       "  </tbody>\n",
       "</table>\n",
       "</div>"
      ],
      "text/plain": [
       "                 ref_hash  obj\n",
       "0  1000169251625791246_sc    0\n",
       "1  1000169251625791246_st    0\n",
       "2  1000395625957344683_sc    0\n",
       "3  1000395625957344683_st    0\n",
       "4  1003027494996471685_sc    0"
      ]
     },
     "execution_count": 7,
     "metadata": {},
     "output_type": "execute_result"
    }
   ],
   "source": [
    "target = pd.read_csv('TP 1er Cuatrimestre 2019/target_competencia_ids.csv', low_memory=False)\n",
    "target.head()"
   ]
  },
  {
   "cell_type": "code",
   "execution_count": 16,
   "metadata": {},
   "outputs": [],
   "source": [
    "installs['sc'] = installs['ref_hash'].transform(lambda x: str(x)+'_sc')\n",
    "\n",
    "mergeados = installs.merge(target, left_on = 'sc',right_on='ref_hash', how='inner')"
   ]
  },
  {
   "cell_type": "code",
   "execution_count": 18,
   "metadata": {},
   "outputs": [
    {
     "data": {
      "text/plain": [
       "5471"
      ]
     },
     "execution_count": 18,
     "metadata": {},
     "output_type": "execute_result"
    }
   ],
   "source": [
    "len(mergeados)"
   ]
  },
  {
   "cell_type": "code",
   "execution_count": 19,
   "metadata": {},
   "outputs": [
    {
     "data": {
      "text/plain": [
       "8074"
      ]
     },
     "execution_count": 19,
     "metadata": {},
     "output_type": "execute_result"
    }
   ],
   "source": [
    "len(target)"
   ]
  },
  {
   "cell_type": "code",
   "execution_count": 22,
   "metadata": {},
   "outputs": [],
   "source": [
    "train4['sc'] = train4['ref_hash'].transform(lambda x: str(x)+'_sc')\n",
    "mergeados = train4.merge(target, left_on = 'sc',right_on='ref_hash', how='inner')"
   ]
  },
  {
   "cell_type": "code",
   "execution_count": 23,
   "metadata": {},
   "outputs": [
    {
     "data": {
      "text/plain": [
       "1780"
      ]
     },
     "execution_count": 23,
     "metadata": {},
     "output_type": "execute_result"
    }
   ],
   "source": [
    "len(mergeados)"
   ]
  },
  {
   "cell_type": "code",
   "execution_count": 24,
   "metadata": {},
   "outputs": [
    {
     "data": {
      "text/plain": [
       "160617"
      ]
     },
     "execution_count": 24,
     "metadata": {},
     "output_type": "execute_result"
    }
   ],
   "source": [
    "len(train4)"
   ]
  }
 ],
 "metadata": {
  "kernelspec": {
   "display_name": "Python 3",
   "language": "python",
   "name": "python3"
  },
  "language_info": {
   "codemirror_mode": {
    "name": "ipython",
    "version": 3
   },
   "file_extension": ".py",
   "mimetype": "text/x-python",
   "name": "python",
   "nbconvert_exporter": "python",
   "pygments_lexer": "ipython3",
   "version": "3.6.7"
  }
 },
 "nbformat": 4,
 "nbformat_minor": 2
}
