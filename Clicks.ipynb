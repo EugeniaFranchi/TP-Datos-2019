{
 "cells": [
  {
   "cell_type": "code",
   "execution_count": 1,
   "metadata": {},
   "outputs": [],
   "source": [
    "# Importo librerias y defino configuraciones\n",
    "\n",
    "%matplotlib inline\n",
    "\n",
    "import pandas as pd\n",
    "import numpy as np\n",
    "import seaborn as sns\n",
    "import matplotlib.pyplot as plt\n",
    "\n",
    "plt.style.use('default')  # Cambio el estilo de los graficos\n",
    "\n",
    "sns.set(style=\"whitegrid\")"
   ]
  },
  {
   "cell_type": "code",
   "execution_count": 2,
   "metadata": {},
   "outputs": [],
   "source": [
    "tipos = {\"advertiser_id\":\"category\"}"
   ]
  },
  {
   "cell_type": "code",
   "execution_count": 3,
   "metadata": {},
   "outputs": [],
   "source": [
    "clicks = pd.read_csv(\"../../data/clicks.csv.gzip\", compression=\"gzip\", dtype=tipos)\n",
    "installs = pd.read_csv(\"../../data/installs.csv.gzip\", compression=\"gzip\")"
   ]
  },
  {
   "cell_type": "markdown",
   "metadata": {},
   "source": [
    "## Verificamos la integridad del set de datos"
   ]
  },
  {
   "cell_type": "code",
   "execution_count": 4,
   "metadata": {},
   "outputs": [
    {
     "name": "stdout",
     "output_type": "stream",
     "text": [
      "<class 'pandas.core.frame.DataFrame'>\n",
      "RangeIndex: 26351 entries, 0 to 26350\n",
      "Data columns (total 20 columns):\n",
      "advertiser_id      26351 non-null category\n",
      "action_id          0 non-null float64\n",
      "source_id          26351 non-null int64\n",
      "created            26351 non-null object\n",
      "country_code       26351 non-null int64\n",
      "latitude           26351 non-null float64\n",
      "longitude          26351 non-null float64\n",
      "wifi_connection    26351 non-null bool\n",
      "carrier_id         26340 non-null float64\n",
      "trans_id           26351 non-null object\n",
      "os_minor           26339 non-null float64\n",
      "agent_device       3243 non-null float64\n",
      "os_major           26339 non-null float64\n",
      "specs_brand        26351 non-null int64\n",
      "brand              6235 non-null float64\n",
      "timeToClick        22977 non-null float64\n",
      "touchX             23011 non-null float64\n",
      "touchY             23011 non-null float64\n",
      "ref_type           26351 non-null int64\n",
      "ref_hash           26351 non-null int64\n",
      "dtypes: bool(1), category(1), float64(11), int64(5), object(2)\n",
      "memory usage: 3.7+ MB\n"
     ]
    }
   ],
   "source": [
    "clicks.info()"
   ]
  },
  {
   "cell_type": "code",
   "execution_count": 5,
   "metadata": {},
   "outputs": [
    {
     "data": {
      "text/plain": [
       "advertiser_id      category\n",
       "action_id           float64\n",
       "source_id             int64\n",
       "created              object\n",
       "country_code          int64\n",
       "latitude            float64\n",
       "longitude           float64\n",
       "wifi_connection        bool\n",
       "carrier_id          float64\n",
       "trans_id             object\n",
       "os_minor            float64\n",
       "agent_device        float64\n",
       "os_major            float64\n",
       "specs_brand           int64\n",
       "brand               float64\n",
       "timeToClick         float64\n",
       "touchX              float64\n",
       "touchY              float64\n",
       "ref_type              int64\n",
       "ref_hash              int64\n",
       "dtype: object"
      ]
     },
     "execution_count": 5,
     "metadata": {},
     "output_type": "execute_result"
    }
   ],
   "source": [
    "clicks.dtypes"
   ]
  },
  {
   "cell_type": "code",
   "execution_count": 6,
   "metadata": {},
   "outputs": [
    {
     "data": {
      "text/plain": [
       "advertiser_id      False\n",
       "action_id           True\n",
       "source_id          False\n",
       "created            False\n",
       "country_code       False\n",
       "latitude           False\n",
       "longitude          False\n",
       "wifi_connection    False\n",
       "carrier_id          True\n",
       "trans_id           False\n",
       "os_minor            True\n",
       "agent_device        True\n",
       "os_major            True\n",
       "specs_brand        False\n",
       "brand               True\n",
       "timeToClick         True\n",
       "touchX              True\n",
       "touchY              True\n",
       "ref_type           False\n",
       "ref_hash           False\n",
       "dtype: bool"
      ]
     },
     "execution_count": 6,
     "metadata": {},
     "output_type": "execute_result"
    }
   ],
   "source": [
    "clicks.isnull().any()"
   ]
  },
  {
   "cell_type": "code",
   "execution_count": 7,
   "metadata": {
    "scrolled": true
   },
   "outputs": [
    {
     "data": {
      "text/plain": [
       "advertiser_id          0\n",
       "action_id          26351\n",
       "source_id              0\n",
       "created                0\n",
       "country_code           0\n",
       "latitude               0\n",
       "longitude              0\n",
       "wifi_connection        0\n",
       "carrier_id            11\n",
       "trans_id               0\n",
       "os_minor              12\n",
       "agent_device       23108\n",
       "os_major              12\n",
       "specs_brand            0\n",
       "brand              20116\n",
       "timeToClick         3374\n",
       "touchX              3340\n",
       "touchY              3340\n",
       "ref_type               0\n",
       "ref_hash               0\n",
       "dtype: int64"
      ]
     },
     "execution_count": 7,
     "metadata": {},
     "output_type": "execute_result"
    }
   ],
   "source": [
    "clicks.isnull().sum()"
   ]
  },
  {
   "cell_type": "code",
   "execution_count": 8,
   "metadata": {},
   "outputs": [
    {
     "data": {
      "text/plain": [
       "True"
      ]
     },
     "execution_count": 8,
     "metadata": {},
     "output_type": "execute_result"
    }
   ],
   "source": [
    "clicks[\"action_id\"].isnull().all()"
   ]
  },
  {
   "cell_type": "markdown",
   "metadata": {},
   "source": [
    "#### La columna de action_id es completamente nula, la podemos descartar."
   ]
  },
  {
   "cell_type": "code",
   "execution_count": 9,
   "metadata": {},
   "outputs": [],
   "source": [
    "clicks = clicks.drop(\"action_id\", axis=1)"
   ]
  },
  {
   "cell_type": "code",
   "execution_count": 10,
   "metadata": {},
   "outputs": [
    {
     "data": {
      "text/html": [
       "<div>\n",
       "<style scoped>\n",
       "    .dataframe tbody tr th:only-of-type {\n",
       "        vertical-align: middle;\n",
       "    }\n",
       "\n",
       "    .dataframe tbody tr th {\n",
       "        vertical-align: top;\n",
       "    }\n",
       "\n",
       "    .dataframe thead th {\n",
       "        text-align: right;\n",
       "    }\n",
       "</style>\n",
       "<table border=\"1\" class=\"dataframe\">\n",
       "  <thead>\n",
       "    <tr style=\"text-align: right;\">\n",
       "      <th></th>\n",
       "      <th>advertiser_id</th>\n",
       "      <th>source_id</th>\n",
       "      <th>created</th>\n",
       "      <th>country_code</th>\n",
       "      <th>latitude</th>\n",
       "      <th>longitude</th>\n",
       "      <th>wifi_connection</th>\n",
       "      <th>carrier_id</th>\n",
       "      <th>trans_id</th>\n",
       "      <th>os_minor</th>\n",
       "      <th>agent_device</th>\n",
       "      <th>os_major</th>\n",
       "      <th>specs_brand</th>\n",
       "      <th>brand</th>\n",
       "      <th>timeToClick</th>\n",
       "      <th>touchX</th>\n",
       "      <th>touchY</th>\n",
       "      <th>ref_type</th>\n",
       "      <th>ref_hash</th>\n",
       "    </tr>\n",
       "  </thead>\n",
       "  <tbody>\n",
       "    <tr>\n",
       "      <th>16257</th>\n",
       "      <td>3</td>\n",
       "      <td>0</td>\n",
       "      <td>2019-03-10T04:17:46.901Z</td>\n",
       "      <td>6333597102633388268</td>\n",
       "      <td>1.205689</td>\n",
       "      <td>1.070234</td>\n",
       "      <td>False</td>\n",
       "      <td>4.0</td>\n",
       "      <td>sXpI5jnp0eWhyXJGdKgCDjB86_up_fg</td>\n",
       "      <td>3.378640e+18</td>\n",
       "      <td>NaN</td>\n",
       "      <td>4.566454e+18</td>\n",
       "      <td>392184377613098015</td>\n",
       "      <td>NaN</td>\n",
       "      <td>8.647</td>\n",
       "      <td>0.321</td>\n",
       "      <td>1.600</td>\n",
       "      <td>1891515180541284343</td>\n",
       "      <td>2143542811270763814</td>\n",
       "    </tr>\n",
       "    <tr>\n",
       "      <th>25457</th>\n",
       "      <td>3</td>\n",
       "      <td>0</td>\n",
       "      <td>2019-03-12T15:09:26.035Z</td>\n",
       "      <td>6333597102633388268</td>\n",
       "      <td>1.205689</td>\n",
       "      <td>1.070234</td>\n",
       "      <td>False</td>\n",
       "      <td>4.0</td>\n",
       "      <td>oIN5VyYVWrE_lRWOWHmRlNSEOZSQTLc</td>\n",
       "      <td>6.391567e+18</td>\n",
       "      <td>NaN</td>\n",
       "      <td>7.452406e+18</td>\n",
       "      <td>392184377613098015</td>\n",
       "      <td>NaN</td>\n",
       "      <td>53.471</td>\n",
       "      <td>0.583</td>\n",
       "      <td>2.026</td>\n",
       "      <td>1891515180541284343</td>\n",
       "      <td>2402467287756710978</td>\n",
       "    </tr>\n",
       "    <tr>\n",
       "      <th>21978</th>\n",
       "      <td>3</td>\n",
       "      <td>1</td>\n",
       "      <td>2019-03-12T03:10:17.366Z</td>\n",
       "      <td>6333597102633388268</td>\n",
       "      <td>1.205689</td>\n",
       "      <td>1.070234</td>\n",
       "      <td>False</td>\n",
       "      <td>1.0</td>\n",
       "      <td>yHTxaPlwP5aOdcMZ9RRQ3GA-0s04sXA</td>\n",
       "      <td>3.378640e+18</td>\n",
       "      <td>3.729278e+18</td>\n",
       "      <td>4.566454e+18</td>\n",
       "      <td>2733035977666442898</td>\n",
       "      <td>1.0</td>\n",
       "      <td>2.210</td>\n",
       "      <td>0.897</td>\n",
       "      <td>0.025</td>\n",
       "      <td>1891515180541284343</td>\n",
       "      <td>3822973090057971582</td>\n",
       "    </tr>\n",
       "    <tr>\n",
       "      <th>11406</th>\n",
       "      <td>3</td>\n",
       "      <td>0</td>\n",
       "      <td>2019-03-11T13:44:35.311Z</td>\n",
       "      <td>6333597102633388268</td>\n",
       "      <td>1.205689</td>\n",
       "      <td>1.070234</td>\n",
       "      <td>False</td>\n",
       "      <td>1.0</td>\n",
       "      <td>t6JCL655N_4re12o5NZdSncwBKVh4qU</td>\n",
       "      <td>7.553676e+18</td>\n",
       "      <td>NaN</td>\n",
       "      <td>7.452406e+18</td>\n",
       "      <td>392184377613098015</td>\n",
       "      <td>NaN</td>\n",
       "      <td>NaN</td>\n",
       "      <td>NaN</td>\n",
       "      <td>NaN</td>\n",
       "      <td>1891515180541284343</td>\n",
       "      <td>633601243388217331</td>\n",
       "    </tr>\n",
       "    <tr>\n",
       "      <th>21961</th>\n",
       "      <td>3</td>\n",
       "      <td>0</td>\n",
       "      <td>2019-03-12T02:59:38.156Z</td>\n",
       "      <td>6333597102633388268</td>\n",
       "      <td>1.205689</td>\n",
       "      <td>1.070234</td>\n",
       "      <td>False</td>\n",
       "      <td>17.0</td>\n",
       "      <td>ZAU-QYAISztj7aW_DDlUud6Wg4T1tik</td>\n",
       "      <td>5.975656e+18</td>\n",
       "      <td>NaN</td>\n",
       "      <td>3.072849e+18</td>\n",
       "      <td>392184377613098015</td>\n",
       "      <td>2.0</td>\n",
       "      <td>8.283</td>\n",
       "      <td>0.729</td>\n",
       "      <td>0.650</td>\n",
       "      <td>1891515180541284343</td>\n",
       "      <td>4796428966188060328</td>\n",
       "    </tr>\n",
       "  </tbody>\n",
       "</table>\n",
       "</div>"
      ],
      "text/plain": [
       "      advertiser_id  source_id                   created         country_code  \\\n",
       "16257             3          0  2019-03-10T04:17:46.901Z  6333597102633388268   \n",
       "25457             3          0  2019-03-12T15:09:26.035Z  6333597102633388268   \n",
       "21978             3          1  2019-03-12T03:10:17.366Z  6333597102633388268   \n",
       "11406             3          0  2019-03-11T13:44:35.311Z  6333597102633388268   \n",
       "21961             3          0  2019-03-12T02:59:38.156Z  6333597102633388268   \n",
       "\n",
       "       latitude  longitude  wifi_connection  carrier_id  \\\n",
       "16257  1.205689   1.070234            False         4.0   \n",
       "25457  1.205689   1.070234            False         4.0   \n",
       "21978  1.205689   1.070234            False         1.0   \n",
       "11406  1.205689   1.070234            False         1.0   \n",
       "21961  1.205689   1.070234            False        17.0   \n",
       "\n",
       "                              trans_id      os_minor  agent_device  \\\n",
       "16257  sXpI5jnp0eWhyXJGdKgCDjB86_up_fg  3.378640e+18           NaN   \n",
       "25457  oIN5VyYVWrE_lRWOWHmRlNSEOZSQTLc  6.391567e+18           NaN   \n",
       "21978  yHTxaPlwP5aOdcMZ9RRQ3GA-0s04sXA  3.378640e+18  3.729278e+18   \n",
       "11406  t6JCL655N_4re12o5NZdSncwBKVh4qU  7.553676e+18           NaN   \n",
       "21961  ZAU-QYAISztj7aW_DDlUud6Wg4T1tik  5.975656e+18           NaN   \n",
       "\n",
       "           os_major          specs_brand  brand  timeToClick  touchX  touchY  \\\n",
       "16257  4.566454e+18   392184377613098015    NaN        8.647   0.321   1.600   \n",
       "25457  7.452406e+18   392184377613098015    NaN       53.471   0.583   2.026   \n",
       "21978  4.566454e+18  2733035977666442898    1.0        2.210   0.897   0.025   \n",
       "11406  7.452406e+18   392184377613098015    NaN          NaN     NaN     NaN   \n",
       "21961  3.072849e+18   392184377613098015    2.0        8.283   0.729   0.650   \n",
       "\n",
       "                  ref_type             ref_hash  \n",
       "16257  1891515180541284343  2143542811270763814  \n",
       "25457  1891515180541284343  2402467287756710978  \n",
       "21978  1891515180541284343  3822973090057971582  \n",
       "11406  1891515180541284343   633601243388217331  \n",
       "21961  1891515180541284343  4796428966188060328  "
      ]
     },
     "execution_count": 10,
     "metadata": {},
     "output_type": "execute_result"
    }
   ],
   "source": [
    "clicks.sample(5)"
   ]
  },
  {
   "cell_type": "code",
   "execution_count": 11,
   "metadata": {},
   "outputs": [
    {
     "data": {
      "text/plain": [
       "False"
      ]
     },
     "execution_count": 11,
     "metadata": {},
     "output_type": "execute_result"
    }
   ],
   "source": [
    "clicks[\"wifi_connection\"].any()"
   ]
  },
  {
   "cell_type": "markdown",
   "metadata": {},
   "source": [
    "#### Todas las filas tienen a False como valor de la columna wifi_connection, por lo que no nos aporta mucho al analisis. #TODO"
   ]
  },
  {
   "cell_type": "code",
   "execution_count": 12,
   "metadata": {},
   "outputs": [
    {
     "data": {
      "text/html": [
       "<div>\n",
       "<style scoped>\n",
       "    .dataframe tbody tr th:only-of-type {\n",
       "        vertical-align: middle;\n",
       "    }\n",
       "\n",
       "    .dataframe tbody tr th {\n",
       "        vertical-align: top;\n",
       "    }\n",
       "\n",
       "    .dataframe thead th {\n",
       "        text-align: right;\n",
       "    }\n",
       "</style>\n",
       "<table border=\"1\" class=\"dataframe\">\n",
       "  <thead>\n",
       "    <tr style=\"text-align: right;\">\n",
       "      <th></th>\n",
       "      <th>source_id</th>\n",
       "      <th>country_code</th>\n",
       "      <th>latitude</th>\n",
       "      <th>longitude</th>\n",
       "      <th>carrier_id</th>\n",
       "      <th>os_minor</th>\n",
       "      <th>agent_device</th>\n",
       "      <th>os_major</th>\n",
       "      <th>specs_brand</th>\n",
       "      <th>brand</th>\n",
       "      <th>timeToClick</th>\n",
       "      <th>touchX</th>\n",
       "      <th>touchY</th>\n",
       "      <th>ref_type</th>\n",
       "      <th>ref_hash</th>\n",
       "    </tr>\n",
       "  </thead>\n",
       "  <tbody>\n",
       "    <tr>\n",
       "      <th>count</th>\n",
       "      <td>26351.000000</td>\n",
       "      <td>2.635100e+04</td>\n",
       "      <td>26351.000000</td>\n",
       "      <td>26351.000000</td>\n",
       "      <td>26340.000000</td>\n",
       "      <td>2.633900e+04</td>\n",
       "      <td>3.243000e+03</td>\n",
       "      <td>2.633900e+04</td>\n",
       "      <td>2.635100e+04</td>\n",
       "      <td>6235.000000</td>\n",
       "      <td>22977.000000</td>\n",
       "      <td>23011.000000</td>\n",
       "      <td>23011.000000</td>\n",
       "      <td>2.635100e+04</td>\n",
       "      <td>2.635100e+04</td>\n",
       "    </tr>\n",
       "    <tr>\n",
       "      <th>mean</th>\n",
       "      <td>1.245266</td>\n",
       "      <td>6.333597e+18</td>\n",
       "      <td>1.206906</td>\n",
       "      <td>1.070233</td>\n",
       "      <td>7.743812</td>\n",
       "      <td>4.635375e+18</td>\n",
       "      <td>4.171028e+18</td>\n",
       "      <td>3.913451e+18</td>\n",
       "      <td>1.299055e+18</td>\n",
       "      <td>1.482277</td>\n",
       "      <td>230.403309</td>\n",
       "      <td>0.638784</td>\n",
       "      <td>1.478656</td>\n",
       "      <td>1.888100e+18</td>\n",
       "      <td>4.611581e+18</td>\n",
       "    </tr>\n",
       "    <tr>\n",
       "      <th>std</th>\n",
       "      <td>2.188948</td>\n",
       "      <td>1.024019e+03</td>\n",
       "      <td>0.004484</td>\n",
       "      <td>0.001896</td>\n",
       "      <td>7.017027</td>\n",
       "      <td>1.642969e+18</td>\n",
       "      <td>2.460496e+18</td>\n",
       "      <td>1.885866e+18</td>\n",
       "      <td>1.149672e+18</td>\n",
       "      <td>1.583764</td>\n",
       "      <td>976.849149</td>\n",
       "      <td>0.301983</td>\n",
       "      <td>2.622727</td>\n",
       "      <td>1.721252e+17</td>\n",
       "      <td>2.673175e+18</td>\n",
       "    </tr>\n",
       "    <tr>\n",
       "      <th>min</th>\n",
       "      <td>0.000000</td>\n",
       "      <td>6.333597e+18</td>\n",
       "      <td>1.205058</td>\n",
       "      <td>1.058204</td>\n",
       "      <td>0.000000</td>\n",
       "      <td>6.666626e+17</td>\n",
       "      <td>4.513618e+16</td>\n",
       "      <td>7.436481e+17</td>\n",
       "      <td>3.921844e+17</td>\n",
       "      <td>0.000000</td>\n",
       "      <td>0.017000</td>\n",
       "      <td>0.000000</td>\n",
       "      <td>0.000000</td>\n",
       "      <td>1.494519e+18</td>\n",
       "      <td>9.286192e+14</td>\n",
       "    </tr>\n",
       "    <tr>\n",
       "      <th>25%</th>\n",
       "      <td>0.000000</td>\n",
       "      <td>6.333597e+18</td>\n",
       "      <td>1.205689</td>\n",
       "      <td>1.070234</td>\n",
       "      <td>3.000000</td>\n",
       "      <td>3.378640e+18</td>\n",
       "      <td>1.975183e+18</td>\n",
       "      <td>1.774085e+18</td>\n",
       "      <td>3.921844e+17</td>\n",
       "      <td>0.000000</td>\n",
       "      <td>2.915000</td>\n",
       "      <td>0.426000</td>\n",
       "      <td>0.183000</td>\n",
       "      <td>1.891515e+18</td>\n",
       "      <td>2.273798e+18</td>\n",
       "    </tr>\n",
       "    <tr>\n",
       "      <th>50%</th>\n",
       "      <td>0.000000</td>\n",
       "      <td>6.333597e+18</td>\n",
       "      <td>1.205689</td>\n",
       "      <td>1.070234</td>\n",
       "      <td>6.000000</td>\n",
       "      <td>3.511538e+18</td>\n",
       "      <td>3.516812e+18</td>\n",
       "      <td>3.072849e+18</td>\n",
       "      <td>3.921844e+17</td>\n",
       "      <td>1.000000</td>\n",
       "      <td>10.588000</td>\n",
       "      <td>0.726000</td>\n",
       "      <td>0.645000</td>\n",
       "      <td>1.891515e+18</td>\n",
       "      <td>4.623721e+18</td>\n",
       "    </tr>\n",
       "    <tr>\n",
       "      <th>75%</th>\n",
       "      <td>1.000000</td>\n",
       "      <td>6.333597e+18</td>\n",
       "      <td>1.205689</td>\n",
       "      <td>1.070234</td>\n",
       "      <td>13.000000</td>\n",
       "      <td>6.391567e+18</td>\n",
       "      <td>6.589622e+18</td>\n",
       "      <td>4.566454e+18</td>\n",
       "      <td>2.733036e+18</td>\n",
       "      <td>2.000000</td>\n",
       "      <td>71.703000</td>\n",
       "      <td>0.901000</td>\n",
       "      <td>0.991000</td>\n",
       "      <td>1.891515e+18</td>\n",
       "      <td>6.917850e+18</td>\n",
       "    </tr>\n",
       "    <tr>\n",
       "      <th>max</th>\n",
       "      <td>10.000000</td>\n",
       "      <td>6.333597e+18</td>\n",
       "      <td>1.237861</td>\n",
       "      <td>1.085358</td>\n",
       "      <td>116.000000</td>\n",
       "      <td>9.081082e+18</td>\n",
       "      <td>9.221733e+18</td>\n",
       "      <td>7.499732e+18</td>\n",
       "      <td>8.930605e+18</td>\n",
       "      <td>13.000000</td>\n",
       "      <td>17616.188000</td>\n",
       "      <td>1.000000</td>\n",
       "      <td>16.600000</td>\n",
       "      <td>6.323872e+18</td>\n",
       "      <td>9.221118e+18</td>\n",
       "    </tr>\n",
       "  </tbody>\n",
       "</table>\n",
       "</div>"
      ],
      "text/plain": [
       "          source_id  country_code      latitude     longitude    carrier_id  \\\n",
       "count  26351.000000  2.635100e+04  26351.000000  26351.000000  26340.000000   \n",
       "mean       1.245266  6.333597e+18      1.206906      1.070233      7.743812   \n",
       "std        2.188948  1.024019e+03      0.004484      0.001896      7.017027   \n",
       "min        0.000000  6.333597e+18      1.205058      1.058204      0.000000   \n",
       "25%        0.000000  6.333597e+18      1.205689      1.070234      3.000000   \n",
       "50%        0.000000  6.333597e+18      1.205689      1.070234      6.000000   \n",
       "75%        1.000000  6.333597e+18      1.205689      1.070234     13.000000   \n",
       "max       10.000000  6.333597e+18      1.237861      1.085358    116.000000   \n",
       "\n",
       "           os_minor  agent_device      os_major   specs_brand        brand  \\\n",
       "count  2.633900e+04  3.243000e+03  2.633900e+04  2.635100e+04  6235.000000   \n",
       "mean   4.635375e+18  4.171028e+18  3.913451e+18  1.299055e+18     1.482277   \n",
       "std    1.642969e+18  2.460496e+18  1.885866e+18  1.149672e+18     1.583764   \n",
       "min    6.666626e+17  4.513618e+16  7.436481e+17  3.921844e+17     0.000000   \n",
       "25%    3.378640e+18  1.975183e+18  1.774085e+18  3.921844e+17     0.000000   \n",
       "50%    3.511538e+18  3.516812e+18  3.072849e+18  3.921844e+17     1.000000   \n",
       "75%    6.391567e+18  6.589622e+18  4.566454e+18  2.733036e+18     2.000000   \n",
       "max    9.081082e+18  9.221733e+18  7.499732e+18  8.930605e+18    13.000000   \n",
       "\n",
       "        timeToClick        touchX        touchY      ref_type      ref_hash  \n",
       "count  22977.000000  23011.000000  23011.000000  2.635100e+04  2.635100e+04  \n",
       "mean     230.403309      0.638784      1.478656  1.888100e+18  4.611581e+18  \n",
       "std      976.849149      0.301983      2.622727  1.721252e+17  2.673175e+18  \n",
       "min        0.017000      0.000000      0.000000  1.494519e+18  9.286192e+14  \n",
       "25%        2.915000      0.426000      0.183000  1.891515e+18  2.273798e+18  \n",
       "50%       10.588000      0.726000      0.645000  1.891515e+18  4.623721e+18  \n",
       "75%       71.703000      0.901000      0.991000  1.891515e+18  6.917850e+18  \n",
       "max    17616.188000      1.000000     16.600000  6.323872e+18  9.221118e+18  "
      ]
     },
     "execution_count": 12,
     "metadata": {},
     "output_type": "execute_result"
    }
   ],
   "source": [
    "clicks.describe()"
   ]
  },
  {
   "cell_type": "markdown",
   "metadata": {},
   "source": [
    "## 1) Caracteristicas y proveniencia de los clicks"
   ]
  },
  {
   "cell_type": "code",
   "execution_count": 13,
   "metadata": {},
   "outputs": [
    {
     "data": {
      "image/png": "[encoded data removed]",
      "text/plain": [
       "<Figure size 432x288 with 1 Axes>"
      ]
     },
     "metadata": {
      "needs_background": "light"
     },
     "output_type": "display_data"
    }
   ],
   "source": [
    "g = sns.countplot(x='advertiser_id', data=clicks, order=clicks['advertiser_id']\\\n",
    "                  .value_counts().index, orient='v')\n",
    "g.set_xticklabels(g.get_xticklabels())\n",
    "g.set_xlabel(\"Label asociado al anunciante\")\n",
    "g.set_ylabel(\"Apariciones\")\n",
    "g.set_title(\"Cantidad de apariciones de publicidad por anunciante\");"
   ]
  },
  {
   "cell_type": "markdown",
   "metadata": {},
   "source": [
    "Podemos ver que el anunciante 3 es quien muestra la gran mayoria de las publicidades."
   ]
  },
  {
   "cell_type": "markdown",
   "metadata": {},
   "source": [
    "#### Vemos como se distribuye la cantidad de apariciones entre los demas anunciantes, sin incluir al anunciante 3"
   ]
  },
  {
   "cell_type": "code",
   "execution_count": 14,
   "metadata": {},
   "outputs": [],
   "source": [
    "clicks_anunciante_amplificado = clicks[-clicks[\"advertiser_id\"].isin(['3'])][\"advertiser_id\"].value_counts()"
   ]
  },
  {
   "cell_type": "code",
   "execution_count": 15,
   "metadata": {},
   "outputs": [
    {
     "data": {
      "image/png": "[encoded data removed]",
      "text/plain": [
       "<Figure size 432x288 with 1 Axes>"
      ]
     },
     "metadata": {
      "needs_background": "light"
     },
     "output_type": "display_data"
    }
   ],
   "source": [
    "g = sns.countplot(x='advertiser_id', data=clicks[-clicks[\"advertiser_id\"].isin(['3'])], order=\\\n",
    "                  clicks[-clicks[\"advertiser_id\"].isin(['3'])][\"advertiser_id\"].value_counts().index, orient='v')\n",
    "g.set_xticklabels(g.get_xticklabels())\n",
    "g.set_xlabel(\"Label asociado al anunciante\")\n",
    "g.set_ylabel(\"Cantidad de clicks\")\n",
    "g.set_title(\"Cantidad de clicks en publicidad para el resto de los anunciantes\");  # O sea omito el anunciante 3"
   ]
  },
  {
   "cell_type": "code",
   "execution_count": 16,
   "metadata": {},
   "outputs": [
    {
     "data": {
      "text/plain": [
       "1891515180541284343    25549\n",
       "1494519392962156891      739\n",
       "5016171802147987303       58\n",
       "6323871695571587575        5\n",
       "Name: ref_type, dtype: int64"
      ]
     },
     "execution_count": 16,
     "metadata": {},
     "output_type": "execute_result"
    }
   ],
   "source": [
    "clicks[\"ref_type\"].value_counts()  # ¿Deberian ser dos? (Apple o Android) REVISAR"
   ]
  },
  {
   "cell_type": "code",
   "execution_count": 17,
   "metadata": {},
   "outputs": [
    {
     "data": {
      "text/plain": [
       "2.0     2027\n",
       "0.0     1917\n",
       "1.0     1521\n",
       "4.0      240\n",
       "3.0      186\n",
       "5.0      129\n",
       "6.0      124\n",
       "7.0       32\n",
       "9.0       31\n",
       "8.0       16\n",
       "10.0       8\n",
       "12.0       3\n",
       "13.0       1\n",
       "Name: brand, dtype: int64"
      ]
     },
     "execution_count": 17,
     "metadata": {},
     "output_type": "execute_result"
    }
   ],
   "source": [
    "clicks[\"brand\"].value_counts()"
   ]
  },
  {
   "cell_type": "code",
   "execution_count": 18,
   "metadata": {},
   "outputs": [
    {
     "data": {
      "image/png": "[encoded data removed]",
      "text/plain": [
       "<Figure size 432x288 with 1 Axes>"
      ]
     },
     "metadata": {
      "needs_background": "light"
     },
     "output_type": "display_data"
    }
   ],
   "source": [
    "g = sns.countplot(x='brand', data=clicks, order=clicks['brand']\\\n",
    "                  .value_counts().index, orient='v')\n",
    "g.set_xticklabels(g.get_xticklabels())\n",
    "g.set_xlabel(\"Label asociado a la marca del dispositivo\")\n",
    "g.set_ylabel(\"Apariciones\")\n",
    "g.set_title(\"Cantidad de apariciones de publicidad por marca\");"
   ]
  },
  {
   "cell_type": "code",
   "execution_count": 19,
   "metadata": {},
   "outputs": [
    {
     "data": {
      "image/png": "[encoded data removed]",
      "text/plain": [
       "<Figure size 432x288 with 1 Axes>"
      ]
     },
     "metadata": {
      "needs_background": "light"
     },
     "output_type": "display_data"
    }
   ],
   "source": [
    "g = sns.countplot(x='ref_type', data=clicks, order=clicks['ref_type']\\\n",
    "                  .value_counts().index, orient='v')\n",
    "g.set_xticklabels(g.get_xticklabels())\n",
    "g.set_xlabel(\"Hash asociado a el tipo de id de publicidad\")\n",
    "g.set_ylabel(\"Apariciones\")\n",
    "g.set_title(\"Cantidad de apariciones de cada tipo de id publicitario\", fontsize=16)\n",
    "g.set_xticklabels(g.get_xticklabels(), rotation=45);\n"
   ]
  },
  {
   "cell_type": "code",
   "execution_count": 20,
   "metadata": {},
   "outputs": [
    {
     "data": {
      "image/png": "[encoded data removed]",
      "text/plain": [
       "<Figure size 432x288 with 1 Axes>"
      ]
     },
     "metadata": {
      "needs_background": "light"
     },
     "output_type": "display_data"
    }
   ],
   "source": [
    "g = sns.distplot(np.log(clicks[\"timeToClick\"].dropna() + 1))\n",
    "g.set_title(\"Densidad de tiempo que paso hasta el click\")\n",
    "g.set_xlabel(\"Tiempo en segundos[log]\")\n",
    "g.set_ylabel(\"Densidad\");"
   ]
  },
  {
   "cell_type": "markdown",
   "metadata": {},
   "source": [
    "# VER CUAL DE LOS TRES GRAFICOS USAR"
   ]
  },
  {
   "cell_type": "code",
   "execution_count": 21,
   "metadata": {},
   "outputs": [
    {
     "data": {
      "image/png": "[encoded data removed]",
      "text/plain": [
       "<Figure size 432x288 with 1 Axes>"
      ]
     },
     "metadata": {
      "needs_background": "light"
     },
     "output_type": "display_data"
    }
   ],
   "source": [
    "g = sns.distplot(np.log(clicks[\"timeToClick\"].dropna()))\n",
    "g.set_title(\"Densidad de tiempo que paso hasta el click\")\n",
    "g.set_xlabel(\"Tiempo en segundos[log]\")\n",
    "g.set_ylabel(\"Densidad\");"
   ]
  },
  {
   "cell_type": "markdown",
   "metadata": {},
   "source": [
    "#### Convierto a milisegundos para poder graficar mejor en escala logaritmica (asi no tengo que lidiar con valores negativos en los ejes, queda raro)."
   ]
  },
  {
   "cell_type": "code",
   "execution_count": 22,
   "metadata": {},
   "outputs": [
    {
     "data": {
      "image/png": "[encoded data removed]",
      "text/plain": [
       "<Figure size 432x288 with 1 Axes>"
      ]
     },
     "metadata": {
      "needs_background": "light"
     },
     "output_type": "display_data"
    }
   ],
   "source": [
    "g = sns.distplot(np.log((clicks[\"timeToClick\"].dropna())*1000 + 1))\n",
    "g.set_title(\"Densidad de tiempo que paso hasta el click\")\n",
    "g.set_xlabel(\"Tiempo en milisegundos[log]\")\n",
    "g.set_ylabel(\"Densidad\");"
   ]
  },
  {
   "cell_type": "code",
   "execution_count": null,
   "metadata": {},
   "outputs": [],
   "source": []
  },
  {
   "cell_type": "code",
   "execution_count": 23,
   "metadata": {},
   "outputs": [],
   "source": []
  },
  {
   "cell_type": "code",
   "execution_count": 24,
   "metadata": {},
   "outputs": [],
   "source": []
  },
  {
   "cell_type": "code",
   "execution_count": 25,
   "metadata": {},
   "outputs": [
    {
     "data": {
      "image/png": "[encoded data removed]",
      "text/plain": [
       "<Figure size 432x288 with 2 Axes>"
      ]
     },
     "metadata": {
      "needs_background": "light"
     },
     "output_type": "display_data"
    }
   ],
   "source": []
  },
  {
   "cell_type": "markdown",
   "metadata": {},
   "source": [
    "Ver de relacionar:\n",
    "- Tiempo vs si fue install o no (al parecer es un quilombo porque no hay una forma obvia de relacionar el archivo de installs y el de clicks, ver celda de abajo)\n",
    "- Posicion de la pantalla donde hizo click con si fue install o no ( idem anterior, deberia poder relacionar los dos archivos)\n",
    "- Latitude y longitud vs cantidad de clicks ( con un heatmap?)"
   ]
  },
  {
   "cell_type": "code",
   "execution_count": 26,
   "metadata": {
    "scrolled": true
   },
   "outputs": [
    {
     "data": {
      "text/html": [
       "<div>\n",
       "<style scoped>\n",
       "    .dataframe tbody tr th:only-of-type {\n",
       "        vertical-align: middle;\n",
       "    }\n",
       "\n",
       "    .dataframe tbody tr th {\n",
       "        vertical-align: top;\n",
       "    }\n",
       "\n",
       "    .dataframe thead th {\n",
       "        text-align: right;\n",
       "    }\n",
       "</style>\n",
       "<table border=\"1\" class=\"dataframe\">\n",
       "  <thead>\n",
       "    <tr style=\"text-align: right;\">\n",
       "      <th></th>\n",
       "      <th>created</th>\n",
       "      <th>application_id</th>\n",
       "      <th>ref_type</th>\n",
       "      <th>ref_hash</th>\n",
       "      <th>click_hash</th>\n",
       "      <th>attributed</th>\n",
       "      <th>implicit</th>\n",
       "      <th>device_countrycode</th>\n",
       "      <th>device_brand</th>\n",
       "      <th>device_model</th>\n",
       "      <th>session_user_agent</th>\n",
       "      <th>user_agent</th>\n",
       "      <th>event_uuid</th>\n",
       "      <th>kind</th>\n",
       "      <th>wifi</th>\n",
       "      <th>trans_id</th>\n",
       "      <th>ip_address</th>\n",
       "      <th>device_language</th>\n",
       "      <th>timeToClick</th>\n",
       "    </tr>\n",
       "  </thead>\n",
       "  <tbody>\n",
       "    <tr>\n",
       "      <th>0</th>\n",
       "      <td>2019-03-06 21:33:40.647</td>\n",
       "      <td>7</td>\n",
       "      <td>1891515180541284343</td>\n",
       "      <td>582930240149217282</td>\n",
       "      <td>NaN</td>\n",
       "      <td>False</td>\n",
       "      <td>False</td>\n",
       "      <td>2970470518450881158</td>\n",
       "      <td>NaN</td>\n",
       "      <td>6.882415e+18</td>\n",
       "      <td>adjust.com</td>\n",
       "      <td>NaN</td>\n",
       "      <td>NaN</td>\n",
       "      <td>NaN</td>\n",
       "      <td>NaN</td>\n",
       "      <td>NaN</td>\n",
       "      <td>7140852032740295638</td>\n",
       "      <td>3.301378e+18</td>\n",
       "      <td>2.2770</td>\n",
       "    </tr>\n",
       "    <tr>\n",
       "      <th>1</th>\n",
       "      <td>2019-03-08 00:30:02.714</td>\n",
       "      <td>7</td>\n",
       "      <td>1891515180541284343</td>\n",
       "      <td>3685364020547088390</td>\n",
       "      <td>NaN</td>\n",
       "      <td>False</td>\n",
       "      <td>True</td>\n",
       "      <td>2970470518450881158</td>\n",
       "      <td>NaN</td>\n",
       "      <td>2.007085e+18</td>\n",
       "      <td>adjust.com</td>\n",
       "      <td>NaN</td>\n",
       "      <td>3212f574-d085-43d8-9f44-c39e0b0dbdfb</td>\n",
       "      <td>app_open</td>\n",
       "      <td>NaN</td>\n",
       "      <td>NaN</td>\n",
       "      <td>4682734745018418779</td>\n",
       "      <td>3.301378e+18</td>\n",
       "      <td>5859.8940</td>\n",
       "    </tr>\n",
       "    <tr>\n",
       "      <th>2</th>\n",
       "      <td>2019-03-08 14:10:39.335</td>\n",
       "      <td>7</td>\n",
       "      <td>1891515180541284343</td>\n",
       "      <td>7759178785240189555</td>\n",
       "      <td>NaN</td>\n",
       "      <td>False</td>\n",
       "      <td>False</td>\n",
       "      <td>2970470518450881158</td>\n",
       "      <td>NaN</td>\n",
       "      <td>6.882415e+18</td>\n",
       "      <td>adjust.com</td>\n",
       "      <td>NaN</td>\n",
       "      <td>NaN</td>\n",
       "      <td>NaN</td>\n",
       "      <td>NaN</td>\n",
       "      <td>NaN</td>\n",
       "      <td>4175259317777181190</td>\n",
       "      <td>3.301378e+18</td>\n",
       "      <td>17.9015</td>\n",
       "    </tr>\n",
       "    <tr>\n",
       "      <th>3</th>\n",
       "      <td>2019-03-11 09:38:31.388</td>\n",
       "      <td>7</td>\n",
       "      <td>1891515180541284343</td>\n",
       "      <td>7190737170444985036</td>\n",
       "      <td>NaN</td>\n",
       "      <td>False</td>\n",
       "      <td>False</td>\n",
       "      <td>2970470518450881158</td>\n",
       "      <td>NaN</td>\n",
       "      <td>6.882415e+18</td>\n",
       "      <td>adjust.com</td>\n",
       "      <td>NaN</td>\n",
       "      <td>NaN</td>\n",
       "      <td>NaN</td>\n",
       "      <td>NaN</td>\n",
       "      <td>NaN</td>\n",
       "      <td>7503733330765163556</td>\n",
       "      <td>3.301378e+18</td>\n",
       "      <td>108.8350</td>\n",
       "    </tr>\n",
       "    <tr>\n",
       "      <th>4</th>\n",
       "      <td>2019-03-10 08:30:15.346</td>\n",
       "      <td>7</td>\n",
       "      <td>1891515180541284343</td>\n",
       "      <td>2369915544093215150</td>\n",
       "      <td>NaN</td>\n",
       "      <td>False</td>\n",
       "      <td>False</td>\n",
       "      <td>2970470518450881158</td>\n",
       "      <td>NaN</td>\n",
       "      <td>6.882415e+18</td>\n",
       "      <td>adjust.com</td>\n",
       "      <td>NaN</td>\n",
       "      <td>NaN</td>\n",
       "      <td>NaN</td>\n",
       "      <td>NaN</td>\n",
       "      <td>NaN</td>\n",
       "      <td>8945813689569211960</td>\n",
       "      <td>3.301378e+18</td>\n",
       "      <td>0.0950</td>\n",
       "    </tr>\n",
       "  </tbody>\n",
       "</table>\n",
       "</div>"
      ],
      "text/plain": [
       "                   created  application_id             ref_type  \\\n",
       "0  2019-03-06 21:33:40.647               7  1891515180541284343   \n",
       "1  2019-03-08 00:30:02.714               7  1891515180541284343   \n",
       "2  2019-03-08 14:10:39.335               7  1891515180541284343   \n",
       "3  2019-03-11 09:38:31.388               7  1891515180541284343   \n",
       "4  2019-03-10 08:30:15.346               7  1891515180541284343   \n",
       "\n",
       "              ref_hash  click_hash  attributed  implicit   device_countrycode  \\\n",
       "0   582930240149217282         NaN       False     False  2970470518450881158   \n",
       "1  3685364020547088390         NaN       False      True  2970470518450881158   \n",
       "2  7759178785240189555         NaN       False     False  2970470518450881158   \n",
       "3  7190737170444985036         NaN       False     False  2970470518450881158   \n",
       "4  2369915544093215150         NaN       False     False  2970470518450881158   \n",
       "\n",
       "   device_brand  device_model session_user_agent user_agent  \\\n",
       "0           NaN  6.882415e+18         adjust.com        NaN   \n",
       "1           NaN  2.007085e+18         adjust.com        NaN   \n",
       "2           NaN  6.882415e+18         adjust.com        NaN   \n",
       "3           NaN  6.882415e+18         adjust.com        NaN   \n",
       "4           NaN  6.882415e+18         adjust.com        NaN   \n",
       "\n",
       "                             event_uuid      kind wifi trans_id  \\\n",
       "0                                   NaN       NaN  NaN      NaN   \n",
       "1  3212f574-d085-43d8-9f44-c39e0b0dbdfb  app_open  NaN      NaN   \n",
       "2                                   NaN       NaN  NaN      NaN   \n",
       "3                                   NaN       NaN  NaN      NaN   \n",
       "4                                   NaN       NaN  NaN      NaN   \n",
       "\n",
       "            ip_address  device_language  timeToClick  \n",
       "0  7140852032740295638     3.301378e+18       2.2770  \n",
       "1  4682734745018418779     3.301378e+18    5859.8940  \n",
       "2  4175259317777181190     3.301378e+18      17.9015  \n",
       "3  7503733330765163556     3.301378e+18     108.8350  \n",
       "4  8945813689569211960     3.301378e+18       0.0950  "
      ]
     },
     "execution_count": 26,
     "metadata": {},
     "output_type": "execute_result"
    }
   ],
   "source": [
    "# Tiempo vs si fue install o no \n",
    "# Que miseria che, solo 5 filas quedan haciendo merge\n",
    "df_i = installs.groupby(\"ref_hash\").filter(lambda x: len(x) == 1)\n",
    "df_c = clicks[[\"ref_hash\", \"timeToClick\"]].dropna().groupby(\"ref_hash\").mean()\n",
    "pd.merge(df_i, df_c, how='inner', on=[\"ref_hash\"])"
   ]
  },
  {
   "cell_type": "code",
   "execution_count": 55,
   "metadata": {
    "scrolled": true
   },
   "outputs": [
    {
     "data": {
      "image/png": "[encoded data removed]",
      "text/plain": [
       "<Figure size 432x288 with 1 Axes>"
      ]
     },
     "metadata": {
      "needs_background": "light"
     },
     "output_type": "display_data"
    }
   ],
   "source": [
    "g = sns.scatterplot(x=\"longitude\", y=\"latitude\", data=clicks)\n",
    "g.set_title(\"Distribucion geografica(anonimizada) de los clicks\", fontsize=17)\n",
    "g.set_xlabel(\"Longitud\")\n",
    "g.set_ylabel(\"Latitud\");"
   ]
  },
  {
   "cell_type": "markdown",
   "metadata": {},
   "source": [
    "#### El grafico nos muestra un distribucion de clicks tal que pareceria haber una mayor concentracion en las longitudes 1.070-1.073 y latitudes 1.205-1.207, junto con una distribucion de varios puntos a la largo del resto del mapa."
   ]
  },
  {
   "cell_type": "code",
   "execution_count": 51,
   "metadata": {},
   "outputs": [
    {
     "data": {
      "image/png": "[encoded data removed]",
      "text/plain": [
       "<Figure size 432x432 with 3 Axes>"
      ]
     },
     "metadata": {
      "needs_background": "light"
     },
     "output_type": "display_data"
    }
   ],
   "source": [
    "g = sns.jointplot(\"longitude\", \"latitude\",data=clicks, kind=\"hex\", color=\"#4CB391\")\n",
    "plt.subplots_adjust(top=0.9)\n",
    "plt.suptitle(\"Densidad de distribucion geografica de los clicks\", fontsize = 17);"
   ]
  },
  {
   "cell_type": "markdown",
   "metadata": {},
   "source": [
    "#### Sin embargo si realizamos un grafico de densidad bidimensional podemos ver la gran diferencia de magnitud que hay entre las coordenadas antes mencionadas y el resto del mapa, la inmensa mayoria de los clicks se encuentran en las longitudes 1.070-1.071 y en las latitudes 1.205-1.206"
   ]
  },
  {
   "cell_type": "code",
   "execution_count": 28,
   "metadata": {
    "scrolled": false
   },
   "outputs": [
    {
     "data": {
      "text/html": [
       "<div>\n",
       "<style scoped>\n",
       "    .dataframe tbody tr th:only-of-type {\n",
       "        vertical-align: middle;\n",
       "    }\n",
       "\n",
       "    .dataframe tbody tr th {\n",
       "        vertical-align: top;\n",
       "    }\n",
       "\n",
       "    .dataframe thead th {\n",
       "        text-align: right;\n",
       "    }\n",
       "</style>\n",
       "<table border=\"1\" class=\"dataframe\">\n",
       "  <thead>\n",
       "    <tr style=\"text-align: right;\">\n",
       "      <th></th>\n",
       "      <th>advertiser_id</th>\n",
       "      <th>source_id</th>\n",
       "      <th>created</th>\n",
       "      <th>country_code</th>\n",
       "      <th>latitude</th>\n",
       "      <th>longitude</th>\n",
       "      <th>wifi_connection</th>\n",
       "      <th>carrier_id</th>\n",
       "      <th>trans_id</th>\n",
       "      <th>os_minor</th>\n",
       "      <th>...</th>\n",
       "      <th>specs_brand</th>\n",
       "      <th>brand</th>\n",
       "      <th>timeToClick</th>\n",
       "      <th>touchX</th>\n",
       "      <th>touchY</th>\n",
       "      <th>ref_type</th>\n",
       "      <th>ref_hash</th>\n",
       "      <th>touchXCategorico</th>\n",
       "      <th>touchYCategorico</th>\n",
       "      <th>actividad</th>\n",
       "    </tr>\n",
       "  </thead>\n",
       "  <tbody>\n",
       "    <tr>\n",
       "      <th>23945</th>\n",
       "      <td>3</td>\n",
       "      <td>6</td>\n",
       "      <td>2019-03-12T18:11:53.912Z</td>\n",
       "      <td>6333597102633388268</td>\n",
       "      <td>1.205058</td>\n",
       "      <td>1.077332</td>\n",
       "      <td>False</td>\n",
       "      <td>13.0</td>\n",
       "      <td>ZnRA01jG18VRzBRqBp3t2hSAphWPOmk</td>\n",
       "      <td>5.975656e+18</td>\n",
       "      <td>...</td>\n",
       "      <td>2733035977666442898</td>\n",
       "      <td>0.0</td>\n",
       "      <td>6.948</td>\n",
       "      <td>0.950</td>\n",
       "      <td>0.102</td>\n",
       "      <td>1891515180541284343</td>\n",
       "      <td>6442013771584061801</td>\n",
       "      <td>0.9</td>\n",
       "      <td>0</td>\n",
       "      <td>1</td>\n",
       "    </tr>\n",
       "    <tr>\n",
       "      <th>4470</th>\n",
       "      <td>3</td>\n",
       "      <td>1</td>\n",
       "      <td>2019-03-10T02:07:41.509Z</td>\n",
       "      <td>6333597102633388268</td>\n",
       "      <td>1.205689</td>\n",
       "      <td>1.070234</td>\n",
       "      <td>False</td>\n",
       "      <td>2.0</td>\n",
       "      <td>SxBZNi4Fnf9Yr2-ENeymTelD4yw-PMo</td>\n",
       "      <td>3.511538e+18</td>\n",
       "      <td>...</td>\n",
       "      <td>2733035977666442898</td>\n",
       "      <td>NaN</td>\n",
       "      <td>0.230</td>\n",
       "      <td>0.607</td>\n",
       "      <td>0.531</td>\n",
       "      <td>1891515180541284343</td>\n",
       "      <td>753145568791997201</td>\n",
       "      <td>0.6</td>\n",
       "      <td>0</td>\n",
       "      <td>1</td>\n",
       "    </tr>\n",
       "    <tr>\n",
       "      <th>6201</th>\n",
       "      <td>3</td>\n",
       "      <td>1</td>\n",
       "      <td>2019-03-09T05:57:29.118Z</td>\n",
       "      <td>6333597102633388268</td>\n",
       "      <td>1.205689</td>\n",
       "      <td>1.070234</td>\n",
       "      <td>False</td>\n",
       "      <td>10.0</td>\n",
       "      <td>ydN33-JvUQsxwZWf9xgMMBzkd9qXYDk</td>\n",
       "      <td>3.378640e+18</td>\n",
       "      <td>...</td>\n",
       "      <td>2733035977666442898</td>\n",
       "      <td>NaN</td>\n",
       "      <td>3.861</td>\n",
       "      <td>0.908</td>\n",
       "      <td>0.016</td>\n",
       "      <td>1891515180541284343</td>\n",
       "      <td>5556056507346872050</td>\n",
       "      <td>0.9</td>\n",
       "      <td>0</td>\n",
       "      <td>1</td>\n",
       "    </tr>\n",
       "    <tr>\n",
       "      <th>24922</th>\n",
       "      <td>3</td>\n",
       "      <td>0</td>\n",
       "      <td>2019-03-12T02:00:03.902Z</td>\n",
       "      <td>6333597102633388268</td>\n",
       "      <td>1.209372</td>\n",
       "      <td>1.067147</td>\n",
       "      <td>False</td>\n",
       "      <td>0.0</td>\n",
       "      <td>C1dCBLTV5F1xS7hjGnBkQvGzFq2M7zE</td>\n",
       "      <td>6.768137e+18</td>\n",
       "      <td>...</td>\n",
       "      <td>392184377613098015</td>\n",
       "      <td>NaN</td>\n",
       "      <td>3.947</td>\n",
       "      <td>0.877</td>\n",
       "      <td>0.517</td>\n",
       "      <td>1891515180541284343</td>\n",
       "      <td>6366030626689400788</td>\n",
       "      <td>0.8</td>\n",
       "      <td>0</td>\n",
       "      <td>1</td>\n",
       "    </tr>\n",
       "    <tr>\n",
       "      <th>6158</th>\n",
       "      <td>3</td>\n",
       "      <td>6</td>\n",
       "      <td>2019-03-09T06:10:13.469Z</td>\n",
       "      <td>6333597102633388268</td>\n",
       "      <td>1.205689</td>\n",
       "      <td>1.070234</td>\n",
       "      <td>False</td>\n",
       "      <td>22.0</td>\n",
       "      <td>Xx4pUlqv1jQ904QdDduA6MrMqTs90m0</td>\n",
       "      <td>6.666626e+17</td>\n",
       "      <td>...</td>\n",
       "      <td>2733035977666442898</td>\n",
       "      <td>NaN</td>\n",
       "      <td>2.076</td>\n",
       "      <td>0.934</td>\n",
       "      <td>0.551</td>\n",
       "      <td>1891515180541284343</td>\n",
       "      <td>1430907244968287275</td>\n",
       "      <td>0.9</td>\n",
       "      <td>0</td>\n",
       "      <td>1</td>\n",
       "    </tr>\n",
       "  </tbody>\n",
       "</table>\n",
       "<p>5 rows × 22 columns</p>\n",
       "</div>"
      ],
      "text/plain": [
       "      advertiser_id  source_id                   created         country_code  \\\n",
       "23945             3          6  2019-03-12T18:11:53.912Z  6333597102633388268   \n",
       "4470              3          1  2019-03-10T02:07:41.509Z  6333597102633388268   \n",
       "6201              3          1  2019-03-09T05:57:29.118Z  6333597102633388268   \n",
       "24922             3          0  2019-03-12T02:00:03.902Z  6333597102633388268   \n",
       "6158              3          6  2019-03-09T06:10:13.469Z  6333597102633388268   \n",
       "\n",
       "       latitude  longitude  wifi_connection  carrier_id  \\\n",
       "23945  1.205058   1.077332            False        13.0   \n",
       "4470   1.205689   1.070234            False         2.0   \n",
       "6201   1.205689   1.070234            False        10.0   \n",
       "24922  1.209372   1.067147            False         0.0   \n",
       "6158   1.205689   1.070234            False        22.0   \n",
       "\n",
       "                              trans_id      os_minor  ...  \\\n",
       "23945  ZnRA01jG18VRzBRqBp3t2hSAphWPOmk  5.975656e+18  ...   \n",
       "4470   SxBZNi4Fnf9Yr2-ENeymTelD4yw-PMo  3.511538e+18  ...   \n",
       "6201   ydN33-JvUQsxwZWf9xgMMBzkd9qXYDk  3.378640e+18  ...   \n",
       "24922  C1dCBLTV5F1xS7hjGnBkQvGzFq2M7zE  6.768137e+18  ...   \n",
       "6158   Xx4pUlqv1jQ904QdDduA6MrMqTs90m0  6.666626e+17  ...   \n",
       "\n",
       "               specs_brand  brand  timeToClick  touchX  touchY  \\\n",
       "23945  2733035977666442898    0.0        6.948   0.950   0.102   \n",
       "4470   2733035977666442898    NaN        0.230   0.607   0.531   \n",
       "6201   2733035977666442898    NaN        3.861   0.908   0.016   \n",
       "24922   392184377613098015    NaN        3.947   0.877   0.517   \n",
       "6158   2733035977666442898    NaN        2.076   0.934   0.551   \n",
       "\n",
       "                  ref_type             ref_hash  touchXCategorico  \\\n",
       "23945  1891515180541284343  6442013771584061801               0.9   \n",
       "4470   1891515180541284343   753145568791997201               0.6   \n",
       "6201   1891515180541284343  5556056507346872050               0.9   \n",
       "24922  1891515180541284343  6366030626689400788               0.8   \n",
       "6158   1891515180541284343  1430907244968287275               0.9   \n",
       "\n",
       "       touchYCategorico actividad  \n",
       "23945                 0         1  \n",
       "4470                  0         1  \n",
       "6201                  0         1  \n",
       "24922                 0         1  \n",
       "6158                  0         1  \n",
       "\n",
       "[5 rows x 22 columns]"
      ]
     },
     "execution_count": 28,
     "metadata": {},
     "output_type": "execute_result"
    }
   ],
   "source": [
    "clicks.sample(5)"
   ]
  },
  {
   "cell_type": "code",
   "execution_count": null,
   "metadata": {},
   "outputs": [],
   "source": [
    "clicks['touchXCategorico'] = pd.cut(clicks['touchX'], bins=[0,0.1,0.2,0.3,0.4,0.5,0.6,0.7,0.8,0.9,1], include_lowest=True,labels=[0,0.1,0.2,0.3,0.4,0.5,0.6,0.7,0.8,0.9])\n",
    "clicks['touchYCategorico'] = pd.cut(clicks['touchY'], bins=[0,1,2,3,4,5,6,7,8,9,10,11,12,13,14,15,16.60], include_lowest=True,labels=[0,1,2,3,4,5,6,7,8,9,10,11,12,13,14,15])"
   ]
  },
  {
   "cell_type": "code",
   "execution_count": null,
   "metadata": {},
   "outputs": [],
   "source": [
    "clicks['actividad'] = 1\n",
    "for_heatmap = clicks.pivot_table(columns='touchXCategorico', index='touchYCategorico', values='actividad', aggfunc='sum')"
   ]
  },
  {
   "cell_type": "code",
   "execution_count": 53,
   "metadata": {},
   "outputs": [
    {
     "data": {
      "image/png": "[encoded data removed]",
      "text/plain": [
       "<Figure size 432x288 with 2 Axes>"
      ]
     },
     "metadata": {
      "needs_background": "light"
     },
     "output_type": "display_data"
    }
   ],
   "source": [
    "g = sns.heatmap(for_heatmap, linewidths=.5, cmap=\"BuPu\") # annot=True\n",
    "g.set_title(\"Posicion de toque en la pantalla\", fontsize=22)\n",
    "g.set_xlabel(\"TouchX\",fontsize=18)\n",
    "g.set_ylabel(\"TouchY\", fontsize=18);"
   ]
  },
  {
   "cell_type": "code",
   "execution_count": 33,
   "metadata": {},
   "outputs": [],
   "source": [
    "timeToClick_heatmap = clicks.pivot_table(columns='touchXCategorico', index='touchYCategorico', values='timeToClick')"
   ]
  },
  {
   "cell_type": "code",
   "execution_count": 35,
   "metadata": {},
   "outputs": [
    {
     "data": {
      "image/png": "[encoded data removed]",
      "text/plain": [
       "<Figure size 432x288 with 2 Axes>"
      ]
     },
     "metadata": {
      "needs_background": "light"
     },
     "output_type": "display_data"
    }
   ],
   "source": [
    "g = sns.heatmap(timeToClick_heatmap, linewidths=.5, cmap=\"viridis\") # annot=True\n",
    "g.set_title(\"Tiempo hasta click por posicion de la pantalla\", fontsize=22)\n",
    "g.set_xlabel(\"TouchX\",fontsize=18)\n",
    "g.set_ylabel(\"TouchY\", fontsize=18);"
   ]
  },
  {
   "cell_type": "code",
   "execution_count": null,
   "metadata": {},
   "outputs": [],
   "source": []
  }
 ],
 "metadata": {
  "kernelspec": {
   "display_name": "Python 3",
   "language": "python",
   "name": "python3"
  },
  "language_info": {
   "codemirror_mode": {
    "name": "ipython",
    "version": 3
   },
   "file_extension": ".py",
   "mimetype": "text/x-python",
   "name": "python",
   "nbconvert_exporter": "python",
   "pygments_lexer": "ipython3",
   "version": "3.6.7"
  }
 },
 "nbformat": 4,
 "nbformat_minor": 2
}
