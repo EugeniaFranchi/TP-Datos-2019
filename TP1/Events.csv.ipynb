{
 "cells": [
  {
   "cell_type": "markdown",
   "metadata": {},
   "source": [
    "# Análisis de events.csv"
   ]
  },
  {
   "cell_type": "code",
   "execution_count": 1,
   "metadata": {},
   "outputs": [],
   "source": [
    "import numpy as np \n",
    "import pandas as pd\n",
    "import matplotlib.pyplot as plt\n",
    "import seaborn as sns\n",
    "%matplotlib inline\n",
    "\n",
    "pd.set_option('max_columns', 8, 'max_rows', 21)"
   ]
  },
  {
   "cell_type": "markdown",
   "metadata": {},
   "source": [
    "## Limpieza del data frame"
   ]
  },
  {
   "cell_type": "code",
   "execution_count": 2,
   "metadata": {},
   "outputs": [
    {
     "data": {
      "text/html": [
       "<div>\n",
       "<style scoped>\n",
       "    .dataframe tbody tr th:only-of-type {\n",
       "        vertical-align: middle;\n",
       "    }\n",
       "\n",
       "    .dataframe tbody tr th {\n",
       "        vertical-align: top;\n",
       "    }\n",
       "\n",
       "    .dataframe thead th {\n",
       "        text-align: right;\n",
       "    }\n",
       "</style>\n",
       "<table border=\"1\" class=\"dataframe\">\n",
       "  <thead>\n",
       "    <tr style=\"text-align: right;\">\n",
       "      <th></th>\n",
       "      <th>event_id</th>\n",
       "      <th>ref_type</th>\n",
       "      <th>ref_hash</th>\n",
       "      <th>application_id</th>\n",
       "      <th>...</th>\n",
       "      <th>wifi</th>\n",
       "      <th>connection_type</th>\n",
       "      <th>ip_address</th>\n",
       "      <th>device_language</th>\n",
       "    </tr>\n",
       "    <tr>\n",
       "      <th>date</th>\n",
       "      <th></th>\n",
       "      <th></th>\n",
       "      <th></th>\n",
       "      <th></th>\n",
       "      <th></th>\n",
       "      <th></th>\n",
       "      <th></th>\n",
       "      <th></th>\n",
       "      <th></th>\n",
       "    </tr>\n",
       "  </thead>\n",
       "  <tbody>\n",
       "    <tr>\n",
       "      <th>2019-03-05 00:09:36.966</th>\n",
       "      <td>0</td>\n",
       "      <td>1891515180541284343</td>\n",
       "      <td>2688759737656491380</td>\n",
       "      <td>38</td>\n",
       "      <td>...</td>\n",
       "      <td>NaN</td>\n",
       "      <td>Cable/DSL</td>\n",
       "      <td>7858558567428669000</td>\n",
       "      <td>4.077062e+17</td>\n",
       "    </tr>\n",
       "    <tr>\n",
       "      <th>2019-03-05 00:09:38.920</th>\n",
       "      <td>1</td>\n",
       "      <td>1891515180541284343</td>\n",
       "      <td>2688759737656491380</td>\n",
       "      <td>38</td>\n",
       "      <td>...</td>\n",
       "      <td>NaN</td>\n",
       "      <td>Cable/DSL</td>\n",
       "      <td>7858558567428669000</td>\n",
       "      <td>4.077062e+17</td>\n",
       "    </tr>\n",
       "    <tr>\n",
       "      <th>2019-03-05 00:09:26.195</th>\n",
       "      <td>0</td>\n",
       "      <td>1891515180541284343</td>\n",
       "      <td>2688759737656491380</td>\n",
       "      <td>38</td>\n",
       "      <td>...</td>\n",
       "      <td>NaN</td>\n",
       "      <td>Cable/DSL</td>\n",
       "      <td>7858558567428669000</td>\n",
       "      <td>4.077062e+17</td>\n",
       "    </tr>\n",
       "    <tr>\n",
       "      <th>2019-03-05 00:09:31.107</th>\n",
       "      <td>2</td>\n",
       "      <td>1891515180541284343</td>\n",
       "      <td>2688759737656491380</td>\n",
       "      <td>38</td>\n",
       "      <td>...</td>\n",
       "      <td>NaN</td>\n",
       "      <td>Cable/DSL</td>\n",
       "      <td>6324037615828123965</td>\n",
       "      <td>4.077062e+17</td>\n",
       "    </tr>\n",
       "    <tr>\n",
       "      <th>2019-03-09 21:00:36.585</th>\n",
       "      <td>3</td>\n",
       "      <td>1891515180541284343</td>\n",
       "      <td>2635154697734164782</td>\n",
       "      <td>38</td>\n",
       "      <td>...</td>\n",
       "      <td>NaN</td>\n",
       "      <td>Cable/DSL</td>\n",
       "      <td>2894495631302821483</td>\n",
       "      <td>3.301378e+18</td>\n",
       "    </tr>\n",
       "  </tbody>\n",
       "</table>\n",
       "<p>5 rows × 21 columns</p>\n",
       "</div>"
      ],
      "text/plain": [
       "                         event_id             ref_type             ref_hash  \\\n",
       "date                                                                          \n",
       "2019-03-05 00:09:36.966         0  1891515180541284343  2688759737656491380   \n",
       "2019-03-05 00:09:38.920         1  1891515180541284343  2688759737656491380   \n",
       "2019-03-05 00:09:26.195         0  1891515180541284343  2688759737656491380   \n",
       "2019-03-05 00:09:31.107         2  1891515180541284343  2688759737656491380   \n",
       "2019-03-09 21:00:36.585         3  1891515180541284343  2635154697734164782   \n",
       "\n",
       "                         application_id  ...  wifi  connection_type  \\\n",
       "date                                     ...                          \n",
       "2019-03-05 00:09:36.966              38  ...   NaN        Cable/DSL   \n",
       "2019-03-05 00:09:38.920              38  ...   NaN        Cable/DSL   \n",
       "2019-03-05 00:09:26.195              38  ...   NaN        Cable/DSL   \n",
       "2019-03-05 00:09:31.107              38  ...   NaN        Cable/DSL   \n",
       "2019-03-09 21:00:36.585              38  ...   NaN        Cable/DSL   \n",
       "\n",
       "                                  ip_address  device_language  \n",
       "date                                                           \n",
       "2019-03-05 00:09:36.966  7858558567428669000     4.077062e+17  \n",
       "2019-03-05 00:09:38.920  7858558567428669000     4.077062e+17  \n",
       "2019-03-05 00:09:26.195  7858558567428669000     4.077062e+17  \n",
       "2019-03-05 00:09:31.107  6324037615828123965     4.077062e+17  \n",
       "2019-03-09 21:00:36.585  2894495631302821483     3.301378e+18  \n",
       "\n",
       "[5 rows x 21 columns]"
      ]
     },
     "execution_count": 2,
     "metadata": {},
     "output_type": "execute_result"
    }
   ],
   "source": [
    "events = pd.read_csv('data/events.csv.gzip', compression='gzip', low_memory=False, parse_dates = ['date'], index_col=['date'])\n",
    "events.head()"
   ]
  },
  {
   "cell_type": "code",
   "execution_count": 3,
   "metadata": {},
   "outputs": [
    {
     "data": {
      "text/plain": [
       "event_id              False\n",
       "ref_type              False\n",
       "ref_hash              False\n",
       "application_id        False\n",
       "attributed            False\n",
       "device_countrycode    False\n",
       "device_os_version     False\n",
       "device_brand          False\n",
       "device_model          False\n",
       "device_city           False\n",
       "session_user_agent    False\n",
       "trans_id              False\n",
       "user_agent            False\n",
       "event_uuid            False\n",
       "carrier               False\n",
       "kind                  False\n",
       "device_os             False\n",
       "wifi                  False\n",
       "connection_type       False\n",
       "ip_address            False\n",
       "device_language       False\n",
       "dtype: bool"
      ]
     },
     "execution_count": 3,
     "metadata": {},
     "output_type": "execute_result"
    }
   ],
   "source": [
    "events.isnull().all()"
   ]
  },
  {
   "cell_type": "code",
   "execution_count": 4,
   "metadata": {},
   "outputs": [
    {
     "data": {
      "text/plain": [
       "event_id              False\n",
       "ref_type              False\n",
       "ref_hash              False\n",
       "application_id        False\n",
       "attributed            False\n",
       "device_countrycode    False\n",
       "device_os_version      True\n",
       "device_brand           True\n",
       "device_model           True\n",
       "device_city            True\n",
       "session_user_agent     True\n",
       "trans_id               True\n",
       "user_agent             True\n",
       "event_uuid             True\n",
       "carrier                True\n",
       "kind                   True\n",
       "device_os              True\n",
       "wifi                   True\n",
       "connection_type        True\n",
       "ip_address            False\n",
       "device_language        True\n",
       "dtype: bool"
      ]
     },
     "execution_count": 4,
     "metadata": {},
     "output_type": "execute_result"
    }
   ],
   "source": [
    "events.isnull().any()"
   ]
  },
  {
   "cell_type": "code",
   "execution_count": 5,
   "metadata": {},
   "outputs": [
    {
     "data": {
      "text/plain": [
       "568"
      ]
     },
     "execution_count": 5,
     "metadata": {},
     "output_type": "execute_result"
    }
   ],
   "source": [
    "events['event_id'].nunique()"
   ]
  },
  {
   "cell_type": "code",
   "execution_count": 6,
   "metadata": {},
   "outputs": [
    {
     "data": {
      "text/plain": [
       "22     618228\n",
       "31     417070\n",
       "161    217846\n",
       "1      157812\n",
       "138    100039\n",
       "162     84898\n",
       "329     56490\n",
       "156     53332\n",
       "33      48581\n",
       "171     43942\n",
       "        ...  \n",
       "585         1\n",
       "140         1\n",
       "583         1\n",
       "581         1\n",
       "580         1\n",
       "437         1\n",
       "443         1\n",
       "227         1\n",
       "226         1\n",
       "584         1\n",
       "Name: event_id, Length: 568, dtype: int64"
      ]
     },
     "execution_count": 6,
     "metadata": {},
     "output_type": "execute_result"
    }
   ],
   "source": [
    "events['event_id'].value_counts()"
   ]
  },
  {
   "cell_type": "code",
   "execution_count": 7,
   "metadata": {},
   "outputs": [
    {
     "data": {
      "text/plain": [
       "(712, 0)"
      ]
     },
     "execution_count": 7,
     "metadata": {},
     "output_type": "execute_result"
    }
   ],
   "source": [
    "events['event_id'].max(), events['event_id'].min()"
   ]
  },
  {
   "cell_type": "code",
   "execution_count": 8,
   "metadata": {},
   "outputs": [
    {
     "data": {
      "text/plain": [
       "1891515180541284343    1882743\n",
       "1494519392962156891     611680\n",
       "Name: ref_type, dtype: int64"
      ]
     },
     "execution_count": 8,
     "metadata": {},
     "output_type": "execute_result"
    }
   ],
   "source": [
    "events['ref_type'].value_counts()"
   ]
  },
  {
   "cell_type": "code",
   "execution_count": 9,
   "metadata": {},
   "outputs": [
    {
     "data": {
      "text/plain": [
       "7823950631004872496    2913\n",
       "7298478026707033340    2822\n",
       "5034957474698180142    2681\n",
       "5724169280369284055    2524\n",
       "1706781657278990931    2300\n",
       "244029859389272148     2240\n",
       "7526135353349769077    2079\n",
       "8876061431560425145    2053\n",
       "99390558091295167      1966\n",
       "2514745445577342929    1925\n",
       "                       ... \n",
       "7009562562297148893       1\n",
       "5724067282482505135       1\n",
       "542920284203096810        1\n",
       "8824967259386729287       1\n",
       "4587959808658474870       1\n",
       "3863444691996527919       1\n",
       "5262023704498348823       1\n",
       "7023391121731554099       1\n",
       "5985661816547571320       1\n",
       "7797654345365407302       1\n",
       "Name: ref_hash, Length: 196049, dtype: int64"
      ]
     },
     "execution_count": 9,
     "metadata": {},
     "output_type": "execute_result"
    }
   ],
   "source": [
    "events['ref_hash'].value_counts(dropna=False)"
   ]
  },
  {
   "cell_type": "code",
   "execution_count": 10,
   "metadata": {},
   "outputs": [
    {
     "data": {
      "text/plain": [
       "196049"
      ]
     },
     "execution_count": 10,
     "metadata": {},
     "output_type": "execute_result"
    }
   ],
   "source": [
    "events['ref_hash'].nunique()"
   ]
  },
  {
   "cell_type": "code",
   "execution_count": 11,
   "metadata": {},
   "outputs": [],
   "source": [
    "events = events.drop('ref_hash', axis=1)"
   ]
  },
  {
   "cell_type": "code",
   "execution_count": 12,
   "metadata": {},
   "outputs": [
    {
     "data": {
      "text/plain": [
       "66     325696\n",
       "64     259084\n",
       "145    252431\n",
       "63     181555\n",
       "103    137513\n",
       "57     134498\n",
       "121    123711\n",
       "212    108489\n",
       "113     82962\n",
       "39      76448\n",
       "        ...  \n",
       "155         1\n",
       "158         1\n",
       "165         1\n",
       "240         1\n",
       "245         1\n",
       "255         1\n",
       "286         1\n",
       "295         1\n",
       "305         1\n",
       "154         1\n",
       "Name: application_id, Length: 269, dtype: int64"
      ]
     },
     "execution_count": 12,
     "metadata": {},
     "output_type": "execute_result"
    }
   ],
   "source": [
    "events['application_id'].value_counts()"
   ]
  },
  {
   "cell_type": "code",
   "execution_count": 13,
   "metadata": {},
   "outputs": [
    {
     "data": {
      "text/plain": [
       "(322, 0)"
      ]
     },
     "execution_count": 13,
     "metadata": {},
     "output_type": "execute_result"
    }
   ],
   "source": [
    "events['application_id'].max(), events['application_id'].min()"
   ]
  },
  {
   "cell_type": "code",
   "execution_count": 14,
   "metadata": {},
   "outputs": [
    {
     "data": {
      "text/plain": [
       "False    2489324\n",
       "True        5099\n",
       "Name: attributed, dtype: int64"
      ]
     },
     "execution_count": 14,
     "metadata": {},
     "output_type": "execute_result"
    }
   ],
   "source": [
    "events['attributed'].value_counts(dropna=False)"
   ]
  },
  {
   "cell_type": "code",
   "execution_count": 15,
   "metadata": {},
   "outputs": [
    {
     "data": {
      "text/plain": [
       "6333597102633388268    2494423\n",
       "Name: device_countrycode, dtype: int64"
      ]
     },
     "execution_count": 15,
     "metadata": {},
     "output_type": "execute_result"
    }
   ],
   "source": [
    "events['device_countrycode'].value_counts(dropna=False)"
   ]
  },
  {
   "cell_type": "code",
   "execution_count": 16,
   "metadata": {},
   "outputs": [],
   "source": [
    "events = events.drop('device_countrycode', axis=1)"
   ]
  },
  {
   "cell_type": "code",
   "execution_count": 17,
   "metadata": {},
   "outputs": [
    {
     "data": {
      "text/plain": [
       "NaN             1472357\n",
       "4.353750e+18     277691\n",
       "7.391844e+18     104170\n",
       "8.824599e+18      77947\n",
       "1.627314e+18      58099\n",
       "4.823237e+18      47501\n",
       "2.853704e+18      46823\n",
       "2.635068e+18      41978\n",
       "5.908703e+17      38321\n",
       "8.530336e+17      33964\n",
       "                 ...   \n",
       "8.570584e+18         37\n",
       "1.428790e+18         22\n",
       "8.875687e+18         16\n",
       "7.871569e+18          7\n",
       "9.159972e+17          4\n",
       "3.885746e+17          4\n",
       "3.624089e+18          2\n",
       "3.546414e+18          1\n",
       "3.437022e+18          1\n",
       "5.955758e+18          1\n",
       "Name: device_os_version, Length: 82, dtype: int64"
      ]
     },
     "execution_count": 17,
     "metadata": {},
     "output_type": "execute_result"
    }
   ],
   "source": [
    "events['device_os_version'].value_counts(dropna=False)"
   ]
  },
  {
   "cell_type": "code",
   "execution_count": 18,
   "metadata": {},
   "outputs": [
    {
     "data": {
      "text/plain": [
       "81"
      ]
     },
     "execution_count": 18,
     "metadata": {},
     "output_type": "execute_result"
    }
   ],
   "source": [
    "events['device_os_version'].nunique()"
   ]
  },
  {
   "cell_type": "code",
   "execution_count": 19,
   "metadata": {},
   "outputs": [
    {
     "data": {
      "text/plain": [
       "NaN             1329460\n",
       "3.083059e+17     579861\n",
       "3.812621e+18     115538\n",
       "2.208835e+18     113636\n",
       "2.987569e+18     107472\n",
       "2.523246e+18      94672\n",
       "5.137992e+17      39432\n",
       "3.228516e+18      15589\n",
       "2.262848e+18      12325\n",
       "6.538562e+18      11839\n",
       "                 ...   \n",
       "4.350309e+18          1\n",
       "8.081274e+18          1\n",
       "8.826210e+18          1\n",
       "6.521401e+18          1\n",
       "7.516783e+18          1\n",
       "2.331947e+18          1\n",
       "5.149403e+18          1\n",
       "1.634137e+18          1\n",
       "8.339903e+18          1\n",
       "6.709370e+18          1\n",
       "Name: device_brand, Length: 251, dtype: int64"
      ]
     },
     "execution_count": 19,
     "metadata": {},
     "output_type": "execute_result"
    }
   ],
   "source": [
    "events['device_brand'].value_counts(dropna=False)"
   ]
  },
  {
   "cell_type": "code",
   "execution_count": 20,
   "metadata": {},
   "outputs": [
    {
     "data": {
      "text/plain": [
       "2.331947e+18    210697\n",
       "NaN              87967\n",
       "7.787531e+18     74780\n",
       "9.149036e+18     66279\n",
       "2.066431e+17     60168\n",
       "4.445252e+18     56241\n",
       "1.754528e+18     53850\n",
       "8.163783e+18     48814\n",
       "7.116343e+18     44598\n",
       "2.928262e+18     41494\n",
       "                 ...  \n",
       "1.412702e+18         1\n",
       "1.331533e+18         1\n",
       "9.060065e+18         1\n",
       "5.692373e+18         1\n",
       "4.915292e+18         1\n",
       "2.727968e+18         1\n",
       "2.166385e+18         1\n",
       "8.662536e+18         1\n",
       "8.074954e+18         1\n",
       "8.878395e+18         1\n",
       "Name: device_model, Length: 2625, dtype: int64"
      ]
     },
     "execution_count": 20,
     "metadata": {},
     "output_type": "execute_result"
    }
   ],
   "source": [
    "events['device_model'].value_counts(dropna=False)"
   ]
  },
  {
   "cell_type": "code",
   "execution_count": 21,
   "metadata": {},
   "outputs": [
    {
     "data": {
      "text/plain": [
       "2624"
      ]
     },
     "execution_count": 21,
     "metadata": {},
     "output_type": "execute_result"
    }
   ],
   "source": [
    "events['device_model'].nunique()"
   ]
  },
  {
   "cell_type": "code",
   "execution_count": 22,
   "metadata": {},
   "outputs": [
    {
     "data": {
      "text/plain": [
       "127"
      ]
     },
     "execution_count": 22,
     "metadata": {},
     "output_type": "execute_result"
    }
   ],
   "source": [
    "events['device_city'].nunique()"
   ]
  },
  {
   "cell_type": "code",
   "execution_count": 23,
   "metadata": {},
   "outputs": [
    {
     "data": {
      "text/plain": [
       "3.819516e+18    1461049\n",
       "7.164321e+18     649962\n",
       "1.160952e+18      78232\n",
       "NaN               11786\n",
       "2.394269e+18      11210\n",
       "3.831619e+18      10838\n",
       "6.593868e+18       9911\n",
       "2.495805e+18       7391\n",
       "7.512089e+18       6995\n",
       "7.738334e+18       6770\n",
       "                 ...   \n",
       "3.086383e+18          1\n",
       "9.220949e+18          1\n",
       "3.927893e+18          1\n",
       "9.102839e+18          1\n",
       "9.362377e+17          1\n",
       "6.714208e+18          1\n",
       "4.314022e+18          1\n",
       "1.252369e+18          1\n",
       "3.216151e+18          1\n",
       "2.299293e+18          1\n",
       "Name: session_user_agent, Length: 1461, dtype: int64"
      ]
     },
     "execution_count": 23,
     "metadata": {},
     "output_type": "execute_result"
    }
   ],
   "source": [
    "events['session_user_agent'].value_counts(dropna=False)"
   ]
  },
  {
   "cell_type": "code",
   "execution_count": 24,
   "metadata": {},
   "outputs": [
    {
     "data": {
      "text/plain": [
       "1460"
      ]
     },
     "execution_count": 24,
     "metadata": {},
     "output_type": "execute_result"
    }
   ],
   "source": [
    "events['session_user_agent'].nunique()"
   ]
  },
  {
   "cell_type": "code",
   "execution_count": 25,
   "metadata": {},
   "outputs": [
    {
     "data": {
      "text/plain": [
       "NaN                                                                                                              2494341\n",
       "{hash}                                                                                                                33\n",
       "0                                                                                                                     16\n",
       "103430dcab4b60eb4f                                                                                                     9\n",
       "433f38e2c758468ab632dcab7281d4be_Y2NhPTEwLzI1LzIwMTggMTA6Mjk6MjUgUE0mb2ZmZXJJZD0zMzQ1NjQ0NiZhZmZJZD0yMjMyNzUx          7\n",
       "210a4c5786d249c78bb30237abcac890_Y2NhPTQvMjEvMjAxOCA1OjI2OjM3IFBNJm9mZmVySWQ9MzM0NTY0NDYmYWZmSWQ9MTY2MTgxNQ==          6\n",
       "77ca31a9-b0e0-4884-8de8-c2ee74f1cc32                                                                                   2\n",
       "1901171053a509cd7317f2c6                                                                                               2\n",
       "0941bb7b-866f-4d5a-9b85-63e77b27d562                                                                                   2\n",
       "73f1hsvh52g4soo                                                                                                        1\n",
       "58ee68fa77874f8785ecbe8cf74e14de_Y2NhPTQvMjUvMjAxOCA5OjI5OjE4IFBNJm9mZmVySWQ9MzM0NTY4ODkmYWZmSWQ9MjIzMzAzOQ==          1\n",
       "57ff03c8                                                                                                               1\n",
       "1500439142mb23318419296                                                                                                1\n",
       "57d62969                                                                                                               1\n",
       "Name: trans_id, dtype: int64"
      ]
     },
     "execution_count": 25,
     "metadata": {},
     "output_type": "execute_result"
    }
   ],
   "source": [
    "events['trans_id'].value_counts(dropna=False)"
   ]
  },
  {
   "cell_type": "code",
   "execution_count": 26,
   "metadata": {},
   "outputs": [],
   "source": [
    "events = events.drop('trans_id', axis=1)"
   ]
  },
  {
   "cell_type": "code",
   "execution_count": 27,
   "metadata": {},
   "outputs": [
    {
     "data": {
      "text/plain": [
       "NaN             1102896\n",
       "2.394269e+18      42325\n",
       "7.720270e+18      37523\n",
       "6.593868e+18      36173\n",
       "5.930547e+18      35950\n",
       "5.254247e+18      32902\n",
       "6.105227e+18      31554\n",
       "3.437497e+18      28317\n",
       "7.738334e+18      27218\n",
       "4.392265e+18      23386\n",
       "                 ...   \n",
       "5.791051e+18          1\n",
       "3.508616e+18          1\n",
       "2.190028e+18          1\n",
       "4.894244e+18          1\n",
       "4.322708e+18          1\n",
       "8.443949e+18          1\n",
       "7.664442e+18          1\n",
       "9.911041e+17          1\n",
       "8.512735e+18          1\n",
       "2.381941e+18          1\n",
       "Name: user_agent, Length: 5112, dtype: int64"
      ]
     },
     "execution_count": 27,
     "metadata": {},
     "output_type": "execute_result"
    }
   ],
   "source": [
    "events['user_agent'].value_counts(dropna=False)"
   ]
  },
  {
   "cell_type": "code",
   "execution_count": 28,
   "metadata": {},
   "outputs": [
    {
     "data": {
      "text/plain": [
       "5111"
      ]
     },
     "execution_count": 28,
     "metadata": {},
     "output_type": "execute_result"
    }
   ],
   "source": [
    "events['user_agent'].nunique()"
   ]
  },
  {
   "cell_type": "code",
   "execution_count": 29,
   "metadata": {},
   "outputs": [
    {
     "data": {
      "text/plain": [
       "2489324"
      ]
     },
     "execution_count": 29,
     "metadata": {},
     "output_type": "execute_result"
    }
   ],
   "source": [
    "events['event_uuid'].nunique()"
   ]
  },
  {
   "cell_type": "code",
   "execution_count": 30,
   "metadata": {},
   "outputs": [
    {
     "data": {
      "text/plain": [
       "2494423"
      ]
     },
     "execution_count": 30,
     "metadata": {},
     "output_type": "execute_result"
    }
   ],
   "source": [
    "len(events)"
   ]
  },
  {
   "cell_type": "code",
   "execution_count": 31,
   "metadata": {},
   "outputs": [
    {
     "data": {
      "text/plain": [
       "5099"
      ]
     },
     "execution_count": 31,
     "metadata": {},
     "output_type": "execute_result"
    }
   ],
   "source": [
    "events['event_uuid'].isnull().sum()"
   ]
  },
  {
   "cell_type": "code",
   "execution_count": 32,
   "metadata": {},
   "outputs": [
    {
     "data": {
      "text/plain": [
       "True"
      ]
     },
     "execution_count": 32,
     "metadata": {},
     "output_type": "execute_result"
    }
   ],
   "source": [
    "events['event_uuid'].nunique() + events['event_uuid'].isnull().sum() == len(events)"
   ]
  },
  {
   "cell_type": "code",
   "execution_count": 33,
   "metadata": {},
   "outputs": [
    {
     "data": {
      "text/plain": [
       "0"
      ]
     },
     "execution_count": 33,
     "metadata": {},
     "output_type": "execute_result"
    }
   ],
   "source": [
    "(events.groupby('event_uuid').size() > 1).sum()"
   ]
  },
  {
   "cell_type": "code",
   "execution_count": 34,
   "metadata": {},
   "outputs": [
    {
     "data": {
      "text/plain": [
       "NaN             1877989\n",
       "2.248157e+17     436983\n",
       "1.179587e+18      80958\n",
       "7.855224e+18      58478\n",
       "6.948828e+18      29574\n",
       "3.570805e+18       3457\n",
       "4.890489e+18       2527\n",
       "7.232922e+18       1491\n",
       "7.216102e+18        539\n",
       "1.757690e+18        464\n",
       "                 ...   \n",
       "1.045359e+18          1\n",
       "6.254256e+18          1\n",
       "3.681033e+18          1\n",
       "2.833277e+17          1\n",
       "8.529339e+18          1\n",
       "3.682028e+17          1\n",
       "2.591232e+18          1\n",
       "1.996453e+18          1\n",
       "7.185497e+18          1\n",
       "2.368831e+18          1\n",
       "Name: carrier, Length: 85, dtype: int64"
      ]
     },
     "execution_count": 34,
     "metadata": {},
     "output_type": "execute_result"
    }
   ],
   "source": [
    "events['carrier'].value_counts(dropna=False)"
   ]
  },
  {
   "cell_type": "code",
   "execution_count": 35,
   "metadata": {},
   "outputs": [
    {
     "data": {
      "text/plain": [
       "84"
      ]
     },
     "execution_count": 35,
     "metadata": {},
     "output_type": "execute_result"
    }
   ],
   "source": [
    "events['carrier'].nunique()"
   ]
  },
  {
   "cell_type": "code",
   "execution_count": 36,
   "metadata": {},
   "outputs": [
    {
     "data": {
      "text/plain": [
       "5.500848e+18    618217\n",
       "5.104972e+18    300632\n",
       "9.066788e+18    217846\n",
       "9.977660e+17    151445\n",
       "8.820572e+18    110045\n",
       "4.647949e+18    100029\n",
       "3.209078e+18     84898\n",
       "2.376750e+18     56489\n",
       "7.320636e+18     52726\n",
       "4.017674e+18     43936\n",
       "                 ...  \n",
       "8.866389e+18         1\n",
       "4.818353e+17         1\n",
       "7.690540e+18         1\n",
       "5.734900e+18         1\n",
       "4.625323e+18         1\n",
       "1.094100e+17         1\n",
       "6.818242e+18         1\n",
       "6.447669e+18         1\n",
       "4.265801e+18         1\n",
       "7.465488e+18         1\n",
       "Name: kind, Length: 584, dtype: int64"
      ]
     },
     "execution_count": 36,
     "metadata": {},
     "output_type": "execute_result"
    }
   ],
   "source": [
    "events['kind'].value_counts(dropna=False)"
   ]
  },
  {
   "cell_type": "code",
   "execution_count": 37,
   "metadata": {},
   "outputs": [
    {
     "data": {
      "text/plain": [
       "583"
      ]
     },
     "execution_count": 37,
     "metadata": {},
     "output_type": "execute_result"
    }
   ],
   "source": [
    "events['kind'].nunique()"
   ]
  },
  {
   "cell_type": "code",
   "execution_count": 38,
   "metadata": {},
   "outputs": [
    {
     "data": {
      "text/plain": [
       "NaN             1836756\n",
       "7.531669e+18     389811\n",
       "6.941825e+18     260861\n",
       "2.748831e+18       6110\n",
       "5.916187e+18        885\n",
       "Name: device_os, dtype: int64"
      ]
     },
     "execution_count": 38,
     "metadata": {},
     "output_type": "execute_result"
    }
   ],
   "source": [
    "events['device_os'].value_counts(dropna=False)"
   ]
  },
  {
   "cell_type": "code",
   "execution_count": 39,
   "metadata": {},
   "outputs": [
    {
     "data": {
      "text/plain": [
       "NaN      1115551\n",
       "True      930902\n",
       "False     447970\n",
       "Name: wifi, dtype: int64"
      ]
     },
     "execution_count": 39,
     "metadata": {},
     "output_type": "execute_result"
    }
   ],
   "source": [
    "events['wifi'].value_counts(dropna=False)"
   ]
  },
  {
   "cell_type": "code",
   "execution_count": 40,
   "metadata": {},
   "outputs": [
    {
     "data": {
      "text/plain": [
       "NaN          1881960\n",
       "Cable/DSL     331948\n",
       "Cellular      280511\n",
       "Corporate          4\n",
       "Name: connection_type, dtype: int64"
      ]
     },
     "execution_count": 40,
     "metadata": {},
     "output_type": "execute_result"
    }
   ],
   "source": [
    "events['connection_type'].value_counts(dropna=False)"
   ]
  },
  {
   "cell_type": "code",
   "execution_count": 41,
   "metadata": {},
   "outputs": [
    {
     "data": {
      "text/plain": [
       "1992632945768888579    22640\n",
       "3162368506662488065    19379\n",
       "7726314782926052608    17704\n",
       "2394721645995561079     9777\n",
       "589886713227299026      7561\n",
       "7833422721300884983     7197\n",
       "3564864895681659759     7142\n",
       "4537476465028897433     7140\n",
       "2403839579048525602     7100\n",
       "7410847412569818934     7065\n",
       "                       ...  \n",
       "6297785086410596444        1\n",
       "865735738946492792         1\n",
       "5316517878243719710        1\n",
       "8896124262873260755        1\n",
       "361383479433549232         1\n",
       "6972806790365671167        1\n",
       "6216550108324576422        1\n",
       "1033135917162868094        1\n",
       "3888973223672549839        1\n",
       "8952896826617249737        1\n",
       "Name: ip_address, Length: 285212, dtype: int64"
      ]
     },
     "execution_count": 41,
     "metadata": {},
     "output_type": "execute_result"
    }
   ],
   "source": [
    "events['ip_address'].value_counts()"
   ]
  },
  {
   "cell_type": "code",
   "execution_count": 42,
   "metadata": {},
   "outputs": [
    {
     "data": {
      "text/plain": [
       "285212"
      ]
     },
     "execution_count": 42,
     "metadata": {},
     "output_type": "execute_result"
    }
   ],
   "source": [
    "events['ip_address'].nunique()"
   ]
  },
  {
   "cell_type": "code",
   "execution_count": 43,
   "metadata": {},
   "outputs": [
    {
     "data": {
      "text/plain": [
       "186"
      ]
     },
     "execution_count": 43,
     "metadata": {},
     "output_type": "execute_result"
    }
   ],
   "source": [
    "events['device_language'].nunique()"
   ]
  },
  {
   "cell_type": "code",
   "execution_count": 44,
   "metadata": {},
   "outputs": [
    {
     "name": "stdout",
     "output_type": "stream",
     "text": [
      "<class 'pandas.core.frame.DataFrame'>\n",
      "DatetimeIndex: 2494423 entries, 2019-03-05 00:09:36.966000 to 2019-03-12 18:39:41.928000\n",
      "Data columns (total 18 columns):\n",
      "event_id              int64\n",
      "ref_type              int64\n",
      "application_id        int64\n",
      "attributed            bool\n",
      "device_os_version     float64\n",
      "device_brand          float64\n",
      "device_model          float64\n",
      "device_city           float64\n",
      "session_user_agent    float64\n",
      "user_agent            float64\n",
      "event_uuid            object\n",
      "carrier               float64\n",
      "kind                  float64\n",
      "device_os             float64\n",
      "wifi                  object\n",
      "connection_type       object\n",
      "ip_address            int64\n",
      "device_language       float64\n",
      "dtypes: bool(1), float64(10), int64(4), object(3)\n",
      "memory usage: 344.9+ MB\n"
     ]
    }
   ],
   "source": [
    "events.info()"
   ]
  },
  {
   "cell_type": "code",
   "execution_count": 45,
   "metadata": {},
   "outputs": [],
   "source": [
    "# Conversión de tipos para ahorrar memoria\n",
    "events['event_id'] = events['event_id'].astype(np.uint16)\n",
    "events['application_id'] = events['application_id'].astype(np.uint16)\n",
    "events['attributed'] = events['attributed'].astype(np.bool)\n",
    "events['wifi'] = events['wifi'].astype(np.bool)\n",
    "events['connection_type'] = events['connection_type'].astype('category')"
   ]
  },
  {
   "cell_type": "code",
   "execution_count": 46,
   "metadata": {},
   "outputs": [
    {
     "name": "stdout",
     "output_type": "stream",
     "text": [
      "<class 'pandas.core.frame.DataFrame'>\n",
      "DatetimeIndex: 2494423 entries, 2019-03-05 00:09:36.966000 to 2019-03-12 18:39:41.928000\n",
      "Data columns (total 18 columns):\n",
      "event_id              uint16\n",
      "ref_type              int64\n",
      "application_id        uint16\n",
      "attributed            bool\n",
      "device_os_version     float64\n",
      "device_brand          float64\n",
      "device_model          float64\n",
      "device_city           float64\n",
      "session_user_agent    float64\n",
      "user_agent            float64\n",
      "event_uuid            object\n",
      "carrier               float64\n",
      "kind                  float64\n",
      "device_os             float64\n",
      "wifi                  bool\n",
      "connection_type       category\n",
      "ip_address            int64\n",
      "device_language       float64\n",
      "dtypes: bool(2), category(1), float64(10), int64(2), object(1), uint16(2)\n",
      "memory usage: 283.1+ MB\n"
     ]
    }
   ],
   "source": [
    "events.info()"
   ]
  },
  {
   "cell_type": "code",
   "execution_count": 47,
   "metadata": {},
   "outputs": [],
   "source": [
    "events['ref_type'], x= events['ref_type'].factorize()"
   ]
  },
  {
   "cell_type": "markdown",
   "metadata": {},
   "source": [
    "### Análisis exploratorio"
   ]
  }
 ],
 "metadata": {
  "kernelspec": {
   "display_name": "Python 3",
   "language": "python",
   "name": "python3"
  },
  "language_info": {
   "codemirror_mode": {
    "name": "ipython",
    "version": 3
   },
   "file_extension": ".py",
   "mimetype": "text/x-python",
   "name": "python",
   "nbconvert_exporter": "python",
   "pygments_lexer": "ipython3",
   "version": "3.5.3"
  }
 },
 "nbformat": 4,
 "nbformat_minor": 2
}
