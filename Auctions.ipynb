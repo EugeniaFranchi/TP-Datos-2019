{
 "cells": [
  {
   "cell_type": "code",
   "execution_count": 1,
   "metadata": {},
   "outputs": [],
   "source": [
    "import pandas as pd\n",
    "import numpy as np"
   ]
  },
  {
   "cell_type": "code",
   "execution_count": 2,
   "metadata": {},
   "outputs": [],
   "source": [
    "tipos = {\"platform\":np.uint8, \"ref_type_id\":np.uint8, \"source_id\":np.uint8, \"device_id\":np.uint64}"
   ]
  },
  {
   "cell_type": "code",
   "execution_count": 4,
   "metadata": {},
   "outputs": [],
   "source": [
    "auctions = pd.concat((x for x in pd.read_csv('../../data/auctions.csv.gzip', chunksize=50000, compression='gzip', low_memory=False, dtype=tipos, parse_dates=[\"date\"], usecols=[\"date\", \"platform\", \"ref_type_id\", \"source_id\", \"device_id\"])))"
   ]
  },
  {
   "cell_type": "code",
   "execution_count": 5,
   "metadata": {},
   "outputs": [
    {
     "data": {
      "text/html": [
       "<div>\n",
       "<style scoped>\n",
       "    .dataframe tbody tr th:only-of-type {\n",
       "        vertical-align: middle;\n",
       "    }\n",
       "\n",
       "    .dataframe tbody tr th {\n",
       "        vertical-align: top;\n",
       "    }\n",
       "\n",
       "    .dataframe thead th {\n",
       "        text-align: right;\n",
       "    }\n",
       "</style>\n",
       "<table border=\"1\" class=\"dataframe\">\n",
       "  <thead>\n",
       "    <tr style=\"text-align: right;\">\n",
       "      <th></th>\n",
       "      <th>date</th>\n",
       "      <th>device_id</th>\n",
       "      <th>platform</th>\n",
       "      <th>ref_type_id</th>\n",
       "      <th>source_id</th>\n",
       "    </tr>\n",
       "  </thead>\n",
       "  <tbody>\n",
       "    <tr>\n",
       "      <th>10253065</th>\n",
       "      <td>2019-03-09 08:25:11.437518</td>\n",
       "      <td>3297550689811632561</td>\n",
       "      <td>1</td>\n",
       "      <td>1</td>\n",
       "      <td>0</td>\n",
       "    </tr>\n",
       "    <tr>\n",
       "      <th>16336286</th>\n",
       "      <td>2019-03-07 10:04:28.833838</td>\n",
       "      <td>6563262339938107154</td>\n",
       "      <td>1</td>\n",
       "      <td>1</td>\n",
       "      <td>5</td>\n",
       "    </tr>\n",
       "    <tr>\n",
       "      <th>18544555</th>\n",
       "      <td>2019-03-12 23:52:27.248792</td>\n",
       "      <td>211440781987761210</td>\n",
       "      <td>1</td>\n",
       "      <td>1</td>\n",
       "      <td>0</td>\n",
       "    </tr>\n",
       "    <tr>\n",
       "      <th>2720013</th>\n",
       "      <td>2019-03-12 23:16:21.548646</td>\n",
       "      <td>8140114989184617405</td>\n",
       "      <td>1</td>\n",
       "      <td>1</td>\n",
       "      <td>1</td>\n",
       "    </tr>\n",
       "    <tr>\n",
       "      <th>524301</th>\n",
       "      <td>2019-03-12 19:15:07.428539</td>\n",
       "      <td>3589183094373511767</td>\n",
       "      <td>1</td>\n",
       "      <td>1</td>\n",
       "      <td>0</td>\n",
       "    </tr>\n",
       "  </tbody>\n",
       "</table>\n",
       "</div>"
      ],
      "text/plain": [
       "                               date            device_id  platform  \\\n",
       "10253065 2019-03-09 08:25:11.437518  3297550689811632561         1   \n",
       "16336286 2019-03-07 10:04:28.833838  6563262339938107154         1   \n",
       "18544555 2019-03-12 23:52:27.248792   211440781987761210         1   \n",
       "2720013  2019-03-12 23:16:21.548646  8140114989184617405         1   \n",
       "524301   2019-03-12 19:15:07.428539  3589183094373511767         1   \n",
       "\n",
       "          ref_type_id  source_id  \n",
       "10253065            1          0  \n",
       "16336286            1          5  \n",
       "18544555            1          0  \n",
       "2720013             1          1  \n",
       "524301              1          0  "
      ]
     },
     "execution_count": 5,
     "metadata": {},
     "output_type": "execute_result"
    }
   ],
   "source": [
    "auctions.sample(5)"
   ]
  },
  {
   "cell_type": "code",
   "execution_count": 6,
   "metadata": {},
   "outputs": [
    {
     "name": "stdout",
     "output_type": "stream",
     "text": [
      "<class 'pandas.core.frame.DataFrame'>\n",
      "RangeIndex: 19571319 entries, 0 to 19571318\n",
      "Data columns (total 5 columns):\n",
      "date           datetime64[ns]\n",
      "device_id      uint64\n",
      "platform       uint8\n",
      "ref_type_id    uint8\n",
      "source_id      uint8\n",
      "dtypes: datetime64[ns](1), uint64(1), uint8(3)\n",
      "memory usage: 354.6 MB\n"
     ]
    }
   ],
   "source": [
    "auctions.info()"
   ]
  },
  {
   "cell_type": "code",
   "execution_count": 18,
   "metadata": {},
   "outputs": [
    {
     "data": {
      "text/plain": [
       "1    15541825\n",
       "2     4029494\n",
       "Name: platform, dtype: int64"
      ]
     },
     "execution_count": 18,
     "metadata": {},
     "output_type": "execute_result"
    }
   ],
   "source": [
    "auctions['platform'].value_counts()"
   ]
  },
  {
   "cell_type": "code",
   "execution_count": 19,
   "metadata": {},
   "outputs": [
    {
     "data": {
      "text/plain": [
       "1    15541825\n",
       "7     4029494\n",
       "Name: ref_type_id, dtype: int64"
      ]
     },
     "execution_count": 19,
     "metadata": {},
     "output_type": "execute_result"
    }
   ],
   "source": [
    "auctions['ref_type_id'].value_counts()"
   ]
  },
  {
   "cell_type": "code",
   "execution_count": 20,
   "metadata": {},
   "outputs": [
    {
     "data": {
      "text/plain": [
       "0    13354597\n",
       "1     4016739\n",
       "5     1466494\n",
       "2      582083\n",
       "6      151406\n",
       "Name: source_id, dtype: int64"
      ]
     },
     "execution_count": 20,
     "metadata": {},
     "output_type": "execute_result"
    }
   ],
   "source": [
    "auctions['source_id'].value_counts()"
   ]
  },
  {
   "cell_type": "code",
   "execution_count": 21,
   "metadata": {},
   "outputs": [],
   "source": [
    "auctions['source_id'] = auctions['source_id'].astype(np.int8)\n",
    "auctions['platform'] = auctions['platform'].astype(np.int8)\n",
    "auctions['ref_type_id'] = auctions['ref_type_id'].astype(np.int8)"
   ]
  },
  {
   "cell_type": "code",
   "execution_count": 22,
   "metadata": {},
   "outputs": [
    {
     "data": {
      "text/plain": [
       "6333597102633388268    19571319\n",
       "Name: country, dtype: int64"
      ]
     },
     "execution_count": 22,
     "metadata": {},
     "output_type": "execute_result"
    }
   ],
   "source": [
    "auctions['country'].value_counts()"
   ]
  },
  {
   "cell_type": "code",
   "execution_count": 23,
   "metadata": {},
   "outputs": [
    {
     "data": {
      "text/plain": [
       "True"
      ]
     },
     "execution_count": 23,
     "metadata": {},
     "output_type": "execute_result"
    }
   ],
   "source": [
    "auctions['auction_type_id'].isnull().all()"
   ]
  },
  {
   "cell_type": "code",
   "execution_count": 24,
   "metadata": {},
   "outputs": [
    {
     "data": {
      "text/html": [
       "<div>\n",
       "<style scoped>\n",
       "    .dataframe tbody tr th:only-of-type {\n",
       "        vertical-align: middle;\n",
       "    }\n",
       "\n",
       "    .dataframe tbody tr th {\n",
       "        vertical-align: top;\n",
       "    }\n",
       "\n",
       "    .dataframe thead th {\n",
       "        text-align: right;\n",
       "    }\n",
       "</style>\n",
       "<table border=\"1\" class=\"dataframe\">\n",
       "  <thead>\n",
       "    <tr style=\"text-align: right;\">\n",
       "      <th></th>\n",
       "      <th>date</th>\n",
       "      <th>device_id</th>\n",
       "      <th>platform</th>\n",
       "      <th>ref_type_id</th>\n",
       "      <th>source_id</th>\n",
       "    </tr>\n",
       "  </thead>\n",
       "  <tbody>\n",
       "    <tr>\n",
       "      <th>0</th>\n",
       "      <td>2019-03-11 14:18:33.290763</td>\n",
       "      <td>6059599345986491085</td>\n",
       "      <td>1</td>\n",
       "      <td>1</td>\n",
       "      <td>0</td>\n",
       "    </tr>\n",
       "    <tr>\n",
       "      <th>1</th>\n",
       "      <td>2019-03-11 14:18:34.440157</td>\n",
       "      <td>1115994996230693426</td>\n",
       "      <td>1</td>\n",
       "      <td>1</td>\n",
       "      <td>0</td>\n",
       "    </tr>\n",
       "    <tr>\n",
       "      <th>2</th>\n",
       "      <td>2019-03-11 14:18:35.862360</td>\n",
       "      <td>7463856250762200923</td>\n",
       "      <td>1</td>\n",
       "      <td>1</td>\n",
       "      <td>0</td>\n",
       "    </tr>\n",
       "    <tr>\n",
       "      <th>3</th>\n",
       "      <td>2019-03-11 14:18:36.167163</td>\n",
       "      <td>7829815350267792040</td>\n",
       "      <td>1</td>\n",
       "      <td>1</td>\n",
       "      <td>0</td>\n",
       "    </tr>\n",
       "    <tr>\n",
       "      <th>4</th>\n",
       "      <td>2019-03-11 14:18:37.728590</td>\n",
       "      <td>1448534231953777480</td>\n",
       "      <td>1</td>\n",
       "      <td>1</td>\n",
       "      <td>0</td>\n",
       "    </tr>\n",
       "  </tbody>\n",
       "</table>\n",
       "</div>"
      ],
      "text/plain": [
       "                         date            device_id  platform  ref_type_id  \\\n",
       "0  2019-03-11 14:18:33.290763  6059599345986491085         1            1   \n",
       "1  2019-03-11 14:18:34.440157  1115994996230693426         1            1   \n",
       "2  2019-03-11 14:18:35.862360  7463856250762200923         1            1   \n",
       "3  2019-03-11 14:18:36.167163  7829815350267792040         1            1   \n",
       "4  2019-03-11 14:18:37.728590  1448534231953777480         1            1   \n",
       "\n",
       "   source_id  \n",
       "0          0  \n",
       "1          0  \n",
       "2          0  \n",
       "3          0  \n",
       "4          0  "
      ]
     },
     "execution_count": 24,
     "metadata": {},
     "output_type": "execute_result"
    }
   ],
   "source": [
    "auctions = auctions.drop('country', axis=1)\n",
    "auctions = auctions.drop('auction_type_id', axis=1)\n",
    "auctions.head()"
   ]
  },
  {
   "cell_type": "code",
   "execution_count": 25,
   "metadata": {},
   "outputs": [],
   "source": [
    "auctions['date'] = auctions['date'].astype(\"datetime64\")"
   ]
  },
  {
   "cell_type": "code",
   "execution_count": 26,
   "metadata": {},
   "outputs": [
    {
     "name": "stdout",
     "output_type": "stream",
     "text": [
      "<class 'pandas.core.frame.DataFrame'>\n",
      "RangeIndex: 19571319 entries, 0 to 19571318\n",
      "Data columns (total 5 columns):\n",
      "date           datetime64[ns]\n",
      "device_id      int64\n",
      "platform       int8\n",
      "ref_type_id    int8\n",
      "source_id      int8\n",
      "dtypes: datetime64[ns](1), int64(1), int8(3)\n",
      "memory usage: 354.6 MB\n"
     ]
    }
   ],
   "source": [
    "auctions.info()"
   ]
  }
 ],
 "metadata": {
  "kernelspec": {
   "display_name": "Python 3",
   "language": "python",
   "name": "python3"
  },
  "language_info": {
   "codemirror_mode": {
    "name": "ipython",
    "version": 3
   },
   "file_extension": ".py",
   "mimetype": "text/x-python",
   "name": "python",
   "nbconvert_exporter": "python",
   "pygments_lexer": "ipython3",
   "version": "3.6.7"
  }
 },
 "nbformat": 4,
 "nbformat_minor": 2
}
